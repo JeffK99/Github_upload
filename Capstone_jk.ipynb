{
  "nbformat": 4,
  "nbformat_minor": 0,
  "metadata": {
    "colab": {
      "name": "Capstone_jk.ipynb",
      "provenance": [],
      "collapsed_sections": []
    },
    "kernelspec": {
      "display_name": "Python 3",
      "name": "python3"
    },
    "language_info": {
      "name": "python"
    }
  },
  "cells": [
    {
      "cell_type": "code",
      "metadata": {
        "id": "IM5bhHczo0BW"
      },
      "source": [
        "import pandas as pd\n",
        "import numpy as np\n",
        "import matplotlib.pyplot as plt\n",
        "from sklearn.cluster import KMeans\n",
        "from datetime import datetime\n",
        "import seaborn as sb\n",
        "from statistics import mode"
      ],
      "execution_count": 5,
      "outputs": []
    },
    {
      "cell_type": "code",
      "metadata": {
        "id": "If6snbc8_niv"
      },
      "source": [
        "df = pd.read_csv(\"ciso_log1.csv\",index_col=None)"
      ],
      "execution_count": 6,
      "outputs": []
    },
    {
      "cell_type": "code",
      "metadata": {
        "colab": {
          "base_uri": "https://localhost:8080/"
        },
        "id": "iAnloRKxASS3",
        "outputId": "76eafc7e-add1-4e54-8d0f-bbec8787dc2b"
      },
      "source": [
        "df.shape"
      ],
      "execution_count": 7,
      "outputs": [
        {
          "output_type": "execute_result",
          "data": {
            "text/plain": [
              "(31645, 26)"
            ]
          },
          "metadata": {},
          "execution_count": 7
        }
      ]
    },
    {
      "cell_type": "code",
      "metadata": {
        "colab": {
          "base_uri": "https://localhost:8080/",
          "height": 506
        },
        "id": "vVk7eTtRAT-4",
        "outputId": "48ecb801-fdd2-4a2a-fe88-ca86d9699dd2"
      },
      "source": [
        "df.head()"
      ],
      "execution_count": 8,
      "outputs": [
        {
          "output_type": "execute_result",
          "data": {
            "text/html": [
              "<div>\n",
              "<style scoped>\n",
              "    .dataframe tbody tr th:only-of-type {\n",
              "        vertical-align: middle;\n",
              "    }\n",
              "\n",
              "    .dataframe tbody tr th {\n",
              "        vertical-align: top;\n",
              "    }\n",
              "\n",
              "    .dataframe thead th {\n",
              "        text-align: right;\n",
              "    }\n",
              "</style>\n",
              "<table border=\"1\" class=\"dataframe\">\n",
              "  <thead>\n",
              "    <tr style=\"text-align: right;\">\n",
              "      <th></th>\n",
              "      <th>Threat/Content Type</th>\n",
              "      <th>Generate Time</th>\n",
              "      <th>Source address</th>\n",
              "      <th>Destination address</th>\n",
              "      <th>Application</th>\n",
              "      <th>Source Zone</th>\n",
              "      <th>Destination Zone</th>\n",
              "      <th>Session ID</th>\n",
              "      <th>Source Port</th>\n",
              "      <th>Destination Port</th>\n",
              "      <th>NAT Source Port</th>\n",
              "      <th>NAT Destination Port</th>\n",
              "      <th>Flags</th>\n",
              "      <th>IP Protocol</th>\n",
              "      <th>Action</th>\n",
              "      <th>Bytes</th>\n",
              "      <th>Bytes Sent</th>\n",
              "      <th>Bytes Received</th>\n",
              "      <th>Packets</th>\n",
              "      <th>Source Country</th>\n",
              "      <th>Destination Country</th>\n",
              "      <th>Packets Sent</th>\n",
              "      <th>Packets Received</th>\n",
              "      <th>Session End Reason</th>\n",
              "      <th>UUID for rule</th>\n",
              "      <th>HTTP/2 Connection</th>\n",
              "    </tr>\n",
              "  </thead>\n",
              "  <tbody>\n",
              "    <tr>\n",
              "      <th>0</th>\n",
              "      <td>end</td>\n",
              "      <td>30/9/2021 10:05</td>\n",
              "      <td>172.75.192.13</td>\n",
              "      <td>185.228.168.10</td>\n",
              "      <td>dns</td>\n",
              "      <td>Inside</td>\n",
              "      <td>Internet</td>\n",
              "      <td>3002860</td>\n",
              "      <td>37324</td>\n",
              "      <td>53</td>\n",
              "      <td>0</td>\n",
              "      <td>0</td>\n",
              "      <td>0x19</td>\n",
              "      <td>udp</td>\n",
              "      <td>allow</td>\n",
              "      <td>106</td>\n",
              "      <td>106</td>\n",
              "      <td>0</td>\n",
              "      <td>1</td>\n",
              "      <td>United States</td>\n",
              "      <td>United States</td>\n",
              "      <td>1</td>\n",
              "      <td>0</td>\n",
              "      <td>aged-out</td>\n",
              "      <td>73cd82b1-87ed-4fd6-8846-0931292d2a63</td>\n",
              "      <td>0</td>\n",
              "    </tr>\n",
              "    <tr>\n",
              "      <th>1</th>\n",
              "      <td>end</td>\n",
              "      <td>30/9/2021 10:05</td>\n",
              "      <td>172.75.192.13</td>\n",
              "      <td>185.228.168.10</td>\n",
              "      <td>dns</td>\n",
              "      <td>Inside</td>\n",
              "      <td>Internet</td>\n",
              "      <td>1764285</td>\n",
              "      <td>59386</td>\n",
              "      <td>53</td>\n",
              "      <td>0</td>\n",
              "      <td>0</td>\n",
              "      <td>0x19</td>\n",
              "      <td>udp</td>\n",
              "      <td>allow</td>\n",
              "      <td>102</td>\n",
              "      <td>102</td>\n",
              "      <td>0</td>\n",
              "      <td>1</td>\n",
              "      <td>United States</td>\n",
              "      <td>United States</td>\n",
              "      <td>1</td>\n",
              "      <td>0</td>\n",
              "      <td>aged-out</td>\n",
              "      <td>73cd82b1-87ed-4fd6-8846-0931292d2a63</td>\n",
              "      <td>0</td>\n",
              "    </tr>\n",
              "    <tr>\n",
              "      <th>2</th>\n",
              "      <td>end</td>\n",
              "      <td>30/9/2021 10:05</td>\n",
              "      <td>172.75.192.13</td>\n",
              "      <td>185.228.168.11</td>\n",
              "      <td>dns</td>\n",
              "      <td>Inside</td>\n",
              "      <td>Internet</td>\n",
              "      <td>40495</td>\n",
              "      <td>50733</td>\n",
              "      <td>53</td>\n",
              "      <td>0</td>\n",
              "      <td>0</td>\n",
              "      <td>0x19</td>\n",
              "      <td>udp</td>\n",
              "      <td>allow</td>\n",
              "      <td>95</td>\n",
              "      <td>95</td>\n",
              "      <td>0</td>\n",
              "      <td>1</td>\n",
              "      <td>United States</td>\n",
              "      <td>United States</td>\n",
              "      <td>1</td>\n",
              "      <td>0</td>\n",
              "      <td>aged-out</td>\n",
              "      <td>73cd82b1-87ed-4fd6-8846-0931292d2a63</td>\n",
              "      <td>0</td>\n",
              "    </tr>\n",
              "    <tr>\n",
              "      <th>3</th>\n",
              "      <td>end</td>\n",
              "      <td>30/9/2021 10:05</td>\n",
              "      <td>103.38.175.116</td>\n",
              "      <td>208.67.220.123</td>\n",
              "      <td>dns</td>\n",
              "      <td>Inside</td>\n",
              "      <td>Internet</td>\n",
              "      <td>3095955</td>\n",
              "      <td>63278</td>\n",
              "      <td>53</td>\n",
              "      <td>0</td>\n",
              "      <td>0</td>\n",
              "      <td>0x19</td>\n",
              "      <td>udp</td>\n",
              "      <td>allow</td>\n",
              "      <td>308</td>\n",
              "      <td>95</td>\n",
              "      <td>213</td>\n",
              "      <td>2</td>\n",
              "      <td>Philippines</td>\n",
              "      <td>United States</td>\n",
              "      <td>1</td>\n",
              "      <td>1</td>\n",
              "      <td>aged-out</td>\n",
              "      <td>b6db6bf4-21e4-4c90-bc9c-e0faf4bc4fd4</td>\n",
              "      <td>0</td>\n",
              "    </tr>\n",
              "    <tr>\n",
              "      <th>4</th>\n",
              "      <td>end</td>\n",
              "      <td>30/9/2021 10:05</td>\n",
              "      <td>172.75.192.135</td>\n",
              "      <td>185.228.168.10</td>\n",
              "      <td>dns</td>\n",
              "      <td>Inside</td>\n",
              "      <td>Internet</td>\n",
              "      <td>1363020</td>\n",
              "      <td>39931</td>\n",
              "      <td>53</td>\n",
              "      <td>0</td>\n",
              "      <td>0</td>\n",
              "      <td>0x19</td>\n",
              "      <td>udp</td>\n",
              "      <td>allow</td>\n",
              "      <td>91</td>\n",
              "      <td>91</td>\n",
              "      <td>0</td>\n",
              "      <td>1</td>\n",
              "      <td>United States</td>\n",
              "      <td>United States</td>\n",
              "      <td>1</td>\n",
              "      <td>0</td>\n",
              "      <td>aged-out</td>\n",
              "      <td>73cd82b1-87ed-4fd6-8846-0931292d2a63</td>\n",
              "      <td>0</td>\n",
              "    </tr>\n",
              "  </tbody>\n",
              "</table>\n",
              "</div>"
            ],
            "text/plain": [
              "  Threat/Content Type  ... HTTP/2 Connection\n",
              "0                 end  ...                 0\n",
              "1                 end  ...                 0\n",
              "2                 end  ...                 0\n",
              "3                 end  ...                 0\n",
              "4                 end  ...                 0\n",
              "\n",
              "[5 rows x 26 columns]"
            ]
          },
          "metadata": {},
          "execution_count": 8
        }
      ]
    },
    {
      "cell_type": "code",
      "metadata": {
        "id": "C094rUR2Offm"
      },
      "source": [
        "df['Generate Time'] = pd.to_datetime(df['Generate Time'])\n"
      ],
      "execution_count": 9,
      "outputs": []
    },
    {
      "cell_type": "code",
      "metadata": {
        "id": "jZysOt4HKyNW"
      },
      "source": [
        "app_value=df['Application']\n",
        "#app_value=pd.DataFrame(app_value)\n",
        "app_value_count=app_value.value_counts()\n",
        "#app_value_count=pd.DataFrame(app_value_count)\n",
        "app_value_count_top10=app_value_count.head(10)\n",
        "app_value_count_top10\n",
        "xfor_plot=app_value_count_top10.index.tolist()\n",
        "yfor_plot=app_value_count_top10.values.tolist()\n"
      ],
      "execution_count": 10,
      "outputs": []
    },
    {
      "cell_type": "code",
      "metadata": {
        "colab": {
          "base_uri": "https://localhost:8080/",
          "height": 350
        },
        "id": "exeLmwGNUhfy",
        "outputId": "24ae3f55-654c-4415-ac70-289b4147dff2"
      },
      "source": [
        "# Plotting Top 10 Application\n",
        "fig = plt.figure(figsize = (15, 5))\n",
        "plt.bar(xfor_plot,yfor_plot,color=['purple', 'magenta'])\n",
        "plt.xlabel(\"App\")\n",
        "plt.ylabel(\"Counts\")\n",
        "plt.title(\"Application Usage\")\n",
        "plt.show()"
      ],
      "execution_count": 11,
      "outputs": [
        {
          "output_type": "display_data",
          "data": {
            "image/png": "[encoded data removed]",
            "text/plain": [
              "<Figure size 1080x360 with 1 Axes>"
            ]
          },
          "metadata": {
            "needs_background": "light"
          }
        }
      ]
    },
    {
      "cell_type": "code",
      "metadata": {
        "colab": {
          "base_uri": "https://localhost:8080/",
          "height": 970
        },
        "id": "ARQyZKmte-mG",
        "outputId": "c1a73548-a493-4857-e7b3-5d1ba9fd25f7"
      },
      "source": [
        "incomplete=df.loc[df['Application'] == 'incomplete']\n",
        "incomplete"
      ],
      "execution_count": 12,
      "outputs": [
        {
          "output_type": "execute_result",
          "data": {
            "text/html": [
              "<div>\n",
              "<style scoped>\n",
              "    .dataframe tbody tr th:only-of-type {\n",
              "        vertical-align: middle;\n",
              "    }\n",
              "\n",
              "    .dataframe tbody tr th {\n",
              "        vertical-align: top;\n",
              "    }\n",
              "\n",
              "    .dataframe thead th {\n",
              "        text-align: right;\n",
              "    }\n",
              "</style>\n",
              "<table border=\"1\" class=\"dataframe\">\n",
              "  <thead>\n",
              "    <tr style=\"text-align: right;\">\n",
              "      <th></th>\n",
              "      <th>Threat/Content Type</th>\n",
              "      <th>Generate Time</th>\n",
              "      <th>Source address</th>\n",
              "      <th>Destination address</th>\n",
              "      <th>Application</th>\n",
              "      <th>Source Zone</th>\n",
              "      <th>Destination Zone</th>\n",
              "      <th>Session ID</th>\n",
              "      <th>Source Port</th>\n",
              "      <th>Destination Port</th>\n",
              "      <th>NAT Source Port</th>\n",
              "      <th>NAT Destination Port</th>\n",
              "      <th>Flags</th>\n",
              "      <th>IP Protocol</th>\n",
              "      <th>Action</th>\n",
              "      <th>Bytes</th>\n",
              "      <th>Bytes Sent</th>\n",
              "      <th>Bytes Received</th>\n",
              "      <th>Packets</th>\n",
              "      <th>Source Country</th>\n",
              "      <th>Destination Country</th>\n",
              "      <th>Packets Sent</th>\n",
              "      <th>Packets Received</th>\n",
              "      <th>Session End Reason</th>\n",
              "      <th>UUID for rule</th>\n",
              "      <th>HTTP/2 Connection</th>\n",
              "    </tr>\n",
              "  </thead>\n",
              "  <tbody>\n",
              "    <tr>\n",
              "      <th>115</th>\n",
              "      <td>end</td>\n",
              "      <td>2021-09-30 10:05:00</td>\n",
              "      <td>182.54.146.49</td>\n",
              "      <td>157.40.173.38</td>\n",
              "      <td>incomplete</td>\n",
              "      <td>Inside</td>\n",
              "      <td>Internet</td>\n",
              "      <td>2308576</td>\n",
              "      <td>55366</td>\n",
              "      <td>60437</td>\n",
              "      <td>0</td>\n",
              "      <td>0</td>\n",
              "      <td>0x19</td>\n",
              "      <td>tcp</td>\n",
              "      <td>allow</td>\n",
              "      <td>264</td>\n",
              "      <td>264</td>\n",
              "      <td>0</td>\n",
              "      <td>4</td>\n",
              "      <td>Philippines</td>\n",
              "      <td>India</td>\n",
              "      <td>4</td>\n",
              "      <td>0</td>\n",
              "      <td>aged-out</td>\n",
              "      <td>73cd82b1-87ed-4fd6-8846-0931292d2a63</td>\n",
              "      <td>0</td>\n",
              "    </tr>\n",
              "    <tr>\n",
              "      <th>116</th>\n",
              "      <td>end</td>\n",
              "      <td>2021-09-30 10:05:00</td>\n",
              "      <td>203.21.141.10</td>\n",
              "      <td>88.208.208.188</td>\n",
              "      <td>incomplete</td>\n",
              "      <td>Inside</td>\n",
              "      <td>Internet</td>\n",
              "      <td>2982536</td>\n",
              "      <td>50790</td>\n",
              "      <td>445</td>\n",
              "      <td>0</td>\n",
              "      <td>0</td>\n",
              "      <td>0x19</td>\n",
              "      <td>tcp</td>\n",
              "      <td>allow</td>\n",
              "      <td>264</td>\n",
              "      <td>264</td>\n",
              "      <td>0</td>\n",
              "      <td>4</td>\n",
              "      <td>Philippines</td>\n",
              "      <td>United Kingdom</td>\n",
              "      <td>4</td>\n",
              "      <td>0</td>\n",
              "      <td>aged-out</td>\n",
              "      <td>73cd82b1-87ed-4fd6-8846-0931292d2a63</td>\n",
              "      <td>0</td>\n",
              "    </tr>\n",
              "    <tr>\n",
              "      <th>117</th>\n",
              "      <td>end</td>\n",
              "      <td>2021-09-30 10:05:00</td>\n",
              "      <td>10.255.173.23</td>\n",
              "      <td>88.10.170.15</td>\n",
              "      <td>incomplete</td>\n",
              "      <td>Inside</td>\n",
              "      <td>Internet</td>\n",
              "      <td>3657766</td>\n",
              "      <td>60235</td>\n",
              "      <td>445</td>\n",
              "      <td>8910</td>\n",
              "      <td>445</td>\n",
              "      <td>0x400019</td>\n",
              "      <td>tcp</td>\n",
              "      <td>allow</td>\n",
              "      <td>66</td>\n",
              "      <td>66</td>\n",
              "      <td>0</td>\n",
              "      <td>1</td>\n",
              "      <td>10.0.0.0-10.255.255.255</td>\n",
              "      <td>Spain</td>\n",
              "      <td>1</td>\n",
              "      <td>0</td>\n",
              "      <td>aged-out</td>\n",
              "      <td>73cd82b1-87ed-4fd6-8846-0931292d2a63</td>\n",
              "      <td>0</td>\n",
              "    </tr>\n",
              "    <tr>\n",
              "      <th>119</th>\n",
              "      <td>end</td>\n",
              "      <td>2021-09-30 10:05:00</td>\n",
              "      <td>182.54.147.145</td>\n",
              "      <td>178.18.230.128</td>\n",
              "      <td>incomplete</td>\n",
              "      <td>Inside</td>\n",
              "      <td>Internet</td>\n",
              "      <td>2000521</td>\n",
              "      <td>60232</td>\n",
              "      <td>6906</td>\n",
              "      <td>0</td>\n",
              "      <td>0</td>\n",
              "      <td>0x19</td>\n",
              "      <td>tcp</td>\n",
              "      <td>allow</td>\n",
              "      <td>264</td>\n",
              "      <td>264</td>\n",
              "      <td>0</td>\n",
              "      <td>4</td>\n",
              "      <td>Kiribati</td>\n",
              "      <td>Russian Federation</td>\n",
              "      <td>4</td>\n",
              "      <td>0</td>\n",
              "      <td>aged-out</td>\n",
              "      <td>73cd82b1-87ed-4fd6-8846-0931292d2a63</td>\n",
              "      <td>0</td>\n",
              "    </tr>\n",
              "    <tr>\n",
              "      <th>120</th>\n",
              "      <td>end</td>\n",
              "      <td>2021-09-30 10:05:00</td>\n",
              "      <td>10.255.173.23</td>\n",
              "      <td>13.6.214.35</td>\n",
              "      <td>incomplete</td>\n",
              "      <td>Inside</td>\n",
              "      <td>Internet</td>\n",
              "      <td>4030047</td>\n",
              "      <td>63662</td>\n",
              "      <td>445</td>\n",
              "      <td>16913</td>\n",
              "      <td>445</td>\n",
              "      <td>0x400019</td>\n",
              "      <td>tcp</td>\n",
              "      <td>allow</td>\n",
              "      <td>264</td>\n",
              "      <td>264</td>\n",
              "      <td>0</td>\n",
              "      <td>4</td>\n",
              "      <td>10.0.0.0-10.255.255.255</td>\n",
              "      <td>United States</td>\n",
              "      <td>4</td>\n",
              "      <td>0</td>\n",
              "      <td>aged-out</td>\n",
              "      <td>73cd82b1-87ed-4fd6-8846-0931292d2a63</td>\n",
              "      <td>0</td>\n",
              "    </tr>\n",
              "    <tr>\n",
              "      <th>...</th>\n",
              "      <td>...</td>\n",
              "      <td>...</td>\n",
              "      <td>...</td>\n",
              "      <td>...</td>\n",
              "      <td>...</td>\n",
              "      <td>...</td>\n",
              "      <td>...</td>\n",
              "      <td>...</td>\n",
              "      <td>...</td>\n",
              "      <td>...</td>\n",
              "      <td>...</td>\n",
              "      <td>...</td>\n",
              "      <td>...</td>\n",
              "      <td>...</td>\n",
              "      <td>...</td>\n",
              "      <td>...</td>\n",
              "      <td>...</td>\n",
              "      <td>...</td>\n",
              "      <td>...</td>\n",
              "      <td>...</td>\n",
              "      <td>...</td>\n",
              "      <td>...</td>\n",
              "      <td>...</td>\n",
              "      <td>...</td>\n",
              "      <td>...</td>\n",
              "      <td>...</td>\n",
              "    </tr>\n",
              "    <tr>\n",
              "      <th>31638</th>\n",
              "      <td>end</td>\n",
              "      <td>2021-09-30 10:47:00</td>\n",
              "      <td>10.255.164.60</td>\n",
              "      <td>34.209.30.116</td>\n",
              "      <td>incomplete</td>\n",
              "      <td>Inside</td>\n",
              "      <td>Internet</td>\n",
              "      <td>1401501</td>\n",
              "      <td>20651</td>\n",
              "      <td>25</td>\n",
              "      <td>16387</td>\n",
              "      <td>25</td>\n",
              "      <td>0x400019</td>\n",
              "      <td>tcp</td>\n",
              "      <td>allow</td>\n",
              "      <td>66</td>\n",
              "      <td>66</td>\n",
              "      <td>0</td>\n",
              "      <td>1</td>\n",
              "      <td>10.0.0.0-10.255.255.255</td>\n",
              "      <td>United States</td>\n",
              "      <td>1</td>\n",
              "      <td>0</td>\n",
              "      <td>aged-out</td>\n",
              "      <td>73cd82b1-87ed-4fd6-8846-0931292d2a63</td>\n",
              "      <td>0</td>\n",
              "    </tr>\n",
              "    <tr>\n",
              "      <th>31639</th>\n",
              "      <td>end</td>\n",
              "      <td>2021-09-30 10:47:00</td>\n",
              "      <td>10.255.164.60</td>\n",
              "      <td>8.31.233.27</td>\n",
              "      <td>incomplete</td>\n",
              "      <td>Inside</td>\n",
              "      <td>Internet</td>\n",
              "      <td>2046943</td>\n",
              "      <td>20655</td>\n",
              "      <td>25</td>\n",
              "      <td>46476</td>\n",
              "      <td>25</td>\n",
              "      <td>0x400019</td>\n",
              "      <td>tcp</td>\n",
              "      <td>allow</td>\n",
              "      <td>66</td>\n",
              "      <td>66</td>\n",
              "      <td>0</td>\n",
              "      <td>1</td>\n",
              "      <td>10.0.0.0-10.255.255.255</td>\n",
              "      <td>United States</td>\n",
              "      <td>1</td>\n",
              "      <td>0</td>\n",
              "      <td>aged-out</td>\n",
              "      <td>73cd82b1-87ed-4fd6-8846-0931292d2a63</td>\n",
              "      <td>0</td>\n",
              "    </tr>\n",
              "    <tr>\n",
              "      <th>31641</th>\n",
              "      <td>end</td>\n",
              "      <td>2021-09-30 10:47:00</td>\n",
              "      <td>10.255.164.60</td>\n",
              "      <td>52.72.197.234</td>\n",
              "      <td>incomplete</td>\n",
              "      <td>Inside</td>\n",
              "      <td>Internet</td>\n",
              "      <td>2044262</td>\n",
              "      <td>20767</td>\n",
              "      <td>25</td>\n",
              "      <td>33582</td>\n",
              "      <td>25</td>\n",
              "      <td>0x400019</td>\n",
              "      <td>tcp</td>\n",
              "      <td>allow</td>\n",
              "      <td>264</td>\n",
              "      <td>264</td>\n",
              "      <td>0</td>\n",
              "      <td>4</td>\n",
              "      <td>10.0.0.0-10.255.255.255</td>\n",
              "      <td>United States</td>\n",
              "      <td>4</td>\n",
              "      <td>0</td>\n",
              "      <td>aged-out</td>\n",
              "      <td>73cd82b1-87ed-4fd6-8846-0931292d2a63</td>\n",
              "      <td>0</td>\n",
              "    </tr>\n",
              "    <tr>\n",
              "      <th>31642</th>\n",
              "      <td>end</td>\n",
              "      <td>2021-09-30 10:47:00</td>\n",
              "      <td>10.255.164.60</td>\n",
              "      <td>210.128.48.74</td>\n",
              "      <td>incomplete</td>\n",
              "      <td>Inside</td>\n",
              "      <td>Internet</td>\n",
              "      <td>1571632</td>\n",
              "      <td>20654</td>\n",
              "      <td>25</td>\n",
              "      <td>20620</td>\n",
              "      <td>25</td>\n",
              "      <td>0x400019</td>\n",
              "      <td>tcp</td>\n",
              "      <td>allow</td>\n",
              "      <td>66</td>\n",
              "      <td>66</td>\n",
              "      <td>0</td>\n",
              "      <td>1</td>\n",
              "      <td>10.0.0.0-10.255.255.255</td>\n",
              "      <td>Japan</td>\n",
              "      <td>1</td>\n",
              "      <td>0</td>\n",
              "      <td>aged-out</td>\n",
              "      <td>73cd82b1-87ed-4fd6-8846-0931292d2a63</td>\n",
              "      <td>0</td>\n",
              "    </tr>\n",
              "    <tr>\n",
              "      <th>31643</th>\n",
              "      <td>end</td>\n",
              "      <td>2021-09-30 10:47:00</td>\n",
              "      <td>10.255.164.60</td>\n",
              "      <td>34.217.152.37</td>\n",
              "      <td>incomplete</td>\n",
              "      <td>Inside</td>\n",
              "      <td>Internet</td>\n",
              "      <td>798049</td>\n",
              "      <td>20730</td>\n",
              "      <td>25</td>\n",
              "      <td>31599</td>\n",
              "      <td>25</td>\n",
              "      <td>0x400019</td>\n",
              "      <td>tcp</td>\n",
              "      <td>allow</td>\n",
              "      <td>66</td>\n",
              "      <td>66</td>\n",
              "      <td>0</td>\n",
              "      <td>1</td>\n",
              "      <td>10.0.0.0-10.255.255.255</td>\n",
              "      <td>United States</td>\n",
              "      <td>1</td>\n",
              "      <td>0</td>\n",
              "      <td>aged-out</td>\n",
              "      <td>73cd82b1-87ed-4fd6-8846-0931292d2a63</td>\n",
              "      <td>0</td>\n",
              "    </tr>\n",
              "  </tbody>\n",
              "</table>\n",
              "<p>3560 rows × 26 columns</p>\n",
              "</div>"
            ],
            "text/plain": [
              "      Threat/Content Type  ... HTTP/2 Connection\n",
              "115                   end  ...                 0\n",
              "116                   end  ...                 0\n",
              "117                   end  ...                 0\n",
              "119                   end  ...                 0\n",
              "120                   end  ...                 0\n",
              "...                   ...  ...               ...\n",
              "31638                 end  ...                 0\n",
              "31639                 end  ...                 0\n",
              "31641                 end  ...                 0\n",
              "31642                 end  ...                 0\n",
              "31643                 end  ...                 0\n",
              "\n",
              "[3560 rows x 26 columns]"
            ]
          },
          "metadata": {},
          "execution_count": 12
        }
      ]
    },
    {
      "cell_type": "code",
      "metadata": {
        "colab": {
          "base_uri": "https://localhost:8080/"
        },
        "id": "dK3hexYNZ0D8",
        "outputId": "0e28d59e-ca9a-437a-c708-31acd7205e79"
      },
      "source": [
        "top_src=incomplete.value_counts(subset=['Source address', 'Application', 'Bytes Sent','Bytes Received' ])\n",
        "top_src.head(10)"
      ],
      "execution_count": 13,
      "outputs": [
        {
          "output_type": "execute_result",
          "data": {
            "text/plain": [
              "Source address  Application  Bytes Sent  Bytes Received\n",
              "10.255.164.60   incomplete   66          0                 373\n",
              "182.54.147.14   incomplete   66          0                 206\n",
              "10.255.166.95   incomplete   186         66                158\n",
              "10.255.164.60   incomplete   264         0                 152\n",
              "10.255.173.23   incomplete   66          0                 142\n",
              "182.54.147.45   incomplete   246         126               124\n",
              "10.255.174.96   incomplete   66          0                 106\n",
              "10.255.173.23   incomplete   264         0                  80\n",
              "182.54.147.45   incomplete   186         126                72\n",
              "203.21.141.10   incomplete   66          0                  63\n",
              "dtype: int64"
            ]
          },
          "metadata": {},
          "execution_count": 13
        }
      ]
    },
    {
      "cell_type": "markdown",
      "metadata": {
        "id": "UCh29Z1zpaq8"
      },
      "source": [
        "**Lets Drill down in details**"
      ]
    },
    {
      "cell_type": "code",
      "metadata": {
        "colab": {
          "base_uri": "https://localhost:8080/"
        },
        "id": "vqc_cI1ltrXn",
        "outputId": "9236cdfb-2182-4091-84be-ce7288f08ade"
      },
      "source": [
        "suspect = incomplete.set_index(['Source address'])\n",
        "suspect = suspect.loc['10.255.164.60']\n",
        "suspect.shape"
      ],
      "execution_count": 14,
      "outputs": [
        {
          "output_type": "execute_result",
          "data": {
            "text/plain": [
              "(546, 25)"
            ]
          },
          "metadata": {},
          "execution_count": 14
        }
      ]
    },
    {
      "cell_type": "code",
      "metadata": {
        "colab": {
          "base_uri": "https://localhost:8080/",
          "height": 387
        },
        "id": "livqZxn8h3Fk",
        "outputId": "1384cdd5-0037-4c1b-fb05-903d8e6381b0"
      },
      "source": [
        "for_picture = suspect[['Destination address','Destination Port', 'IP Protocol', 'Bytes Sent', 'Bytes Received']]\n",
        "for_picture.tail(10)"
      ],
      "execution_count": 15,
      "outputs": [
        {
          "output_type": "execute_result",
          "data": {
            "text/html": [
              "<div>\n",
              "<style scoped>\n",
              "    .dataframe tbody tr th:only-of-type {\n",
              "        vertical-align: middle;\n",
              "    }\n",
              "\n",
              "    .dataframe tbody tr th {\n",
              "        vertical-align: top;\n",
              "    }\n",
              "\n",
              "    .dataframe thead th {\n",
              "        text-align: right;\n",
              "    }\n",
              "</style>\n",
              "<table border=\"1\" class=\"dataframe\">\n",
              "  <thead>\n",
              "    <tr style=\"text-align: right;\">\n",
              "      <th></th>\n",
              "      <th>Destination address</th>\n",
              "      <th>Destination Port</th>\n",
              "      <th>IP Protocol</th>\n",
              "      <th>Bytes Sent</th>\n",
              "      <th>Bytes Received</th>\n",
              "    </tr>\n",
              "    <tr>\n",
              "      <th>Source address</th>\n",
              "      <th></th>\n",
              "      <th></th>\n",
              "      <th></th>\n",
              "      <th></th>\n",
              "      <th></th>\n",
              "    </tr>\n",
              "  </thead>\n",
              "  <tbody>\n",
              "    <tr>\n",
              "      <th>10.255.164.60</th>\n",
              "      <td>8.31.233.70</td>\n",
              "      <td>25</td>\n",
              "      <td>tcp</td>\n",
              "      <td>264</td>\n",
              "      <td>0</td>\n",
              "    </tr>\n",
              "    <tr>\n",
              "      <th>10.255.164.60</th>\n",
              "      <td>17.178.102.78</td>\n",
              "      <td>25</td>\n",
              "      <td>tcp</td>\n",
              "      <td>264</td>\n",
              "      <td>0</td>\n",
              "    </tr>\n",
              "    <tr>\n",
              "      <th>10.255.164.60</th>\n",
              "      <td>199.59.148.144</td>\n",
              "      <td>25</td>\n",
              "      <td>tcp</td>\n",
              "      <td>66</td>\n",
              "      <td>0</td>\n",
              "    </tr>\n",
              "    <tr>\n",
              "      <th>10.255.164.60</th>\n",
              "      <td>52.24.249.124</td>\n",
              "      <td>25</td>\n",
              "      <td>tcp</td>\n",
              "      <td>66</td>\n",
              "      <td>0</td>\n",
              "    </tr>\n",
              "    <tr>\n",
              "      <th>10.255.164.60</th>\n",
              "      <td>185.79.118.151</td>\n",
              "      <td>25</td>\n",
              "      <td>tcp</td>\n",
              "      <td>264</td>\n",
              "      <td>0</td>\n",
              "    </tr>\n",
              "    <tr>\n",
              "      <th>10.255.164.60</th>\n",
              "      <td>34.209.30.116</td>\n",
              "      <td>25</td>\n",
              "      <td>tcp</td>\n",
              "      <td>66</td>\n",
              "      <td>0</td>\n",
              "    </tr>\n",
              "    <tr>\n",
              "      <th>10.255.164.60</th>\n",
              "      <td>8.31.233.27</td>\n",
              "      <td>25</td>\n",
              "      <td>tcp</td>\n",
              "      <td>66</td>\n",
              "      <td>0</td>\n",
              "    </tr>\n",
              "    <tr>\n",
              "      <th>10.255.164.60</th>\n",
              "      <td>52.72.197.234</td>\n",
              "      <td>25</td>\n",
              "      <td>tcp</td>\n",
              "      <td>264</td>\n",
              "      <td>0</td>\n",
              "    </tr>\n",
              "    <tr>\n",
              "      <th>10.255.164.60</th>\n",
              "      <td>210.128.48.74</td>\n",
              "      <td>25</td>\n",
              "      <td>tcp</td>\n",
              "      <td>66</td>\n",
              "      <td>0</td>\n",
              "    </tr>\n",
              "    <tr>\n",
              "      <th>10.255.164.60</th>\n",
              "      <td>34.217.152.37</td>\n",
              "      <td>25</td>\n",
              "      <td>tcp</td>\n",
              "      <td>66</td>\n",
              "      <td>0</td>\n",
              "    </tr>\n",
              "  </tbody>\n",
              "</table>\n",
              "</div>"
            ],
            "text/plain": [
              "               Destination address  ...  Bytes Received\n",
              "Source address                      ...                \n",
              "10.255.164.60          8.31.233.70  ...               0\n",
              "10.255.164.60        17.178.102.78  ...               0\n",
              "10.255.164.60       199.59.148.144  ...               0\n",
              "10.255.164.60        52.24.249.124  ...               0\n",
              "10.255.164.60       185.79.118.151  ...               0\n",
              "10.255.164.60        34.209.30.116  ...               0\n",
              "10.255.164.60          8.31.233.27  ...               0\n",
              "10.255.164.60        52.72.197.234  ...               0\n",
              "10.255.164.60        210.128.48.74  ...               0\n",
              "10.255.164.60        34.217.152.37  ...               0\n",
              "\n",
              "[10 rows x 5 columns]"
            ]
          },
          "metadata": {},
          "execution_count": 15
        }
      ]
    },
    {
      "cell_type": "code",
      "metadata": {
        "colab": {
          "base_uri": "https://localhost:8080/"
        },
        "id": "O4BmSMe2loQW",
        "outputId": "1736d3c5-240c-4226-81ef-9a297088f99b"
      },
      "source": [
        "unique_dst=np.unique(suspect['Destination address'])\n",
        "print(unique_dst.shape)\n"
      ],
      "execution_count": 16,
      "outputs": [
        {
          "output_type": "stream",
          "name": "stdout",
          "text": [
            "(174,)\n"
          ]
        }
      ]
    },
    {
      "cell_type": "code",
      "metadata": {
        "colab": {
          "base_uri": "https://localhost:8080/"
        },
        "id": "W0vNEaZF4VLn",
        "outputId": "fb240df8-222c-4af8-e6d6-6736b15cea7e"
      },
      "source": [
        "suspect['Destination Port'].value_counts()"
      ],
      "execution_count": 17,
      "outputs": [
        {
          "output_type": "execute_result",
          "data": {
            "text/plain": [
              "25    546\n",
              "Name: Destination Port, dtype: int64"
            ]
          },
          "metadata": {},
          "execution_count": 17
        }
      ]
    },
    {
      "cell_type": "code",
      "metadata": {
        "colab": {
          "base_uri": "https://localhost:8080/"
        },
        "id": "8d8sh4uI5J6J",
        "outputId": "7ec66969-6b27-4603-fd76-00359421bb64"
      },
      "source": [
        "suspect_byte=suspect['Bytes Sent']\n",
        "suspect_byte_count=suspect_byte.value_counts()\n",
        "print(suspect_byte_count)\n",
        "\n",
        "xfor_suspect=suspect_byte_count.index.tolist()\n",
        "yfor_suspect=suspect_byte_count.values.tolist()"
      ],
      "execution_count": 18,
      "outputs": [
        {
          "output_type": "stream",
          "name": "stdout",
          "text": [
            "66     381\n",
            "264    152\n",
            "132      7\n",
            "198      4\n",
            "186      2\n",
            "Name: Bytes Sent, dtype: int64\n"
          ]
        }
      ]
    },
    {
      "cell_type": "code",
      "metadata": {
        "colab": {
          "base_uri": "https://localhost:8080/",
          "height": 350
        },
        "id": "o8c1gFsV5AQd",
        "outputId": "deb706d1-bf21-4065-f935-c7db1d21346a"
      },
      "source": [
        "# Plotting Top 10 Application\n",
        "fig = plt.figure(figsize = (6, 5))\n",
        "plt.bar(xfor_suspect,yfor_suspect, width=20, color=['purple', 'magenta'])\n",
        "plt.xlabel(\"Number of Bytes\")\n",
        "plt.ylabel(\"Count\")\n",
        "plt.title(\"Bytes Use\")\n",
        "plt.show()"
      ],
      "execution_count": 19,
      "outputs": [
        {
          "output_type": "display_data",
          "data": {
            "image/png": "[encoded data removed]",
            "text/plain": [
              "<Figure size 432x360 with 1 Axes>"
            ]
          },
          "metadata": {
            "needs_background": "light"
          }
        }
      ]
    },
    {
      "cell_type": "markdown",
      "metadata": {
        "id": "Fh4KT_iV5zk5"
      },
      "source": [
        "**Create Label**"
      ]
    },
    {
      "cell_type": "code",
      "metadata": {
        "id": "BXVswroT4agY"
      },
      "source": [
        "def label_anomalous(text):\n",
        "    if text == \"10.255.164.60\":\n",
        "        return 0\n",
        "    else:\n",
        "        return 1"
      ],
      "execution_count": 20,
      "outputs": []
    },
    {
      "cell_type": "code",
      "metadata": {
        "colab": {
          "base_uri": "https://localhost:8080/",
          "height": 970
        },
        "id": "AnCQXOCWEd8A",
        "outputId": "4ca68d37-edab-4352-f916-c058de0e1782"
      },
      "source": [
        "df[\"label\"] = df[\"Source address\"].apply(label_anomalous)\n",
        "df.head(-3)"
      ],
      "execution_count": 21,
      "outputs": [
        {
          "output_type": "execute_result",
          "data": {
            "text/html": [
              "<div>\n",
              "<style scoped>\n",
              "    .dataframe tbody tr th:only-of-type {\n",
              "        vertical-align: middle;\n",
              "    }\n",
              "\n",
              "    .dataframe tbody tr th {\n",
              "        vertical-align: top;\n",
              "    }\n",
              "\n",
              "    .dataframe thead th {\n",
              "        text-align: right;\n",
              "    }\n",
              "</style>\n",
              "<table border=\"1\" class=\"dataframe\">\n",
              "  <thead>\n",
              "    <tr style=\"text-align: right;\">\n",
              "      <th></th>\n",
              "      <th>Threat/Content Type</th>\n",
              "      <th>Generate Time</th>\n",
              "      <th>Source address</th>\n",
              "      <th>Destination address</th>\n",
              "      <th>Application</th>\n",
              "      <th>Source Zone</th>\n",
              "      <th>Destination Zone</th>\n",
              "      <th>Session ID</th>\n",
              "      <th>Source Port</th>\n",
              "      <th>Destination Port</th>\n",
              "      <th>NAT Source Port</th>\n",
              "      <th>NAT Destination Port</th>\n",
              "      <th>Flags</th>\n",
              "      <th>IP Protocol</th>\n",
              "      <th>Action</th>\n",
              "      <th>Bytes</th>\n",
              "      <th>Bytes Sent</th>\n",
              "      <th>Bytes Received</th>\n",
              "      <th>Packets</th>\n",
              "      <th>Source Country</th>\n",
              "      <th>Destination Country</th>\n",
              "      <th>Packets Sent</th>\n",
              "      <th>Packets Received</th>\n",
              "      <th>Session End Reason</th>\n",
              "      <th>UUID for rule</th>\n",
              "      <th>HTTP/2 Connection</th>\n",
              "      <th>label</th>\n",
              "    </tr>\n",
              "  </thead>\n",
              "  <tbody>\n",
              "    <tr>\n",
              "      <th>0</th>\n",
              "      <td>end</td>\n",
              "      <td>2021-09-30 10:05:00</td>\n",
              "      <td>172.75.192.13</td>\n",
              "      <td>185.228.168.10</td>\n",
              "      <td>dns</td>\n",
              "      <td>Inside</td>\n",
              "      <td>Internet</td>\n",
              "      <td>3002860</td>\n",
              "      <td>37324</td>\n",
              "      <td>53</td>\n",
              "      <td>0</td>\n",
              "      <td>0</td>\n",
              "      <td>0x19</td>\n",
              "      <td>udp</td>\n",
              "      <td>allow</td>\n",
              "      <td>106</td>\n",
              "      <td>106</td>\n",
              "      <td>0</td>\n",
              "      <td>1</td>\n",
              "      <td>United States</td>\n",
              "      <td>United States</td>\n",
              "      <td>1</td>\n",
              "      <td>0</td>\n",
              "      <td>aged-out</td>\n",
              "      <td>73cd82b1-87ed-4fd6-8846-0931292d2a63</td>\n",
              "      <td>0</td>\n",
              "      <td>1</td>\n",
              "    </tr>\n",
              "    <tr>\n",
              "      <th>1</th>\n",
              "      <td>end</td>\n",
              "      <td>2021-09-30 10:05:00</td>\n",
              "      <td>172.75.192.13</td>\n",
              "      <td>185.228.168.10</td>\n",
              "      <td>dns</td>\n",
              "      <td>Inside</td>\n",
              "      <td>Internet</td>\n",
              "      <td>1764285</td>\n",
              "      <td>59386</td>\n",
              "      <td>53</td>\n",
              "      <td>0</td>\n",
              "      <td>0</td>\n",
              "      <td>0x19</td>\n",
              "      <td>udp</td>\n",
              "      <td>allow</td>\n",
              "      <td>102</td>\n",
              "      <td>102</td>\n",
              "      <td>0</td>\n",
              "      <td>1</td>\n",
              "      <td>United States</td>\n",
              "      <td>United States</td>\n",
              "      <td>1</td>\n",
              "      <td>0</td>\n",
              "      <td>aged-out</td>\n",
              "      <td>73cd82b1-87ed-4fd6-8846-0931292d2a63</td>\n",
              "      <td>0</td>\n",
              "      <td>1</td>\n",
              "    </tr>\n",
              "    <tr>\n",
              "      <th>2</th>\n",
              "      <td>end</td>\n",
              "      <td>2021-09-30 10:05:00</td>\n",
              "      <td>172.75.192.13</td>\n",
              "      <td>185.228.168.11</td>\n",
              "      <td>dns</td>\n",
              "      <td>Inside</td>\n",
              "      <td>Internet</td>\n",
              "      <td>40495</td>\n",
              "      <td>50733</td>\n",
              "      <td>53</td>\n",
              "      <td>0</td>\n",
              "      <td>0</td>\n",
              "      <td>0x19</td>\n",
              "      <td>udp</td>\n",
              "      <td>allow</td>\n",
              "      <td>95</td>\n",
              "      <td>95</td>\n",
              "      <td>0</td>\n",
              "      <td>1</td>\n",
              "      <td>United States</td>\n",
              "      <td>United States</td>\n",
              "      <td>1</td>\n",
              "      <td>0</td>\n",
              "      <td>aged-out</td>\n",
              "      <td>73cd82b1-87ed-4fd6-8846-0931292d2a63</td>\n",
              "      <td>0</td>\n",
              "      <td>1</td>\n",
              "    </tr>\n",
              "    <tr>\n",
              "      <th>3</th>\n",
              "      <td>end</td>\n",
              "      <td>2021-09-30 10:05:00</td>\n",
              "      <td>103.38.175.116</td>\n",
              "      <td>208.67.220.123</td>\n",
              "      <td>dns</td>\n",
              "      <td>Inside</td>\n",
              "      <td>Internet</td>\n",
              "      <td>3095955</td>\n",
              "      <td>63278</td>\n",
              "      <td>53</td>\n",
              "      <td>0</td>\n",
              "      <td>0</td>\n",
              "      <td>0x19</td>\n",
              "      <td>udp</td>\n",
              "      <td>allow</td>\n",
              "      <td>308</td>\n",
              "      <td>95</td>\n",
              "      <td>213</td>\n",
              "      <td>2</td>\n",
              "      <td>Philippines</td>\n",
              "      <td>United States</td>\n",
              "      <td>1</td>\n",
              "      <td>1</td>\n",
              "      <td>aged-out</td>\n",
              "      <td>b6db6bf4-21e4-4c90-bc9c-e0faf4bc4fd4</td>\n",
              "      <td>0</td>\n",
              "      <td>1</td>\n",
              "    </tr>\n",
              "    <tr>\n",
              "      <th>4</th>\n",
              "      <td>end</td>\n",
              "      <td>2021-09-30 10:05:00</td>\n",
              "      <td>172.75.192.135</td>\n",
              "      <td>185.228.168.10</td>\n",
              "      <td>dns</td>\n",
              "      <td>Inside</td>\n",
              "      <td>Internet</td>\n",
              "      <td>1363020</td>\n",
              "      <td>39931</td>\n",
              "      <td>53</td>\n",
              "      <td>0</td>\n",
              "      <td>0</td>\n",
              "      <td>0x19</td>\n",
              "      <td>udp</td>\n",
              "      <td>allow</td>\n",
              "      <td>91</td>\n",
              "      <td>91</td>\n",
              "      <td>0</td>\n",
              "      <td>1</td>\n",
              "      <td>United States</td>\n",
              "      <td>United States</td>\n",
              "      <td>1</td>\n",
              "      <td>0</td>\n",
              "      <td>aged-out</td>\n",
              "      <td>73cd82b1-87ed-4fd6-8846-0931292d2a63</td>\n",
              "      <td>0</td>\n",
              "      <td>1</td>\n",
              "    </tr>\n",
              "    <tr>\n",
              "      <th>...</th>\n",
              "      <td>...</td>\n",
              "      <td>...</td>\n",
              "      <td>...</td>\n",
              "      <td>...</td>\n",
              "      <td>...</td>\n",
              "      <td>...</td>\n",
              "      <td>...</td>\n",
              "      <td>...</td>\n",
              "      <td>...</td>\n",
              "      <td>...</td>\n",
              "      <td>...</td>\n",
              "      <td>...</td>\n",
              "      <td>...</td>\n",
              "      <td>...</td>\n",
              "      <td>...</td>\n",
              "      <td>...</td>\n",
              "      <td>...</td>\n",
              "      <td>...</td>\n",
              "      <td>...</td>\n",
              "      <td>...</td>\n",
              "      <td>...</td>\n",
              "      <td>...</td>\n",
              "      <td>...</td>\n",
              "      <td>...</td>\n",
              "      <td>...</td>\n",
              "      <td>...</td>\n",
              "      <td>...</td>\n",
              "    </tr>\n",
              "    <tr>\n",
              "      <th>31637</th>\n",
              "      <td>end</td>\n",
              "      <td>2021-09-30 10:47:00</td>\n",
              "      <td>10.255.164.60</td>\n",
              "      <td>185.79.118.151</td>\n",
              "      <td>incomplete</td>\n",
              "      <td>Inside</td>\n",
              "      <td>Internet</td>\n",
              "      <td>2497140</td>\n",
              "      <td>20765</td>\n",
              "      <td>25</td>\n",
              "      <td>27633</td>\n",
              "      <td>25</td>\n",
              "      <td>0x400019</td>\n",
              "      <td>tcp</td>\n",
              "      <td>allow</td>\n",
              "      <td>264</td>\n",
              "      <td>264</td>\n",
              "      <td>0</td>\n",
              "      <td>4</td>\n",
              "      <td>10.0.0.0-10.255.255.255</td>\n",
              "      <td>Russian Federation</td>\n",
              "      <td>4</td>\n",
              "      <td>0</td>\n",
              "      <td>aged-out</td>\n",
              "      <td>73cd82b1-87ed-4fd6-8846-0931292d2a63</td>\n",
              "      <td>0</td>\n",
              "      <td>0</td>\n",
              "    </tr>\n",
              "    <tr>\n",
              "      <th>31638</th>\n",
              "      <td>end</td>\n",
              "      <td>2021-09-30 10:47:00</td>\n",
              "      <td>10.255.164.60</td>\n",
              "      <td>34.209.30.116</td>\n",
              "      <td>incomplete</td>\n",
              "      <td>Inside</td>\n",
              "      <td>Internet</td>\n",
              "      <td>1401501</td>\n",
              "      <td>20651</td>\n",
              "      <td>25</td>\n",
              "      <td>16387</td>\n",
              "      <td>25</td>\n",
              "      <td>0x400019</td>\n",
              "      <td>tcp</td>\n",
              "      <td>allow</td>\n",
              "      <td>66</td>\n",
              "      <td>66</td>\n",
              "      <td>0</td>\n",
              "      <td>1</td>\n",
              "      <td>10.0.0.0-10.255.255.255</td>\n",
              "      <td>United States</td>\n",
              "      <td>1</td>\n",
              "      <td>0</td>\n",
              "      <td>aged-out</td>\n",
              "      <td>73cd82b1-87ed-4fd6-8846-0931292d2a63</td>\n",
              "      <td>0</td>\n",
              "      <td>0</td>\n",
              "    </tr>\n",
              "    <tr>\n",
              "      <th>31639</th>\n",
              "      <td>end</td>\n",
              "      <td>2021-09-30 10:47:00</td>\n",
              "      <td>10.255.164.60</td>\n",
              "      <td>8.31.233.27</td>\n",
              "      <td>incomplete</td>\n",
              "      <td>Inside</td>\n",
              "      <td>Internet</td>\n",
              "      <td>2046943</td>\n",
              "      <td>20655</td>\n",
              "      <td>25</td>\n",
              "      <td>46476</td>\n",
              "      <td>25</td>\n",
              "      <td>0x400019</td>\n",
              "      <td>tcp</td>\n",
              "      <td>allow</td>\n",
              "      <td>66</td>\n",
              "      <td>66</td>\n",
              "      <td>0</td>\n",
              "      <td>1</td>\n",
              "      <td>10.0.0.0-10.255.255.255</td>\n",
              "      <td>United States</td>\n",
              "      <td>1</td>\n",
              "      <td>0</td>\n",
              "      <td>aged-out</td>\n",
              "      <td>73cd82b1-87ed-4fd6-8846-0931292d2a63</td>\n",
              "      <td>0</td>\n",
              "      <td>0</td>\n",
              "    </tr>\n",
              "    <tr>\n",
              "      <th>31640</th>\n",
              "      <td>end</td>\n",
              "      <td>2021-09-30 10:47:00</td>\n",
              "      <td>182.54.146.8</td>\n",
              "      <td>119.205.212.219</td>\n",
              "      <td>smtp-base</td>\n",
              "      <td>Inside</td>\n",
              "      <td>Internet</td>\n",
              "      <td>2915824</td>\n",
              "      <td>49402</td>\n",
              "      <td>25</td>\n",
              "      <td>0</td>\n",
              "      <td>0</td>\n",
              "      <td>0x1c</td>\n",
              "      <td>tcp</td>\n",
              "      <td>allow</td>\n",
              "      <td>707</td>\n",
              "      <td>306</td>\n",
              "      <td>401</td>\n",
              "      <td>9</td>\n",
              "      <td>Philippines</td>\n",
              "      <td>Korea Republic Of</td>\n",
              "      <td>5</td>\n",
              "      <td>4</td>\n",
              "      <td>tcp-fin</td>\n",
              "      <td>687a2297-a5d2-4e1f-833d-f24f0fc9dae8</td>\n",
              "      <td>0</td>\n",
              "      <td>1</td>\n",
              "    </tr>\n",
              "    <tr>\n",
              "      <th>31641</th>\n",
              "      <td>end</td>\n",
              "      <td>2021-09-30 10:47:00</td>\n",
              "      <td>10.255.164.60</td>\n",
              "      <td>52.72.197.234</td>\n",
              "      <td>incomplete</td>\n",
              "      <td>Inside</td>\n",
              "      <td>Internet</td>\n",
              "      <td>2044262</td>\n",
              "      <td>20767</td>\n",
              "      <td>25</td>\n",
              "      <td>33582</td>\n",
              "      <td>25</td>\n",
              "      <td>0x400019</td>\n",
              "      <td>tcp</td>\n",
              "      <td>allow</td>\n",
              "      <td>264</td>\n",
              "      <td>264</td>\n",
              "      <td>0</td>\n",
              "      <td>4</td>\n",
              "      <td>10.0.0.0-10.255.255.255</td>\n",
              "      <td>United States</td>\n",
              "      <td>4</td>\n",
              "      <td>0</td>\n",
              "      <td>aged-out</td>\n",
              "      <td>73cd82b1-87ed-4fd6-8846-0931292d2a63</td>\n",
              "      <td>0</td>\n",
              "      <td>0</td>\n",
              "    </tr>\n",
              "  </tbody>\n",
              "</table>\n",
              "<p>31642 rows × 27 columns</p>\n",
              "</div>"
            ],
            "text/plain": [
              "      Threat/Content Type       Generate Time  ... HTTP/2 Connection label\n",
              "0                     end 2021-09-30 10:05:00  ...                 0     1\n",
              "1                     end 2021-09-30 10:05:00  ...                 0     1\n",
              "2                     end 2021-09-30 10:05:00  ...                 0     1\n",
              "3                     end 2021-09-30 10:05:00  ...                 0     1\n",
              "4                     end 2021-09-30 10:05:00  ...                 0     1\n",
              "...                   ...                 ...  ...               ...   ...\n",
              "31637                 end 2021-09-30 10:47:00  ...                 0     0\n",
              "31638                 end 2021-09-30 10:47:00  ...                 0     0\n",
              "31639                 end 2021-09-30 10:47:00  ...                 0     0\n",
              "31640                 end 2021-09-30 10:47:00  ...                 0     1\n",
              "31641                 end 2021-09-30 10:47:00  ...                 0     0\n",
              "\n",
              "[31642 rows x 27 columns]"
            ]
          },
          "metadata": {},
          "execution_count": 21
        }
      ]
    },
    {
      "cell_type": "code",
      "metadata": {
        "id": "RWRJH05ebRk3"
      },
      "source": [
        "features = ['Application', 'Destination Port', 'Bytes Sent', 'Bytes Received']\n",
        "target = 'label'"
      ],
      "execution_count": 22,
      "outputs": []
    },
    {
      "cell_type": "code",
      "metadata": {
        "colab": {
          "base_uri": "https://localhost:8080/",
          "height": 202
        },
        "id": "UxxBH1ugF1vo",
        "outputId": "63052543-9e6f-46c1-ef6b-fda419625e32"
      },
      "source": [
        "X = df.loc[:,features]\n",
        "y = df.loc[:,target]\n",
        "X.tail()"
      ],
      "execution_count": 23,
      "outputs": [
        {
          "output_type": "execute_result",
          "data": {
            "text/html": [
              "<div>\n",
              "<style scoped>\n",
              "    .dataframe tbody tr th:only-of-type {\n",
              "        vertical-align: middle;\n",
              "    }\n",
              "\n",
              "    .dataframe tbody tr th {\n",
              "        vertical-align: top;\n",
              "    }\n",
              "\n",
              "    .dataframe thead th {\n",
              "        text-align: right;\n",
              "    }\n",
              "</style>\n",
              "<table border=\"1\" class=\"dataframe\">\n",
              "  <thead>\n",
              "    <tr style=\"text-align: right;\">\n",
              "      <th></th>\n",
              "      <th>Application</th>\n",
              "      <th>Destination Port</th>\n",
              "      <th>Bytes Sent</th>\n",
              "      <th>Bytes Received</th>\n",
              "    </tr>\n",
              "  </thead>\n",
              "  <tbody>\n",
              "    <tr>\n",
              "      <th>31640</th>\n",
              "      <td>smtp-base</td>\n",
              "      <td>25</td>\n",
              "      <td>306</td>\n",
              "      <td>401</td>\n",
              "    </tr>\n",
              "    <tr>\n",
              "      <th>31641</th>\n",
              "      <td>incomplete</td>\n",
              "      <td>25</td>\n",
              "      <td>264</td>\n",
              "      <td>0</td>\n",
              "    </tr>\n",
              "    <tr>\n",
              "      <th>31642</th>\n",
              "      <td>incomplete</td>\n",
              "      <td>25</td>\n",
              "      <td>66</td>\n",
              "      <td>0</td>\n",
              "    </tr>\n",
              "    <tr>\n",
              "      <th>31643</th>\n",
              "      <td>incomplete</td>\n",
              "      <td>25</td>\n",
              "      <td>66</td>\n",
              "      <td>0</td>\n",
              "    </tr>\n",
              "    <tr>\n",
              "      <th>31644</th>\n",
              "      <td>smtp-base</td>\n",
              "      <td>25</td>\n",
              "      <td>579</td>\n",
              "      <td>587</td>\n",
              "    </tr>\n",
              "  </tbody>\n",
              "</table>\n",
              "</div>"
            ],
            "text/plain": [
              "      Application  Destination Port  Bytes Sent  Bytes Received\n",
              "31640   smtp-base                25         306             401\n",
              "31641  incomplete                25         264               0\n",
              "31642  incomplete                25          66               0\n",
              "31643  incomplete                25          66               0\n",
              "31644   smtp-base                25         579             587"
            ]
          },
          "metadata": {},
          "execution_count": 23
        }
      ]
    },
    {
      "cell_type": "code",
      "metadata": {
        "colab": {
          "base_uri": "https://localhost:8080/"
        },
        "id": "00CJWNhAcTgR",
        "outputId": "b2584d95-8fc2-4c9a-86a8-affd9d8739d3"
      },
      "source": [
        "X.info()"
      ],
      "execution_count": 24,
      "outputs": [
        {
          "output_type": "stream",
          "name": "stdout",
          "text": [
            "<class 'pandas.core.frame.DataFrame'>\n",
            "RangeIndex: 31645 entries, 0 to 31644\n",
            "Data columns (total 4 columns):\n",
            " #   Column            Non-Null Count  Dtype \n",
            "---  ------            --------------  ----- \n",
            " 0   Application       31645 non-null  object\n",
            " 1   Destination Port  31645 non-null  int64 \n",
            " 2   Bytes Sent        31645 non-null  int64 \n",
            " 3   Bytes Received    31645 non-null  int64 \n",
            "dtypes: int64(3), object(1)\n",
            "memory usage: 989.0+ KB\n"
          ]
        }
      ]
    },
    {
      "cell_type": "code",
      "metadata": {
        "colab": {
          "base_uri": "https://localhost:8080/",
          "height": 286
        },
        "id": "iO2xmLzicjNr",
        "outputId": "d7a12c2f-207d-49d0-8a68-ffbfa87654cb"
      },
      "source": [
        "sb.heatmap(X.corr(), annot=True,cmap=\"RdBu\")\n",
        "plt.plot()"
      ],
      "execution_count": 25,
      "outputs": [
        {
          "output_type": "execute_result",
          "data": {
            "text/plain": [
              "[]"
            ]
          },
          "metadata": {},
          "execution_count": 25
        },
        {
          "output_type": "display_data",
          "data": {
            "image/png": "[encoded data removed]",
            "text/plain": [
              "<Figure size 432x288 with 2 Axes>"
            ]
          },
          "metadata": {
            "needs_background": "light"
          }
        }
      ]
    },
    {
      "cell_type": "markdown",
      "metadata": {
        "id": "j-vvhQNE4Ex4"
      },
      "source": [
        "**Convert the Value in Application Feature to Numeric**"
      ]
    },
    {
      "cell_type": "code",
      "metadata": {
        "colab": {
          "base_uri": "https://localhost:8080/"
        },
        "id": "hsXnTE3OWHnX",
        "outputId": "5b7db96a-f42e-446b-93ac-fb7e52b092bd"
      },
      "source": [
        "from sklearn import preprocessing\n",
        "# label_encoder object knows how to understand word labels. \n",
        "label_encoder = preprocessing.LabelEncoder()\n",
        "# Encode labels in column 'Country'. \n",
        "X['Application']= label_encoder.fit_transform(X['Application']) \n",
        "print(X.tail())"
      ],
      "execution_count": 26,
      "outputs": [
        {
          "output_type": "stream",
          "name": "stdout",
          "text": [
            "       Application  Destination Port  Bytes Sent  Bytes Received\n",
            "31640           75                25         306             401\n",
            "31641           35                25         264               0\n",
            "31642           35                25          66               0\n",
            "31643           35                25          66               0\n",
            "31644           75                25         579             587\n"
          ]
        }
      ]
    },
    {
      "cell_type": "code",
      "metadata": {
        "colab": {
          "base_uri": "https://localhost:8080/",
          "height": 415
        },
        "id": "SdaDy_F9xqP-",
        "outputId": "eedf0ca6-df72-4866-a4bc-461d581d8453"
      },
      "source": [
        "for_km = df[[\"Destination Port\",\"Bytes Sent\"]]\n",
        "for_km"
      ],
      "execution_count": 27,
      "outputs": [
        {
          "output_type": "execute_result",
          "data": {
            "text/html": [
              "<div>\n",
              "<style scoped>\n",
              "    .dataframe tbody tr th:only-of-type {\n",
              "        vertical-align: middle;\n",
              "    }\n",
              "\n",
              "    .dataframe tbody tr th {\n",
              "        vertical-align: top;\n",
              "    }\n",
              "\n",
              "    .dataframe thead th {\n",
              "        text-align: right;\n",
              "    }\n",
              "</style>\n",
              "<table border=\"1\" class=\"dataframe\">\n",
              "  <thead>\n",
              "    <tr style=\"text-align: right;\">\n",
              "      <th></th>\n",
              "      <th>Destination Port</th>\n",
              "      <th>Bytes Sent</th>\n",
              "    </tr>\n",
              "  </thead>\n",
              "  <tbody>\n",
              "    <tr>\n",
              "      <th>0</th>\n",
              "      <td>53</td>\n",
              "      <td>106</td>\n",
              "    </tr>\n",
              "    <tr>\n",
              "      <th>1</th>\n",
              "      <td>53</td>\n",
              "      <td>102</td>\n",
              "    </tr>\n",
              "    <tr>\n",
              "      <th>2</th>\n",
              "      <td>53</td>\n",
              "      <td>95</td>\n",
              "    </tr>\n",
              "    <tr>\n",
              "      <th>3</th>\n",
              "      <td>53</td>\n",
              "      <td>95</td>\n",
              "    </tr>\n",
              "    <tr>\n",
              "      <th>4</th>\n",
              "      <td>53</td>\n",
              "      <td>91</td>\n",
              "    </tr>\n",
              "    <tr>\n",
              "      <th>...</th>\n",
              "      <td>...</td>\n",
              "      <td>...</td>\n",
              "    </tr>\n",
              "    <tr>\n",
              "      <th>31640</th>\n",
              "      <td>25</td>\n",
              "      <td>306</td>\n",
              "    </tr>\n",
              "    <tr>\n",
              "      <th>31641</th>\n",
              "      <td>25</td>\n",
              "      <td>264</td>\n",
              "    </tr>\n",
              "    <tr>\n",
              "      <th>31642</th>\n",
              "      <td>25</td>\n",
              "      <td>66</td>\n",
              "    </tr>\n",
              "    <tr>\n",
              "      <th>31643</th>\n",
              "      <td>25</td>\n",
              "      <td>66</td>\n",
              "    </tr>\n",
              "    <tr>\n",
              "      <th>31644</th>\n",
              "      <td>25</td>\n",
              "      <td>579</td>\n",
              "    </tr>\n",
              "  </tbody>\n",
              "</table>\n",
              "<p>31645 rows × 2 columns</p>\n",
              "</div>"
            ],
            "text/plain": [
              "       Destination Port  Bytes Sent\n",
              "0                    53         106\n",
              "1                    53         102\n",
              "2                    53          95\n",
              "3                    53          95\n",
              "4                    53          91\n",
              "...                 ...         ...\n",
              "31640                25         306\n",
              "31641                25         264\n",
              "31642                25          66\n",
              "31643                25          66\n",
              "31644                25         579\n",
              "\n",
              "[31645 rows x 2 columns]"
            ]
          },
          "metadata": {},
          "execution_count": 27
        }
      ]
    },
    {
      "cell_type": "markdown",
      "metadata": {
        "id": "x2Gd4H9s3yAX"
      },
      "source": [
        "**Using KMeans to separate the dataset into clusters**"
      ]
    },
    {
      "cell_type": "code",
      "metadata": {
        "colab": {
          "base_uri": "https://localhost:8080/"
        },
        "id": "tevuYoDynHoE",
        "outputId": "9bb82b87-4081-464b-bced-a12fe6e9b0a9"
      },
      "source": [
        "from sklearn.cluster import KMeans\n",
        "Kmean = KMeans(n_clusters=3)\n",
        "Kmean.fit(for_km)"
      ],
      "execution_count": 28,
      "outputs": [
        {
          "output_type": "execute_result",
          "data": {
            "text/plain": [
              "KMeans(algorithm='auto', copy_x=True, init='k-means++', max_iter=300,\n",
              "       n_clusters=3, n_init=10, n_jobs=None, precompute_distances='auto',\n",
              "       random_state=None, tol=0.0001, verbose=0)"
            ]
          },
          "metadata": {},
          "execution_count": 28
        }
      ]
    },
    {
      "cell_type": "code",
      "metadata": {
        "colab": {
          "base_uri": "https://localhost:8080/"
        },
        "id": "Rl4mb50gnIrR",
        "outputId": "989698d6-3a6a-4f21-f75d-c81fa8e4701e"
      },
      "source": [
        "Kmean.cluster_centers_"
      ],
      "execution_count": 29,
      "outputs": [
        {
          "output_type": "execute_result",
          "data": {
            "text/plain": [
              "array([[1.55594558e+03, 2.74763214e+03],\n",
              "       [4.43000000e+02, 2.37910480e+07],\n",
              "       [3.06722222e+02, 2.34116800e+06]])"
            ]
          },
          "metadata": {},
          "execution_count": 29
        }
      ]
    },
    {
      "cell_type": "code",
      "metadata": {
        "colab": {
          "base_uri": "https://localhost:8080/"
        },
        "id": "ApHd4faEnIzW",
        "outputId": "e62c59d5-316d-4c94-f5fc-13b8fc503bcd"
      },
      "source": [
        "print('label', Kmean.labels_)"
      ],
      "execution_count": 30,
      "outputs": [
        {
          "output_type": "stream",
          "name": "stdout",
          "text": [
            "label [0 0 0 ... 0 0 0]\n"
          ]
        }
      ]
    },
    {
      "cell_type": "code",
      "metadata": {
        "id": "dMaeU1kQ0qC4"
      },
      "source": [
        "X_kcluster = df[['Source address','Destination address', 'Application','Source Port', 'Destination Port', 'Bytes Sent', 'label']]"
      ],
      "execution_count": 31,
      "outputs": []
    },
    {
      "cell_type": "code",
      "metadata": {
        "colab": {
          "base_uri": "https://localhost:8080/"
        },
        "id": "ZRaHC-7RnI6b",
        "outputId": "6601df13-e6cc-4528-be18-8cd5890c3526"
      },
      "source": [
        "X_kcluster['cluster'] = Kmean.labels_\n",
        "X_kcluster['cluster'].value_counts()"
      ],
      "execution_count": 32,
      "outputs": [
        {
          "output_type": "stream",
          "name": "stderr",
          "text": [
            "/usr/local/lib/python3.7/dist-packages/ipykernel_launcher.py:1: SettingWithCopyWarning: \n",
            "A value is trying to be set on a copy of a slice from a DataFrame.\n",
            "Try using .loc[row_indexer,col_indexer] = value instead\n",
            "\n",
            "See the caveats in the documentation: https://pandas.pydata.org/pandas-docs/stable/user_guide/indexing.html#returning-a-view-versus-a-copy\n",
            "  \"\"\"Entry point for launching an IPython kernel.\n"
          ]
        },
        {
          "output_type": "execute_result",
          "data": {
            "text/plain": [
              "0    31626\n",
              "2       18\n",
              "1        1\n",
              "Name: cluster, dtype: int64"
            ]
          },
          "metadata": {},
          "execution_count": 32
        }
      ]
    },
    {
      "cell_type": "code",
      "metadata": {
        "colab": {
          "base_uri": "https://localhost:8080/"
        },
        "id": "aq-YhYQho3lg",
        "outputId": "7b723521-b7db-4b48-db08-0d5bf467e66c"
      },
      "source": [
        "print(X_kcluster.loc[X_kcluster.cluster==0,:])\n",
        "print(X_kcluster.loc[X_kcluster.cluster==1,:])\n",
        "print(X_kcluster.loc[X_kcluster.cluster==2,:])\n"
      ],
      "execution_count": 42,
      "outputs": [
        {
          "output_type": "stream",
          "name": "stdout",
          "text": [
            "       Source address Destination address  ... label  cluster\n",
            "0       172.75.192.13      185.228.168.10  ...     1        0\n",
            "1       172.75.192.13      185.228.168.10  ...     1        0\n",
            "2       172.75.192.13      185.228.168.11  ...     1        0\n",
            "3      103.38.175.116      208.67.220.123  ...     1        0\n",
            "4      172.75.192.135      185.228.168.10  ...     1        0\n",
            "...               ...                 ...  ...   ...      ...\n",
            "31640    182.54.146.8     119.205.212.219  ...     1        0\n",
            "31641   10.255.164.60       52.72.197.234  ...     0        0\n",
            "31642   10.255.164.60       210.128.48.74  ...     0        0\n",
            "31643   10.255.164.60       34.217.152.37  ...     0        0\n",
            "31644   10.255.164.60       185.20.49.164  ...     0        0\n",
            "\n",
            "[31626 rows x 8 columns]\n",
            "      Source address Destination address  ... label  cluster\n",
            "9577  182.54.147.131         72.52.87.69  ...     1        1\n",
            "\n",
            "[1 rows x 8 columns]\n",
            "       Source address Destination address  ... label  cluster\n",
            "4336    10.255.171.13     129.227.177.207  ...     1        2\n",
            "4516    103.38.175.49     202.138.177.168  ...     1        2\n",
            "4640    103.38.174.17      218.189.25.142  ...     1        2\n",
            "5323   103.38.175.115       45.76.211.169  ...     1        2\n",
            "5373    203.21.141.36      218.189.25.141  ...     1        2\n",
            "10302   10.255.173.24        217.19.10.65  ...     1        2\n",
            "10410   10.255.166.99      218.189.25.142  ...     1        2\n",
            "16280   203.21.141.26     142.250.200.238  ...     1        2\n",
            "16492  10.255.167.108      218.189.25.143  ...     1        2\n",
            "16962    10.255.172.9      157.240.211.21  ...     1        2\n",
            "24911  10.255.174.174        101.33.18.50  ...     1        2\n",
            "25187   10.255.167.56          31.13.75.1  ...     1        2\n",
            "25385   10.255.173.16      218.189.25.143  ...     1        2\n",
            "27797    10.255.173.7      142.250.115.26  ...     1        2\n",
            "27936    10.255.173.7      142.250.152.26  ...     1        2\n",
            "28005    10.255.173.7       74.125.203.26  ...     1        2\n",
            "28006    10.255.173.7      142.250.141.26  ...     1        2\n",
            "28125    10.255.173.7       74.125.203.26  ...     1        2\n",
            "\n",
            "[18 rows x 8 columns]\n"
          ]
        }
      ]
    },
    {
      "cell_type": "code",
      "metadata": {
        "id": "yr21RXjadkIc"
      },
      "source": [
        "from sklearn.model_selection import train_test_split\n",
        "X_train, X_test, y_train, y_test = train_test_split(X, y, random_state=42, test_size=0.3)"
      ],
      "execution_count": 35,
      "outputs": []
    },
    {
      "cell_type": "code",
      "metadata": {
        "id": "pUqNRO6id_Ol"
      },
      "source": [
        "from sklearn.linear_model import LogisticRegression\n",
        "from sklearn.neighbors import KNeighborsClassifier\n",
        "from sklearn.neural_network import MLPClassifier\n",
        "from sklearn.tree import DecisionTreeClassifier\n",
        "\n",
        "from sklearn.metrics import classification_report\n",
        "from sklearn.metrics import confusion_matrix\n",
        "from sklearn.metrics import accuracy_score"
      ],
      "execution_count": 36,
      "outputs": []
    },
    {
      "cell_type": "code",
      "metadata": {
        "id": "LC874RlseBnl"
      },
      "source": [
        "models = [LogisticRegression(), KNeighborsClassifier(n_neighbors=3),MLPClassifier(alpha=0.005),DecisionTreeClassifier()]\n",
        "classifiers = [\"LR\", \"KNN\",\"MLP\",\"DecisionTree\"]\n",
        "scores = []"
      ],
      "execution_count": 37,
      "outputs": []
    },
    {
      "cell_type": "code",
      "metadata": {
        "colab": {
          "base_uri": "https://localhost:8080/"
        },
        "id": "LUFTH6G9XE8r",
        "outputId": "3df157e3-537d-490b-82ea-b2b0010b7913"
      },
      "source": [
        "for model in models:\n",
        "    model.fit(X_train,y_train)\n",
        "    y_pred = model.predict(X_test)\n",
        "    score = accuracy_score(y_test, y_pred)*100\n",
        "    scores.append(score)\n",
        "    print(\"Accuracy of  model is: \", score)\n",
        "    conf_matrix = confusion_matrix(y_test,y_pred)\n",
        "    report = classification_report(y_test,y_pred)\n",
        "    print(\"Confusion Matrix:\\n\",conf_matrix)\n",
        "    print(\"Report:\\n\",report)\n",
        "    print(\"\\n==============***===============\")"
      ],
      "execution_count": 38,
      "outputs": [
        {
          "output_type": "stream",
          "name": "stdout",
          "text": [
            "Accuracy of  model is:  97.08236781124921\n",
            "Confusion Matrix:\n",
            " [[   0  228]\n",
            " [  49 9217]]\n",
            "Report:\n",
            "               precision    recall  f1-score   support\n",
            "\n",
            "           0       0.00      0.00      0.00       228\n",
            "           1       0.98      0.99      0.99      9266\n",
            "\n",
            "    accuracy                           0.97      9494\n",
            "   macro avg       0.49      0.50      0.49      9494\n",
            "weighted avg       0.95      0.97      0.96      9494\n",
            "\n",
            "\n",
            "==============***===============\n",
            "Accuracy of  model is:  99.30482409943122\n",
            "Confusion Matrix:\n",
            " [[ 205   23]\n",
            " [  43 9223]]\n",
            "Report:\n",
            "               precision    recall  f1-score   support\n",
            "\n",
            "           0       0.83      0.90      0.86       228\n",
            "           1       1.00      1.00      1.00      9266\n",
            "\n",
            "    accuracy                           0.99      9494\n",
            "   macro avg       0.91      0.95      0.93      9494\n",
            "weighted avg       0.99      0.99      0.99      9494\n",
            "\n",
            "\n",
            "==============***===============\n",
            "Accuracy of  model is:  98.52538445333894\n",
            "Confusion Matrix:\n",
            " [[ 157   71]\n",
            " [  69 9197]]\n",
            "Report:\n",
            "               precision    recall  f1-score   support\n",
            "\n",
            "           0       0.69      0.69      0.69       228\n",
            "           1       0.99      0.99      0.99      9266\n",
            "\n",
            "    accuracy                           0.99      9494\n",
            "   macro avg       0.84      0.84      0.84      9494\n",
            "weighted avg       0.99      0.99      0.99      9494\n",
            "\n",
            "\n",
            "==============***===============\n",
            "Accuracy of  model is:  99.43121971771646\n",
            "Confusion Matrix:\n",
            " [[ 214   14]\n",
            " [  40 9226]]\n",
            "Report:\n",
            "               precision    recall  f1-score   support\n",
            "\n",
            "           0       0.84      0.94      0.89       228\n",
            "           1       1.00      1.00      1.00      9266\n",
            "\n",
            "    accuracy                           0.99      9494\n",
            "   macro avg       0.92      0.97      0.94      9494\n",
            "weighted avg       0.99      0.99      0.99      9494\n",
            "\n",
            "\n",
            "==============***===============\n"
          ]
        }
      ]
    },
    {
      "cell_type": "code",
      "metadata": {
        "colab": {
          "base_uri": "https://localhost:8080/"
        },
        "id": "ax1l1qkaXphy",
        "outputId": "db8db400-2f51-431b-9ca2-7eb7d9a35e52"
      },
      "source": [
        "#scores=scores[:4]\n",
        "scores"
      ],
      "execution_count": 39,
      "outputs": [
        {
          "output_type": "execute_result",
          "data": {
            "text/plain": [
              "[97.08236781124921, 99.30482409943122, 98.52538445333894, 99.43121971771646]"
            ]
          },
          "metadata": {},
          "execution_count": 39
        }
      ]
    },
    {
      "cell_type": "code",
      "metadata": {
        "colab": {
          "base_uri": "https://localhost:8080/",
          "height": 281
        },
        "id": "Fh1rvBw4Xq0h",
        "outputId": "f7e7b89c-4ada-4d63-e8af-b9ba00e44ba4"
      },
      "source": [
        "plt.plot(classifiers,scores)\n",
        "plt.title(\"Suspicious Traffic\")\n",
        "plt.show()"
      ],
      "execution_count": 40,
      "outputs": [
        {
          "output_type": "display_data",
          "data": {
            "image/png": "[encoded data removed]",
            "text/plain": [
              "<Figure size 432x288 with 1 Axes>"
            ]
          },
          "metadata": {
            "needs_background": "light"
          }
        }
      ]
    }
  ]
}