{
  "nbformat": 4,
  "nbformat_minor": 0,
  "metadata": {
    "colab": {
      "name": "IOD_Lab 4.1.1_jk.ipynb",
      "provenance": [],
      "collapsed_sections": []
    },
    "kernelspec": {
      "display_name": "Python 3",
      "language": "python",
      "name": "python3"
    },
    "language_info": {
      "codemirror_mode": {
        "name": "ipython",
        "version": 3
      },
      "file_extension": ".py",
      "mimetype": "text/x-python",
      "name": "python",
      "nbconvert_exporter": "python",
      "pygments_lexer": "ipython3",
      "version": "3.8.5"
    }
  },
  "cells": [
    {
      "cell_type": "markdown",
      "metadata": {
        "id": "jZSSKjAWXd3j"
      },
      "source": [
        "<div>\n",
        "<img src=https://www.institutedata.com/wp-content/uploads/2019/10/iod_h_tp_primary_c.svg width=\"300\">\n",
        "</div>"
      ]
    },
    {
      "cell_type": "markdown",
      "metadata": {
        "id": "2Ms9riXMXd3k"
      },
      "source": [
        "# Lab 4.1.1 Linear Regression"
      ]
    },
    {
      "cell_type": "markdown",
      "metadata": {
        "id": "twocr7v8Xd3l"
      },
      "source": [
        "## Prediction of House Price Using Linear Regression"
      ]
    },
    {
      "cell_type": "markdown",
      "metadata": {
        "id": "0j3ZiTCPXd3m"
      },
      "source": [
        "### Data\n",
        "\n",
        "The Sacramento real estate transactions file is a list of 985 real estate transactions in the Sacramento area reported over a five-day period, as reported by the Sacramento Bee."
      ]
    },
    {
      "cell_type": "code",
      "metadata": {
        "id": "hejYh49cXd3n"
      },
      "source": [
        "import pandas as pd\n",
        "import numpy as np\n",
        "import pandas as pd\n",
        "import matplotlib.pyplot as plt\n",
        "import seaborn as sns\n",
        "\n",
        "%matplotlib inline"
      ],
      "execution_count": 1,
      "outputs": []
    },
    {
      "cell_type": "markdown",
      "metadata": {
        "id": "BlumKNPDXd3q"
      },
      "source": [
        "### 1. Explore Data"
      ]
    },
    {
      "cell_type": "markdown",
      "metadata": {
        "id": "h1FUHCAnXd3r"
      },
      "source": [
        "Perform EDA on this dataset. Use what you have learned so far. Be creative. List all your findings."
      ]
    },
    {
      "cell_type": "code",
      "metadata": {
        "id": "C8BX-oTKXd3s",
        "colab": {
          "base_uri": "https://localhost:8080/",
          "height": 203
        },
        "outputId": "c7faedb7-0989-4428-83a4-4833b383db6d"
      },
      "source": [
        "# Read CSV\n",
        "house_csv = pd.read_csv(\"/content/Sacramento_transactions.csv\")\n",
        "house_csv.head()\n",
        "\n",
        "\n"
      ],
      "execution_count": 2,
      "outputs": [
        {
          "output_type": "execute_result",
          "data": {
            "text/html": [
              "<div>\n",
              "<style scoped>\n",
              "    .dataframe tbody tr th:only-of-type {\n",
              "        vertical-align: middle;\n",
              "    }\n",
              "\n",
              "    .dataframe tbody tr th {\n",
              "        vertical-align: top;\n",
              "    }\n",
              "\n",
              "    .dataframe thead th {\n",
              "        text-align: right;\n",
              "    }\n",
              "</style>\n",
              "<table border=\"1\" class=\"dataframe\">\n",
              "  <thead>\n",
              "    <tr style=\"text-align: right;\">\n",
              "      <th></th>\n",
              "      <th>street</th>\n",
              "      <th>city</th>\n",
              "      <th>zip</th>\n",
              "      <th>state</th>\n",
              "      <th>beds</th>\n",
              "      <th>baths</th>\n",
              "      <th>sq__ft</th>\n",
              "      <th>type</th>\n",
              "      <th>sale_date</th>\n",
              "      <th>price</th>\n",
              "      <th>latitude</th>\n",
              "      <th>longitude</th>\n",
              "    </tr>\n",
              "  </thead>\n",
              "  <tbody>\n",
              "    <tr>\n",
              "      <th>0</th>\n",
              "      <td>3526 HIGH ST</td>\n",
              "      <td>SACRAMENTO</td>\n",
              "      <td>95838</td>\n",
              "      <td>CA</td>\n",
              "      <td>2</td>\n",
              "      <td>1</td>\n",
              "      <td>836</td>\n",
              "      <td>Residential</td>\n",
              "      <td>Wed May 21 00:00:00 EDT 2008</td>\n",
              "      <td>59222</td>\n",
              "      <td>38.631913</td>\n",
              "      <td>-121.434879</td>\n",
              "    </tr>\n",
              "    <tr>\n",
              "      <th>1</th>\n",
              "      <td>51 OMAHA CT</td>\n",
              "      <td>SACRAMENTO</td>\n",
              "      <td>95823</td>\n",
              "      <td>CA</td>\n",
              "      <td>3</td>\n",
              "      <td>1</td>\n",
              "      <td>1167</td>\n",
              "      <td>Residential</td>\n",
              "      <td>Wed May 21 00:00:00 EDT 2008</td>\n",
              "      <td>68212</td>\n",
              "      <td>38.478902</td>\n",
              "      <td>-121.431028</td>\n",
              "    </tr>\n",
              "    <tr>\n",
              "      <th>2</th>\n",
              "      <td>2796 BRANCH ST</td>\n",
              "      <td>SACRAMENTO</td>\n",
              "      <td>95815</td>\n",
              "      <td>CA</td>\n",
              "      <td>2</td>\n",
              "      <td>1</td>\n",
              "      <td>796</td>\n",
              "      <td>Residential</td>\n",
              "      <td>Wed May 21 00:00:00 EDT 2008</td>\n",
              "      <td>68880</td>\n",
              "      <td>38.618305</td>\n",
              "      <td>-121.443839</td>\n",
              "    </tr>\n",
              "    <tr>\n",
              "      <th>3</th>\n",
              "      <td>2805 JANETTE WAY</td>\n",
              "      <td>SACRAMENTO</td>\n",
              "      <td>95815</td>\n",
              "      <td>CA</td>\n",
              "      <td>2</td>\n",
              "      <td>1</td>\n",
              "      <td>852</td>\n",
              "      <td>Residential</td>\n",
              "      <td>Wed May 21 00:00:00 EDT 2008</td>\n",
              "      <td>69307</td>\n",
              "      <td>38.616835</td>\n",
              "      <td>-121.439146</td>\n",
              "    </tr>\n",
              "    <tr>\n",
              "      <th>4</th>\n",
              "      <td>6001 MCMAHON DR</td>\n",
              "      <td>SACRAMENTO</td>\n",
              "      <td>95824</td>\n",
              "      <td>CA</td>\n",
              "      <td>2</td>\n",
              "      <td>1</td>\n",
              "      <td>797</td>\n",
              "      <td>Residential</td>\n",
              "      <td>Wed May 21 00:00:00 EDT 2008</td>\n",
              "      <td>81900</td>\n",
              "      <td>38.519470</td>\n",
              "      <td>-121.435768</td>\n",
              "    </tr>\n",
              "  </tbody>\n",
              "</table>\n",
              "</div>"
            ],
            "text/plain": [
              "             street        city    zip  ...  price   latitude   longitude\n",
              "0      3526 HIGH ST  SACRAMENTO  95838  ...  59222  38.631913 -121.434879\n",
              "1       51 OMAHA CT  SACRAMENTO  95823  ...  68212  38.478902 -121.431028\n",
              "2    2796 BRANCH ST  SACRAMENTO  95815  ...  68880  38.618305 -121.443839\n",
              "3  2805 JANETTE WAY  SACRAMENTO  95815  ...  69307  38.616835 -121.439146\n",
              "4   6001 MCMAHON DR  SACRAMENTO  95824  ...  81900  38.519470 -121.435768\n",
              "\n",
              "[5 rows x 12 columns]"
            ]
          },
          "metadata": {
            "tags": []
          },
          "execution_count": 2
        }
      ]
    },
    {
      "cell_type": "code",
      "metadata": {
        "colab": {
          "base_uri": "https://localhost:8080/",
          "height": 644
        },
        "id": "FEKZLQ4t4Qop",
        "outputId": "26207091-0428-4719-c2fa-b71704277385"
      },
      "source": [
        "plt.figure(figsize=(10,10))\n",
        "plt.scatter(house_csv.sq__ft, house_csv.price)\n",
        "plt.title(\"Square Feet vs Price\")\n",
        "plt.xlabel(\"Price ($)\",fontsize=15)\n",
        "plt.ylabel(\"Square ft \\n\",fontsize=15)"
      ],
      "execution_count": 5,
      "outputs": [
        {
          "output_type": "execute_result",
          "data": {
            "text/plain": [
              "Text(0, 0.5, 'Square ft \\n')"
            ]
          },
          "metadata": {
            "tags": []
          },
          "execution_count": 5
        },
        {
          "output_type": "display_data",
          "data": {
            "image/png": "[encoded data removed]",
            "text/plain": [
              "<Figure size 720x720 with 1 Axes>"
            ]
          },
          "metadata": {
            "tags": [],
            "needs_background": "light"
          }
        }
      ]
    },
    {
      "cell_type": "markdown",
      "metadata": {
        "id": "sIztKXN7Xd3u"
      },
      "source": [
        "### 2. Predict Price"
      ]
    },
    {
      "cell_type": "markdown",
      "metadata": {
        "id": "hzXJOP2_Xd3v"
      },
      "source": [
        "We are going to predict `price` from available information."
      ]
    },
    {
      "cell_type": "markdown",
      "metadata": {
        "id": "1CMJdXc3Xd3w"
      },
      "source": [
        "#### 2.1 What is the Target Variable? Why?"
      ]
    },
    {
      "cell_type": "code",
      "metadata": {
        "colab": {
          "base_uri": "https://localhost:8080/",
          "height": 585
        },
        "id": "RuXPZ1yUxH7r",
        "outputId": "3150bc45-9479-4ce7-97a9-e127689797dd"
      },
      "source": [
        "index_list = house_csv[house_csv.sq__ft==0].index\n",
        "index_list\n",
        "df = house_csv.drop(index_list)\n",
        "house_csv.loc[index_list]\n"
      ],
      "execution_count": 31,
      "outputs": [
        {
          "output_type": "execute_result",
          "data": {
            "text/html": [
              "<div>\n",
              "<style scoped>\n",
              "    .dataframe tbody tr th:only-of-type {\n",
              "        vertical-align: middle;\n",
              "    }\n",
              "\n",
              "    .dataframe tbody tr th {\n",
              "        vertical-align: top;\n",
              "    }\n",
              "\n",
              "    .dataframe thead th {\n",
              "        text-align: right;\n",
              "    }\n",
              "</style>\n",
              "<table border=\"1\" class=\"dataframe\">\n",
              "  <thead>\n",
              "    <tr style=\"text-align: right;\">\n",
              "      <th></th>\n",
              "      <th>street</th>\n",
              "      <th>city</th>\n",
              "      <th>zip</th>\n",
              "      <th>state</th>\n",
              "      <th>beds</th>\n",
              "      <th>baths</th>\n",
              "      <th>sq__ft</th>\n",
              "      <th>type</th>\n",
              "      <th>sale_date</th>\n",
              "      <th>price</th>\n",
              "      <th>latitude</th>\n",
              "      <th>longitude</th>\n",
              "    </tr>\n",
              "  </thead>\n",
              "  <tbody>\n",
              "    <tr>\n",
              "      <th>73</th>\n",
              "      <td>17 SERASPI CT</td>\n",
              "      <td>SACRAMENTO</td>\n",
              "      <td>95834</td>\n",
              "      <td>CA</td>\n",
              "      <td>0</td>\n",
              "      <td>0</td>\n",
              "      <td>0</td>\n",
              "      <td>Residential</td>\n",
              "      <td>Wed May 21 00:00:00 EDT 2008</td>\n",
              "      <td>206000</td>\n",
              "      <td>38.631481</td>\n",
              "      <td>-121.501880</td>\n",
              "    </tr>\n",
              "    <tr>\n",
              "      <th>89</th>\n",
              "      <td>2866 KARITSA AVE</td>\n",
              "      <td>SACRAMENTO</td>\n",
              "      <td>95833</td>\n",
              "      <td>CA</td>\n",
              "      <td>0</td>\n",
              "      <td>0</td>\n",
              "      <td>0</td>\n",
              "      <td>Residential</td>\n",
              "      <td>Wed May 21 00:00:00 EDT 2008</td>\n",
              "      <td>244500</td>\n",
              "      <td>38.626671</td>\n",
              "      <td>-121.525970</td>\n",
              "    </tr>\n",
              "    <tr>\n",
              "      <th>100</th>\n",
              "      <td>12209 CONSERVANCY WAY</td>\n",
              "      <td>RANCHO CORDOVA</td>\n",
              "      <td>95742</td>\n",
              "      <td>CA</td>\n",
              "      <td>0</td>\n",
              "      <td>0</td>\n",
              "      <td>0</td>\n",
              "      <td>Residential</td>\n",
              "      <td>Wed May 21 00:00:00 EDT 2008</td>\n",
              "      <td>263500</td>\n",
              "      <td>38.553867</td>\n",
              "      <td>-121.219141</td>\n",
              "    </tr>\n",
              "    <tr>\n",
              "      <th>121</th>\n",
              "      <td>5337 DUSTY ROSE WAY</td>\n",
              "      <td>RANCHO CORDOVA</td>\n",
              "      <td>95742</td>\n",
              "      <td>CA</td>\n",
              "      <td>0</td>\n",
              "      <td>0</td>\n",
              "      <td>0</td>\n",
              "      <td>Residential</td>\n",
              "      <td>Wed May 21 00:00:00 EDT 2008</td>\n",
              "      <td>320000</td>\n",
              "      <td>38.528575</td>\n",
              "      <td>-121.228600</td>\n",
              "    </tr>\n",
              "    <tr>\n",
              "      <th>126</th>\n",
              "      <td>2115 SMOKESTACK WAY</td>\n",
              "      <td>SACRAMENTO</td>\n",
              "      <td>95833</td>\n",
              "      <td>CA</td>\n",
              "      <td>0</td>\n",
              "      <td>0</td>\n",
              "      <td>0</td>\n",
              "      <td>Residential</td>\n",
              "      <td>Wed May 21 00:00:00 EDT 2008</td>\n",
              "      <td>339500</td>\n",
              "      <td>38.602416</td>\n",
              "      <td>-121.542965</td>\n",
              "    </tr>\n",
              "    <tr>\n",
              "      <th>...</th>\n",
              "      <td>...</td>\n",
              "      <td>...</td>\n",
              "      <td>...</td>\n",
              "      <td>...</td>\n",
              "      <td>...</td>\n",
              "      <td>...</td>\n",
              "      <td>...</td>\n",
              "      <td>...</td>\n",
              "      <td>...</td>\n",
              "      <td>...</td>\n",
              "      <td>...</td>\n",
              "      <td>...</td>\n",
              "    </tr>\n",
              "    <tr>\n",
              "      <th>934</th>\n",
              "      <td>1550 TOPANGA LN Unit 207</td>\n",
              "      <td>LINCOLN</td>\n",
              "      <td>95648</td>\n",
              "      <td>CA</td>\n",
              "      <td>0</td>\n",
              "      <td>0</td>\n",
              "      <td>0</td>\n",
              "      <td>Condo</td>\n",
              "      <td>Thu May 15 00:00:00 EDT 2008</td>\n",
              "      <td>188000</td>\n",
              "      <td>38.884170</td>\n",
              "      <td>-121.270222</td>\n",
              "    </tr>\n",
              "    <tr>\n",
              "      <th>947</th>\n",
              "      <td>1525 PENNSYLVANIA AVE</td>\n",
              "      <td>WEST SACRAMENTO</td>\n",
              "      <td>95691</td>\n",
              "      <td>CA</td>\n",
              "      <td>0</td>\n",
              "      <td>0</td>\n",
              "      <td>0</td>\n",
              "      <td>Residential</td>\n",
              "      <td>Thu May 15 00:00:00 EDT 2008</td>\n",
              "      <td>200100</td>\n",
              "      <td>38.569943</td>\n",
              "      <td>-121.527539</td>\n",
              "    </tr>\n",
              "    <tr>\n",
              "      <th>966</th>\n",
              "      <td>9197 CORTINA CIR</td>\n",
              "      <td>ROSEVILLE</td>\n",
              "      <td>95678</td>\n",
              "      <td>CA</td>\n",
              "      <td>3</td>\n",
              "      <td>2</td>\n",
              "      <td>0</td>\n",
              "      <td>Condo</td>\n",
              "      <td>Thu May 15 00:00:00 EDT 2008</td>\n",
              "      <td>220000</td>\n",
              "      <td>38.793152</td>\n",
              "      <td>-121.290025</td>\n",
              "    </tr>\n",
              "    <tr>\n",
              "      <th>970</th>\n",
              "      <td>3557 SODA WAY</td>\n",
              "      <td>SACRAMENTO</td>\n",
              "      <td>95834</td>\n",
              "      <td>CA</td>\n",
              "      <td>0</td>\n",
              "      <td>0</td>\n",
              "      <td>0</td>\n",
              "      <td>Residential</td>\n",
              "      <td>Thu May 15 00:00:00 EDT 2008</td>\n",
              "      <td>224000</td>\n",
              "      <td>38.631026</td>\n",
              "      <td>-121.501879</td>\n",
              "    </tr>\n",
              "    <tr>\n",
              "      <th>973</th>\n",
              "      <td>2181 WINTERHAVEN CIR</td>\n",
              "      <td>CAMERON PARK</td>\n",
              "      <td>95682</td>\n",
              "      <td>CA</td>\n",
              "      <td>3</td>\n",
              "      <td>2</td>\n",
              "      <td>0</td>\n",
              "      <td>Residential</td>\n",
              "      <td>Thu May 15 00:00:00 EDT 2008</td>\n",
              "      <td>224500</td>\n",
              "      <td>38.697570</td>\n",
              "      <td>-120.995739</td>\n",
              "    </tr>\n",
              "  </tbody>\n",
              "</table>\n",
              "<p>171 rows × 12 columns</p>\n",
              "</div>"
            ],
            "text/plain": [
              "                       street             city  ...   latitude   longitude\n",
              "73              17 SERASPI CT       SACRAMENTO  ...  38.631481 -121.501880\n",
              "89           2866 KARITSA AVE       SACRAMENTO  ...  38.626671 -121.525970\n",
              "100     12209 CONSERVANCY WAY   RANCHO CORDOVA  ...  38.553867 -121.219141\n",
              "121       5337 DUSTY ROSE WAY   RANCHO CORDOVA  ...  38.528575 -121.228600\n",
              "126       2115 SMOKESTACK WAY       SACRAMENTO  ...  38.602416 -121.542965\n",
              "..                        ...              ...  ...        ...         ...\n",
              "934  1550 TOPANGA LN Unit 207          LINCOLN  ...  38.884170 -121.270222\n",
              "947     1525 PENNSYLVANIA AVE  WEST SACRAMENTO  ...  38.569943 -121.527539\n",
              "966          9197 CORTINA CIR        ROSEVILLE  ...  38.793152 -121.290025\n",
              "970             3557 SODA WAY       SACRAMENTO  ...  38.631026 -121.501879\n",
              "973      2181 WINTERHAVEN CIR     CAMERON PARK  ...  38.697570 -120.995739\n",
              "\n",
              "[171 rows x 12 columns]"
            ]
          },
          "metadata": {
            "tags": []
          },
          "execution_count": 31
        }
      ]
    },
    {
      "cell_type": "code",
      "metadata": {
        "id": "56yN89q2Xd3w",
        "colab": {
          "base_uri": "https://localhost:8080/",
          "height": 203
        },
        "outputId": "6995703e-f0bb-4601-9622-12d059bd6246"
      },
      "source": [
        "# ANSWER\n",
        "house_csv.head()"
      ],
      "execution_count": 6,
      "outputs": [
        {
          "output_type": "execute_result",
          "data": {
            "text/html": [
              "<div>\n",
              "<style scoped>\n",
              "    .dataframe tbody tr th:only-of-type {\n",
              "        vertical-align: middle;\n",
              "    }\n",
              "\n",
              "    .dataframe tbody tr th {\n",
              "        vertical-align: top;\n",
              "    }\n",
              "\n",
              "    .dataframe thead th {\n",
              "        text-align: right;\n",
              "    }\n",
              "</style>\n",
              "<table border=\"1\" class=\"dataframe\">\n",
              "  <thead>\n",
              "    <tr style=\"text-align: right;\">\n",
              "      <th></th>\n",
              "      <th>street</th>\n",
              "      <th>city</th>\n",
              "      <th>zip</th>\n",
              "      <th>state</th>\n",
              "      <th>beds</th>\n",
              "      <th>baths</th>\n",
              "      <th>sq__ft</th>\n",
              "      <th>type</th>\n",
              "      <th>sale_date</th>\n",
              "      <th>price</th>\n",
              "      <th>latitude</th>\n",
              "      <th>longitude</th>\n",
              "    </tr>\n",
              "  </thead>\n",
              "  <tbody>\n",
              "    <tr>\n",
              "      <th>0</th>\n",
              "      <td>3526 HIGH ST</td>\n",
              "      <td>SACRAMENTO</td>\n",
              "      <td>95838</td>\n",
              "      <td>CA</td>\n",
              "      <td>2</td>\n",
              "      <td>1</td>\n",
              "      <td>836</td>\n",
              "      <td>Residential</td>\n",
              "      <td>Wed May 21 00:00:00 EDT 2008</td>\n",
              "      <td>59222</td>\n",
              "      <td>38.631913</td>\n",
              "      <td>-121.434879</td>\n",
              "    </tr>\n",
              "    <tr>\n",
              "      <th>1</th>\n",
              "      <td>51 OMAHA CT</td>\n",
              "      <td>SACRAMENTO</td>\n",
              "      <td>95823</td>\n",
              "      <td>CA</td>\n",
              "      <td>3</td>\n",
              "      <td>1</td>\n",
              "      <td>1167</td>\n",
              "      <td>Residential</td>\n",
              "      <td>Wed May 21 00:00:00 EDT 2008</td>\n",
              "      <td>68212</td>\n",
              "      <td>38.478902</td>\n",
              "      <td>-121.431028</td>\n",
              "    </tr>\n",
              "    <tr>\n",
              "      <th>2</th>\n",
              "      <td>2796 BRANCH ST</td>\n",
              "      <td>SACRAMENTO</td>\n",
              "      <td>95815</td>\n",
              "      <td>CA</td>\n",
              "      <td>2</td>\n",
              "      <td>1</td>\n",
              "      <td>796</td>\n",
              "      <td>Residential</td>\n",
              "      <td>Wed May 21 00:00:00 EDT 2008</td>\n",
              "      <td>68880</td>\n",
              "      <td>38.618305</td>\n",
              "      <td>-121.443839</td>\n",
              "    </tr>\n",
              "    <tr>\n",
              "      <th>3</th>\n",
              "      <td>2805 JANETTE WAY</td>\n",
              "      <td>SACRAMENTO</td>\n",
              "      <td>95815</td>\n",
              "      <td>CA</td>\n",
              "      <td>2</td>\n",
              "      <td>1</td>\n",
              "      <td>852</td>\n",
              "      <td>Residential</td>\n",
              "      <td>Wed May 21 00:00:00 EDT 2008</td>\n",
              "      <td>69307</td>\n",
              "      <td>38.616835</td>\n",
              "      <td>-121.439146</td>\n",
              "    </tr>\n",
              "    <tr>\n",
              "      <th>4</th>\n",
              "      <td>6001 MCMAHON DR</td>\n",
              "      <td>SACRAMENTO</td>\n",
              "      <td>95824</td>\n",
              "      <td>CA</td>\n",
              "      <td>2</td>\n",
              "      <td>1</td>\n",
              "      <td>797</td>\n",
              "      <td>Residential</td>\n",
              "      <td>Wed May 21 00:00:00 EDT 2008</td>\n",
              "      <td>81900</td>\n",
              "      <td>38.519470</td>\n",
              "      <td>-121.435768</td>\n",
              "    </tr>\n",
              "  </tbody>\n",
              "</table>\n",
              "</div>"
            ],
            "text/plain": [
              "             street        city    zip  ...  price   latitude   longitude\n",
              "0      3526 HIGH ST  SACRAMENTO  95838  ...  59222  38.631913 -121.434879\n",
              "1       51 OMAHA CT  SACRAMENTO  95823  ...  68212  38.478902 -121.431028\n",
              "2    2796 BRANCH ST  SACRAMENTO  95815  ...  68880  38.618305 -121.443839\n",
              "3  2805 JANETTE WAY  SACRAMENTO  95815  ...  69307  38.616835 -121.439146\n",
              "4   6001 MCMAHON DR  SACRAMENTO  95824  ...  81900  38.519470 -121.435768\n",
              "\n",
              "[5 rows x 12 columns]"
            ]
          },
          "metadata": {
            "tags": []
          },
          "execution_count": 6
        }
      ]
    },
    {
      "cell_type": "markdown",
      "metadata": {
        "id": "7qy-ZmGEXd3z"
      },
      "source": [
        "#### 2.2 List all possible variables which might be Predictor variable."
      ]
    },
    {
      "cell_type": "code",
      "metadata": {
        "id": "nfAq28P_Xd30",
        "colab": {
          "base_uri": "https://localhost:8080/",
          "height": 178
        },
        "outputId": "361f8903-2c26-47a4-b4f1-47f5e150bc2b"
      },
      "source": [
        "# ANSWER\n",
        "beds, baths, sq_ft, type, zip, state, city"
      ],
      "execution_count": 8,
      "outputs": [
        {
          "output_type": "error",
          "ename": "NameError",
          "evalue": "ignored",
          "traceback": [
            "\u001b[0;31m---------------------------------------------------------------------------\u001b[0m",
            "\u001b[0;31mNameError\u001b[0m                                 Traceback (most recent call last)",
            "\u001b[0;32m<ipython-input-8-bf2704d73394>\u001b[0m in \u001b[0;36m<module>\u001b[0;34m()\u001b[0m\n\u001b[1;32m      1\u001b[0m \u001b[0;31m# ANSWER\u001b[0m\u001b[0;34m\u001b[0m\u001b[0;34m\u001b[0m\u001b[0;34m\u001b[0m\u001b[0m\n\u001b[0;32m----> 2\u001b[0;31m \u001b[0mbeds\u001b[0m\u001b[0;34m,\u001b[0m \u001b[0mbaths\u001b[0m\u001b[0;34m,\u001b[0m \u001b[0msq_ft\u001b[0m\u001b[0;34m,\u001b[0m \u001b[0mtype\u001b[0m\u001b[0;34m,\u001b[0m \u001b[0mzip\u001b[0m\u001b[0;34m,\u001b[0m \u001b[0mstate\u001b[0m\u001b[0;34m,\u001b[0m \u001b[0mcity\u001b[0m\u001b[0;34m\u001b[0m\u001b[0;34m\u001b[0m\u001b[0m\n\u001b[0m",
            "\u001b[0;31mNameError\u001b[0m: name 'beds' is not defined"
          ]
        }
      ]
    },
    {
      "cell_type": "markdown",
      "metadata": {
        "id": "yFZkIpXhXd32"
      },
      "source": [
        "#### 2.3 Find correlation between variables\n",
        "\n",
        "Find correlation between variables. Which is the best predictor? Why? State your reason."
      ]
    },
    {
      "cell_type": "code",
      "metadata": {
        "id": "Nc8FHVnjXd32",
        "colab": {
          "base_uri": "https://localhost:8080/"
        },
        "outputId": "f8a23bd6-6b4d-4951-c836-da2da67e9ca6"
      },
      "source": [
        "# ANSWER\n",
        "#zip, beds, baths, sq_ft, price, latitude, longitude\n",
        "house_csv.corr(), df.corr()"
      ],
      "execution_count": 32,
      "outputs": [
        {
          "output_type": "execute_result",
          "data": {
            "text/plain": [
              "(                zip      beds     baths  ...     price  latitude  longitude\n",
              " zip        1.000000  0.125319  0.069165  ... -0.093353 -0.290389  -0.539904\n",
              " beds       0.125319  1.000000  0.839650  ...  0.342024 -0.291307  -0.053993\n",
              " baths      0.069165  0.839650  1.000000  ...  0.416208 -0.235792   0.016582\n",
              " sq__ft     0.130108  0.684041  0.665690  ...  0.333897 -0.383274  -0.177742\n",
              " price     -0.093353  0.342024  0.416208  ...  1.000000 -0.039573   0.284485\n",
              " latitude  -0.290389 -0.291307 -0.235792  ... -0.039573  1.000000   0.387925\n",
              " longitude -0.539904 -0.053993  0.016582  ...  0.284485  0.387925   1.000000\n",
              " \n",
              " [7 rows x 7 columns],\n",
              "                 zip      beds     baths  ...     price  latitude  longitude\n",
              " zip        1.000000 -0.072673 -0.103332  ... -0.219591 -0.134134  -0.562983\n",
              " beds      -0.072673  1.000000  0.654746  ...  0.441988 -0.107440   0.056713\n",
              " baths     -0.103332  0.654746  1.000000  ...  0.501820 -0.081249   0.108081\n",
              " sq__ft    -0.101560  0.695710  0.724631  ...  0.693708 -0.103287   0.135809\n",
              " price     -0.219591  0.441988  0.501820  ...  1.000000  0.058475   0.278312\n",
              " latitude  -0.134134 -0.107440 -0.081249  ...  0.058475  1.000000   0.344431\n",
              " longitude -0.562983  0.056713  0.108081  ...  0.278312  0.344431   1.000000\n",
              " \n",
              " [7 rows x 7 columns])"
            ]
          },
          "metadata": {
            "tags": []
          },
          "execution_count": 32
        }
      ]
    },
    {
      "cell_type": "markdown",
      "metadata": {
        "id": "1vop_P66Xd35"
      },
      "source": [
        "#### 2.4 What is the simplest way to predict price\n",
        "\n",
        "So we have information for 985 houses. What is the easiest way to predict price of a house?"
      ]
    },
    {
      "cell_type": "code",
      "metadata": {
        "id": "p0xBzE9iXd35"
      },
      "source": [
        "# ANSWER\n",
        "sq_ft"
      ],
      "execution_count": null,
      "outputs": []
    },
    {
      "cell_type": "markdown",
      "metadata": {
        "id": "8uRWVPNuXd38"
      },
      "source": [
        "#### 2.5 Find Resudals\n",
        "\n",
        "Find difference between actual value and predicted value. Use absolute value."
      ]
    },
    {
      "cell_type": "code",
      "metadata": {
        "id": "PBzfNQsGXd39",
        "colab": {
          "base_uri": "https://localhost:8080/",
          "height": 178
        },
        "outputId": "044018b4-d658-4714-b1d5-f7c7e0c85c14"
      },
      "source": [
        "# ANSWER\n",
        "np.abs(house_csv)"
      ],
      "execution_count": 30,
      "outputs": [
        {
          "output_type": "error",
          "ename": "TypeError",
          "evalue": "ignored",
          "traceback": [
            "\u001b[0;31m---------------------------------------------------------------------------\u001b[0m",
            "\u001b[0;31mTypeError\u001b[0m                                 Traceback (most recent call last)",
            "\u001b[0;32m<ipython-input-30-303d72bec1b1>\u001b[0m in \u001b[0;36m<module>\u001b[0;34m()\u001b[0m\n\u001b[1;32m      1\u001b[0m \u001b[0;31m# ANSWER\u001b[0m\u001b[0;34m\u001b[0m\u001b[0;34m\u001b[0m\u001b[0;34m\u001b[0m\u001b[0m\n\u001b[0;32m----> 2\u001b[0;31m \u001b[0mnp\u001b[0m\u001b[0;34m.\u001b[0m\u001b[0mabs\u001b[0m\u001b[0;34m(\u001b[0m\u001b[0mhouse_csv\u001b[0m\u001b[0;34m)\u001b[0m\u001b[0;34m\u001b[0m\u001b[0;34m\u001b[0m\u001b[0m\n\u001b[0m",
            "\u001b[0;31mTypeError\u001b[0m: bad operand type for abs(): 'str'"
          ]
        }
      ]
    },
    {
      "cell_type": "markdown",
      "metadata": {
        "id": "5P61MoAsXd4B"
      },
      "source": [
        "#### 2.6  Predict Using Linear Regression\n",
        "\n",
        "[Simple Linear Regression](https://en.wikipedia.org/wiki/Simple_linear_regression#Fitting_the_regression_line)\n",
        "\n",
        "### $$\\hat{y} = \\beta_0 + \\beta_1 x$$\n",
        "\n",
        "> ### $$ \\beta_1 = \\frac{\\sum_{i=1}^n (y_i - \\bar{y} ) (x_i - \\bar{x} )}{\\sum_{i=1}^n (x_i - \\bar{x})^2} $$\n",
        "\n",
        "and\n",
        "\n",
        "> ### $$ \\beta_0 = \\bar{y} - \\beta_1\\bar{x} $$\n",
        "\n",
        "Given variables:\n",
        "- $\\bar{y}$ : the sample mean of observed values $Y$\n",
        "- $\\bar{x}$ : the sample mean of observed values $X$"
      ]
    },
    {
      "cell_type": "markdown",
      "metadata": {
        "id": "drP_xuAKXd4C"
      },
      "source": [
        "##### 2.7 Define X, Y\n",
        "\n",
        "- X = Predictor Variable \n",
        "- Y = Target Variable"
      ]
    },
    {
      "cell_type": "markdown",
      "metadata": {
        "id": "JkV3m-EqXd4F"
      },
      "source": [
        "##### 2.7.A Calculate beta_1\n",
        "\n",
        " ### $$ \\beta_1 = \\frac{\\sum_{i=1}^n (y_i - \\bar{y} ) (x_i - \\bar{x} )}{\\sum_{i=1}^n (x_i - \\bar{x})^2} $$"
      ]
    },
    {
      "cell_type": "code",
      "metadata": {
        "id": "lcI1IAmXXd4G",
        "colab": {
          "base_uri": "https://localhost:8080/"
        },
        "outputId": "97b6a9fa-fa02-4e70-ccdb-ccf9bbec08b9"
      },
      "source": [
        "# ANSWER\n",
        "price_mean = df.price.mean()\n",
        "sqft_mean = df.sq__ft.mean()\n",
        "\n",
        "num1 = (df.price - price_mean) * (df.sq__ft - sqft_mean)\n",
        "num2 = (df.sq__ft - sqft_mean) ** 2\n",
        "num1_sum = num1.sum()\n",
        "num2_sum = num2.sum()\n",
        "beta1 = num1_sum / num2_sum\n",
        "beta1\n"
      ],
      "execution_count": 34,
      "outputs": [
        {
          "output_type": "execute_result",
          "data": {
            "text/plain": [
              "125.21648667984462"
            ]
          },
          "metadata": {
            "tags": []
          },
          "execution_count": 34
        }
      ]
    },
    {
      "cell_type": "markdown",
      "metadata": {
        "id": "MoA9ez44Xd4I"
      },
      "source": [
        "##### 2.7.B Calculate beta_0"
      ]
    },
    {
      "cell_type": "markdown",
      "metadata": {
        "id": "V7fug5lMXd4K"
      },
      "source": [
        "### $$ \\beta_0 = \\bar{y} - \\beta_1\\bar{x} $$"
      ]
    },
    {
      "cell_type": "code",
      "metadata": {
        "id": "bcu8ZhFLXd4L",
        "colab": {
          "base_uri": "https://localhost:8080/"
        },
        "outputId": "96b88c93-dce0-4874-fbe6-26f78775ab9d"
      },
      "source": [
        "# ANSWER\n",
        "beta0 = price_mean - beta1 * sqft_mean\n",
        "beta0"
      ],
      "execution_count": 36,
      "outputs": [
        {
          "output_type": "execute_result",
          "data": {
            "text/plain": [
              "30210.633866918943"
            ]
          },
          "metadata": {
            "tags": []
          },
          "execution_count": 36
        }
      ]
    },
    {
      "cell_type": "markdown",
      "metadata": {
        "id": "Z9EUGv1KXd4N"
      },
      "source": [
        "##### 2.7.C Find Yhat (Predicted Value Using Beta 0 and Beta 1)"
      ]
    },
    {
      "cell_type": "markdown",
      "metadata": {
        "id": "gSRcDL57Xd4O"
      },
      "source": [
        "### $$\\hat{y} = \\beta_0 + \\beta_1 x$$"
      ]
    },
    {
      "cell_type": "code",
      "metadata": {
        "id": "lGkoNedwXd4P",
        "colab": {
          "base_uri": "https://localhost:8080/"
        },
        "outputId": "d0a3c095-d1d1-4be8-bca3-a29e141b63ae"
      },
      "source": [
        "# ANSWER\n",
        "y = beta0 + beta1*df.sq__ft\n",
        "y"
      ],
      "execution_count": 37,
      "outputs": [
        {
          "output_type": "execute_result",
          "data": {
            "text/plain": [
              "0      134891.616731\n",
              "1      176338.273822\n",
              "2      129882.957264\n",
              "3      136895.080518\n",
              "4      130008.173751\n",
              "           ...      \n",
              "980    315704.223497\n",
              "981    215155.384693\n",
              "982    182473.881670\n",
              "983    241200.413922\n",
              "984    200755.488725\n",
              "Name: sq__ft, Length: 814, dtype: float64"
            ]
          },
          "metadata": {
            "tags": []
          },
          "execution_count": 37
        }
      ]
    },
    {
      "cell_type": "markdown",
      "metadata": {
        "id": "h1D-rddfXd4R"
      },
      "source": [
        "##### 2.7.D Find Residuals"
      ]
    },
    {
      "cell_type": "markdown",
      "metadata": {
        "id": "2cha8XAQXd4S"
      },
      "source": [
        "### $$ \\text{residual}_i = y_i - \\hat{y}_i$$"
      ]
    },
    {
      "cell_type": "code",
      "metadata": {
        "id": "dLZgRjbGXd4S",
        "colab": {
          "base_uri": "https://localhost:8080/"
        },
        "outputId": "d1b632f3-cf7a-4bb1-888b-edaf3b86524b"
      },
      "source": [
        "# ANSWER\n",
        "resid = df.price - y\n",
        "resid\n"
      ],
      "execution_count": 41,
      "outputs": [
        {
          "output_type": "execute_result",
          "data": {
            "text/plain": [
              "0      -75669.616731\n",
              "1     -108126.273822\n",
              "2      -61002.957264\n",
              "3      -67588.080518\n",
              "4      -48108.173751\n",
              "           ...      \n",
              "980    -83279.223497\n",
              "981     18844.615307\n",
              "982     52526.118330\n",
              "983     -5899.413922\n",
              "984     34982.511275\n",
              "Length: 814, dtype: float64"
            ]
          },
          "metadata": {
            "tags": []
          },
          "execution_count": 41
        }
      ]
    },
    {
      "cell_type": "markdown",
      "metadata": {
        "id": "bpXEda_uXd4U"
      },
      "source": [
        "##### 2.7.E Find R-Square\n",
        "\n",
        "The coefficient $R^2$ is defined as $$ R^2 = 1 - \\frac{SS_{res}}{SS_{tot}} $$, where $$ SS_{res} $$ is the residual sum of squares $$ SS_{res} = \\sum_{i=1}^n \\left(y_i - \\hat{y}_i\\right)^2 $$ and $$ SS_{res} $$ is the total sum of squares $$ SS_{tot} = \\sum_{i=1}^n \\left(y_i - \\bar{y}\\right)^2 $$\n",
        "\n",
        "The best possible score is 1.0 and it can be negative (because the model can be arbitrarily worse).\n",
        "\n",
        "**Write a function to calculate R- Square value.**"
      ]
    },
    {
      "cell_type": "markdown",
      "metadata": {
        "id": "1RamI9LTXd4V"
      },
      "source": [
        "The total sum of squares:\n",
        "\n",
        "### $$ SS_{tot} = \\sum_{i=1}^n \\left(y_i - \\bar{y}\\right)^2 $$\n",
        "\n",
        "The residual sum of squares:\n",
        "\n",
        "### $$ SS_{res} = \\sum_{i=1}^n \\left(y_i - \\hat{y}_i\\right)^2 $$\n",
        "\n",
        "$R^2$:\n",
        "\n",
        "### $$ R^2 = 1 - \\frac{SS_{res}}{SS_{tot}} $$"
      ]
    },
    {
      "cell_type": "code",
      "metadata": {
        "id": "vmxloC2RXd4W"
      },
      "source": [
        "# ANSWER\n",
        "def get_b1(y_arr,x_arr):\n",
        "    y_mean = y_arr.mean()\n",
        "    x_mean = x_arr.mean()\n",
        "    numer_arr = (y_arr - y_mean) * (x_arr - x_mean)\n",
        "    denom_arr = (x_arr - x_mean)**2\n",
        "    b1 = numer_arr.sum() / denom_arr.sum()\n",
        "    return b1\n",
        "\n",
        "def get_b0(y_arr,b1,x_mean):\n",
        "    b0 = y_mean - b1 * x_mean\n",
        "    return b0\n",
        "\n",
        "def get_yhat_arr(b0,b1,x_arr):\n",
        "    yhat_arr = b0 + b1 * x_arr\n",
        "    return yhat_arr\n",
        "\n",
        "def calculate_r_squared(y_arr,x_arr):\n",
        "    b1 = get_b1(y_arr,x_arr)\n",
        "    x_mean = x_arr.mean()\n",
        "    y_mean = y_arr.mean()\n",
        "    b0 = get_b0(y_arr,b1,x_mean)\n",
        "    yhat_arr = get_yhat_arr(b0,b1,x_arr)\n",
        "    SStot_arr = (y_arr - y_mean)**2\n",
        "    SStot = SStot_arr.sum()\n",
        "    SSres_arr = (y_arr - yhat_arr)**2\n",
        "    SSres = SSres_arr.sum()\n",
        "    r_squared = 1 - (SSres/SStot)\n",
        "    return r_squared\n",
        "\n",
        "def get_residual_arr(y_arr,x_arr):\n",
        "    b1 = get_b1(y_arr,x_arr)\n",
        "    x_mean = x_arr.mean()\n",
        "    b0 = get_b0(y_arr,b1,x_mean)\n",
        "    yhat_arr = get_yhat_arr(b0,b1,x_arr)\n",
        "    residual_arr = y_arr - yhat_arr \n",
        "    return residual_arr"
      ],
      "execution_count": 42,
      "outputs": []
    },
    {
      "cell_type": "markdown",
      "metadata": {
        "id": "7xV-CEKcXd4a"
      },
      "source": [
        "##### 2.7.F [BONUS] Draw Plot of Predicted Line"
      ]
    },
    {
      "cell_type": "code",
      "metadata": {
        "id": "P4JKmHWSXd4a",
        "colab": {
          "base_uri": "https://localhost:8080/",
          "height": 609
        },
        "outputId": "c0539c3b-e237-4193-a840-f93baca20aea"
      },
      "source": [
        "# ANSWER\n",
        "plt.figure(figsize=(12,10))\n",
        "plt.scatter(df.sq__ft, df.price, alpha=0.3)\n",
        "plt.plot(df.sq__ft, y, color='blue')\n"
      ],
      "execution_count": 48,
      "outputs": [
        {
          "output_type": "execute_result",
          "data": {
            "text/plain": [
              "[<matplotlib.lines.Line2D at 0x7fc11af3a8d0>]"
            ]
          },
          "metadata": {
            "tags": []
          },
          "execution_count": 48
        },
        {
          "output_type": "display_data",
          "data": {
            "image/png": "[encoded data removed]",
            "text/plain": [
              "<Figure size 864x720 with 1 Axes>"
            ]
          },
          "metadata": {
            "tags": [],
            "needs_background": "light"
          }
        }
      ]
    },
    {
      "cell_type": "markdown",
      "metadata": {
        "id": "oE45Z1qaXd4f"
      },
      "source": [
        "##### 2.7.G [BONUS] Draw Plot of Predicted Line With Resudals"
      ]
    },
    {
      "cell_type": "code",
      "metadata": {
        "id": "yBLDh6cAXd4g",
        "colab": {
          "base_uri": "https://localhost:8080/",
          "height": 623
        },
        "outputId": "0af65b76-8294-4ba1-cdc4-f2150175c762"
      },
      "source": [
        "# ANSWER\n",
        "plt.figure(figsize=(12,10))\n",
        "sns.regplot(x=\"sq__ft\",y=\"price\",data=df,color='teal')\n"
      ],
      "execution_count": 49,
      "outputs": [
        {
          "output_type": "execute_result",
          "data": {
            "text/plain": [
              "<matplotlib.axes._subplots.AxesSubplot at 0x7fc11ca07a90>"
            ]
          },
          "metadata": {
            "tags": []
          },
          "execution_count": 49
        },
        {
          "output_type": "display_data",
          "data": {
            "image/png": "[encoded data removed]",
            "text/plain": [
              "<Figure size 864x720 with 1 Axes>"
            ]
          },
          "metadata": {
            "tags": [],
            "needs_background": "light"
          }
        }
      ]
    },
    {
      "cell_type": "markdown",
      "metadata": {
        "id": "NTjW6xxFXd4i"
      },
      "source": [
        "### 3. Predict House Price\n",
        "\n",
        "Let's assume we have information of following house:\n",
        "\n",
        "- street:\t1140 EDMONTON DR\n",
        "- city:\tSACRAMENTO\n",
        "- zip:\t95833\n",
        "- state:\tCA\n",
        "- beds:\t3\n",
        "- baths:\t2\n",
        "- sq__ft:\t1204\n",
        "- type:\tResidential\n",
        "\n",
        "**Predict the price of this house.**"
      ]
    },
    {
      "cell_type": "code",
      "metadata": {
        "id": "mz5Lx5jGXd4j",
        "colab": {
          "base_uri": "https://localhost:8080/"
        },
        "outputId": "4f25a2f0-b8d1-4f57-9282-a399c3fc8e0a"
      },
      "source": [
        "# ANSWER\n",
        "predprice = beta0 + beta1 *1204\n",
        "predprice"
      ],
      "execution_count": 50,
      "outputs": [
        {
          "output_type": "execute_result",
          "data": {
            "text/plain": [
              "180971.28382945186"
            ]
          },
          "metadata": {
            "tags": []
          },
          "execution_count": 50
        }
      ]
    },
    {
      "cell_type": "markdown",
      "metadata": {
        "id": "W0FUjKlcl-NJ"
      },
      "source": [
        "\n",
        "\n",
        "---\n",
        "\n",
        "\n",
        "\n",
        "---\n",
        "\n",
        "\n",
        "\n",
        "> > > > > > > > > © 2021 Institute of Data\n",
        "\n",
        "\n",
        "---\n",
        "\n",
        "\n",
        "\n",
        "---\n",
        "\n",
        "\n",
        "\n"
      ]
    }
  ]
}