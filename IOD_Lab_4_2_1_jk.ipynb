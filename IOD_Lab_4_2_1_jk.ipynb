{
  "nbformat": 4,
  "nbformat_minor": 0,
  "metadata": {
    "colab": {
      "name": "IOD_Lab 4.2.1_jk.ipynb",
      "provenance": [],
      "collapsed_sections": []
    },
    "kernelspec": {
      "display_name": "Python 3",
      "language": "python",
      "name": "python3"
    },
    "language_info": {
      "codemirror_mode": {
        "name": "ipython",
        "version": 3
      },
      "file_extension": ".py",
      "mimetype": "text/x-python",
      "name": "python",
      "nbconvert_exporter": "python",
      "pygments_lexer": "ipython3",
      "version": "3.8.5"
    }
  },
  "cells": [
    {
      "cell_type": "markdown",
      "metadata": {
        "id": "7dsAxdi0XF5U"
      },
      "source": [
        "<div>\n",
        "<img src=https://www.institutedata.com/wp-content/uploads/2019/10/iod_h_tp_primary_c.svg width=\"300\">\n",
        "</div>"
      ]
    },
    {
      "cell_type": "markdown",
      "metadata": {
        "id": "UWARFzbRXF5b"
      },
      "source": [
        "## Lab 4.2.1: Feature Selection"
      ]
    },
    {
      "cell_type": "markdown",
      "metadata": {
        "id": "gpNkmk2YXF5d"
      },
      "source": [
        "### 1. Load & Explore Data"
      ]
    },
    {
      "cell_type": "code",
      "metadata": {
        "id": "J0BM6vo-XF5f"
      },
      "source": [
        "import pandas as pd\n",
        "import numpy as np\n",
        "import matplotlib.pyplot as plt\n",
        "import seaborn as sns\n",
        "\n",
        "%matplotlib inline"
      ],
      "execution_count": 2,
      "outputs": []
    },
    {
      "cell_type": "markdown",
      "metadata": {
        "id": "FACR8kagXF5p"
      },
      "source": [
        "#### 1.1 Load Data"
      ]
    },
    {
      "cell_type": "code",
      "metadata": {
        "id": "SmCNaDCfXF5q"
      },
      "source": [
        "# Read CSV\n",
        "wine_csv = pd.read_csv('winequality_merged.csv')"
      ],
      "execution_count": 8,
      "outputs": []
    },
    {
      "cell_type": "markdown",
      "metadata": {
        "id": "scteyINnXF5s"
      },
      "source": [
        "#### 1.2 Explore Data (Exploratory Data Analysis)"
      ]
    },
    {
      "cell_type": "code",
      "metadata": {
        "colab": {
          "base_uri": "https://localhost:8080/"
        },
        "id": "u-Q3RTtuXF5t",
        "outputId": "33857f4e-195f-49aa-9c0a-e20d969edd8c"
      },
      "source": [
        "# ANSWER\n",
        "wine_csv.info()"
      ],
      "execution_count": 15,
      "outputs": [
        {
          "output_type": "stream",
          "text": [
            "<class 'pandas.core.frame.DataFrame'>\n",
            "RangeIndex: 6497 entries, 0 to 6496\n",
            "Data columns (total 13 columns):\n",
            " #   Column                Non-Null Count  Dtype  \n",
            "---  ------                --------------  -----  \n",
            " 0   fixed acidity         6497 non-null   float64\n",
            " 1   volatile acidity      6497 non-null   float64\n",
            " 2   citric acid           6497 non-null   float64\n",
            " 3   residual sugar        6497 non-null   float64\n",
            " 4   chlorides             6497 non-null   float64\n",
            " 5   free sulfur dioxide   6497 non-null   float64\n",
            " 6   total sulfur dioxide  6497 non-null   float64\n",
            " 7   density               6497 non-null   float64\n",
            " 8   pH                    6497 non-null   float64\n",
            " 9   sulphates             6497 non-null   float64\n",
            " 10  alcohol               6497 non-null   float64\n",
            " 11  quality               6497 non-null   int64  \n",
            " 12  red_wine              6497 non-null   int64  \n",
            "dtypes: float64(11), int64(2)\n",
            "memory usage: 660.0 KB\n"
          ],
          "name": "stdout"
        }
      ]
    },
    {
      "cell_type": "code",
      "metadata": {
        "colab": {
          "base_uri": "https://localhost:8080/",
          "height": 349
        },
        "id": "OEnD6GFNdR6K",
        "outputId": "b567558e-2824-44dd-fcee-ca5fc4265245"
      },
      "source": [
        "wine_csv.describe()"
      ],
      "execution_count": 11,
      "outputs": [
        {
          "output_type": "execute_result",
          "data": {
            "text/html": [
              "<div>\n",
              "<style scoped>\n",
              "    .dataframe tbody tr th:only-of-type {\n",
              "        vertical-align: middle;\n",
              "    }\n",
              "\n",
              "    .dataframe tbody tr th {\n",
              "        vertical-align: top;\n",
              "    }\n",
              "\n",
              "    .dataframe thead th {\n",
              "        text-align: right;\n",
              "    }\n",
              "</style>\n",
              "<table border=\"1\" class=\"dataframe\">\n",
              "  <thead>\n",
              "    <tr style=\"text-align: right;\">\n",
              "      <th></th>\n",
              "      <th>fixed acidity</th>\n",
              "      <th>volatile acidity</th>\n",
              "      <th>citric acid</th>\n",
              "      <th>residual sugar</th>\n",
              "      <th>chlorides</th>\n",
              "      <th>free sulfur dioxide</th>\n",
              "      <th>total sulfur dioxide</th>\n",
              "      <th>density</th>\n",
              "      <th>pH</th>\n",
              "      <th>sulphates</th>\n",
              "      <th>alcohol</th>\n",
              "      <th>quality</th>\n",
              "      <th>red_wine</th>\n",
              "    </tr>\n",
              "  </thead>\n",
              "  <tbody>\n",
              "    <tr>\n",
              "      <th>count</th>\n",
              "      <td>6497.000000</td>\n",
              "      <td>6497.000000</td>\n",
              "      <td>6497.000000</td>\n",
              "      <td>6497.000000</td>\n",
              "      <td>6497.000000</td>\n",
              "      <td>6497.000000</td>\n",
              "      <td>6497.000000</td>\n",
              "      <td>6497.000000</td>\n",
              "      <td>6497.000000</td>\n",
              "      <td>6497.000000</td>\n",
              "      <td>6497.000000</td>\n",
              "      <td>6497.000000</td>\n",
              "      <td>6497.000000</td>\n",
              "    </tr>\n",
              "    <tr>\n",
              "      <th>mean</th>\n",
              "      <td>7.215307</td>\n",
              "      <td>0.339666</td>\n",
              "      <td>0.318633</td>\n",
              "      <td>5.443235</td>\n",
              "      <td>0.056034</td>\n",
              "      <td>30.525319</td>\n",
              "      <td>115.744574</td>\n",
              "      <td>0.994697</td>\n",
              "      <td>3.218501</td>\n",
              "      <td>0.531268</td>\n",
              "      <td>10.491801</td>\n",
              "      <td>5.818378</td>\n",
              "      <td>0.246114</td>\n",
              "    </tr>\n",
              "    <tr>\n",
              "      <th>std</th>\n",
              "      <td>1.296434</td>\n",
              "      <td>0.164636</td>\n",
              "      <td>0.145318</td>\n",
              "      <td>4.757804</td>\n",
              "      <td>0.035034</td>\n",
              "      <td>17.749400</td>\n",
              "      <td>56.521855</td>\n",
              "      <td>0.002999</td>\n",
              "      <td>0.160787</td>\n",
              "      <td>0.148806</td>\n",
              "      <td>1.192712</td>\n",
              "      <td>0.873255</td>\n",
              "      <td>0.430779</td>\n",
              "    </tr>\n",
              "    <tr>\n",
              "      <th>min</th>\n",
              "      <td>3.800000</td>\n",
              "      <td>0.080000</td>\n",
              "      <td>0.000000</td>\n",
              "      <td>0.600000</td>\n",
              "      <td>0.009000</td>\n",
              "      <td>1.000000</td>\n",
              "      <td>6.000000</td>\n",
              "      <td>0.987110</td>\n",
              "      <td>2.720000</td>\n",
              "      <td>0.220000</td>\n",
              "      <td>8.000000</td>\n",
              "      <td>3.000000</td>\n",
              "      <td>0.000000</td>\n",
              "    </tr>\n",
              "    <tr>\n",
              "      <th>25%</th>\n",
              "      <td>6.400000</td>\n",
              "      <td>0.230000</td>\n",
              "      <td>0.250000</td>\n",
              "      <td>1.800000</td>\n",
              "      <td>0.038000</td>\n",
              "      <td>17.000000</td>\n",
              "      <td>77.000000</td>\n",
              "      <td>0.992340</td>\n",
              "      <td>3.110000</td>\n",
              "      <td>0.430000</td>\n",
              "      <td>9.500000</td>\n",
              "      <td>5.000000</td>\n",
              "      <td>0.000000</td>\n",
              "    </tr>\n",
              "    <tr>\n",
              "      <th>50%</th>\n",
              "      <td>7.000000</td>\n",
              "      <td>0.290000</td>\n",
              "      <td>0.310000</td>\n",
              "      <td>3.000000</td>\n",
              "      <td>0.047000</td>\n",
              "      <td>29.000000</td>\n",
              "      <td>118.000000</td>\n",
              "      <td>0.994890</td>\n",
              "      <td>3.210000</td>\n",
              "      <td>0.510000</td>\n",
              "      <td>10.300000</td>\n",
              "      <td>6.000000</td>\n",
              "      <td>0.000000</td>\n",
              "    </tr>\n",
              "    <tr>\n",
              "      <th>75%</th>\n",
              "      <td>7.700000</td>\n",
              "      <td>0.400000</td>\n",
              "      <td>0.390000</td>\n",
              "      <td>8.100000</td>\n",
              "      <td>0.065000</td>\n",
              "      <td>41.000000</td>\n",
              "      <td>156.000000</td>\n",
              "      <td>0.996990</td>\n",
              "      <td>3.320000</td>\n",
              "      <td>0.600000</td>\n",
              "      <td>11.300000</td>\n",
              "      <td>6.000000</td>\n",
              "      <td>0.000000</td>\n",
              "    </tr>\n",
              "    <tr>\n",
              "      <th>max</th>\n",
              "      <td>15.900000</td>\n",
              "      <td>1.580000</td>\n",
              "      <td>1.660000</td>\n",
              "      <td>65.800000</td>\n",
              "      <td>0.611000</td>\n",
              "      <td>289.000000</td>\n",
              "      <td>440.000000</td>\n",
              "      <td>1.038980</td>\n",
              "      <td>4.010000</td>\n",
              "      <td>2.000000</td>\n",
              "      <td>14.900000</td>\n",
              "      <td>9.000000</td>\n",
              "      <td>1.000000</td>\n",
              "    </tr>\n",
              "  </tbody>\n",
              "</table>\n",
              "</div>"
            ],
            "text/plain": [
              "       fixed acidity  volatile acidity  ...      quality     red_wine\n",
              "count    6497.000000       6497.000000  ...  6497.000000  6497.000000\n",
              "mean        7.215307          0.339666  ...     5.818378     0.246114\n",
              "std         1.296434          0.164636  ...     0.873255     0.430779\n",
              "min         3.800000          0.080000  ...     3.000000     0.000000\n",
              "25%         6.400000          0.230000  ...     5.000000     0.000000\n",
              "50%         7.000000          0.290000  ...     6.000000     0.000000\n",
              "75%         7.700000          0.400000  ...     6.000000     0.000000\n",
              "max        15.900000          1.580000  ...     9.000000     1.000000\n",
              "\n",
              "[8 rows x 13 columns]"
            ]
          },
          "metadata": {
            "tags": []
          },
          "execution_count": 11
        }
      ]
    },
    {
      "cell_type": "markdown",
      "metadata": {
        "id": "_xtHG5jGXF5v"
      },
      "source": [
        "### 2. Set Target Variable"
      ]
    },
    {
      "cell_type": "markdown",
      "metadata": {
        "id": "qkLJQxkSXF5y"
      },
      "source": [
        "Create a target variable for wine quality."
      ]
    },
    {
      "cell_type": "code",
      "metadata": {
        "id": "oaxrah6uXF51"
      },
      "source": [
        "# Target Variable\n",
        "wine_quality = wine_csv.quality"
      ],
      "execution_count": 33,
      "outputs": []
    },
    {
      "cell_type": "markdown",
      "metadata": {
        "id": "_tBqj2sqXF55"
      },
      "source": [
        "### 3. Set Predictor Variables"
      ]
    },
    {
      "cell_type": "markdown",
      "metadata": {
        "id": "lY5kp1kzXF56"
      },
      "source": [
        "Create a predictor matrix with variables of your choice. State your reason."
      ]
    },
    {
      "cell_type": "code",
      "metadata": {
        "colab": {
          "base_uri": "https://localhost:8080/"
        },
        "id": "E0DcG8vaXF56",
        "outputId": "6f40467e-9416-4e28-f59f-17747dc2a1fa"
      },
      "source": [
        "# ANSWER\n",
        "wine_corr=wine_csv.corr() # finding correlation of the dataset\n",
        "print(wine_corr.quality)  # correlation column with quality"
      ],
      "execution_count": 34,
      "outputs": [
        {
          "output_type": "stream",
          "text": [
            "fixed acidity          -0.076743\n",
            "volatile acidity       -0.265699\n",
            "citric acid             0.085532\n",
            "residual sugar         -0.036980\n",
            "chlorides              -0.200666\n",
            "free sulfur dioxide     0.055463\n",
            "total sulfur dioxide   -0.041385\n",
            "density                -0.305858\n",
            "pH                      0.019506\n",
            "sulphates               0.038485\n",
            "alcohol                 0.444319\n",
            "quality                 1.000000\n",
            "red_wine               -0.119323\n",
            "Name: quality, dtype: float64\n"
          ],
          "name": "stdout"
        }
      ]
    },
    {
      "cell_type": "code",
      "metadata": {
        "colab": {
          "base_uri": "https://localhost:8080/"
        },
        "id": "rtrYPVt2pxT4",
        "outputId": "6ece250a-73b6-435d-bc33-caacaa33eba3"
      },
      "source": [
        "wine_corr['quality_corr_abs'] = np.abs(wine_corr['quality']) # duplicating quality column with absolute number to a new column\n",
        "wine_corr.quality_corr_abs.sort_values(ascending=False)      # sorting and choose top 3 for correlation to quality "
      ],
      "execution_count": 35,
      "outputs": [
        {
          "output_type": "execute_result",
          "data": {
            "text/plain": [
              "quality                 1.000000\n",
              "alcohol                 0.444319\n",
              "density                 0.305858\n",
              "volatile acidity        0.265699\n",
              "chlorides               0.200666\n",
              "red_wine                0.119323\n",
              "citric acid             0.085532\n",
              "fixed acidity           0.076743\n",
              "free sulfur dioxide     0.055463\n",
              "total sulfur dioxide    0.041385\n",
              "sulphates               0.038485\n",
              "residual sugar          0.036980\n",
              "pH                      0.019506\n",
              "Name: quality_corr_abs, dtype: float64"
            ]
          },
          "metadata": {
            "tags": []
          },
          "execution_count": 35
        }
      ]
    },
    {
      "cell_type": "code",
      "metadata": {
        "colab": {
          "base_uri": "https://localhost:8080/",
          "height": 417
        },
        "id": "24D8kLsFsUje",
        "outputId": "4fbe5d9c-dabe-4ac1-bef4-b9f8330affdb"
      },
      "source": [
        "predictor_x = wine_csv[['alcohol', 'density','volatile acidity']] # creating the predictor variable\n",
        "predictor_x"
      ],
      "execution_count": 36,
      "outputs": [
        {
          "output_type": "execute_result",
          "data": {
            "text/html": [
              "<div>\n",
              "<style scoped>\n",
              "    .dataframe tbody tr th:only-of-type {\n",
              "        vertical-align: middle;\n",
              "    }\n",
              "\n",
              "    .dataframe tbody tr th {\n",
              "        vertical-align: top;\n",
              "    }\n",
              "\n",
              "    .dataframe thead th {\n",
              "        text-align: right;\n",
              "    }\n",
              "</style>\n",
              "<table border=\"1\" class=\"dataframe\">\n",
              "  <thead>\n",
              "    <tr style=\"text-align: right;\">\n",
              "      <th></th>\n",
              "      <th>alcohol</th>\n",
              "      <th>density</th>\n",
              "      <th>volatile acidity</th>\n",
              "    </tr>\n",
              "  </thead>\n",
              "  <tbody>\n",
              "    <tr>\n",
              "      <th>0</th>\n",
              "      <td>9.4</td>\n",
              "      <td>0.99780</td>\n",
              "      <td>0.70</td>\n",
              "    </tr>\n",
              "    <tr>\n",
              "      <th>1</th>\n",
              "      <td>9.8</td>\n",
              "      <td>0.99680</td>\n",
              "      <td>0.88</td>\n",
              "    </tr>\n",
              "    <tr>\n",
              "      <th>2</th>\n",
              "      <td>9.8</td>\n",
              "      <td>0.99700</td>\n",
              "      <td>0.76</td>\n",
              "    </tr>\n",
              "    <tr>\n",
              "      <th>3</th>\n",
              "      <td>9.8</td>\n",
              "      <td>0.99800</td>\n",
              "      <td>0.28</td>\n",
              "    </tr>\n",
              "    <tr>\n",
              "      <th>4</th>\n",
              "      <td>9.4</td>\n",
              "      <td>0.99780</td>\n",
              "      <td>0.70</td>\n",
              "    </tr>\n",
              "    <tr>\n",
              "      <th>...</th>\n",
              "      <td>...</td>\n",
              "      <td>...</td>\n",
              "      <td>...</td>\n",
              "    </tr>\n",
              "    <tr>\n",
              "      <th>6492</th>\n",
              "      <td>11.2</td>\n",
              "      <td>0.99114</td>\n",
              "      <td>0.21</td>\n",
              "    </tr>\n",
              "    <tr>\n",
              "      <th>6493</th>\n",
              "      <td>9.6</td>\n",
              "      <td>0.99490</td>\n",
              "      <td>0.32</td>\n",
              "    </tr>\n",
              "    <tr>\n",
              "      <th>6494</th>\n",
              "      <td>9.4</td>\n",
              "      <td>0.99254</td>\n",
              "      <td>0.24</td>\n",
              "    </tr>\n",
              "    <tr>\n",
              "      <th>6495</th>\n",
              "      <td>12.8</td>\n",
              "      <td>0.98869</td>\n",
              "      <td>0.29</td>\n",
              "    </tr>\n",
              "    <tr>\n",
              "      <th>6496</th>\n",
              "      <td>11.8</td>\n",
              "      <td>0.98941</td>\n",
              "      <td>0.21</td>\n",
              "    </tr>\n",
              "  </tbody>\n",
              "</table>\n",
              "<p>6497 rows × 3 columns</p>\n",
              "</div>"
            ],
            "text/plain": [
              "      alcohol  density  volatile acidity\n",
              "0         9.4  0.99780              0.70\n",
              "1         9.8  0.99680              0.88\n",
              "2         9.8  0.99700              0.76\n",
              "3         9.8  0.99800              0.28\n",
              "4         9.4  0.99780              0.70\n",
              "...       ...      ...               ...\n",
              "6492     11.2  0.99114              0.21\n",
              "6493      9.6  0.99490              0.32\n",
              "6494      9.4  0.99254              0.24\n",
              "6495     12.8  0.98869              0.29\n",
              "6496     11.8  0.98941              0.21\n",
              "\n",
              "[6497 rows x 3 columns]"
            ]
          },
          "metadata": {
            "tags": []
          },
          "execution_count": 36
        }
      ]
    },
    {
      "cell_type": "markdown",
      "metadata": {
        "id": "sUssbQORXF59"
      },
      "source": [
        "### 4. Using Linear Regression Create a Model and Test Score"
      ]
    },
    {
      "cell_type": "code",
      "metadata": {
        "id": "YVrOXac4XF59"
      },
      "source": [
        "from sklearn.linear_model import LinearRegression\n",
        "from sklearn.model_selection import train_test_split"
      ],
      "execution_count": 37,
      "outputs": []
    },
    {
      "cell_type": "code",
      "metadata": {
        "id": "PHMTdm2BXF6A"
      },
      "source": [
        "# Train-Test Split\n",
        "\n",
        "predictor_x_train, predictor_x_test, wine_quality_train, wine_quality_test = train_test_split(predictor_x, wine_quality, test_size=0.20, random_state=42)"
      ],
      "execution_count": 38,
      "outputs": []
    },
    {
      "cell_type": "code",
      "metadata": {
        "colab": {
          "base_uri": "https://localhost:8080/"
        },
        "id": "BgSMd_xaXF6F",
        "outputId": "dbed53a6-0480-4624-94cb-df536dd7821d"
      },
      "source": [
        "# Create a model for Linear Regression\n",
        "line_reg = LinearRegression()\n",
        "\n",
        "# Fit the model with the Training data\n",
        "line_reg.fit(predictor_x_train, wine_quality_train)\n",
        "# Calculate the score (R^2 for Regression) for Training Data\n",
        "print(line_reg.score(predictor_x_train,wine_quality_train))\n",
        "# Calculate the score (R^2 for Regression) for Testing Data\n",
        "print(line_reg.score(predictor_x_test,wine_quality_test))"
      ],
      "execution_count": 41,
      "outputs": [
        {
          "output_type": "stream",
          "text": [
            "0.27078026676393185\n",
            "0.2519667708304062\n"
          ],
          "name": "stdout"
        }
      ]
    },
    {
      "cell_type": "markdown",
      "metadata": {
        "id": "jwBP8ZfebRGA"
      },
      "source": [
        "### BONUS: Cross validation"
      ]
    },
    {
      "cell_type": "code",
      "metadata": {
        "id": "-KiFctFebRGA"
      },
      "source": [
        "# Cross validation \n",
        "from sklearn.model_selection import KFold \n",
        "from sklearn.metrics import mean_squared_error"
      ],
      "execution_count": 42,
      "outputs": []
    },
    {
      "cell_type": "code",
      "metadata": {
        "colab": {
          "base_uri": "https://localhost:8080/"
        },
        "id": "VdO8IPCObRGA",
        "outputId": "2a3a5b64-1ef3-43a2-8537-c0e89e8099e9"
      },
      "source": [
        "# Set up 5-fold cross validation  \n",
        "k_fold = KFold(5, shuffle=True)\n",
        "train_scores = []\n",
        "train_rmse = []\n",
        "test_scores = []\n",
        "test_rmse = []\n",
        "\n",
        "for train, test in k_fold.split(predictor_x):\n",
        "  print('train: %s, \\ntest: %s' % (predictor_x_train, predictor_x_test))\n",
        "    \n",
        "    # Get training and test sets for X and y\n",
        "    \n",
        "    # Fit model with training set\n",
        "    \n",
        "    # Make predictions with training and test set\n",
        "    \n",
        "    # Score R2 and RMSE on training and test sets and store in list\n",
        "    \n",
        "# Create a metrics_df dataframe to display r2 and rmse scores"
      ],
      "execution_count": 45,
      "outputs": [
        {
          "output_type": "stream",
          "text": [
            "train:       alcohol  density  volatile acidity\n",
            "1916     10.5  0.99380             0.240\n",
            "947      12.4  0.99408             0.280\n",
            "877      11.8  0.99371             0.715\n",
            "2927     11.7  0.99020             0.370\n",
            "6063      9.3  0.99810             0.260\n",
            "...       ...      ...               ...\n",
            "3772      9.2  0.99990             0.320\n",
            "5191     10.7  0.99202             0.280\n",
            "5226      9.5  0.99459             0.370\n",
            "5390      9.5  0.99536             0.260\n",
            "860       9.5  0.99746             0.620\n",
            "\n",
            "[5197 rows x 3 columns], \n",
            "test:       alcohol  density  volatile acidity\n",
            "3103     12.2  0.99420             0.170\n",
            "1419      9.9  0.99560             0.640\n",
            "4761     12.0  0.99212             0.390\n",
            "4690      9.5  0.99592             0.280\n",
            "4032      8.9  0.99888             0.350\n",
            "...       ...      ...               ...\n",
            "889       9.3  1.00289             0.900\n",
            "2850      9.3  0.99270             0.245\n",
            "4917     12.4  0.98962             0.160\n",
            "5198      9.4  0.99787             0.390\n",
            "5643      8.7  0.99840             0.160\n",
            "\n",
            "[1300 rows x 3 columns]\n",
            "train:       alcohol  density  volatile acidity\n",
            "1916     10.5  0.99380             0.240\n",
            "947      12.4  0.99408             0.280\n",
            "877      11.8  0.99371             0.715\n",
            "2927     11.7  0.99020             0.370\n",
            "6063      9.3  0.99810             0.260\n",
            "...       ...      ...               ...\n",
            "3772      9.2  0.99990             0.320\n",
            "5191     10.7  0.99202             0.280\n",
            "5226      9.5  0.99459             0.370\n",
            "5390      9.5  0.99536             0.260\n",
            "860       9.5  0.99746             0.620\n",
            "\n",
            "[5197 rows x 3 columns], \n",
            "test:       alcohol  density  volatile acidity\n",
            "3103     12.2  0.99420             0.170\n",
            "1419      9.9  0.99560             0.640\n",
            "4761     12.0  0.99212             0.390\n",
            "4690      9.5  0.99592             0.280\n",
            "4032      8.9  0.99888             0.350\n",
            "...       ...      ...               ...\n",
            "889       9.3  1.00289             0.900\n",
            "2850      9.3  0.99270             0.245\n",
            "4917     12.4  0.98962             0.160\n",
            "5198      9.4  0.99787             0.390\n",
            "5643      8.7  0.99840             0.160\n",
            "\n",
            "[1300 rows x 3 columns]\n",
            "train:       alcohol  density  volatile acidity\n",
            "1916     10.5  0.99380             0.240\n",
            "947      12.4  0.99408             0.280\n",
            "877      11.8  0.99371             0.715\n",
            "2927     11.7  0.99020             0.370\n",
            "6063      9.3  0.99810             0.260\n",
            "...       ...      ...               ...\n",
            "3772      9.2  0.99990             0.320\n",
            "5191     10.7  0.99202             0.280\n",
            "5226      9.5  0.99459             0.370\n",
            "5390      9.5  0.99536             0.260\n",
            "860       9.5  0.99746             0.620\n",
            "\n",
            "[5197 rows x 3 columns], \n",
            "test:       alcohol  density  volatile acidity\n",
            "3103     12.2  0.99420             0.170\n",
            "1419      9.9  0.99560             0.640\n",
            "4761     12.0  0.99212             0.390\n",
            "4690      9.5  0.99592             0.280\n",
            "4032      8.9  0.99888             0.350\n",
            "...       ...      ...               ...\n",
            "889       9.3  1.00289             0.900\n",
            "2850      9.3  0.99270             0.245\n",
            "4917     12.4  0.98962             0.160\n",
            "5198      9.4  0.99787             0.390\n",
            "5643      8.7  0.99840             0.160\n",
            "\n",
            "[1300 rows x 3 columns]\n",
            "train:       alcohol  density  volatile acidity\n",
            "1916     10.5  0.99380             0.240\n",
            "947      12.4  0.99408             0.280\n",
            "877      11.8  0.99371             0.715\n",
            "2927     11.7  0.99020             0.370\n",
            "6063      9.3  0.99810             0.260\n",
            "...       ...      ...               ...\n",
            "3772      9.2  0.99990             0.320\n",
            "5191     10.7  0.99202             0.280\n",
            "5226      9.5  0.99459             0.370\n",
            "5390      9.5  0.99536             0.260\n",
            "860       9.5  0.99746             0.620\n",
            "\n",
            "[5197 rows x 3 columns], \n",
            "test:       alcohol  density  volatile acidity\n",
            "3103     12.2  0.99420             0.170\n",
            "1419      9.9  0.99560             0.640\n",
            "4761     12.0  0.99212             0.390\n",
            "4690      9.5  0.99592             0.280\n",
            "4032      8.9  0.99888             0.350\n",
            "...       ...      ...               ...\n",
            "889       9.3  1.00289             0.900\n",
            "2850      9.3  0.99270             0.245\n",
            "4917     12.4  0.98962             0.160\n",
            "5198      9.4  0.99787             0.390\n",
            "5643      8.7  0.99840             0.160\n",
            "\n",
            "[1300 rows x 3 columns]\n",
            "train:       alcohol  density  volatile acidity\n",
            "1916     10.5  0.99380             0.240\n",
            "947      12.4  0.99408             0.280\n",
            "877      11.8  0.99371             0.715\n",
            "2927     11.7  0.99020             0.370\n",
            "6063      9.3  0.99810             0.260\n",
            "...       ...      ...               ...\n",
            "3772      9.2  0.99990             0.320\n",
            "5191     10.7  0.99202             0.280\n",
            "5226      9.5  0.99459             0.370\n",
            "5390      9.5  0.99536             0.260\n",
            "860       9.5  0.99746             0.620\n",
            "\n",
            "[5197 rows x 3 columns], \n",
            "test:       alcohol  density  volatile acidity\n",
            "3103     12.2  0.99420             0.170\n",
            "1419      9.9  0.99560             0.640\n",
            "4761     12.0  0.99212             0.390\n",
            "4690      9.5  0.99592             0.280\n",
            "4032      8.9  0.99888             0.350\n",
            "...       ...      ...               ...\n",
            "889       9.3  1.00289             0.900\n",
            "2850      9.3  0.99270             0.245\n",
            "4917     12.4  0.98962             0.160\n",
            "5198      9.4  0.99787             0.390\n",
            "5643      8.7  0.99840             0.160\n",
            "\n",
            "[1300 rows x 3 columns]\n"
          ],
          "name": "stdout"
        }
      ]
    },
    {
      "cell_type": "code",
      "metadata": {
        "id": "qp-cPOdIbRGB"
      },
      "source": [
        "# Describe the metrics"
      ],
      "execution_count": null,
      "outputs": []
    },
    {
      "cell_type": "markdown",
      "metadata": {
        "id": "CAmkNccnXF6H"
      },
      "source": [
        "### 5. Feature Selection\n",
        "\n",
        "What's your score (R^2 for Regression) for Testing Data? \n",
        "\n",
        "How many feature have you selected? Can you improve your score by selecting different features?"
      ]
    },
    {
      "cell_type": "code",
      "metadata": {
        "id": "HYs-C7Ab0FUG"
      },
      "source": [
        "def func_line_model(df,predictor,target='quality'):\n",
        "    X = df[predictor]\n",
        "    y = df[target]\n",
        "    func_regr = LinearRegression()\n",
        "    func_regr.fit(X,y)\n",
        "    return func_regr,X,y"
      ],
      "execution_count": 52,
      "outputs": []
    },
    {
      "cell_type": "code",
      "metadata": {
        "colab": {
          "base_uri": "https://localhost:8080/"
        },
        "id": "zibYZAYy0HbR",
        "outputId": "f43a6535-0d3b-4b1f-c4a7-971a1d3bd023"
      },
      "source": [
        "alcohol_regr, alcohol_X, alcohol_y = func_line_model(wine_csv,['alcohol'])\n",
        "alcohol_regr, alcohol_X, alcohol_y\n",
        "alcohol_regr.score(alcohol_X,alcohol_y)"
      ],
      "execution_count": 54,
      "outputs": [
        {
          "output_type": "execute_result",
          "data": {
            "text/plain": [
              "0.1974189472217911"
            ]
          },
          "metadata": {
            "tags": []
          },
          "execution_count": 54
        }
      ]
    },
    {
      "cell_type": "markdown",
      "metadata": {
        "id": "rucGCsZrXF6I"
      },
      "source": [
        "**Please continue with Lab 4.2.2 with the same dataset.**"
      ]
    },
    {
      "cell_type": "markdown",
      "metadata": {
        "id": "0ckG2QAGlsFO"
      },
      "source": [
        "\n",
        "\n",
        "---\n",
        "\n",
        "\n",
        "\n",
        "---\n",
        "\n",
        "\n",
        "\n",
        "> > > > > > > > > © 2021 Institute of Data\n",
        "\n",
        "\n",
        "---\n",
        "\n",
        "\n",
        "\n",
        "---\n",
        "\n",
        "\n",
        "\n"
      ]
    }
  ]
}