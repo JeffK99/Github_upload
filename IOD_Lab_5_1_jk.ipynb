{
  "nbformat": 4,
  "nbformat_minor": 0,
  "metadata": {
    "colab": {
      "name": "IOD_Lab_5_1_jk.ipynb",
      "provenance": [],
      "collapsed_sections": [
        "WpOA8_TFSrF_"
      ]
    },
    "kernelspec": {
      "display_name": "Python 3",
      "language": "python",
      "name": "python3"
    },
    "language_info": {
      "codemirror_mode": {
        "name": "ipython",
        "version": 3
      },
      "file_extension": ".py",
      "mimetype": "text/x-python",
      "name": "python",
      "nbconvert_exporter": "python",
      "pygments_lexer": "ipython3",
      "version": "3.8.5"
    }
  },
  "cells": [
    {
      "cell_type": "markdown",
      "metadata": {
        "id": "MV1ykjySSrEu"
      },
      "source": [
        "<div>\n",
        "<img src=https://www.institutedata.com/wp-content/uploads/2019/10/iod_h_tp_primary_c.svg width=\"300\">\n",
        "</div>"
      ]
    },
    {
      "cell_type": "markdown",
      "metadata": {
        "id": "42orCR4NSrEw"
      },
      "source": [
        "# Lab 5.1 \n",
        "# *Logistic Regression*"
      ]
    },
    {
      "cell_type": "markdown",
      "metadata": {
        "id": "z6dger9XSrEz"
      },
      "source": [
        "## Predicting Survival on the Titanic\n",
        "\n",
        "The Titanic sank during her maiden voyage after colliding with an iceberg (April 15, 1912). Due to a commercial decision there were insufficient lifeboats, a fact that was partially responsible for the loss 1,502 out of 2,224 passengers and crew. \n",
        "\n",
        "The Titanic dataset incorporates many features of typical real-world problems: a mixture of continuous and discrete features, missing data, linear covariance, and an element of random chance. Predicting survival therefore involves many practical data science skills."
      ]
    },
    {
      "cell_type": "code",
      "metadata": {
        "id": "BpW4z29ASrE1"
      },
      "source": [
        "import pandas as pd\n",
        "import numpy as np\n",
        "import matplotlib.pyplot as plt\n",
        "import seaborn as sns\n",
        "\n",
        "from sklearn.model_selection import train_test_split\n",
        "from sklearn.linear_model import LogisticRegression\n",
        "\n",
        "from sklearn.model_selection import train_test_split, cross_val_score\n",
        "from sklearn.linear_model import LogisticRegression\n",
        "from sklearn.metrics import accuracy_score,confusion_matrix\n",
        "from sklearn import metrics\n",
        "from sklearn.pipeline import make_pipeline\n",
        "from sklearn.compose import make_column_transformer\n",
        "from sklearn.preprocessing import OneHotEncoder\n",
        "\n",
        "%matplotlib inline"
      ],
      "execution_count": 149,
      "outputs": []
    },
    {
      "cell_type": "markdown",
      "metadata": {
        "id": "BSpp7YdtSrE8"
      },
      "source": [
        "### 1. Load Data\n",
        "\n",
        "Load the `titanic.csv` file into a DataFrame named \"titanic\", with index column = `PassengerId`. Display the head of the DataFrame."
      ]
    },
    {
      "cell_type": "code",
      "metadata": {
        "colab": {
          "base_uri": "https://localhost:8080/",
          "height": 236
        },
        "id": "GXnrsCXeSrE-",
        "outputId": "99a2d028-414f-409d-f3f5-6772858cda8d"
      },
      "source": [
        "# ANSWER\n",
        "titanic = pd.read_csv(\"titanic.csv\")\n",
        "titanic = titanic.set_index('PassengerId')\n",
        "titanic.head()"
      ],
      "execution_count": 150,
      "outputs": [
        {
          "output_type": "execute_result",
          "data": {
            "text/html": [
              "<div>\n",
              "<style scoped>\n",
              "    .dataframe tbody tr th:only-of-type {\n",
              "        vertical-align: middle;\n",
              "    }\n",
              "\n",
              "    .dataframe tbody tr th {\n",
              "        vertical-align: top;\n",
              "    }\n",
              "\n",
              "    .dataframe thead th {\n",
              "        text-align: right;\n",
              "    }\n",
              "</style>\n",
              "<table border=\"1\" class=\"dataframe\">\n",
              "  <thead>\n",
              "    <tr style=\"text-align: right;\">\n",
              "      <th></th>\n",
              "      <th>Survived</th>\n",
              "      <th>Pclass</th>\n",
              "      <th>Name</th>\n",
              "      <th>Sex</th>\n",
              "      <th>Age</th>\n",
              "      <th>SibSp</th>\n",
              "      <th>Parch</th>\n",
              "      <th>Ticket</th>\n",
              "      <th>Fare</th>\n",
              "      <th>Cabin</th>\n",
              "      <th>Embarked</th>\n",
              "    </tr>\n",
              "    <tr>\n",
              "      <th>PassengerId</th>\n",
              "      <th></th>\n",
              "      <th></th>\n",
              "      <th></th>\n",
              "      <th></th>\n",
              "      <th></th>\n",
              "      <th></th>\n",
              "      <th></th>\n",
              "      <th></th>\n",
              "      <th></th>\n",
              "      <th></th>\n",
              "      <th></th>\n",
              "    </tr>\n",
              "  </thead>\n",
              "  <tbody>\n",
              "    <tr>\n",
              "      <th>1</th>\n",
              "      <td>0</td>\n",
              "      <td>3</td>\n",
              "      <td>Braund, Mr. Owen Harris</td>\n",
              "      <td>male</td>\n",
              "      <td>22.0</td>\n",
              "      <td>1</td>\n",
              "      <td>0</td>\n",
              "      <td>A/5 21171</td>\n",
              "      <td>7.2500</td>\n",
              "      <td>NaN</td>\n",
              "      <td>S</td>\n",
              "    </tr>\n",
              "    <tr>\n",
              "      <th>2</th>\n",
              "      <td>1</td>\n",
              "      <td>1</td>\n",
              "      <td>Cumings, Mrs. John Bradley (Florence Briggs Th...</td>\n",
              "      <td>female</td>\n",
              "      <td>38.0</td>\n",
              "      <td>1</td>\n",
              "      <td>0</td>\n",
              "      <td>PC 17599</td>\n",
              "      <td>71.2833</td>\n",
              "      <td>C85</td>\n",
              "      <td>C</td>\n",
              "    </tr>\n",
              "    <tr>\n",
              "      <th>3</th>\n",
              "      <td>1</td>\n",
              "      <td>3</td>\n",
              "      <td>Heikkinen, Miss. Laina</td>\n",
              "      <td>female</td>\n",
              "      <td>26.0</td>\n",
              "      <td>0</td>\n",
              "      <td>0</td>\n",
              "      <td>STON/O2. 3101282</td>\n",
              "      <td>7.9250</td>\n",
              "      <td>NaN</td>\n",
              "      <td>S</td>\n",
              "    </tr>\n",
              "    <tr>\n",
              "      <th>4</th>\n",
              "      <td>1</td>\n",
              "      <td>1</td>\n",
              "      <td>Futrelle, Mrs. Jacques Heath (Lily May Peel)</td>\n",
              "      <td>female</td>\n",
              "      <td>35.0</td>\n",
              "      <td>1</td>\n",
              "      <td>0</td>\n",
              "      <td>113803</td>\n",
              "      <td>53.1000</td>\n",
              "      <td>C123</td>\n",
              "      <td>S</td>\n",
              "    </tr>\n",
              "    <tr>\n",
              "      <th>5</th>\n",
              "      <td>0</td>\n",
              "      <td>3</td>\n",
              "      <td>Allen, Mr. William Henry</td>\n",
              "      <td>male</td>\n",
              "      <td>35.0</td>\n",
              "      <td>0</td>\n",
              "      <td>0</td>\n",
              "      <td>373450</td>\n",
              "      <td>8.0500</td>\n",
              "      <td>NaN</td>\n",
              "      <td>S</td>\n",
              "    </tr>\n",
              "  </tbody>\n",
              "</table>\n",
              "</div>"
            ],
            "text/plain": [
              "             Survived  Pclass  ... Cabin Embarked\n",
              "PassengerId                    ...               \n",
              "1                   0       3  ...   NaN        S\n",
              "2                   1       1  ...   C85        C\n",
              "3                   1       3  ...   NaN        S\n",
              "4                   1       1  ...  C123        S\n",
              "5                   0       3  ...   NaN        S\n",
              "\n",
              "[5 rows x 11 columns]"
            ]
          },
          "metadata": {
            "tags": []
          },
          "execution_count": 150
        }
      ]
    },
    {
      "cell_type": "markdown",
      "metadata": {
        "id": "BA8iN36rSrFE"
      },
      "source": [
        "Why would we want to set an index column based on `PassengerId`?"
      ]
    },
    {
      "cell_type": "markdown",
      "metadata": {
        "id": "WwYgjo5JSrFG"
      },
      "source": [
        "ANSWER: This column is the key to training and testing our model. We use it to partition the dataset and to test the predictions of our model against known outcomes."
      ]
    },
    {
      "cell_type": "markdown",
      "metadata": {
        "id": "8KELa83wYO5Z"
      },
      "source": [
        "<a name=\"datadictionary\"></a>\n",
        "### 2. Data Dictionary \n",
        "\n",
        "If a data dictionary is available, it is handy to include it in the notebook for reference:\n",
        "\n",
        "| Variable |                                 Definition | Key                                            |\n",
        "|----------|-------------------------------------------:|------------------------------------------------|\n",
        "| Survival | Survival                                   | 0 = No, 1 = Yes                                |\n",
        "| Pclass   | Ticket class                               | 1 = 1st, 2 = 2nd, 3 = 3rd                      |\n",
        "| Sex      | Sex                                        |                                                |\n",
        "| Age      | Age in years                               |                                                |\n",
        "| SibSp    | # of siblings / spouses aboard the Titanic |                                                |\n",
        "| Parch    | # of parents / children aboard the Titanic |                                                |\n",
        "| Ticket   | Ticket number                              |                                                |\n",
        "| Fare     | Passenger fare                             |                                                |\n",
        "| Cabin    | Cabin number                               |                                                |\n",
        "| Embarked | Port of Embarkation                        | C = Cherbourg, Q = Queenstown, S = Southampton |"
      ]
    },
    {
      "cell_type": "markdown",
      "metadata": {
        "id": "-CM_PnS0YO5a"
      },
      "source": [
        "### 2. EDA\n",
        "\n",
        "Explore dataset. Find features to predict `Survived`. Get rid of null values. "
      ]
    },
    {
      "cell_type": "code",
      "metadata": {
        "colab": {
          "base_uri": "https://localhost:8080/"
        },
        "id": "q-nj-5WrYO5b",
        "outputId": "82a78984-d2dd-479d-9f2c-9b5690bd0614"
      },
      "source": [
        "# ANSWER\n",
        "titanic.isnull().sum()"
      ],
      "execution_count": 151,
      "outputs": [
        {
          "output_type": "execute_result",
          "data": {
            "text/plain": [
              "Survived      0\n",
              "Pclass        0\n",
              "Name          0\n",
              "Sex           0\n",
              "Age         177\n",
              "SibSp         0\n",
              "Parch         0\n",
              "Ticket        0\n",
              "Fare          0\n",
              "Cabin       687\n",
              "Embarked      2\n",
              "dtype: int64"
            ]
          },
          "metadata": {
            "tags": []
          },
          "execution_count": 151
        }
      ]
    },
    {
      "cell_type": "code",
      "metadata": {
        "colab": {
          "base_uri": "https://localhost:8080/"
        },
        "id": "ugwpVPD9soYY",
        "outputId": "255b2507-563d-4ff6-f94d-ad9041d3f37d"
      },
      "source": [
        "titanic.value_counts()"
      ],
      "execution_count": 152,
      "outputs": [
        {
          "output_type": "execute_result",
          "data": {
            "text/plain": [
              "Survived  Pclass  Name                                                 Sex     Age   SibSp  Parch  Ticket    Fare      Cabin    Embarked\n",
              "1         3       Sandstrom, Mrs. Hjalmar (Agnes Charlotta Bengtsson)  female  24.0  0      2      PP 9549   16.7000   G6       S           1\n",
              "          1       Barkworth, Mr. Algernon Henry Wilson                 male    80.0  0      0      27042     30.0000   A23      S           1\n",
              "                  Astor, Mrs. John Jacob (Madeleine Talmadge Force)    female  18.0  1      0      PC 17757  227.5250  C62 C64  C           1\n",
              "                  Appleton, Mrs. Edward Dale (Charlotte Lamson)        female  53.0  2      0      11769     51.4792   C101     S           1\n",
              "                  Andrews, Miss. Kornelia Theodosia                    female  63.0  1      0      13502     77.9583   D7       S           1\n",
              "                                                                                                                                           ..\n",
              "                  Hays, Mrs. Charles Melville (Clara Jennings Gregg)   female  52.0  1      1      12749     93.5000   B69      S           1\n",
              "                  Hays, Miss. Margaret Bechstein                       female  24.0  0      0      11767     83.1583   C54      C           1\n",
              "                  Hassab, Mr. Hammad                                   male    27.0  0      0      PC 17572  76.7292   D49      C           1\n",
              "                  Harris, Mrs. Henry Birkhardt (Irene Wallach)         female  35.0  1      0      36973     83.4750   C83      S           1\n",
              "0         1       Allison, Miss. Helen Loraine                         female  2.0   1      2      113781    151.5500  C22 C26  S           1\n",
              "Length: 183, dtype: int64"
            ]
          },
          "metadata": {
            "tags": []
          },
          "execution_count": 152
        }
      ]
    },
    {
      "cell_type": "markdown",
      "metadata": {
        "id": "uxrHcNYzSrFN"
      },
      "source": [
        "### 3. Numerical Predictors Only"
      ]
    },
    {
      "cell_type": "markdown",
      "metadata": {
        "id": "gWs3gb8KSrFP"
      },
      "source": [
        "#### 3.1. Set Target and Features\n",
        "\n",
        "To begin, let's try a model based on the passenger class (`Pclass`) and parents/children features (`Parch`):"
      ]
    },
    {
      "cell_type": "code",
      "metadata": {
        "colab": {
          "base_uri": "https://localhost:8080/"
        },
        "id": "5hIpl6VeSrFR",
        "outputId": "bb1beb84-e9af-489d-9751-7a98aa52ac0c"
      },
      "source": [
        "# ANSWER\n",
        "coln = ['Pclass', 'Parch']\n",
        "X = titanic[coln]\n",
        "y = titanic['Survived']\n",
        "X, y"
      ],
      "execution_count": 153,
      "outputs": [
        {
          "output_type": "execute_result",
          "data": {
            "text/plain": [
              "(             Pclass  Parch\n",
              " PassengerId               \n",
              " 1                 3      0\n",
              " 2                 1      0\n",
              " 3                 3      0\n",
              " 4                 1      0\n",
              " 5                 3      0\n",
              " ...             ...    ...\n",
              " 887               2      0\n",
              " 888               1      0\n",
              " 889               3      2\n",
              " 890               1      0\n",
              " 891               3      0\n",
              " \n",
              " [891 rows x 2 columns], PassengerId\n",
              " 1      0\n",
              " 2      1\n",
              " 3      1\n",
              " 4      1\n",
              " 5      0\n",
              "       ..\n",
              " 887    0\n",
              " 888    1\n",
              " 889    0\n",
              " 890    1\n",
              " 891    0\n",
              " Name: Survived, Length: 891, dtype: int64)"
            ]
          },
          "metadata": {
            "tags": []
          },
          "execution_count": 153
        }
      ]
    },
    {
      "cell_type": "code",
      "metadata": {
        "colab": {
          "base_uri": "https://localhost:8080/"
        },
        "id": "ScjfEmZ04HGT",
        "outputId": "7e3510ad-5e3c-47c8-a4e8-562d4fb502e9"
      },
      "source": [
        "X.shape, y.shape"
      ],
      "execution_count": 154,
      "outputs": [
        {
          "output_type": "execute_result",
          "data": {
            "text/plain": [
              "((891, 2), (891,))"
            ]
          },
          "metadata": {
            "tags": []
          },
          "execution_count": 154
        }
      ]
    },
    {
      "cell_type": "markdown",
      "metadata": {
        "id": "_ILBoBYUYO5g"
      },
      "source": [
        "#### 3.2 Partition"
      ]
    },
    {
      "cell_type": "markdown",
      "metadata": {
        "id": "kc2wfIDqSrFT"
      },
      "source": [
        "Partition the data into training and testing subsets:\n",
        "\n",
        "- Use `random_state` = 1"
      ]
    },
    {
      "cell_type": "code",
      "metadata": {
        "id": "CbfZLOdRSrFU"
      },
      "source": [
        "# ANSWER\n",
        "X_train, X_test, y_train, y_test = train_test_split(X, y, test_size=0.3, random_state=1)"
      ],
      "execution_count": 155,
      "outputs": []
    },
    {
      "cell_type": "code",
      "metadata": {
        "colab": {
          "base_uri": "https://localhost:8080/"
        },
        "id": "31JluqkD3_mG",
        "outputId": "4f36cbd7-bec7-4d93-bbc9-4b8f1e0c76e5"
      },
      "source": [
        "X_train.shape, X_test.shape, y_train.shape, y_test.shape"
      ],
      "execution_count": 156,
      "outputs": [
        {
          "output_type": "execute_result",
          "data": {
            "text/plain": [
              "((623, 2), (268, 2), (623,), (268,))"
            ]
          },
          "metadata": {
            "tags": []
          },
          "execution_count": 156
        }
      ]
    },
    {
      "cell_type": "markdown",
      "metadata": {
        "id": "l8p1bdc1SrFW"
      },
      "source": [
        "#### 3.3. Build Model\n",
        "\n",
        "Prepare a model by creating an instance of the `LogisticRegression` class from the `sklearn.linear_model` library:"
      ]
    },
    {
      "cell_type": "code",
      "metadata": {
        "id": "nIhxqfrXSrFY"
      },
      "source": [
        "# ANSWER\n",
        "# Create Model\n",
        "model1 = LogisticRegression()"
      ],
      "execution_count": 157,
      "outputs": []
    },
    {
      "cell_type": "markdown",
      "metadata": {
        "id": "HJNFicg9SrFa"
      },
      "source": [
        "Now train it on the training data subset, using the `fit` method of the model object (Nb. by default, `fit` will print the hyperparameters of the model):"
      ]
    },
    {
      "cell_type": "code",
      "metadata": {
        "colab": {
          "base_uri": "https://localhost:8080/"
        },
        "id": "lzefYEzfSrFb",
        "outputId": "9cbc185b-416c-4157-837d-0303614ecb40"
      },
      "source": [
        "# ANSWER\n",
        "# Fit Model\n",
        "model1.fit(X_train,y_train)"
      ],
      "execution_count": 158,
      "outputs": [
        {
          "output_type": "execute_result",
          "data": {
            "text/plain": [
              "LogisticRegression(C=1.0, class_weight=None, dual=False, fit_intercept=True,\n",
              "                   intercept_scaling=1, l1_ratio=None, max_iter=100,\n",
              "                   multi_class='auto', n_jobs=None, penalty='l2',\n",
              "                   random_state=None, solver='lbfgs', tol=0.0001, verbose=0,\n",
              "                   warm_start=False)"
            ]
          },
          "metadata": {
            "tags": []
          },
          "execution_count": 158
        }
      ]
    },
    {
      "cell_type": "markdown",
      "metadata": {
        "id": "JsfC92SgSrFd"
      },
      "source": [
        "The computed coefficients are an array (`coef_`) stored in the 1st element of an array:"
      ]
    },
    {
      "cell_type": "code",
      "metadata": {
        "colab": {
          "base_uri": "https://localhost:8080/"
        },
        "id": "Kr7GMdllSrFe",
        "outputId": "fd93f995-0da8-44e8-e2a2-4087f2cac0f4"
      },
      "source": [
        "# ANSWER\n",
        "model1.coef_"
      ],
      "execution_count": 159,
      "outputs": [
        {
          "output_type": "execute_result",
          "data": {
            "text/plain": [
              "array([[-0.8870587 ,  0.35810101]])"
            ]
          },
          "metadata": {
            "tags": []
          },
          "execution_count": 159
        }
      ]
    },
    {
      "cell_type": "markdown",
      "metadata": {
        "id": "KL7uKC8USrFh"
      },
      "source": [
        "The computed intercept (`intercept_`) is the 1st element of another array:"
      ]
    },
    {
      "cell_type": "code",
      "metadata": {
        "colab": {
          "base_uri": "https://localhost:8080/"
        },
        "id": "4TudzIpjSrFi",
        "outputId": "93a83e1e-2249-4770-fd38-58c8043c27bb"
      },
      "source": [
        "# ANSWER\n",
        "model1.intercept_"
      ],
      "execution_count": 160,
      "outputs": [
        {
          "output_type": "execute_result",
          "data": {
            "text/plain": [
              "array([1.31832408])"
            ]
          },
          "metadata": {
            "tags": []
          },
          "execution_count": 160
        }
      ]
    },
    {
      "cell_type": "markdown",
      "metadata": {
        "id": "SSc0PEbjSrFk"
      },
      "source": [
        "We can create tuples of the predictor names and coefficients like this:"
      ]
    },
    {
      "cell_type": "code",
      "metadata": {
        "colab": {
          "base_uri": "https://localhost:8080/"
        },
        "id": "DlaUpqxRSrFk",
        "outputId": "611802c3-053d-4f32-e618-2d30de9d2caf"
      },
      "source": [
        "# ANSWER\n",
        "print(set(zip(coln, model1.coef_[0])))"
      ],
      "execution_count": 161,
      "outputs": [
        {
          "output_type": "stream",
          "text": [
            "{('Parch', 0.35810100638092773), ('Pclass', -0.8870586968082118)}\n"
          ],
          "name": "stdout"
        }
      ]
    },
    {
      "cell_type": "markdown",
      "metadata": {
        "id": "duCXO8aqSrFm"
      },
      "source": [
        "If we want formatted output, here is a neat way to list the coefficients by predictor:"
      ]
    },
    {
      "cell_type": "code",
      "metadata": {
        "colab": {
          "base_uri": "https://localhost:8080/"
        },
        "id": "jiz-vjACSrFm",
        "outputId": "9997d5c2-c772-4c64-ab27-9a76d606bf8a"
      },
      "source": [
        "for col in zip(X_train.columns, model1.coef_[0]):\n",
        "    print('{:<10s}  {:+.06f}'.format(col[0], col[1]))  # Nb. increase 10 for longer names"
      ],
      "execution_count": 162,
      "outputs": [
        {
          "output_type": "stream",
          "text": [
            "Pclass      -0.887059\n",
            "Parch       +0.358101\n"
          ],
          "name": "stdout"
        }
      ]
    },
    {
      "cell_type": "markdown",
      "metadata": {
        "id": "65YucOmmSrFo"
      },
      "source": [
        "This result implies that survival declines with passenger class (i.e. 1st class is highest) but increases with the number of parents or children in a group."
      ]
    },
    {
      "cell_type": "markdown",
      "metadata": {
        "id": "5FkRLS3oSrFp"
      },
      "source": [
        "Let's see how well the model fit the training data. The `accuracy_score` is the proportion of correct predictions:"
      ]
    },
    {
      "cell_type": "code",
      "metadata": {
        "colab": {
          "base_uri": "https://localhost:8080/"
        },
        "id": "-Gep5OXUSrFp",
        "outputId": "02908817-e786-4b1a-9212-4e09c4431d1b"
      },
      "source": [
        "# ANSWER\n",
        "model1.score(X_train,y_train)"
      ],
      "execution_count": 163,
      "outputs": [
        {
          "output_type": "execute_result",
          "data": {
            "text/plain": [
              "0.6934189406099518"
            ]
          },
          "metadata": {
            "tags": []
          },
          "execution_count": 163
        }
      ]
    },
    {
      "cell_type": "markdown",
      "metadata": {
        "id": "_alclvzjSrFs"
      },
      "source": [
        "What is the  `accuracy_score` for the test data?"
      ]
    },
    {
      "cell_type": "code",
      "metadata": {
        "colab": {
          "base_uri": "https://localhost:8080/"
        },
        "id": "2GRLpAdmSrFt",
        "outputId": "66038bef-36f5-4fb4-b0bc-7fee9c3bde86"
      },
      "source": [
        "# ANSWER\n",
        "from sklearn.metrics import accuracy_score\n",
        "y_pred = model1.predict(X_train)\n",
        "accuracy_score(y_train,y_pred)"
      ],
      "execution_count": 164,
      "outputs": [
        {
          "output_type": "execute_result",
          "data": {
            "text/plain": [
              "0.6934189406099518"
            ]
          },
          "metadata": {
            "tags": []
          },
          "execution_count": 164
        }
      ]
    },
    {
      "cell_type": "markdown",
      "metadata": {
        "id": "KwgPpa5sSrFw"
      },
      "source": [
        "What can we say aout this result?"
      ]
    },
    {
      "cell_type": "markdown",
      "metadata": {
        "id": "7XUWZoBRSrFx"
      },
      "source": [
        "ANSWER\n",
        "- ...\n",
        "- ..."
      ]
    },
    {
      "cell_type": "markdown",
      "metadata": {
        "id": "gBWjeIE2YO6D"
      },
      "source": [
        "#### 3.4. Add `AGE` as Feature"
      ]
    },
    {
      "cell_type": "markdown",
      "metadata": {
        "id": "Rxmg3b2wSrFy"
      },
      "source": [
        "Let's include `Age` in the model. As we know from our EDA, this feature has many missing values. We don't want to throw away so many rows, so we will replace `NA` values with imputed values (e.g. the overall mean age):"
      ]
    },
    {
      "cell_type": "code",
      "metadata": {
        "id": "IVfjTrF8SrFy"
      },
      "source": [
        "# ANSWER\n",
        "titanic['Age'].isnull().sum()\n",
        "titanic['Age'].fillna(titanic.Age.mean(), inplace=True)\n"
      ],
      "execution_count": 165,
      "outputs": []
    },
    {
      "cell_type": "code",
      "metadata": {
        "colab": {
          "base_uri": "https://localhost:8080/"
        },
        "id": "dTo0YItt6hXB",
        "outputId": "06e35282-1de4-4980-dea2-1b3bcbd14f88"
      },
      "source": [
        "titanic.isnull().sum()"
      ],
      "execution_count": 166,
      "outputs": [
        {
          "output_type": "execute_result",
          "data": {
            "text/plain": [
              "Survived      0\n",
              "Pclass        0\n",
              "Name          0\n",
              "Sex           0\n",
              "Age           0\n",
              "SibSp         0\n",
              "Parch         0\n",
              "Ticket        0\n",
              "Fare          0\n",
              "Cabin       687\n",
              "Embarked      2\n",
              "dtype: int64"
            ]
          },
          "metadata": {
            "tags": []
          },
          "execution_count": 166
        }
      ]
    },
    {
      "cell_type": "code",
      "metadata": {
        "colab": {
          "base_uri": "https://localhost:8080/"
        },
        "id": "yVSXN-tfYO6J",
        "outputId": "2bc36857-6cf8-4c77-80e5-82d72c5a00bd"
      },
      "source": [
        "# Build Model\n",
        "coln = ['Pclass','Parch','Age']\n",
        "X = titanic[coln]\n",
        "y = titanic['Survived']\n",
        "X.shape,y.shape"
      ],
      "execution_count": 167,
      "outputs": [
        {
          "output_type": "execute_result",
          "data": {
            "text/plain": [
              "((891, 3), (891,))"
            ]
          },
          "metadata": {
            "tags": []
          },
          "execution_count": 167
        }
      ]
    },
    {
      "cell_type": "code",
      "metadata": {
        "colab": {
          "base_uri": "https://localhost:8080/"
        },
        "id": "U-AJGvj68ni2",
        "outputId": "565c2994-9b1d-4a06-f56d-5dde8d39322a"
      },
      "source": [
        "X_train, X_test, y_train, y_test = train_test_split(X, y, test_size=0.3, random_state=1)\n",
        "X_train.shape, X_test.shape, y_train.shape, y_test.shape"
      ],
      "execution_count": 168,
      "outputs": [
        {
          "output_type": "execute_result",
          "data": {
            "text/plain": [
              "((623, 3), (268, 3), (623,), (268,))"
            ]
          },
          "metadata": {
            "tags": []
          },
          "execution_count": 168
        }
      ]
    },
    {
      "cell_type": "code",
      "metadata": {
        "colab": {
          "base_uri": "https://localhost:8080/"
        },
        "id": "ZU6B2fAq9Nt7",
        "outputId": "2a269d26-74f4-4a22-a10e-ceb3c5902b84"
      },
      "source": [
        "# Fit Model\n",
        "model1.fit(X_train,y_train)\n",
        "# Score\n",
        "model1.score(X_train,y_train)\n"
      ],
      "execution_count": 169,
      "outputs": [
        {
          "output_type": "execute_result",
          "data": {
            "text/plain": [
              "0.723916532905297"
            ]
          },
          "metadata": {
            "tags": []
          },
          "execution_count": 169
        }
      ]
    },
    {
      "cell_type": "markdown",
      "metadata": {
        "id": "v6_aYK1oSrF0"
      },
      "source": [
        "So, including age did little to reduce the variance in our model. Why might this be?"
      ]
    },
    {
      "cell_type": "markdown",
      "metadata": {
        "id": "w1pzei3QSrF1"
      },
      "source": [
        "ANSWER\n",
        "\n",
        "- ...\n",
        "- ...\n",
        "- ..."
      ]
    },
    {
      "cell_type": "markdown",
      "metadata": {
        "id": "bPLvK9s2SrF1"
      },
      "source": [
        "Let's see where the model is going wrong by showing the Confusion Matrix:"
      ]
    },
    {
      "cell_type": "code",
      "metadata": {
        "colab": {
          "base_uri": "https://localhost:8080/"
        },
        "id": "rAzihOU2SrF1",
        "outputId": "9326cf80-aa1f-4794-dca0-c73ca42abce2"
      },
      "source": [
        "# ANSWER\n",
        "from sklearn.metrics import confusion_matrix\n",
        "y_pred_class = model1.predict(X_test)\n",
        "print(confusion_matrix(y_test, y_pred_class))"
      ],
      "execution_count": 170,
      "outputs": [
        {
          "output_type": "stream",
          "text": [
            "[[126  27]\n",
            " [ 60  55]]\n"
          ],
          "name": "stdout"
        }
      ]
    },
    {
      "cell_type": "markdown",
      "metadata": {
        "id": "S-mclQOiSrF3"
      },
      "source": [
        "Nb. Here is how `confusion_matrix` arranges its output:"
      ]
    },
    {
      "cell_type": "code",
      "metadata": {
        "colab": {
          "base_uri": "https://localhost:8080/"
        },
        "id": "QquT0zbNSrF4",
        "outputId": "170c3b81-93cc-40db-eb6d-ccd91c86dbf7"
      },
      "source": [
        "print(np.asarray([['TN', 'FP'], ['FN', 'TP']])) # TrueNegative, FalsePositive, FalseNegative, TruePositive."
      ],
      "execution_count": 171,
      "outputs": [
        {
          "output_type": "stream",
          "text": [
            "[['TN' 'FP']\n",
            " ['FN' 'TP']]\n"
          ],
          "name": "stdout"
        }
      ]
    },
    {
      "cell_type": "markdown",
      "metadata": {
        "id": "j9sT-8GqSrF6"
      },
      "source": [
        "Which type of error is more prevalent?"
      ]
    },
    {
      "cell_type": "markdown",
      "metadata": {
        "id": "E08zup6gSrF7"
      },
      "source": [
        "ANSWER: ..."
      ]
    },
    {
      "cell_type": "markdown",
      "metadata": {
        "id": "tOPBQRsGSrF8"
      },
      "source": [
        "Maybe we aren't using the right cut-off value. By default, we are predicting that `Survival` = True if the probability >= 0.5, but we could use a different threshold. The ROC curve helps us decide (as well as showing us how good our predictive model really is):"
      ]
    },
    {
      "cell_type": "code",
      "metadata": {
        "colab": {
          "base_uri": "https://localhost:8080/",
          "height": 295
        },
        "id": "mqqqTVZCSrF9",
        "outputId": "8983c7d3-7583-4337-8233-e25f402a8cce"
      },
      "source": [
        "# Generate the prediction values for each of the test observations using predict_proba() function rather than just predict\n",
        "preds = model1.predict_proba(X_test)[:,1]\n",
        "\n",
        "# Store the false positive rate(fpr), true positive rate (tpr) in vectors for use in the graph\n",
        "fpr, tpr, _ = metrics.roc_curve(y_test, preds)\n",
        "\n",
        "# Store the Area Under the Curve (AUC) so we can annotate our graph with theis metric\n",
        "roc_auc = metrics.auc(fpr, tpr)\n",
        "\n",
        "# Plot the ROC Curve\n",
        "plt.figure()\n",
        "lw = 2\n",
        "plt.plot(fpr, tpr, color='darkorange', lw = lw, label = 'ROC curve (area = %0.2f)' % roc_auc)\n",
        "plt.plot([0, 1], [0, 1], color = 'navy', lw = lw, linestyle = '--')\n",
        "plt.xlim([0.0, 1.0])\n",
        "plt.ylim([0.0, 1.0])\n",
        "plt.xlabel('False Positive Rate')\n",
        "plt.ylabel('True Positive Rate')\n",
        "plt.title('Receiver operating characteristic example')\n",
        "plt.legend(loc = \"lower right\")\n",
        "plt.show()"
      ],
      "execution_count": 172,
      "outputs": [
        {
          "output_type": "display_data",
          "data": {
            "image/png": "[encoded data removed]",
            "text/plain": [
              "<Figure size 432x288 with 1 Axes>"
            ]
          },
          "metadata": {
            "tags": [],
            "needs_background": "light"
          }
        }
      ]
    },
    {
      "cell_type": "markdown",
      "metadata": {
        "id": "WpOA8_TFSrF_"
      },
      "source": [
        "### 4. Including Categorical Predictors"
      ]
    },
    {
      "cell_type": "markdown",
      "metadata": {
        "id": "Zp8r1ePeSrF_"
      },
      "source": [
        "So far, we've only used numerical features for prediction. Let's convert the character features to dummy variables so we can include them in the model:"
      ]
    },
    {
      "cell_type": "code",
      "metadata": {
        "colab": {
          "base_uri": "https://localhost:8080/",
          "height": 375
        },
        "id": "cbwHVP-bSrGA",
        "outputId": "3d731711-6c62-4818-afbf-7770d3194ecf"
      },
      "source": [
        "titanic_with_dummies = pd.get_dummies(data = titanic, columns = ['Sex', 'Embarked', 'Pclass'], \n",
        "                                      prefix = ['Sex', 'Embarked', 'Pclass'] )\n",
        "titanic_with_dummies.head()"
      ],
      "execution_count": 173,
      "outputs": [
        {
          "output_type": "execute_result",
          "data": {
            "text/html": [
              "<div>\n",
              "<style scoped>\n",
              "    .dataframe tbody tr th:only-of-type {\n",
              "        vertical-align: middle;\n",
              "    }\n",
              "\n",
              "    .dataframe tbody tr th {\n",
              "        vertical-align: top;\n",
              "    }\n",
              "\n",
              "    .dataframe thead th {\n",
              "        text-align: right;\n",
              "    }\n",
              "</style>\n",
              "<table border=\"1\" class=\"dataframe\">\n",
              "  <thead>\n",
              "    <tr style=\"text-align: right;\">\n",
              "      <th></th>\n",
              "      <th>Survived</th>\n",
              "      <th>Name</th>\n",
              "      <th>Age</th>\n",
              "      <th>SibSp</th>\n",
              "      <th>Parch</th>\n",
              "      <th>Ticket</th>\n",
              "      <th>Fare</th>\n",
              "      <th>Cabin</th>\n",
              "      <th>Sex_female</th>\n",
              "      <th>Sex_male</th>\n",
              "      <th>Embarked_C</th>\n",
              "      <th>Embarked_Q</th>\n",
              "      <th>Embarked_S</th>\n",
              "      <th>Pclass_1</th>\n",
              "      <th>Pclass_2</th>\n",
              "      <th>Pclass_3</th>\n",
              "    </tr>\n",
              "    <tr>\n",
              "      <th>PassengerId</th>\n",
              "      <th></th>\n",
              "      <th></th>\n",
              "      <th></th>\n",
              "      <th></th>\n",
              "      <th></th>\n",
              "      <th></th>\n",
              "      <th></th>\n",
              "      <th></th>\n",
              "      <th></th>\n",
              "      <th></th>\n",
              "      <th></th>\n",
              "      <th></th>\n",
              "      <th></th>\n",
              "      <th></th>\n",
              "      <th></th>\n",
              "      <th></th>\n",
              "    </tr>\n",
              "  </thead>\n",
              "  <tbody>\n",
              "    <tr>\n",
              "      <th>1</th>\n",
              "      <td>0</td>\n",
              "      <td>Braund, Mr. Owen Harris</td>\n",
              "      <td>22.0</td>\n",
              "      <td>1</td>\n",
              "      <td>0</td>\n",
              "      <td>A/5 21171</td>\n",
              "      <td>7.2500</td>\n",
              "      <td>NaN</td>\n",
              "      <td>0</td>\n",
              "      <td>1</td>\n",
              "      <td>0</td>\n",
              "      <td>0</td>\n",
              "      <td>1</td>\n",
              "      <td>0</td>\n",
              "      <td>0</td>\n",
              "      <td>1</td>\n",
              "    </tr>\n",
              "    <tr>\n",
              "      <th>2</th>\n",
              "      <td>1</td>\n",
              "      <td>Cumings, Mrs. John Bradley (Florence Briggs Th...</td>\n",
              "      <td>38.0</td>\n",
              "      <td>1</td>\n",
              "      <td>0</td>\n",
              "      <td>PC 17599</td>\n",
              "      <td>71.2833</td>\n",
              "      <td>C85</td>\n",
              "      <td>1</td>\n",
              "      <td>0</td>\n",
              "      <td>1</td>\n",
              "      <td>0</td>\n",
              "      <td>0</td>\n",
              "      <td>1</td>\n",
              "      <td>0</td>\n",
              "      <td>0</td>\n",
              "    </tr>\n",
              "    <tr>\n",
              "      <th>3</th>\n",
              "      <td>1</td>\n",
              "      <td>Heikkinen, Miss. Laina</td>\n",
              "      <td>26.0</td>\n",
              "      <td>0</td>\n",
              "      <td>0</td>\n",
              "      <td>STON/O2. 3101282</td>\n",
              "      <td>7.9250</td>\n",
              "      <td>NaN</td>\n",
              "      <td>1</td>\n",
              "      <td>0</td>\n",
              "      <td>0</td>\n",
              "      <td>0</td>\n",
              "      <td>1</td>\n",
              "      <td>0</td>\n",
              "      <td>0</td>\n",
              "      <td>1</td>\n",
              "    </tr>\n",
              "    <tr>\n",
              "      <th>4</th>\n",
              "      <td>1</td>\n",
              "      <td>Futrelle, Mrs. Jacques Heath (Lily May Peel)</td>\n",
              "      <td>35.0</td>\n",
              "      <td>1</td>\n",
              "      <td>0</td>\n",
              "      <td>113803</td>\n",
              "      <td>53.1000</td>\n",
              "      <td>C123</td>\n",
              "      <td>1</td>\n",
              "      <td>0</td>\n",
              "      <td>0</td>\n",
              "      <td>0</td>\n",
              "      <td>1</td>\n",
              "      <td>1</td>\n",
              "      <td>0</td>\n",
              "      <td>0</td>\n",
              "    </tr>\n",
              "    <tr>\n",
              "      <th>5</th>\n",
              "      <td>0</td>\n",
              "      <td>Allen, Mr. William Henry</td>\n",
              "      <td>35.0</td>\n",
              "      <td>0</td>\n",
              "      <td>0</td>\n",
              "      <td>373450</td>\n",
              "      <td>8.0500</td>\n",
              "      <td>NaN</td>\n",
              "      <td>0</td>\n",
              "      <td>1</td>\n",
              "      <td>0</td>\n",
              "      <td>0</td>\n",
              "      <td>1</td>\n",
              "      <td>0</td>\n",
              "      <td>0</td>\n",
              "      <td>1</td>\n",
              "    </tr>\n",
              "  </tbody>\n",
              "</table>\n",
              "</div>"
            ],
            "text/plain": [
              "             Survived  ... Pclass_3\n",
              "PassengerId            ...         \n",
              "1                   0  ...        1\n",
              "2                   1  ...        0\n",
              "3                   1  ...        1\n",
              "4                   1  ...        0\n",
              "5                   0  ...        1\n",
              "\n",
              "[5 rows x 16 columns]"
            ]
          },
          "metadata": {
            "tags": []
          },
          "execution_count": 173
        }
      ]
    },
    {
      "cell_type": "code",
      "metadata": {
        "colab": {
          "base_uri": "https://localhost:8080/"
        },
        "id": "B_CX31IzAwgE",
        "outputId": "874eb4fd-d549-4f81-a011-635521eb5ef0"
      },
      "source": [
        "titanic_with_dummies.shape"
      ],
      "execution_count": 174,
      "outputs": [
        {
          "output_type": "execute_result",
          "data": {
            "text/plain": [
              "(891, 16)"
            ]
          },
          "metadata": {
            "tags": []
          },
          "execution_count": 174
        }
      ]
    },
    {
      "cell_type": "markdown",
      "metadata": {
        "id": "v_WnnEWdSrGB"
      },
      "source": [
        "So, this created a column for every possible value of every categorical variable. (A more compact approach would have been to reduce the number of dummy variables by one for each feature, so that the first vriable from each captures two possible states.)"
      ]
    },
    {
      "cell_type": "markdown",
      "metadata": {
        "id": "FWjijSClSrGB"
      },
      "source": [
        "Now that we have data on sex, embarkation port, and passenger class we can try to improve our `Age` imputation by stratifying it by the means of groups within the passenger population:"
      ]
    },
    {
      "cell_type": "code",
      "metadata": {
        "id": "EYTqaSTySrGC"
      },
      "source": [
        "titanic_with_dummies['Age'] = titanic_with_dummies[[\"Age\", \"Parch\", \"Sex_male\", \"Pclass_1\", \"Pclass_2\"]].groupby([\"Parch\", \"Sex_male\", \"Pclass_1\", \"Pclass_2\"])[\"Age\"].transform(lambda x: x.fillna(x.mean()))"
      ],
      "execution_count": 144,
      "outputs": []
    },
    {
      "cell_type": "markdown",
      "metadata": {
        "id": "AMt6G9JYSrGE"
      },
      "source": [
        "Now train the model using the expanded set of predictors and compute the accuracy score for the test set:"
      ]
    },
    {
      "cell_type": "code",
      "metadata": {
        "colab": {
          "base_uri": "https://localhost:8080/"
        },
        "id": "dSX26hn-SrGE",
        "outputId": "ab971ec9-aaae-477c-cb32-4cf1780cd801"
      },
      "source": [
        "# ANSWER\n",
        "# Set Feature Both Numerical, Categorical\n",
        "coln = ['Parch','Age','Sex_female',\n",
        "            'Sex_male','Embarked_C','Embarked_Q',\n",
        "            'Embarked_S','Pclass_1','Pclass_2','Pclass_3']\n",
        "# Set Feature Both Numerical, Categorical\n",
        "X = titanic_with_dummies[coln]\n",
        "y = titanic_with_dummies.Survived\n",
        "X_train, X_test, y_train, y_test = train_test_split(X, y, test_size=0.3, random_state=1)\n",
        "\n",
        "X_train.shape, X_test.shape, y_train.shape, y_test.shape"
      ],
      "execution_count": 147,
      "outputs": [
        {
          "output_type": "execute_result",
          "data": {
            "text/plain": [
              "((623, 10), (268, 10), (623,), (268,))"
            ]
          },
          "metadata": {
            "tags": []
          },
          "execution_count": 147
        }
      ]
    },
    {
      "cell_type": "code",
      "metadata": {
        "colab": {
          "base_uri": "https://localhost:8080/"
        },
        "id": "qXnosLF4BPQO",
        "outputId": "fad87c1b-9353-419f-c412-f8f6fa6dab87"
      },
      "source": [
        "model1.fit(X_train,y_train)"
      ],
      "execution_count": 175,
      "outputs": [
        {
          "output_type": "execute_result",
          "data": {
            "text/plain": [
              "LogisticRegression(C=1.0, class_weight=None, dual=False, fit_intercept=True,\n",
              "                   intercept_scaling=1, l1_ratio=None, max_iter=100,\n",
              "                   multi_class='auto', n_jobs=None, penalty='l2',\n",
              "                   random_state=None, solver='lbfgs', tol=0.0001, verbose=0,\n",
              "                   warm_start=False)"
            ]
          },
          "metadata": {
            "tags": []
          },
          "execution_count": 175
        }
      ]
    },
    {
      "cell_type": "code",
      "metadata": {
        "colab": {
          "base_uri": "https://localhost:8080/"
        },
        "id": "4SSe2vatBr_N",
        "outputId": "11e278a2-9b82-4292-c132-74b4cff158f1"
      },
      "source": [
        "model1.score(X_train,y_train)"
      ],
      "execution_count": 176,
      "outputs": [
        {
          "output_type": "execute_result",
          "data": {
            "text/plain": [
              "0.723916532905297"
            ]
          },
          "metadata": {
            "tags": []
          },
          "execution_count": 176
        }
      ]
    },
    {
      "cell_type": "markdown",
      "metadata": {
        "id": "CLTPHMa2SrGF"
      },
      "source": [
        "Plot the ROC curve for the new model:"
      ]
    },
    {
      "cell_type": "code",
      "metadata": {
        "colab": {
          "base_uri": "https://localhost:8080/",
          "height": 295
        },
        "id": "rqkichKQYO6l",
        "outputId": "c3c1ea50-07ad-4d19-817a-dbe3f0a75ebb"
      },
      "source": [
        "# ANSWER\n",
        "preds = model1.predict_proba(X_test)[:,1]\n",
        "\n",
        "# Store the false positive rate(fpr), true positive rate (tpr) in vectors for use in the graph\n",
        "fpr, tpr, _ = metrics.roc_curve(y_test, preds)\n",
        "\n",
        "# Store the Area Under the Curve (AUC) so we can annotate our graph with theis metric\n",
        "roc_auc = metrics.auc(fpr, tpr)\n",
        "\n",
        "# Plot the ROC Curve\n",
        "plt.figure()\n",
        "lw = 2\n",
        "plt.plot(fpr, tpr, color='darkorange', lw = lw, label = 'ROC curve (area = %0.2f)' % roc_auc)\n",
        "plt.plot([0, 1], [0, 1], color = 'navy', lw = lw, linestyle = '--')\n",
        "plt.xlim([0.0, 1.0])\n",
        "plt.ylim([0.0, 1.0])\n",
        "plt.xlabel('False Positive Rate')\n",
        "plt.ylabel('True Positive Rate')\n",
        "plt.title('Receiver operating characteristic example')\n",
        "plt.legend(loc = \"lower right\")\n",
        "plt.show()"
      ],
      "execution_count": 177,
      "outputs": [
        {
          "output_type": "display_data",
          "data": {
            "image/png": "[encoded data removed]",
            "text/plain": [
              "<Figure size 432x288 with 1 Axes>"
            ]
          },
          "metadata": {
            "tags": [],
            "needs_background": "light"
          }
        }
      ]
    },
    {
      "cell_type": "markdown",
      "metadata": {
        "id": "ZlT5P8TfSrGH"
      },
      "source": [
        "Can we improve the model by including the remaining features?"
      ]
    },
    {
      "cell_type": "code",
      "metadata": {
        "colab": {
          "base_uri": "https://localhost:8080/"
        },
        "id": "qpqcaw8NYO6p",
        "outputId": "2f5d7935-6bef-4464-da7f-7475c5b2e09f"
      },
      "source": [
        "# ANSWER\n",
        "coln = ['Parch','Age','Sex_female',\n",
        "            'Sex_male','Embarked_C','Embarked_Q',\n",
        "            'Embarked_S','Pclass_1','Pclass_2','Pclass_3','SibSp','Fare']\n",
        "# Set Feature Both Numerical, Categorical\n",
        "X = titanic_with_dummies[coln]\n",
        "y = titanic_with_dummies.Survived\n",
        "X_train, X_test, y_train, y_test = train_test_split(X, y, test_size=0.3)\n",
        "X_train.shape, X_test.shape, y_train.shape, y_test.shape"
      ],
      "execution_count": 194,
      "outputs": [
        {
          "output_type": "execute_result",
          "data": {
            "text/plain": [
              "((623, 12), (268, 12), (623,), (268,))"
            ]
          },
          "metadata": {
            "tags": []
          },
          "execution_count": 194
        }
      ]
    },
    {
      "cell_type": "code",
      "metadata": {
        "colab": {
          "base_uri": "https://localhost:8080/"
        },
        "id": "FAQ_OE_VCeGw",
        "outputId": "f640136e-f536-48f3-f6d7-c02c55188a0b"
      },
      "source": [
        "model2 = LogisticRegression(max_iter=2000)\n",
        "model2.fit(X_train,y_train)\n",
        "model2.score(X_test,y_test)"
      ],
      "execution_count": 195,
      "outputs": [
        {
          "output_type": "execute_result",
          "data": {
            "text/plain": [
              "0.7910447761194029"
            ]
          },
          "metadata": {
            "tags": []
          },
          "execution_count": 195
        }
      ]
    },
    {
      "cell_type": "code",
      "metadata": {
        "colab": {
          "base_uri": "https://localhost:8080/"
        },
        "id": "Jxyga5sjDK1p",
        "outputId": "07790278-f6e0-4d0a-a314-de6e76d1abec"
      },
      "source": [
        "y_pred2_class = model2.predict(X_test)\n",
        "print(confusion_matrix(y_test, y_pred2_class))"
      ],
      "execution_count": 196,
      "outputs": [
        {
          "output_type": "stream",
          "text": [
            "[[139  26]\n",
            " [ 30  73]]\n"
          ],
          "name": "stdout"
        }
      ]
    },
    {
      "cell_type": "code",
      "metadata": {
        "colab": {
          "base_uri": "https://localhost:8080/"
        },
        "id": "66ikY7-BD7_j",
        "outputId": "b1f937b4-0165-4aef-cb67-2bae3a4d9c7d"
      },
      "source": [
        "cross_val_score(model2,X,y,cv=5).mean()"
      ],
      "execution_count": 197,
      "outputs": [
        {
          "output_type": "execute_result",
          "data": {
            "text/plain": [
              "0.7935095097608437"
            ]
          },
          "metadata": {
            "tags": []
          },
          "execution_count": 197
        }
      ]
    },
    {
      "cell_type": "markdown",
      "metadata": {
        "id": "NHrtlx8tSrGP"
      },
      "source": [
        "## Homework\n",
        "\n",
        "1. Remove the `random_state` parameter (if you have used), so that the data partition will be different every time, and run through the final modelling process a few times. Do the results change?\n",
        "\n",
        "2. Use cross-validation to assess the quality of the model when overfitting is controlled. Does the accuracy improve?\n",
        "\n",
        "3. Look at the `fpr` & `tpr` vectors for the best model."
      ]
    },
    {
      "cell_type": "markdown",
      "metadata": {
        "id": "RERADKgNFq9T"
      },
      "source": [
        "\n",
        "\n",
        "---\n",
        "\n",
        "\n",
        "\n",
        "---\n",
        "\n",
        "\n",
        "\n",
        "> > > > > > > > > © 2021 Institute of Data\n",
        "\n",
        "\n",
        "---\n",
        "\n",
        "\n",
        "\n",
        "---\n",
        "\n",
        "\n",
        "\n"
      ]
    }
  ]
}