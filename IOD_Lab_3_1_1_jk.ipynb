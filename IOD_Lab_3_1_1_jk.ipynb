{
  "nbformat": 4,
  "nbformat_minor": 0,
  "metadata": {
    "colab": {
      "name": "IOD_Lab 3.1.1.ipynb",
      "provenance": [],
      "collapsed_sections": [
        "CaWhHAk9NQtQ"
      ]
    },
    "kernelspec": {
      "display_name": "Python 3",
      "language": "python",
      "name": "python3"
    },
    "language_info": {
      "codemirror_mode": {
        "name": "ipython",
        "version": 3
      },
      "file_extension": ".py",
      "mimetype": "text/x-python",
      "name": "python",
      "nbconvert_exporter": "python",
      "pygments_lexer": "ipython3",
      "version": "3.8.5"
    },
    "varInspector": {
      "cols": {
        "lenName": 16,
        "lenType": 16,
        "lenVar": 40
      },
      "kernels_config": {
        "python": {
          "delete_cmd_postfix": "",
          "delete_cmd_prefix": "del ",
          "library": "var_list.py",
          "varRefreshCmd": "print(var_dic_list())"
        },
        "r": {
          "delete_cmd_postfix": ") ",
          "delete_cmd_prefix": "rm(",
          "library": "var_list.r",
          "varRefreshCmd": "cat(var_dic_list()) "
        }
      },
      "types_to_exclude": [
        "module",
        "function",
        "builtin_function_or_method",
        "instance",
        "_Feature"
      ],
      "window_display": false
    }
  },
  "cells": [
    {
      "cell_type": "markdown",
      "metadata": {
        "id": "PopLE1ywNQsa"
      },
      "source": [
        "<div>\n",
        "<img src=https://www.institutedata.com/wp-content/uploads/2019/10/iod_h_tp_primary_c.svg width=\"300\">\n",
        "</div>"
      ]
    },
    {
      "cell_type": "markdown",
      "metadata": {
        "id": "e45O_NedNQsd"
      },
      "source": [
        "# Lab 3.1.1 \n",
        "# *Data Wrangling and Munging with Pandas*"
      ]
    },
    {
      "cell_type": "markdown",
      "metadata": {
        "id": "Qr08YR1PNQsf"
      },
      "source": [
        "## Part 1: Wrangling Data"
      ]
    },
    {
      "cell_type": "markdown",
      "metadata": {
        "id": "RH9yA6LINQsh"
      },
      "source": [
        "The term \"data wrangling\" is analogous to capturing wild horses and getting them into a fenced area; the horses are data and the fencing is your computer. The more common data wrangling tasks include:\n",
        "\n",
        "- reading flat files\n",
        "- reading Excel files\n",
        "- downloading from web pages\n",
        "  - csv\n",
        "  - html\n",
        "  - json"
      ]
    },
    {
      "cell_type": "code",
      "metadata": {
        "id": "baKB6_WIBp_8"
      },
      "source": [
        "import numpy as np\n",
        "import pandas as pd"
      ],
      "execution_count": 1,
      "outputs": []
    },
    {
      "cell_type": "markdown",
      "metadata": {
        "id": "T8G9iecYNQsr"
      },
      "source": [
        "*It is good practice to display the library version numbers for future reference:*"
      ]
    },
    {
      "cell_type": "code",
      "metadata": {
        "colab": {
          "base_uri": "https://localhost:8080/"
        },
        "id": "MC0XSmScBqAD",
        "outputId": "1c0da963-8da5-43bd-8496-0970cfcab455"
      },
      "source": [
        "print('Numpy: ', np.__version__)\n",
        "print('Pandas: ', pd.__version__)"
      ],
      "execution_count": 2,
      "outputs": [
        {
          "output_type": "stream",
          "text": [
            "Numpy:  1.19.5\n",
            "Pandas:  1.1.5\n"
          ],
          "name": "stdout"
        }
      ]
    },
    {
      "cell_type": "markdown",
      "metadata": {
        "id": "mzTKAG1LNQsx"
      },
      "source": [
        "### CSV Files"
      ]
    },
    {
      "cell_type": "markdown",
      "metadata": {
        "id": "RE2wYKPNNQsy"
      },
      "source": [
        "Below are three attempts to load the file \"bikeshare.csv\" into a DataFrame named `bikes`. Why are they wrong?"
      ]
    },
    {
      "cell_type": "code",
      "metadata": {
        "colab": {
          "base_uri": "https://localhost:8080/"
        },
        "id": "ZV2HMWarNQsz",
        "outputId": "1020ad9a-269e-468b-e553-54f30f2715e1"
      },
      "source": [
        "# wrong:\n",
        "bikes = pd.read_table('bikeshare.csv', header = None)\n",
        "print(bikes.head())\n",
        "print()\n",
        "\n",
        "# wrong:\n",
        "bikes = pd.read_table('bikeshare.csv', header = 1)\n",
        "print(bikes.head())\n",
        "print()\n",
        "\n",
        "# wrong:\n",
        "bikes = pd.read_table('bikeshare.csv', header = 0)\n",
        "print(bikes.head())"
      ],
      "execution_count": 5,
      "outputs": [
        {
          "output_type": "stream",
          "text": [
            "                                                   0\n",
            "0  instant,dteday,season,yr,mnth,hr,holiday,weekd...\n",
            "1  1,2011-01-01,1,0,1,0,0,6,0,1,0.24,0.2879,0.81,...\n",
            "2  2,2011-01-01,1,0,1,1,0,6,0,1,0.22,0.2727,0.8,0...\n",
            "3  3,2011-01-01,1,0,1,2,0,6,0,1,0.22,0.2727,0.8,0...\n",
            "4  4,2011-01-01,1,0,1,3,0,6,0,1,0.24,0.2879,0.75,...\n",
            "\n",
            "  1,2011-01-01,1,0,1,0,0,6,0,1,0.24,0.2879,0.81,0,3,13,16\n",
            "0  2,2011-01-01,1,0,1,1,0,6,0,1,0.22,0.2727,0.8,0...     \n",
            "1  3,2011-01-01,1,0,1,2,0,6,0,1,0.22,0.2727,0.8,0...     \n",
            "2  4,2011-01-01,1,0,1,3,0,6,0,1,0.24,0.2879,0.75,...     \n",
            "3  5,2011-01-01,1,0,1,4,0,6,0,1,0.24,0.2879,0.75,...     \n",
            "4  6,2011-01-01,1,0,1,5,0,6,0,2,0.24,0.2576,0.75,...     \n",
            "\n",
            "  instant,dteday,season,yr,mnth,hr,holiday,weekday,workingday,weathersit,temp,atemp,hum,windspeed,casual,registered,cnt\n",
            "0  1,2011-01-01,1,0,1,0,0,6,0,1,0.24,0.2879,0.81,...                                                                   \n",
            "1  2,2011-01-01,1,0,1,1,0,6,0,1,0.22,0.2727,0.8,0...                                                                   \n",
            "2  3,2011-01-01,1,0,1,2,0,6,0,1,0.22,0.2727,0.8,0...                                                                   \n",
            "3  4,2011-01-01,1,0,1,3,0,6,0,1,0.24,0.2879,0.75,...                                                                   \n",
            "4  5,2011-01-01,1,0,1,4,0,6,0,1,0.24,0.2879,0.75,...                                                                   \n"
          ],
          "name": "stdout"
        }
      ]
    },
    {
      "cell_type": "markdown",
      "metadata": {
        "id": "SSiMJN9NNQs4"
      },
      "source": [
        "?:\n",
        "ANSWER: Case 1 treats headings as just another data row. Case 2 treats the 1st data row as the column header. Case 3 gets the header right (row 0), but reads each row as a single column (Nb. the other two make that same mistake). "
      ]
    },
    {
      "cell_type": "markdown",
      "metadata": {
        "id": "GDFYVoPINQs6"
      },
      "source": [
        "Load the file \"bikeshare.csv\" into a DataFrame named `bikes`, and confirm that it was loaded properly:"
      ]
    },
    {
      "cell_type": "code",
      "metadata": {
        "colab": {
          "base_uri": "https://localhost:8080/",
          "height": 205
        },
        "id": "wH2wuPznNQs8",
        "outputId": "9f0d0e17-ec6f-4c14-e710-9cdcafb3cf03"
      },
      "source": [
        "bikes = pd.read_csv('bikeshare.csv')\n",
        "bikes.head()\n"
      ],
      "execution_count": 6,
      "outputs": [
        {
          "output_type": "execute_result",
          "data": {
            "text/html": [
              "<div>\n",
              "<style scoped>\n",
              "    .dataframe tbody tr th:only-of-type {\n",
              "        vertical-align: middle;\n",
              "    }\n",
              "\n",
              "    .dataframe tbody tr th {\n",
              "        vertical-align: top;\n",
              "    }\n",
              "\n",
              "    .dataframe thead th {\n",
              "        text-align: right;\n",
              "    }\n",
              "</style>\n",
              "<table border=\"1\" class=\"dataframe\">\n",
              "  <thead>\n",
              "    <tr style=\"text-align: right;\">\n",
              "      <th></th>\n",
              "      <th>instant</th>\n",
              "      <th>dteday</th>\n",
              "      <th>season</th>\n",
              "      <th>yr</th>\n",
              "      <th>mnth</th>\n",
              "      <th>hr</th>\n",
              "      <th>holiday</th>\n",
              "      <th>weekday</th>\n",
              "      <th>workingday</th>\n",
              "      <th>weathersit</th>\n",
              "      <th>temp</th>\n",
              "      <th>atemp</th>\n",
              "      <th>hum</th>\n",
              "      <th>windspeed</th>\n",
              "      <th>casual</th>\n",
              "      <th>registered</th>\n",
              "      <th>cnt</th>\n",
              "    </tr>\n",
              "  </thead>\n",
              "  <tbody>\n",
              "    <tr>\n",
              "      <th>0</th>\n",
              "      <td>1</td>\n",
              "      <td>2011-01-01</td>\n",
              "      <td>1</td>\n",
              "      <td>0</td>\n",
              "      <td>1</td>\n",
              "      <td>0</td>\n",
              "      <td>0</td>\n",
              "      <td>6</td>\n",
              "      <td>0</td>\n",
              "      <td>1</td>\n",
              "      <td>0.24</td>\n",
              "      <td>0.2879</td>\n",
              "      <td>0.81</td>\n",
              "      <td>0.0</td>\n",
              "      <td>3</td>\n",
              "      <td>13</td>\n",
              "      <td>16</td>\n",
              "    </tr>\n",
              "    <tr>\n",
              "      <th>1</th>\n",
              "      <td>2</td>\n",
              "      <td>2011-01-01</td>\n",
              "      <td>1</td>\n",
              "      <td>0</td>\n",
              "      <td>1</td>\n",
              "      <td>1</td>\n",
              "      <td>0</td>\n",
              "      <td>6</td>\n",
              "      <td>0</td>\n",
              "      <td>1</td>\n",
              "      <td>0.22</td>\n",
              "      <td>0.2727</td>\n",
              "      <td>0.80</td>\n",
              "      <td>0.0</td>\n",
              "      <td>8</td>\n",
              "      <td>32</td>\n",
              "      <td>40</td>\n",
              "    </tr>\n",
              "    <tr>\n",
              "      <th>2</th>\n",
              "      <td>3</td>\n",
              "      <td>2011-01-01</td>\n",
              "      <td>1</td>\n",
              "      <td>0</td>\n",
              "      <td>1</td>\n",
              "      <td>2</td>\n",
              "      <td>0</td>\n",
              "      <td>6</td>\n",
              "      <td>0</td>\n",
              "      <td>1</td>\n",
              "      <td>0.22</td>\n",
              "      <td>0.2727</td>\n",
              "      <td>0.80</td>\n",
              "      <td>0.0</td>\n",
              "      <td>5</td>\n",
              "      <td>27</td>\n",
              "      <td>32</td>\n",
              "    </tr>\n",
              "    <tr>\n",
              "      <th>3</th>\n",
              "      <td>4</td>\n",
              "      <td>2011-01-01</td>\n",
              "      <td>1</td>\n",
              "      <td>0</td>\n",
              "      <td>1</td>\n",
              "      <td>3</td>\n",
              "      <td>0</td>\n",
              "      <td>6</td>\n",
              "      <td>0</td>\n",
              "      <td>1</td>\n",
              "      <td>0.24</td>\n",
              "      <td>0.2879</td>\n",
              "      <td>0.75</td>\n",
              "      <td>0.0</td>\n",
              "      <td>3</td>\n",
              "      <td>10</td>\n",
              "      <td>13</td>\n",
              "    </tr>\n",
              "    <tr>\n",
              "      <th>4</th>\n",
              "      <td>5</td>\n",
              "      <td>2011-01-01</td>\n",
              "      <td>1</td>\n",
              "      <td>0</td>\n",
              "      <td>1</td>\n",
              "      <td>4</td>\n",
              "      <td>0</td>\n",
              "      <td>6</td>\n",
              "      <td>0</td>\n",
              "      <td>1</td>\n",
              "      <td>0.24</td>\n",
              "      <td>0.2879</td>\n",
              "      <td>0.75</td>\n",
              "      <td>0.0</td>\n",
              "      <td>0</td>\n",
              "      <td>1</td>\n",
              "      <td>1</td>\n",
              "    </tr>\n",
              "  </tbody>\n",
              "</table>\n",
              "</div>"
            ],
            "text/plain": [
              "   instant      dteday  season  yr  ...  windspeed  casual  registered  cnt\n",
              "0        1  2011-01-01       1   0  ...        0.0       3          13   16\n",
              "1        2  2011-01-01       1   0  ...        0.0       8          32   40\n",
              "2        3  2011-01-01       1   0  ...        0.0       5          27   32\n",
              "3        4  2011-01-01       1   0  ...        0.0       3          10   13\n",
              "4        5  2011-01-01       1   0  ...        0.0       0           1    1\n",
              "\n",
              "[5 rows x 17 columns]"
            ]
          },
          "metadata": {
            "tags": []
          },
          "execution_count": 6
        }
      ]
    },
    {
      "cell_type": "markdown",
      "metadata": {
        "id": "zEwczD29NQtA"
      },
      "source": [
        "Note that we could have used `read.csv()` above. When is `read_table()` necessary?"
      ]
    },
    {
      "cell_type": "markdown",
      "metadata": {
        "id": "8OsmNWLXNQtB"
      },
      "source": [
        "?:\n",
        "ANSWER: When `sep` is not the comma character, or we need fine control that `read.csv()` does not provide."
      ]
    },
    {
      "cell_type": "markdown",
      "metadata": {
        "id": "pPEoeHGGNQtC"
      },
      "source": [
        "Flat files can be full of surprises. Here are some issues to watch out for:\n",
        "\n",
        "- separator character is something other than the comma\n",
        "  - \";\", \"|\", and tab are popular\n",
        "- newline character is something other than what the O/S expects \n",
        "  - Tip: Don't hard-code the character codes for carriage returns, linefeeds, etc. Use Python's built-in representation instead (e.g. Python translates \"\\n\" to the newline character and \"\\t\" to the tab character on any O/S).\n",
        "- truncated lines\n",
        "  - if there are empty fields at the end of a line it is possible that their separators will be missing, resulting in a \"jagged\" file\n",
        "- embedded commas or quotes\n",
        "  - a free-text field containing embedded commas may split into separate fields on input\n",
        "  - a free-text field containing embedded quotes may not parse correctly\n",
        "- unescaped characters\n",
        "  - the \"\\\" character indicates a control code to Python, which will break the I/O\n",
        "    - e.g. the substring \"\\u0123\" will be interpreted as Unicode(0123) -- which may not be what the file creator intended\n",
        "  - these may need to be fixed by loading whole strings and then parsing into a new data frame\n",
        "  \n",
        "Tip: Most issues can be delth with by correctly specifying the parameters of the function you use to load the file. Read the doco before reading the data!"
      ]
    },
    {
      "cell_type": "markdown",
      "metadata": {
        "id": "Q0G5PtA2NQtC"
      },
      "source": [
        "### Reading Excel Files"
      ]
    },
    {
      "cell_type": "code",
      "metadata": {
        "id": "TYELgCw6NQtD"
      },
      "source": [
        "from pandas import ExcelFile  # Nb. Need to install xlrd from conda (it does not automatically install with pandas)"
      ],
      "execution_count": 7,
      "outputs": []
    },
    {
      "cell_type": "code",
      "metadata": {
        "colab": {
          "base_uri": "https://localhost:8080/",
          "height": 422
        },
        "id": "XDjzKP6nNQtF",
        "outputId": "bec218db-8f82-4efb-8af4-aeb8545405d9"
      },
      "source": [
        "df = pd.read_excel('Iris.xls', sheet_name = 'Data')\n",
        "df"
      ],
      "execution_count": 8,
      "outputs": [
        {
          "output_type": "execute_result",
          "data": {
            "text/html": [
              "<div>\n",
              "<style scoped>\n",
              "    .dataframe tbody tr th:only-of-type {\n",
              "        vertical-align: middle;\n",
              "    }\n",
              "\n",
              "    .dataframe tbody tr th {\n",
              "        vertical-align: top;\n",
              "    }\n",
              "\n",
              "    .dataframe thead th {\n",
              "        text-align: right;\n",
              "    }\n",
              "</style>\n",
              "<table border=\"1\" class=\"dataframe\">\n",
              "  <thead>\n",
              "    <tr style=\"text-align: right;\">\n",
              "      <th></th>\n",
              "      <th>Species_No</th>\n",
              "      <th>Petal_width</th>\n",
              "      <th>Petal_length</th>\n",
              "      <th>Sepal_width</th>\n",
              "      <th>Sepal_length</th>\n",
              "      <th>Species_name</th>\n",
              "    </tr>\n",
              "  </thead>\n",
              "  <tbody>\n",
              "    <tr>\n",
              "      <th>0</th>\n",
              "      <td>1</td>\n",
              "      <td>0.2</td>\n",
              "      <td>1.4</td>\n",
              "      <td>3.5</td>\n",
              "      <td>5.1</td>\n",
              "      <td>Setosa</td>\n",
              "    </tr>\n",
              "    <tr>\n",
              "      <th>1</th>\n",
              "      <td>1</td>\n",
              "      <td>0.2</td>\n",
              "      <td>1.4</td>\n",
              "      <td>3.0</td>\n",
              "      <td>4.9</td>\n",
              "      <td>Setosa</td>\n",
              "    </tr>\n",
              "    <tr>\n",
              "      <th>2</th>\n",
              "      <td>1</td>\n",
              "      <td>0.2</td>\n",
              "      <td>1.3</td>\n",
              "      <td>3.2</td>\n",
              "      <td>4.7</td>\n",
              "      <td>Setosa</td>\n",
              "    </tr>\n",
              "    <tr>\n",
              "      <th>3</th>\n",
              "      <td>1</td>\n",
              "      <td>0.2</td>\n",
              "      <td>1.5</td>\n",
              "      <td>3.1</td>\n",
              "      <td>4.6</td>\n",
              "      <td>Setosa</td>\n",
              "    </tr>\n",
              "    <tr>\n",
              "      <th>4</th>\n",
              "      <td>1</td>\n",
              "      <td>0.2</td>\n",
              "      <td>1.4</td>\n",
              "      <td>3.6</td>\n",
              "      <td>5.0</td>\n",
              "      <td>Setosa</td>\n",
              "    </tr>\n",
              "    <tr>\n",
              "      <th>...</th>\n",
              "      <td>...</td>\n",
              "      <td>...</td>\n",
              "      <td>...</td>\n",
              "      <td>...</td>\n",
              "      <td>...</td>\n",
              "      <td>...</td>\n",
              "    </tr>\n",
              "    <tr>\n",
              "      <th>145</th>\n",
              "      <td>3</td>\n",
              "      <td>2.3</td>\n",
              "      <td>5.2</td>\n",
              "      <td>3.0</td>\n",
              "      <td>6.7</td>\n",
              "      <td>Verginica</td>\n",
              "    </tr>\n",
              "    <tr>\n",
              "      <th>146</th>\n",
              "      <td>3</td>\n",
              "      <td>1.9</td>\n",
              "      <td>5.0</td>\n",
              "      <td>2.5</td>\n",
              "      <td>6.3</td>\n",
              "      <td>Verginica</td>\n",
              "    </tr>\n",
              "    <tr>\n",
              "      <th>147</th>\n",
              "      <td>3</td>\n",
              "      <td>2.0</td>\n",
              "      <td>5.2</td>\n",
              "      <td>3.0</td>\n",
              "      <td>6.5</td>\n",
              "      <td>Verginica</td>\n",
              "    </tr>\n",
              "    <tr>\n",
              "      <th>148</th>\n",
              "      <td>3</td>\n",
              "      <td>2.3</td>\n",
              "      <td>5.4</td>\n",
              "      <td>3.4</td>\n",
              "      <td>6.2</td>\n",
              "      <td>Verginica</td>\n",
              "    </tr>\n",
              "    <tr>\n",
              "      <th>149</th>\n",
              "      <td>3</td>\n",
              "      <td>1.8</td>\n",
              "      <td>5.1</td>\n",
              "      <td>3.0</td>\n",
              "      <td>5.9</td>\n",
              "      <td>Verginica</td>\n",
              "    </tr>\n",
              "  </tbody>\n",
              "</table>\n",
              "<p>150 rows × 6 columns</p>\n",
              "</div>"
            ],
            "text/plain": [
              "     Species_No  Petal_width  ...  Sepal_length  Species_name\n",
              "0             1          0.2  ...           5.1        Setosa\n",
              "1             1          0.2  ...           4.9        Setosa\n",
              "2             1          0.2  ...           4.7        Setosa\n",
              "3             1          0.2  ...           4.6        Setosa\n",
              "4             1          0.2  ...           5.0        Setosa\n",
              "..          ...          ...  ...           ...           ...\n",
              "145           3          2.3  ...           6.7     Verginica\n",
              "146           3          1.9  ...           6.3     Verginica\n",
              "147           3          2.0  ...           6.5     Verginica\n",
              "148           3          2.3  ...           6.2     Verginica\n",
              "149           3          1.8  ...           5.9     Verginica\n",
              "\n",
              "[150 rows x 6 columns]"
            ]
          },
          "metadata": {
            "tags": []
          },
          "execution_count": 8
        }
      ]
    },
    {
      "cell_type": "markdown",
      "metadata": {
        "id": "x0a2XhAZNQtH"
      },
      "source": [
        "So, this file appears to have an embedded table of aggregates on the same sheet as the raw data (a naughty but common practice amongst analysts)."
      ]
    },
    {
      "cell_type": "markdown",
      "metadata": {
        "id": "ZjWx-Xo0NQtH"
      },
      "source": [
        "It is usually better to load data correctly than to meddle with the source file or load it 'warts and all' and then try to parse it in code. The Pandas functions for reading files have parameters that provide the control we need. For ecxample, we could make multiple calls to `read_excel()`, using combinations of the `header`, `usecols`, `skiprows`, `nrows`, and `skipfooter` parameters to load one table at a time from a spreadsheet with multiple tables."
      ]
    },
    {
      "cell_type": "markdown",
      "metadata": {
        "id": "tC5kzTsMNQtI"
      },
      "source": [
        "Load the above file without the unwanted columns:"
      ]
    },
    {
      "cell_type": "code",
      "metadata": {
        "colab": {
          "base_uri": "https://localhost:8080/",
          "height": 422
        },
        "id": "-P70uSXsNQtI",
        "outputId": "dc115e42-3c05-4cb9-9f1d-45f8721f7e03"
      },
      "source": [
        "df.reset_index(drop=True)\n"
      ],
      "execution_count": 9,
      "outputs": [
        {
          "output_type": "execute_result",
          "data": {
            "text/html": [
              "<div>\n",
              "<style scoped>\n",
              "    .dataframe tbody tr th:only-of-type {\n",
              "        vertical-align: middle;\n",
              "    }\n",
              "\n",
              "    .dataframe tbody tr th {\n",
              "        vertical-align: top;\n",
              "    }\n",
              "\n",
              "    .dataframe thead th {\n",
              "        text-align: right;\n",
              "    }\n",
              "</style>\n",
              "<table border=\"1\" class=\"dataframe\">\n",
              "  <thead>\n",
              "    <tr style=\"text-align: right;\">\n",
              "      <th></th>\n",
              "      <th>Species_No</th>\n",
              "      <th>Petal_width</th>\n",
              "      <th>Petal_length</th>\n",
              "      <th>Sepal_width</th>\n",
              "      <th>Sepal_length</th>\n",
              "      <th>Species_name</th>\n",
              "    </tr>\n",
              "  </thead>\n",
              "  <tbody>\n",
              "    <tr>\n",
              "      <th>0</th>\n",
              "      <td>1</td>\n",
              "      <td>0.2</td>\n",
              "      <td>1.4</td>\n",
              "      <td>3.5</td>\n",
              "      <td>5.1</td>\n",
              "      <td>Setosa</td>\n",
              "    </tr>\n",
              "    <tr>\n",
              "      <th>1</th>\n",
              "      <td>1</td>\n",
              "      <td>0.2</td>\n",
              "      <td>1.4</td>\n",
              "      <td>3.0</td>\n",
              "      <td>4.9</td>\n",
              "      <td>Setosa</td>\n",
              "    </tr>\n",
              "    <tr>\n",
              "      <th>2</th>\n",
              "      <td>1</td>\n",
              "      <td>0.2</td>\n",
              "      <td>1.3</td>\n",
              "      <td>3.2</td>\n",
              "      <td>4.7</td>\n",
              "      <td>Setosa</td>\n",
              "    </tr>\n",
              "    <tr>\n",
              "      <th>3</th>\n",
              "      <td>1</td>\n",
              "      <td>0.2</td>\n",
              "      <td>1.5</td>\n",
              "      <td>3.1</td>\n",
              "      <td>4.6</td>\n",
              "      <td>Setosa</td>\n",
              "    </tr>\n",
              "    <tr>\n",
              "      <th>4</th>\n",
              "      <td>1</td>\n",
              "      <td>0.2</td>\n",
              "      <td>1.4</td>\n",
              "      <td>3.6</td>\n",
              "      <td>5.0</td>\n",
              "      <td>Setosa</td>\n",
              "    </tr>\n",
              "    <tr>\n",
              "      <th>...</th>\n",
              "      <td>...</td>\n",
              "      <td>...</td>\n",
              "      <td>...</td>\n",
              "      <td>...</td>\n",
              "      <td>...</td>\n",
              "      <td>...</td>\n",
              "    </tr>\n",
              "    <tr>\n",
              "      <th>145</th>\n",
              "      <td>3</td>\n",
              "      <td>2.3</td>\n",
              "      <td>5.2</td>\n",
              "      <td>3.0</td>\n",
              "      <td>6.7</td>\n",
              "      <td>Verginica</td>\n",
              "    </tr>\n",
              "    <tr>\n",
              "      <th>146</th>\n",
              "      <td>3</td>\n",
              "      <td>1.9</td>\n",
              "      <td>5.0</td>\n",
              "      <td>2.5</td>\n",
              "      <td>6.3</td>\n",
              "      <td>Verginica</td>\n",
              "    </tr>\n",
              "    <tr>\n",
              "      <th>147</th>\n",
              "      <td>3</td>\n",
              "      <td>2.0</td>\n",
              "      <td>5.2</td>\n",
              "      <td>3.0</td>\n",
              "      <td>6.5</td>\n",
              "      <td>Verginica</td>\n",
              "    </tr>\n",
              "    <tr>\n",
              "      <th>148</th>\n",
              "      <td>3</td>\n",
              "      <td>2.3</td>\n",
              "      <td>5.4</td>\n",
              "      <td>3.4</td>\n",
              "      <td>6.2</td>\n",
              "      <td>Verginica</td>\n",
              "    </tr>\n",
              "    <tr>\n",
              "      <th>149</th>\n",
              "      <td>3</td>\n",
              "      <td>1.8</td>\n",
              "      <td>5.1</td>\n",
              "      <td>3.0</td>\n",
              "      <td>5.9</td>\n",
              "      <td>Verginica</td>\n",
              "    </tr>\n",
              "  </tbody>\n",
              "</table>\n",
              "<p>150 rows × 6 columns</p>\n",
              "</div>"
            ],
            "text/plain": [
              "     Species_No  Petal_width  ...  Sepal_length  Species_name\n",
              "0             1          0.2  ...           5.1        Setosa\n",
              "1             1          0.2  ...           4.9        Setosa\n",
              "2             1          0.2  ...           4.7        Setosa\n",
              "3             1          0.2  ...           4.6        Setosa\n",
              "4             1          0.2  ...           5.0        Setosa\n",
              "..          ...          ...  ...           ...           ...\n",
              "145           3          2.3  ...           6.7     Verginica\n",
              "146           3          1.9  ...           6.3     Verginica\n",
              "147           3          2.0  ...           6.5     Verginica\n",
              "148           3          2.3  ...           6.2     Verginica\n",
              "149           3          1.8  ...           5.9     Verginica\n",
              "\n",
              "[150 rows x 6 columns]"
            ]
          },
          "metadata": {
            "tags": []
          },
          "execution_count": 9
        }
      ]
    },
    {
      "cell_type": "markdown",
      "metadata": {
        "id": "pTkOz1KsNQtK"
      },
      "source": [
        "### Importing Data Directly from the Web"
      ]
    },
    {
      "cell_type": "markdown",
      "metadata": {
        "id": "cFHi_S4fNQtK"
      },
      "source": [
        "We usually want to store a local copy of a data file that we download from the Web, but when data retention is not a priority it is convenient to download the data directly into our running Python environment."
      ]
    },
    {
      "cell_type": "markdown",
      "metadata": {
        "id": "jS7P3oXQNQtL"
      },
      "source": [
        "#### Importing Text Files from the Web"
      ]
    },
    {
      "cell_type": "markdown",
      "metadata": {
        "id": "v-hzkxRRNQtL"
      },
      "source": [
        "The web is the 'wild west' of data formats. However, we can usually expect good behaviour from files that are automatically generated by a service, such as the earthquake report:"
      ]
    },
    {
      "cell_type": "code",
      "metadata": {
        "colab": {
          "base_uri": "https://localhost:8080/",
          "height": 49
        },
        "id": "QFuaZ82hNQtM",
        "outputId": "c40233ed-d491-46c9-9700-b1bc1ef2c4fa"
      },
      "source": [
        "df = pd.read_csv('https://earthquake.usgs.gov/earthquakes/feed/v1.0/summary/2.5_hour.csv')\n",
        "df.head()"
      ],
      "execution_count": 10,
      "outputs": [
        {
          "output_type": "execute_result",
          "data": {
            "text/html": [
              "<div>\n",
              "<style scoped>\n",
              "    .dataframe tbody tr th:only-of-type {\n",
              "        vertical-align: middle;\n",
              "    }\n",
              "\n",
              "    .dataframe tbody tr th {\n",
              "        vertical-align: top;\n",
              "    }\n",
              "\n",
              "    .dataframe thead th {\n",
              "        text-align: right;\n",
              "    }\n",
              "</style>\n",
              "<table border=\"1\" class=\"dataframe\">\n",
              "  <thead>\n",
              "    <tr style=\"text-align: right;\">\n",
              "      <th></th>\n",
              "      <th>time</th>\n",
              "      <th>latitude</th>\n",
              "      <th>longitude</th>\n",
              "      <th>depth</th>\n",
              "      <th>mag</th>\n",
              "      <th>magType</th>\n",
              "      <th>nst</th>\n",
              "      <th>gap</th>\n",
              "      <th>dmin</th>\n",
              "      <th>rms</th>\n",
              "      <th>net</th>\n",
              "      <th>id</th>\n",
              "      <th>updated</th>\n",
              "      <th>place</th>\n",
              "      <th>type</th>\n",
              "      <th>horizontalError</th>\n",
              "      <th>depthError</th>\n",
              "      <th>magError</th>\n",
              "      <th>magNst</th>\n",
              "      <th>status</th>\n",
              "      <th>locationSource</th>\n",
              "      <th>magSource</th>\n",
              "    </tr>\n",
              "  </thead>\n",
              "  <tbody>\n",
              "  </tbody>\n",
              "</table>\n",
              "</div>"
            ],
            "text/plain": [
              "Empty DataFrame\n",
              "Columns: [time, latitude, longitude, depth, mag, magType, nst, gap, dmin, rms, net, id, updated, place, type, horizontalError, depthError, magError, magNst, status, locationSource, magSource]\n",
              "Index: []"
            ]
          },
          "metadata": {
            "tags": []
          },
          "execution_count": 10
        }
      ]
    },
    {
      "cell_type": "markdown",
      "metadata": {
        "id": "kGgcXCzyNQtN"
      },
      "source": [
        "#### Importing HTML Files from the Web\n",
        "\n",
        "Working with unstructured HTML files relies heavily on library functions. This one, however, is well-structured:"
      ]
    },
    {
      "cell_type": "code",
      "metadata": {
        "colab": {
          "base_uri": "https://localhost:8080/"
        },
        "id": "F4oVabZ6NQtO",
        "outputId": "5c8f63e2-668f-4dbd-c165-ea974f745441"
      },
      "source": [
        "url = 'https://www.fdic.gov/resources/resolutions/bank-failures/failed-bank-list/'\n",
        "\n",
        "df = pd.read_html(url)\n",
        "df"
      ],
      "execution_count": 11,
      "outputs": [
        {
          "output_type": "execute_result",
          "data": {
            "text/plain": [
              "[                         Bank NameBank  ... FundFund\n",
              " 0                    Almena State Bank  ...    10538\n",
              " 1           First City Bank of Florida  ...    10537\n",
              " 2                 The First State Bank  ...    10536\n",
              " 3                   Ericson State Bank  ...    10535\n",
              " 4     City National Bank of New Jersey  ...    10534\n",
              " ..                                 ...  ...      ...\n",
              " 558                 Superior Bank, FSB  ...     6004\n",
              " 559                Malta National Bank  ...     4648\n",
              " 560    First Alliance Bank & Trust Co.  ...     4647\n",
              " 561  National State Bank of Metropolis  ...     4646\n",
              " 562                   Bank of Honolulu  ...     4645\n",
              " \n",
              " [563 rows x 7 columns]]"
            ]
          },
          "metadata": {
            "tags": []
          },
          "execution_count": 11
        }
      ]
    },
    {
      "cell_type": "markdown",
      "metadata": {
        "id": "CaWhHAk9NQtQ"
      },
      "source": [
        "#### Importing XML Files from the Web\n",
        "\n",
        "XML files are semi-structured, but you're at the mercy of the file creator. If every record has the same format it will be much easier, but practical applications often require a lot of custom code. Here is an example that includes a nice parser class: http://www.austintaylor.io/lxml/python/pandas/xml/dataframe/2016/07/08/convert-xml-to-pandas-dataframe/"
      ]
    },
    {
      "cell_type": "markdown",
      "metadata": {
        "id": "ppLnAmKVNQtQ"
      },
      "source": [
        "#### Importing JSON Files from the Web\n",
        "\n",
        "Like XML, JSON files are semi-structured and may require work to capture the schema into a dataframe. Here is a simple example: "
      ]
    },
    {
      "cell_type": "code",
      "metadata": {
        "colab": {
          "base_uri": "https://localhost:8080/",
          "height": 205
        },
        "id": "8VB9EoRrNQtS",
        "outputId": "d0d98e48-302a-4f38-c3c7-ff42ee17adff"
      },
      "source": [
        "url = 'https://raw.githubusercontent.com/chrisalbon/simulated_datasets/master/data.json'\n",
        "\n",
        "# Load the first sheet of the JSON file into a data frame\n",
        "df = pd.read_json(url, orient = 'columns')\n",
        "df.head()"
      ],
      "execution_count": 12,
      "outputs": [
        {
          "output_type": "execute_result",
          "data": {
            "text/html": [
              "<div>\n",
              "<style scoped>\n",
              "    .dataframe tbody tr th:only-of-type {\n",
              "        vertical-align: middle;\n",
              "    }\n",
              "\n",
              "    .dataframe tbody tr th {\n",
              "        vertical-align: top;\n",
              "    }\n",
              "\n",
              "    .dataframe thead th {\n",
              "        text-align: right;\n",
              "    }\n",
              "</style>\n",
              "<table border=\"1\" class=\"dataframe\">\n",
              "  <thead>\n",
              "    <tr style=\"text-align: right;\">\n",
              "      <th></th>\n",
              "      <th>integer</th>\n",
              "      <th>datetime</th>\n",
              "      <th>category</th>\n",
              "    </tr>\n",
              "  </thead>\n",
              "  <tbody>\n",
              "    <tr>\n",
              "      <th>0</th>\n",
              "      <td>5</td>\n",
              "      <td>2015-01-01 00:00:00</td>\n",
              "      <td>0</td>\n",
              "    </tr>\n",
              "    <tr>\n",
              "      <th>1</th>\n",
              "      <td>5</td>\n",
              "      <td>2015-01-01 00:00:01</td>\n",
              "      <td>0</td>\n",
              "    </tr>\n",
              "    <tr>\n",
              "      <th>2</th>\n",
              "      <td>9</td>\n",
              "      <td>2015-01-01 00:00:02</td>\n",
              "      <td>0</td>\n",
              "    </tr>\n",
              "    <tr>\n",
              "      <th>3</th>\n",
              "      <td>6</td>\n",
              "      <td>2015-01-01 00:00:03</td>\n",
              "      <td>0</td>\n",
              "    </tr>\n",
              "    <tr>\n",
              "      <th>4</th>\n",
              "      <td>6</td>\n",
              "      <td>2015-01-01 00:00:04</td>\n",
              "      <td>0</td>\n",
              "    </tr>\n",
              "  </tbody>\n",
              "</table>\n",
              "</div>"
            ],
            "text/plain": [
              "   integer            datetime  category\n",
              "0        5 2015-01-01 00:00:00         0\n",
              "1        5 2015-01-01 00:00:01         0\n",
              "2        9 2015-01-01 00:00:02         0\n",
              "3        6 2015-01-01 00:00:03         0\n",
              "4        6 2015-01-01 00:00:04         0"
            ]
          },
          "metadata": {
            "tags": []
          },
          "execution_count": 12
        }
      ]
    },
    {
      "cell_type": "markdown",
      "metadata": {
        "id": "fIArBrFFNQtV"
      },
      "source": [
        "## Part 2: Data Munging"
      ]
    },
    {
      "cell_type": "markdown",
      "metadata": {
        "id": "6aFUJrhENQtW"
      },
      "source": [
        "Data munging is manipulating data to get it into a form that we can start running analyses on (which usually means getting the data into a DataFrame). Before we get to this stage, we may need to remove headers or footers, transpose columns to rows, split wide data tables into long ones, and so on. (Nb. Excel files can be particularly troublesome, because users can format their data in mixed, complex shapes.) Essentially, we need to follow Hadley Wickham's guidelines for tidy datasets (http://vita.had.co.nz/papers/tidy-data.html):\n",
        "\n",
        "The end goal of the cleaning data process:\n",
        "\n",
        "- each variable should be in one column\n",
        "- each observation should comprise one row\n",
        "- each type of observational unit should form one table\n",
        "- include key columns for linking multiple tables\n",
        "- the top row contains (sensible) variable names\n",
        "- in general, save data as one file per table\n"
      ]
    },
    {
      "cell_type": "markdown",
      "metadata": {
        "id": "Kmjox61xNQtW"
      },
      "source": [
        "### Dataset Morphology"
      ]
    },
    {
      "cell_type": "markdown",
      "metadata": {
        "id": "29PQdqUMNQtX"
      },
      "source": [
        "Once we have our dataset in a DataFrame (or Series, if our data is only 1-dimensional), we can start examining its size and content."
      ]
    },
    {
      "cell_type": "markdown",
      "metadata": {
        "id": "04lspVeiNQtY"
      },
      "source": [
        "How many rows and columns are in `bikes`?"
      ]
    },
    {
      "cell_type": "code",
      "metadata": {
        "colab": {
          "base_uri": "https://localhost:8080/"
        },
        "id": "DkO6SxSmNQtY",
        "outputId": "7f1456bb-03eb-4482-cafd-e09fa67f2b30"
      },
      "source": [
        "bikes.shape\n"
      ],
      "execution_count": 13,
      "outputs": [
        {
          "output_type": "execute_result",
          "data": {
            "text/plain": [
              "(17379, 17)"
            ]
          },
          "metadata": {
            "tags": []
          },
          "execution_count": 13
        }
      ]
    },
    {
      "cell_type": "markdown",
      "metadata": {
        "id": "camJWA-DNQta"
      },
      "source": [
        "What are the column names in `bikes`?"
      ]
    },
    {
      "cell_type": "code",
      "metadata": {
        "colab": {
          "base_uri": "https://localhost:8080/"
        },
        "id": "jDzIHgjXNQtb",
        "outputId": "7a6397a6-317a-4995-880a-73767ddcd165"
      },
      "source": [
        "bikes.columns\n"
      ],
      "execution_count": 14,
      "outputs": [
        {
          "output_type": "execute_result",
          "data": {
            "text/plain": [
              "Index(['instant', 'dteday', 'season', 'yr', 'mnth', 'hr', 'holiday', 'weekday',\n",
              "       'workingday', 'weathersit', 'temp', 'atemp', 'hum', 'windspeed',\n",
              "       'casual', 'registered', 'cnt'],\n",
              "      dtype='object')"
            ]
          },
          "metadata": {
            "tags": []
          },
          "execution_count": 14
        }
      ]
    },
    {
      "cell_type": "markdown",
      "metadata": {
        "id": "iL7Cm_4NNQtc"
      },
      "source": [
        "What are the data types of these columns?"
      ]
    },
    {
      "cell_type": "code",
      "metadata": {
        "colab": {
          "base_uri": "https://localhost:8080/"
        },
        "id": "LtKQtrdSNQtd",
        "outputId": "f1c6d84f-2030-4e66-c3cb-a31e16aa5db9"
      },
      "source": [
        "bikes.dtypes\n"
      ],
      "execution_count": 15,
      "outputs": [
        {
          "output_type": "execute_result",
          "data": {
            "text/plain": [
              "instant         int64\n",
              "dteday         object\n",
              "season          int64\n",
              "yr              int64\n",
              "mnth            int64\n",
              "hr              int64\n",
              "holiday         int64\n",
              "weekday         int64\n",
              "workingday      int64\n",
              "weathersit      int64\n",
              "temp          float64\n",
              "atemp         float64\n",
              "hum           float64\n",
              "windspeed     float64\n",
              "casual          int64\n",
              "registered      int64\n",
              "cnt             int64\n",
              "dtype: object"
            ]
          },
          "metadata": {
            "tags": []
          },
          "execution_count": 15
        }
      ]
    },
    {
      "cell_type": "markdown",
      "metadata": {
        "id": "nqHDi7_GNQtf"
      },
      "source": [
        "What is the (row) index for this DataFrame?"
      ]
    },
    {
      "cell_type": "code",
      "metadata": {
        "colab": {
          "base_uri": "https://localhost:8080/"
        },
        "id": "p7WciAwrNQtf",
        "outputId": "3c8962ab-2d53-4f16-ac9e-36f072d68706"
      },
      "source": [
        "row=bikes.iloc[0]\n",
        "print(row)\n",
        "\n",
        "\n"
      ],
      "execution_count": 16,
      "outputs": [
        {
          "output_type": "stream",
          "text": [
            "instant                1\n",
            "dteday        2011-01-01\n",
            "season                 1\n",
            "yr                     0\n",
            "mnth                   1\n",
            "hr                     0\n",
            "holiday                0\n",
            "weekday                6\n",
            "workingday             0\n",
            "weathersit             1\n",
            "temp                0.24\n",
            "atemp             0.2879\n",
            "hum                 0.81\n",
            "windspeed              0\n",
            "casual                 3\n",
            "registered            13\n",
            "cnt                   16\n",
            "Name: 0, dtype: object\n"
          ],
          "name": "stdout"
        }
      ]
    },
    {
      "cell_type": "markdown",
      "metadata": {
        "id": "uIJcLnsKNQth"
      },
      "source": [
        "https://www.dataquest.io/blog/python-json-tutorial/"
      ]
    },
    {
      "cell_type": "markdown",
      "metadata": {
        "id": "xtxBEejpNQti"
      },
      "source": [
        "## Slicing and Dicing"
      ]
    },
    {
      "cell_type": "markdown",
      "metadata": {
        "id": "Tzns_pFsNQtj"
      },
      "source": [
        "It is often preferable to refer to DataFrame columns by name, but there is more than one way to do this. \n",
        "Do `bikes['season']` and `bikes[['season']]` give the same object? Demonstrate:"
      ]
    },
    {
      "cell_type": "code",
      "metadata": {
        "colab": {
          "base_uri": "https://localhost:8080/"
        },
        "id": "gSlC2oZXNQtj",
        "outputId": "bd49f683-cc15-4748-8d08-04e194db798e"
      },
      "source": [
        "bikes['season']\n",
        "\n",
        "\n"
      ],
      "execution_count": 17,
      "outputs": [
        {
          "output_type": "execute_result",
          "data": {
            "text/plain": [
              "0        1\n",
              "1        1\n",
              "2        1\n",
              "3        1\n",
              "4        1\n",
              "        ..\n",
              "17374    1\n",
              "17375    1\n",
              "17376    1\n",
              "17377    1\n",
              "17378    1\n",
              "Name: season, Length: 17379, dtype: int64"
            ]
          },
          "metadata": {
            "tags": []
          },
          "execution_count": 17
        }
      ]
    },
    {
      "cell_type": "code",
      "metadata": {
        "colab": {
          "base_uri": "https://localhost:8080/",
          "height": 422
        },
        "id": "ONHBeUa1MB7d",
        "outputId": "4a69ef5c-41f2-490b-9f47-467919cb2600"
      },
      "source": [
        "bikes[['season']]"
      ],
      "execution_count": 18,
      "outputs": [
        {
          "output_type": "execute_result",
          "data": {
            "text/html": [
              "<div>\n",
              "<style scoped>\n",
              "    .dataframe tbody tr th:only-of-type {\n",
              "        vertical-align: middle;\n",
              "    }\n",
              "\n",
              "    .dataframe tbody tr th {\n",
              "        vertical-align: top;\n",
              "    }\n",
              "\n",
              "    .dataframe thead th {\n",
              "        text-align: right;\n",
              "    }\n",
              "</style>\n",
              "<table border=\"1\" class=\"dataframe\">\n",
              "  <thead>\n",
              "    <tr style=\"text-align: right;\">\n",
              "      <th></th>\n",
              "      <th>season</th>\n",
              "    </tr>\n",
              "  </thead>\n",
              "  <tbody>\n",
              "    <tr>\n",
              "      <th>0</th>\n",
              "      <td>1</td>\n",
              "    </tr>\n",
              "    <tr>\n",
              "      <th>1</th>\n",
              "      <td>1</td>\n",
              "    </tr>\n",
              "    <tr>\n",
              "      <th>2</th>\n",
              "      <td>1</td>\n",
              "    </tr>\n",
              "    <tr>\n",
              "      <th>3</th>\n",
              "      <td>1</td>\n",
              "    </tr>\n",
              "    <tr>\n",
              "      <th>4</th>\n",
              "      <td>1</td>\n",
              "    </tr>\n",
              "    <tr>\n",
              "      <th>...</th>\n",
              "      <td>...</td>\n",
              "    </tr>\n",
              "    <tr>\n",
              "      <th>17374</th>\n",
              "      <td>1</td>\n",
              "    </tr>\n",
              "    <tr>\n",
              "      <th>17375</th>\n",
              "      <td>1</td>\n",
              "    </tr>\n",
              "    <tr>\n",
              "      <th>17376</th>\n",
              "      <td>1</td>\n",
              "    </tr>\n",
              "    <tr>\n",
              "      <th>17377</th>\n",
              "      <td>1</td>\n",
              "    </tr>\n",
              "    <tr>\n",
              "      <th>17378</th>\n",
              "      <td>1</td>\n",
              "    </tr>\n",
              "  </tbody>\n",
              "</table>\n",
              "<p>17379 rows × 1 columns</p>\n",
              "</div>"
            ],
            "text/plain": [
              "       season\n",
              "0           1\n",
              "1           1\n",
              "2           1\n",
              "3           1\n",
              "4           1\n",
              "...       ...\n",
              "17374       1\n",
              "17375       1\n",
              "17376       1\n",
              "17377       1\n",
              "17378       1\n",
              "\n",
              "[17379 rows x 1 columns]"
            ]
          },
          "metadata": {
            "tags": []
          },
          "execution_count": 18
        }
      ]
    },
    {
      "cell_type": "markdown",
      "metadata": {
        "id": "HsCATb2iNQtl"
      },
      "source": [
        "How would we use object notation to show the first 4 rows of `atemp`?"
      ]
    },
    {
      "cell_type": "code",
      "metadata": {
        "colab": {
          "base_uri": "https://localhost:8080/"
        },
        "id": "T5D_UU5KNQtm",
        "outputId": "d0133120-3297-40d4-ceda-c8d404b8b654"
      },
      "source": [
        "atemps = bikes.atemp\n",
        "atemps[0:4]\n"
      ],
      "execution_count": 19,
      "outputs": [
        {
          "output_type": "execute_result",
          "data": {
            "text/plain": [
              "0    0.2879\n",
              "1    0.2727\n",
              "2    0.2727\n",
              "3    0.2879\n",
              "Name: atemp, dtype: float64"
            ]
          },
          "metadata": {
            "tags": []
          },
          "execution_count": 19
        }
      ]
    },
    {
      "cell_type": "markdown",
      "metadata": {
        "id": "sWKI9FNDNQto"
      },
      "source": [
        "Algorithms that loop over multiple columns often access DataFrame columns by index. However, none of the following work (try them out by uncommenting / removing the \"#E: \" ): "
      ]
    },
    {
      "cell_type": "code",
      "metadata": {
        "colab": {
          "base_uri": "https://localhost:8080/",
          "height": 595
        },
        "id": "NgWFEEmWNQto",
        "outputId": "ced0a80d-c678-42f3-86bf-f73ef7340ce5"
      },
      "source": [
        "#bikes[[0]]\n",
        "bikes[0]\n",
        "bikes[0,0]\n",
        "bikes[[0,0]]"
      ],
      "execution_count": 20,
      "outputs": [
        {
          "output_type": "error",
          "ename": "KeyError",
          "evalue": "ignored",
          "traceback": [
            "\u001b[0;31m---------------------------------------------------------------------------\u001b[0m",
            "\u001b[0;31mKeyError\u001b[0m                                  Traceback (most recent call last)",
            "\u001b[0;32m/usr/local/lib/python3.7/dist-packages/pandas/core/indexes/base.py\u001b[0m in \u001b[0;36mget_loc\u001b[0;34m(self, key, method, tolerance)\u001b[0m\n\u001b[1;32m   2897\u001b[0m             \u001b[0;32mtry\u001b[0m\u001b[0;34m:\u001b[0m\u001b[0;34m\u001b[0m\u001b[0;34m\u001b[0m\u001b[0m\n\u001b[0;32m-> 2898\u001b[0;31m                 \u001b[0;32mreturn\u001b[0m \u001b[0mself\u001b[0m\u001b[0;34m.\u001b[0m\u001b[0m_engine\u001b[0m\u001b[0;34m.\u001b[0m\u001b[0mget_loc\u001b[0m\u001b[0;34m(\u001b[0m\u001b[0mcasted_key\u001b[0m\u001b[0;34m)\u001b[0m\u001b[0;34m\u001b[0m\u001b[0;34m\u001b[0m\u001b[0m\n\u001b[0m\u001b[1;32m   2899\u001b[0m             \u001b[0;32mexcept\u001b[0m \u001b[0mKeyError\u001b[0m \u001b[0;32mas\u001b[0m \u001b[0merr\u001b[0m\u001b[0;34m:\u001b[0m\u001b[0;34m\u001b[0m\u001b[0;34m\u001b[0m\u001b[0m\n",
            "\u001b[0;32mpandas/_libs/index.pyx\u001b[0m in \u001b[0;36mpandas._libs.index.IndexEngine.get_loc\u001b[0;34m()\u001b[0m\n",
            "\u001b[0;32mpandas/_libs/index.pyx\u001b[0m in \u001b[0;36mpandas._libs.index.IndexEngine.get_loc\u001b[0;34m()\u001b[0m\n",
            "\u001b[0;32mpandas/_libs/hashtable_class_helper.pxi\u001b[0m in \u001b[0;36mpandas._libs.hashtable.PyObjectHashTable.get_item\u001b[0;34m()\u001b[0m\n",
            "\u001b[0;32mpandas/_libs/hashtable_class_helper.pxi\u001b[0m in \u001b[0;36mpandas._libs.hashtable.PyObjectHashTable.get_item\u001b[0;34m()\u001b[0m\n",
            "\u001b[0;31mKeyError\u001b[0m: 0",
            "\nThe above exception was the direct cause of the following exception:\n",
            "\u001b[0;31mKeyError\u001b[0m                                  Traceback (most recent call last)",
            "\u001b[0;32m<ipython-input-20-654756f66709>\u001b[0m in \u001b[0;36m<module>\u001b[0;34m()\u001b[0m\n\u001b[1;32m      1\u001b[0m \u001b[0;31m#bikes[[0]]\u001b[0m\u001b[0;34m\u001b[0m\u001b[0;34m\u001b[0m\u001b[0;34m\u001b[0m\u001b[0m\n\u001b[0;32m----> 2\u001b[0;31m \u001b[0mbikes\u001b[0m\u001b[0;34m[\u001b[0m\u001b[0;36m0\u001b[0m\u001b[0;34m]\u001b[0m\u001b[0;34m\u001b[0m\u001b[0;34m\u001b[0m\u001b[0m\n\u001b[0m\u001b[1;32m      3\u001b[0m \u001b[0mbikes\u001b[0m\u001b[0;34m[\u001b[0m\u001b[0;36m0\u001b[0m\u001b[0;34m,\u001b[0m\u001b[0;36m0\u001b[0m\u001b[0;34m]\u001b[0m\u001b[0;34m\u001b[0m\u001b[0;34m\u001b[0m\u001b[0m\n\u001b[1;32m      4\u001b[0m \u001b[0mbikes\u001b[0m\u001b[0;34m[\u001b[0m\u001b[0;34m[\u001b[0m\u001b[0;36m0\u001b[0m\u001b[0;34m,\u001b[0m\u001b[0;36m0\u001b[0m\u001b[0;34m]\u001b[0m\u001b[0;34m]\u001b[0m\u001b[0;34m\u001b[0m\u001b[0;34m\u001b[0m\u001b[0m\n",
            "\u001b[0;32m/usr/local/lib/python3.7/dist-packages/pandas/core/frame.py\u001b[0m in \u001b[0;36m__getitem__\u001b[0;34m(self, key)\u001b[0m\n\u001b[1;32m   2904\u001b[0m             \u001b[0;32mif\u001b[0m \u001b[0mself\u001b[0m\u001b[0;34m.\u001b[0m\u001b[0mcolumns\u001b[0m\u001b[0;34m.\u001b[0m\u001b[0mnlevels\u001b[0m \u001b[0;34m>\u001b[0m \u001b[0;36m1\u001b[0m\u001b[0;34m:\u001b[0m\u001b[0;34m\u001b[0m\u001b[0;34m\u001b[0m\u001b[0m\n\u001b[1;32m   2905\u001b[0m                 \u001b[0;32mreturn\u001b[0m \u001b[0mself\u001b[0m\u001b[0;34m.\u001b[0m\u001b[0m_getitem_multilevel\u001b[0m\u001b[0;34m(\u001b[0m\u001b[0mkey\u001b[0m\u001b[0;34m)\u001b[0m\u001b[0;34m\u001b[0m\u001b[0;34m\u001b[0m\u001b[0m\n\u001b[0;32m-> 2906\u001b[0;31m             \u001b[0mindexer\u001b[0m \u001b[0;34m=\u001b[0m \u001b[0mself\u001b[0m\u001b[0;34m.\u001b[0m\u001b[0mcolumns\u001b[0m\u001b[0;34m.\u001b[0m\u001b[0mget_loc\u001b[0m\u001b[0;34m(\u001b[0m\u001b[0mkey\u001b[0m\u001b[0;34m)\u001b[0m\u001b[0;34m\u001b[0m\u001b[0;34m\u001b[0m\u001b[0m\n\u001b[0m\u001b[1;32m   2907\u001b[0m             \u001b[0;32mif\u001b[0m \u001b[0mis_integer\u001b[0m\u001b[0;34m(\u001b[0m\u001b[0mindexer\u001b[0m\u001b[0;34m)\u001b[0m\u001b[0;34m:\u001b[0m\u001b[0;34m\u001b[0m\u001b[0;34m\u001b[0m\u001b[0m\n\u001b[1;32m   2908\u001b[0m                 \u001b[0mindexer\u001b[0m \u001b[0;34m=\u001b[0m \u001b[0;34m[\u001b[0m\u001b[0mindexer\u001b[0m\u001b[0;34m]\u001b[0m\u001b[0;34m\u001b[0m\u001b[0;34m\u001b[0m\u001b[0m\n",
            "\u001b[0;32m/usr/local/lib/python3.7/dist-packages/pandas/core/indexes/base.py\u001b[0m in \u001b[0;36mget_loc\u001b[0;34m(self, key, method, tolerance)\u001b[0m\n\u001b[1;32m   2898\u001b[0m                 \u001b[0;32mreturn\u001b[0m \u001b[0mself\u001b[0m\u001b[0;34m.\u001b[0m\u001b[0m_engine\u001b[0m\u001b[0;34m.\u001b[0m\u001b[0mget_loc\u001b[0m\u001b[0;34m(\u001b[0m\u001b[0mcasted_key\u001b[0m\u001b[0;34m)\u001b[0m\u001b[0;34m\u001b[0m\u001b[0;34m\u001b[0m\u001b[0m\n\u001b[1;32m   2899\u001b[0m             \u001b[0;32mexcept\u001b[0m \u001b[0mKeyError\u001b[0m \u001b[0;32mas\u001b[0m \u001b[0merr\u001b[0m\u001b[0;34m:\u001b[0m\u001b[0;34m\u001b[0m\u001b[0;34m\u001b[0m\u001b[0m\n\u001b[0;32m-> 2900\u001b[0;31m                 \u001b[0;32mraise\u001b[0m \u001b[0mKeyError\u001b[0m\u001b[0;34m(\u001b[0m\u001b[0mkey\u001b[0m\u001b[0;34m)\u001b[0m \u001b[0;32mfrom\u001b[0m \u001b[0merr\u001b[0m\u001b[0;34m\u001b[0m\u001b[0;34m\u001b[0m\u001b[0m\n\u001b[0m\u001b[1;32m   2901\u001b[0m \u001b[0;34m\u001b[0m\u001b[0m\n\u001b[1;32m   2902\u001b[0m         \u001b[0;32mif\u001b[0m \u001b[0mtolerance\u001b[0m \u001b[0;32mis\u001b[0m \u001b[0;32mnot\u001b[0m \u001b[0;32mNone\u001b[0m\u001b[0;34m:\u001b[0m\u001b[0;34m\u001b[0m\u001b[0;34m\u001b[0m\u001b[0m\n",
            "\u001b[0;31mKeyError\u001b[0m: 0"
          ]
        }
      ]
    },
    {
      "cell_type": "markdown",
      "metadata": {
        "id": "SeUJ7D5qNQtq"
      },
      "source": [
        "What is the correct way to access the 1st row of the DataFrame by its index?"
      ]
    },
    {
      "cell_type": "code",
      "metadata": {
        "colab": {
          "base_uri": "https://localhost:8080/"
        },
        "id": "d4Kidzz0NQtq",
        "outputId": "5820374e-aa75-4bc6-cdb3-f7ac8a20748e"
      },
      "source": [
        "bikes.iloc[0]\n",
        "\n"
      ],
      "execution_count": 21,
      "outputs": [
        {
          "output_type": "execute_result",
          "data": {
            "text/plain": [
              "instant                1\n",
              "dteday        2011-01-01\n",
              "season                 1\n",
              "yr                     0\n",
              "mnth                   1\n",
              "hr                     0\n",
              "holiday                0\n",
              "weekday                6\n",
              "workingday             0\n",
              "weathersit             1\n",
              "temp                0.24\n",
              "atemp             0.2879\n",
              "hum                 0.81\n",
              "windspeed              0\n",
              "casual                 3\n",
              "registered            13\n",
              "cnt                   16\n",
              "Name: 0, dtype: object"
            ]
          },
          "metadata": {
            "tags": []
          },
          "execution_count": 21
        }
      ]
    },
    {
      "cell_type": "markdown",
      "metadata": {
        "id": "aZa1v-2jNQts"
      },
      "source": [
        "What is the correct way to access the 2nd column of the DataFrame by its index?"
      ]
    },
    {
      "cell_type": "code",
      "metadata": {
        "colab": {
          "base_uri": "https://localhost:8080/"
        },
        "id": "T4GmE0EsNQtt",
        "outputId": "d32f2c32-05d0-43d7-f973-76bd4d69626a"
      },
      "source": [
        "bikes.iloc[:,1]\n"
      ],
      "execution_count": 22,
      "outputs": [
        {
          "output_type": "execute_result",
          "data": {
            "text/plain": [
              "0        2011-01-01\n",
              "1        2011-01-01\n",
              "2        2011-01-01\n",
              "3        2011-01-01\n",
              "4        2011-01-01\n",
              "            ...    \n",
              "17374    2012-12-31\n",
              "17375    2012-12-31\n",
              "17376    2012-12-31\n",
              "17377    2012-12-31\n",
              "17378    2012-12-31\n",
              "Name: dteday, Length: 17379, dtype: object"
            ]
          },
          "metadata": {
            "tags": []
          },
          "execution_count": 22
        }
      ]
    },
    {
      "cell_type": "markdown",
      "metadata": {
        "id": "aSvqNbVUNQtu"
      },
      "source": [
        "## Handling Missing Values"
      ]
    },
    {
      "cell_type": "markdown",
      "metadata": {
        "id": "BRPFEN1HNQtu"
      },
      "source": [
        "What is the Pandas `isnull` function for? "
      ]
    },
    {
      "cell_type": "markdown",
      "metadata": {
        "id": "Xyw5qkWWNQtu"
      },
      "source": [
        "?\n",
        "ANSWER:"
      ]
    },
    {
      "cell_type": "markdown",
      "metadata": {
        "id": "iby8s2VSNQtv"
      },
      "source": [
        "We can apply `isnull` to the `bikes` DataFrame to show the result for every element:"
      ]
    },
    {
      "cell_type": "code",
      "metadata": {
        "colab": {
          "base_uri": "https://localhost:8080/",
          "height": 205
        },
        "id": "YRQY-1ViNQtv",
        "outputId": "de29ce3b-8ddf-4996-9226-8d9b2782b08f"
      },
      "source": [
        "bikes.isnull().head()"
      ],
      "execution_count": 23,
      "outputs": [
        {
          "output_type": "execute_result",
          "data": {
            "text/html": [
              "<div>\n",
              "<style scoped>\n",
              "    .dataframe tbody tr th:only-of-type {\n",
              "        vertical-align: middle;\n",
              "    }\n",
              "\n",
              "    .dataframe tbody tr th {\n",
              "        vertical-align: top;\n",
              "    }\n",
              "\n",
              "    .dataframe thead th {\n",
              "        text-align: right;\n",
              "    }\n",
              "</style>\n",
              "<table border=\"1\" class=\"dataframe\">\n",
              "  <thead>\n",
              "    <tr style=\"text-align: right;\">\n",
              "      <th></th>\n",
              "      <th>instant</th>\n",
              "      <th>dteday</th>\n",
              "      <th>season</th>\n",
              "      <th>yr</th>\n",
              "      <th>mnth</th>\n",
              "      <th>hr</th>\n",
              "      <th>holiday</th>\n",
              "      <th>weekday</th>\n",
              "      <th>workingday</th>\n",
              "      <th>weathersit</th>\n",
              "      <th>temp</th>\n",
              "      <th>atemp</th>\n",
              "      <th>hum</th>\n",
              "      <th>windspeed</th>\n",
              "      <th>casual</th>\n",
              "      <th>registered</th>\n",
              "      <th>cnt</th>\n",
              "    </tr>\n",
              "  </thead>\n",
              "  <tbody>\n",
              "    <tr>\n",
              "      <th>0</th>\n",
              "      <td>False</td>\n",
              "      <td>False</td>\n",
              "      <td>False</td>\n",
              "      <td>False</td>\n",
              "      <td>False</td>\n",
              "      <td>False</td>\n",
              "      <td>False</td>\n",
              "      <td>False</td>\n",
              "      <td>False</td>\n",
              "      <td>False</td>\n",
              "      <td>False</td>\n",
              "      <td>False</td>\n",
              "      <td>False</td>\n",
              "      <td>False</td>\n",
              "      <td>False</td>\n",
              "      <td>False</td>\n",
              "      <td>False</td>\n",
              "    </tr>\n",
              "    <tr>\n",
              "      <th>1</th>\n",
              "      <td>False</td>\n",
              "      <td>False</td>\n",
              "      <td>False</td>\n",
              "      <td>False</td>\n",
              "      <td>False</td>\n",
              "      <td>False</td>\n",
              "      <td>False</td>\n",
              "      <td>False</td>\n",
              "      <td>False</td>\n",
              "      <td>False</td>\n",
              "      <td>False</td>\n",
              "      <td>False</td>\n",
              "      <td>False</td>\n",
              "      <td>False</td>\n",
              "      <td>False</td>\n",
              "      <td>False</td>\n",
              "      <td>False</td>\n",
              "    </tr>\n",
              "    <tr>\n",
              "      <th>2</th>\n",
              "      <td>False</td>\n",
              "      <td>False</td>\n",
              "      <td>False</td>\n",
              "      <td>False</td>\n",
              "      <td>False</td>\n",
              "      <td>False</td>\n",
              "      <td>False</td>\n",
              "      <td>False</td>\n",
              "      <td>False</td>\n",
              "      <td>False</td>\n",
              "      <td>False</td>\n",
              "      <td>False</td>\n",
              "      <td>False</td>\n",
              "      <td>False</td>\n",
              "      <td>False</td>\n",
              "      <td>False</td>\n",
              "      <td>False</td>\n",
              "    </tr>\n",
              "    <tr>\n",
              "      <th>3</th>\n",
              "      <td>False</td>\n",
              "      <td>False</td>\n",
              "      <td>False</td>\n",
              "      <td>False</td>\n",
              "      <td>False</td>\n",
              "      <td>False</td>\n",
              "      <td>False</td>\n",
              "      <td>False</td>\n",
              "      <td>False</td>\n",
              "      <td>False</td>\n",
              "      <td>False</td>\n",
              "      <td>False</td>\n",
              "      <td>False</td>\n",
              "      <td>False</td>\n",
              "      <td>False</td>\n",
              "      <td>False</td>\n",
              "      <td>False</td>\n",
              "    </tr>\n",
              "    <tr>\n",
              "      <th>4</th>\n",
              "      <td>False</td>\n",
              "      <td>False</td>\n",
              "      <td>False</td>\n",
              "      <td>False</td>\n",
              "      <td>False</td>\n",
              "      <td>False</td>\n",
              "      <td>False</td>\n",
              "      <td>False</td>\n",
              "      <td>False</td>\n",
              "      <td>False</td>\n",
              "      <td>False</td>\n",
              "      <td>False</td>\n",
              "      <td>False</td>\n",
              "      <td>False</td>\n",
              "      <td>False</td>\n",
              "      <td>False</td>\n",
              "      <td>False</td>\n",
              "    </tr>\n",
              "  </tbody>\n",
              "</table>\n",
              "</div>"
            ],
            "text/plain": [
              "   instant  dteday  season     yr  ...  windspeed  casual  registered    cnt\n",
              "0    False   False   False  False  ...      False   False       False  False\n",
              "1    False   False   False  False  ...      False   False       False  False\n",
              "2    False   False   False  False  ...      False   False       False  False\n",
              "3    False   False   False  False  ...      False   False       False  False\n",
              "4    False   False   False  False  ...      False   False       False  False\n",
              "\n",
              "[5 rows x 17 columns]"
            ]
          },
          "metadata": {
            "tags": []
          },
          "execution_count": 23
        }
      ]
    },
    {
      "cell_type": "markdown",
      "metadata": {
        "id": "3IyZaICINQtw"
      },
      "source": [
        "However, we usually start at a higher level. How many nulls are in `bikes` altogether?"
      ]
    },
    {
      "cell_type": "code",
      "metadata": {
        "colab": {
          "base_uri": "https://localhost:8080/"
        },
        "id": "SbDfiSqVNQtx",
        "outputId": "5b934b99-f75b-4d0d-810c-07b1712725e8"
      },
      "source": [
        "bikes.isnull().sum()\n"
      ],
      "execution_count": 24,
      "outputs": [
        {
          "output_type": "execute_result",
          "data": {
            "text/plain": [
              "instant       0\n",
              "dteday        0\n",
              "season        0\n",
              "yr            0\n",
              "mnth          0\n",
              "hr            0\n",
              "holiday       0\n",
              "weekday       0\n",
              "workingday    0\n",
              "weathersit    0\n",
              "temp          0\n",
              "atemp         0\n",
              "hum           0\n",
              "windspeed     0\n",
              "casual        0\n",
              "registered    0\n",
              "cnt           0\n",
              "dtype: int64"
            ]
          },
          "metadata": {
            "tags": []
          },
          "execution_count": 24
        }
      ]
    },
    {
      "cell_type": "markdown",
      "metadata": {
        "id": "10jWUf4VNQty"
      },
      "source": [
        "If this result were nonzero we would next want to find out which columns contained nulls. How can this be done in one line of code?"
      ]
    },
    {
      "cell_type": "code",
      "metadata": {
        "colab": {
          "base_uri": "https://localhost:8080/",
          "height": 422
        },
        "id": "qBv3l_s2NQtz",
        "outputId": "4226c5a5-127b-4845-fbd0-665dcf6d3ad0"
      },
      "source": [
        "bikes.isnull()\n"
      ],
      "execution_count": 25,
      "outputs": [
        {
          "output_type": "execute_result",
          "data": {
            "text/html": [
              "<div>\n",
              "<style scoped>\n",
              "    .dataframe tbody tr th:only-of-type {\n",
              "        vertical-align: middle;\n",
              "    }\n",
              "\n",
              "    .dataframe tbody tr th {\n",
              "        vertical-align: top;\n",
              "    }\n",
              "\n",
              "    .dataframe thead th {\n",
              "        text-align: right;\n",
              "    }\n",
              "</style>\n",
              "<table border=\"1\" class=\"dataframe\">\n",
              "  <thead>\n",
              "    <tr style=\"text-align: right;\">\n",
              "      <th></th>\n",
              "      <th>instant</th>\n",
              "      <th>dteday</th>\n",
              "      <th>season</th>\n",
              "      <th>yr</th>\n",
              "      <th>mnth</th>\n",
              "      <th>hr</th>\n",
              "      <th>holiday</th>\n",
              "      <th>weekday</th>\n",
              "      <th>workingday</th>\n",
              "      <th>weathersit</th>\n",
              "      <th>temp</th>\n",
              "      <th>atemp</th>\n",
              "      <th>hum</th>\n",
              "      <th>windspeed</th>\n",
              "      <th>casual</th>\n",
              "      <th>registered</th>\n",
              "      <th>cnt</th>\n",
              "    </tr>\n",
              "  </thead>\n",
              "  <tbody>\n",
              "    <tr>\n",
              "      <th>0</th>\n",
              "      <td>False</td>\n",
              "      <td>False</td>\n",
              "      <td>False</td>\n",
              "      <td>False</td>\n",
              "      <td>False</td>\n",
              "      <td>False</td>\n",
              "      <td>False</td>\n",
              "      <td>False</td>\n",
              "      <td>False</td>\n",
              "      <td>False</td>\n",
              "      <td>False</td>\n",
              "      <td>False</td>\n",
              "      <td>False</td>\n",
              "      <td>False</td>\n",
              "      <td>False</td>\n",
              "      <td>False</td>\n",
              "      <td>False</td>\n",
              "    </tr>\n",
              "    <tr>\n",
              "      <th>1</th>\n",
              "      <td>False</td>\n",
              "      <td>False</td>\n",
              "      <td>False</td>\n",
              "      <td>False</td>\n",
              "      <td>False</td>\n",
              "      <td>False</td>\n",
              "      <td>False</td>\n",
              "      <td>False</td>\n",
              "      <td>False</td>\n",
              "      <td>False</td>\n",
              "      <td>False</td>\n",
              "      <td>False</td>\n",
              "      <td>False</td>\n",
              "      <td>False</td>\n",
              "      <td>False</td>\n",
              "      <td>False</td>\n",
              "      <td>False</td>\n",
              "    </tr>\n",
              "    <tr>\n",
              "      <th>2</th>\n",
              "      <td>False</td>\n",
              "      <td>False</td>\n",
              "      <td>False</td>\n",
              "      <td>False</td>\n",
              "      <td>False</td>\n",
              "      <td>False</td>\n",
              "      <td>False</td>\n",
              "      <td>False</td>\n",
              "      <td>False</td>\n",
              "      <td>False</td>\n",
              "      <td>False</td>\n",
              "      <td>False</td>\n",
              "      <td>False</td>\n",
              "      <td>False</td>\n",
              "      <td>False</td>\n",
              "      <td>False</td>\n",
              "      <td>False</td>\n",
              "    </tr>\n",
              "    <tr>\n",
              "      <th>3</th>\n",
              "      <td>False</td>\n",
              "      <td>False</td>\n",
              "      <td>False</td>\n",
              "      <td>False</td>\n",
              "      <td>False</td>\n",
              "      <td>False</td>\n",
              "      <td>False</td>\n",
              "      <td>False</td>\n",
              "      <td>False</td>\n",
              "      <td>False</td>\n",
              "      <td>False</td>\n",
              "      <td>False</td>\n",
              "      <td>False</td>\n",
              "      <td>False</td>\n",
              "      <td>False</td>\n",
              "      <td>False</td>\n",
              "      <td>False</td>\n",
              "    </tr>\n",
              "    <tr>\n",
              "      <th>4</th>\n",
              "      <td>False</td>\n",
              "      <td>False</td>\n",
              "      <td>False</td>\n",
              "      <td>False</td>\n",
              "      <td>False</td>\n",
              "      <td>False</td>\n",
              "      <td>False</td>\n",
              "      <td>False</td>\n",
              "      <td>False</td>\n",
              "      <td>False</td>\n",
              "      <td>False</td>\n",
              "      <td>False</td>\n",
              "      <td>False</td>\n",
              "      <td>False</td>\n",
              "      <td>False</td>\n",
              "      <td>False</td>\n",
              "      <td>False</td>\n",
              "    </tr>\n",
              "    <tr>\n",
              "      <th>...</th>\n",
              "      <td>...</td>\n",
              "      <td>...</td>\n",
              "      <td>...</td>\n",
              "      <td>...</td>\n",
              "      <td>...</td>\n",
              "      <td>...</td>\n",
              "      <td>...</td>\n",
              "      <td>...</td>\n",
              "      <td>...</td>\n",
              "      <td>...</td>\n",
              "      <td>...</td>\n",
              "      <td>...</td>\n",
              "      <td>...</td>\n",
              "      <td>...</td>\n",
              "      <td>...</td>\n",
              "      <td>...</td>\n",
              "      <td>...</td>\n",
              "    </tr>\n",
              "    <tr>\n",
              "      <th>17374</th>\n",
              "      <td>False</td>\n",
              "      <td>False</td>\n",
              "      <td>False</td>\n",
              "      <td>False</td>\n",
              "      <td>False</td>\n",
              "      <td>False</td>\n",
              "      <td>False</td>\n",
              "      <td>False</td>\n",
              "      <td>False</td>\n",
              "      <td>False</td>\n",
              "      <td>False</td>\n",
              "      <td>False</td>\n",
              "      <td>False</td>\n",
              "      <td>False</td>\n",
              "      <td>False</td>\n",
              "      <td>False</td>\n",
              "      <td>False</td>\n",
              "    </tr>\n",
              "    <tr>\n",
              "      <th>17375</th>\n",
              "      <td>False</td>\n",
              "      <td>False</td>\n",
              "      <td>False</td>\n",
              "      <td>False</td>\n",
              "      <td>False</td>\n",
              "      <td>False</td>\n",
              "      <td>False</td>\n",
              "      <td>False</td>\n",
              "      <td>False</td>\n",
              "      <td>False</td>\n",
              "      <td>False</td>\n",
              "      <td>False</td>\n",
              "      <td>False</td>\n",
              "      <td>False</td>\n",
              "      <td>False</td>\n",
              "      <td>False</td>\n",
              "      <td>False</td>\n",
              "    </tr>\n",
              "    <tr>\n",
              "      <th>17376</th>\n",
              "      <td>False</td>\n",
              "      <td>False</td>\n",
              "      <td>False</td>\n",
              "      <td>False</td>\n",
              "      <td>False</td>\n",
              "      <td>False</td>\n",
              "      <td>False</td>\n",
              "      <td>False</td>\n",
              "      <td>False</td>\n",
              "      <td>False</td>\n",
              "      <td>False</td>\n",
              "      <td>False</td>\n",
              "      <td>False</td>\n",
              "      <td>False</td>\n",
              "      <td>False</td>\n",
              "      <td>False</td>\n",
              "      <td>False</td>\n",
              "    </tr>\n",
              "    <tr>\n",
              "      <th>17377</th>\n",
              "      <td>False</td>\n",
              "      <td>False</td>\n",
              "      <td>False</td>\n",
              "      <td>False</td>\n",
              "      <td>False</td>\n",
              "      <td>False</td>\n",
              "      <td>False</td>\n",
              "      <td>False</td>\n",
              "      <td>False</td>\n",
              "      <td>False</td>\n",
              "      <td>False</td>\n",
              "      <td>False</td>\n",
              "      <td>False</td>\n",
              "      <td>False</td>\n",
              "      <td>False</td>\n",
              "      <td>False</td>\n",
              "      <td>False</td>\n",
              "    </tr>\n",
              "    <tr>\n",
              "      <th>17378</th>\n",
              "      <td>False</td>\n",
              "      <td>False</td>\n",
              "      <td>False</td>\n",
              "      <td>False</td>\n",
              "      <td>False</td>\n",
              "      <td>False</td>\n",
              "      <td>False</td>\n",
              "      <td>False</td>\n",
              "      <td>False</td>\n",
              "      <td>False</td>\n",
              "      <td>False</td>\n",
              "      <td>False</td>\n",
              "      <td>False</td>\n",
              "      <td>False</td>\n",
              "      <td>False</td>\n",
              "      <td>False</td>\n",
              "      <td>False</td>\n",
              "    </tr>\n",
              "  </tbody>\n",
              "</table>\n",
              "<p>17379 rows × 17 columns</p>\n",
              "</div>"
            ],
            "text/plain": [
              "       instant  dteday  season     yr  ...  windspeed  casual  registered    cnt\n",
              "0        False   False   False  False  ...      False   False       False  False\n",
              "1        False   False   False  False  ...      False   False       False  False\n",
              "2        False   False   False  False  ...      False   False       False  False\n",
              "3        False   False   False  False  ...      False   False       False  False\n",
              "4        False   False   False  False  ...      False   False       False  False\n",
              "...        ...     ...     ...    ...  ...        ...     ...         ...    ...\n",
              "17374    False   False   False  False  ...      False   False       False  False\n",
              "17375    False   False   False  False  ...      False   False       False  False\n",
              "17376    False   False   False  False  ...      False   False       False  False\n",
              "17377    False   False   False  False  ...      False   False       False  False\n",
              "17378    False   False   False  False  ...      False   False       False  False\n",
              "\n",
              "[17379 rows x 17 columns]"
            ]
          },
          "metadata": {
            "tags": []
          },
          "execution_count": 25
        }
      ]
    },
    {
      "cell_type": "markdown",
      "metadata": {
        "id": "Z1MsvXf7NQt0"
      },
      "source": [
        "What is the Numpy object `nan` used for? (Write a descriptive answer.)"
      ]
    },
    {
      "cell_type": "markdown",
      "metadata": {
        "id": "GaeGVh6ZNQt0"
      },
      "source": [
        "?\n",
        "ANSWER: Marking a data point as invalid."
      ]
    },
    {
      "cell_type": "markdown",
      "metadata": {
        "id": "Z9bFlPsrNQt1"
      },
      "source": [
        "Write (and verify) a function that performs scalar division with built-in handling of the edge case (i.e. return a value instead of just trapping the error):"
      ]
    },
    {
      "cell_type": "code",
      "metadata": {
        "colab": {
          "base_uri": "https://localhost:8080/",
          "height": 171
        },
        "id": "-Cq2VAb8NQt1",
        "outputId": "b02532de-59bb-415e-f060-874dac54f25b"
      },
      "source": [
        "result = float('') * 10\n"
      ],
      "execution_count": 25,
      "outputs": [
        {
          "output_type": "error",
          "ename": "ValueError",
          "evalue": "ignored",
          "traceback": [
            "\u001b[0;31m---------------------------------------------------------------------------\u001b[0m",
            "\u001b[0;31mValueError\u001b[0m                                Traceback (most recent call last)",
            "\u001b[0;32m<ipython-input-25-73ad3fd253d3>\u001b[0m in \u001b[0;36m<module>\u001b[0;34m()\u001b[0m\n\u001b[0;32m----> 1\u001b[0;31m \u001b[0mresult\u001b[0m \u001b[0;34m=\u001b[0m \u001b[0mfloat\u001b[0m\u001b[0;34m(\u001b[0m\u001b[0;34m''\u001b[0m\u001b[0;34m)\u001b[0m \u001b[0;34m*\u001b[0m \u001b[0;36m10\u001b[0m\u001b[0;34m\u001b[0m\u001b[0;34m\u001b[0m\u001b[0m\n\u001b[0m",
            "\u001b[0;31mValueError\u001b[0m: could not convert string to float: "
          ]
        }
      ]
    },
    {
      "cell_type": "markdown",
      "metadata": {
        "id": "f7Up8D6lNQt2"
      },
      "source": [
        "Apply the Pandas `isna` function to the following data objects:"
      ]
    },
    {
      "cell_type": "code",
      "metadata": {
        "colab": {
          "base_uri": "https://localhost:8080/"
        },
        "id": "l_YvVav3NQt3",
        "scrolled": true,
        "outputId": "8767c44d-36df-4edd-8f4b-fd31e867d36a"
      },
      "source": [
        "x = 2.3\n",
        "y = np.nan\n",
        "print(x, y)"
      ],
      "execution_count": 26,
      "outputs": [
        {
          "output_type": "stream",
          "text": [
            "2.3 nan\n"
          ],
          "name": "stdout"
        }
      ]
    },
    {
      "cell_type": "code",
      "metadata": {
        "colab": {
          "base_uri": "https://localhost:8080/"
        },
        "id": "QAcf1FU1NQt4",
        "scrolled": true,
        "outputId": "685c0412-9bfb-4ea0-bb00-ff9ec33da9df"
      },
      "source": [
        "pd.isna(x)\n",
        "\n"
      ],
      "execution_count": 27,
      "outputs": [
        {
          "output_type": "execute_result",
          "data": {
            "text/plain": [
              "False"
            ]
          },
          "metadata": {
            "tags": []
          },
          "execution_count": 27
        }
      ]
    },
    {
      "cell_type": "code",
      "metadata": {
        "colab": {
          "base_uri": "https://localhost:8080/"
        },
        "id": "oEE2bhqoT3wG",
        "outputId": "07fe198d-30fb-4de6-adba-9c70e0dde050"
      },
      "source": [
        "pd.isna(y)"
      ],
      "execution_count": 28,
      "outputs": [
        {
          "output_type": "execute_result",
          "data": {
            "text/plain": [
              "True"
            ]
          },
          "metadata": {
            "tags": []
          },
          "execution_count": 28
        }
      ]
    },
    {
      "cell_type": "code",
      "metadata": {
        "colab": {
          "base_uri": "https://localhost:8080/"
        },
        "id": "qJUM31pANQt5",
        "scrolled": true,
        "outputId": "f4790252-fd1e-4255-a075-bd5ad28d3e26"
      },
      "source": [
        "array = np.array([[1, np.nan, 3], [4, 5, np.nan]])\n",
        "print(array)"
      ],
      "execution_count": 29,
      "outputs": [
        {
          "output_type": "stream",
          "text": [
            "[[ 1. nan  3.]\n",
            " [ 4.  5. nan]]\n"
          ],
          "name": "stdout"
        }
      ]
    },
    {
      "cell_type": "code",
      "metadata": {
        "colab": {
          "base_uri": "https://localhost:8080/"
        },
        "id": "4LBgqnubNQt6",
        "scrolled": true,
        "outputId": "89b43dcd-3542-490a-dc00-3c73228dfb4e"
      },
      "source": [
        "pd.isna(array)\n"
      ],
      "execution_count": 30,
      "outputs": [
        {
          "output_type": "execute_result",
          "data": {
            "text/plain": [
              "array([[False,  True, False],\n",
              "       [False, False,  True]])"
            ]
          },
          "metadata": {
            "tags": []
          },
          "execution_count": 30
        }
      ]
    },
    {
      "cell_type": "markdown",
      "metadata": {
        "id": "QhFaZbzQNQt7"
      },
      "source": [
        "How is the pandas I/O parameter `na_values` used?"
      ]
    },
    {
      "cell_type": "markdown",
      "metadata": {
        "id": "mw-PvrTeNQt8"
      },
      "source": [
        "? ANSWER: "
      ]
    },
    {
      "cell_type": "markdown",
      "metadata": {
        "id": "jOW3ICgwNQt8"
      },
      "source": [
        "## Data Profiling"
      ]
    },
    {
      "cell_type": "markdown",
      "metadata": {
        "id": "JZhJ9-XrNQt8"
      },
      "source": [
        "### Counts\n",
        "\n",
        "When there are categorical variables in a dataset we will want to know how many possible values there are in each column. (Nb. If the dataset is a sample of a larger one, our sample may not capture all possible values of every categorical.)"
      ]
    },
    {
      "cell_type": "markdown",
      "metadata": {
        "id": "RitKNRPCNQt8"
      },
      "source": [
        "How many (different) seasons are in `bikes`?"
      ]
    },
    {
      "cell_type": "markdown",
      "metadata": {
        "id": "peDZrNJjNQt-"
      },
      "source": [
        "### Ranges"
      ]
    },
    {
      "cell_type": "markdown",
      "metadata": {
        "id": "KIKyD5LHNQt-"
      },
      "source": [
        "Print the range of the `instant`, `dteday`, and `windspeed` columns: "
      ]
    },
    {
      "cell_type": "code",
      "metadata": {
        "id": "mVAOjyocNQt-",
        "colab": {
          "base_uri": "https://localhost:8080/",
          "height": 205
        },
        "outputId": "dd2175e7-c69d-454d-983e-740fc6ed2ca4"
      },
      "source": [
        "bikes.head()\n"
      ],
      "execution_count": 31,
      "outputs": [
        {
          "output_type": "execute_result",
          "data": {
            "text/html": [
              "<div>\n",
              "<style scoped>\n",
              "    .dataframe tbody tr th:only-of-type {\n",
              "        vertical-align: middle;\n",
              "    }\n",
              "\n",
              "    .dataframe tbody tr th {\n",
              "        vertical-align: top;\n",
              "    }\n",
              "\n",
              "    .dataframe thead th {\n",
              "        text-align: right;\n",
              "    }\n",
              "</style>\n",
              "<table border=\"1\" class=\"dataframe\">\n",
              "  <thead>\n",
              "    <tr style=\"text-align: right;\">\n",
              "      <th></th>\n",
              "      <th>instant</th>\n",
              "      <th>dteday</th>\n",
              "      <th>season</th>\n",
              "      <th>yr</th>\n",
              "      <th>mnth</th>\n",
              "      <th>hr</th>\n",
              "      <th>holiday</th>\n",
              "      <th>weekday</th>\n",
              "      <th>workingday</th>\n",
              "      <th>weathersit</th>\n",
              "      <th>temp</th>\n",
              "      <th>atemp</th>\n",
              "      <th>hum</th>\n",
              "      <th>windspeed</th>\n",
              "      <th>casual</th>\n",
              "      <th>registered</th>\n",
              "      <th>cnt</th>\n",
              "    </tr>\n",
              "  </thead>\n",
              "  <tbody>\n",
              "    <tr>\n",
              "      <th>0</th>\n",
              "      <td>1</td>\n",
              "      <td>2011-01-01</td>\n",
              "      <td>1</td>\n",
              "      <td>0</td>\n",
              "      <td>1</td>\n",
              "      <td>0</td>\n",
              "      <td>0</td>\n",
              "      <td>6</td>\n",
              "      <td>0</td>\n",
              "      <td>1</td>\n",
              "      <td>0.24</td>\n",
              "      <td>0.2879</td>\n",
              "      <td>0.81</td>\n",
              "      <td>0.0</td>\n",
              "      <td>3</td>\n",
              "      <td>13</td>\n",
              "      <td>16</td>\n",
              "    </tr>\n",
              "    <tr>\n",
              "      <th>1</th>\n",
              "      <td>2</td>\n",
              "      <td>2011-01-01</td>\n",
              "      <td>1</td>\n",
              "      <td>0</td>\n",
              "      <td>1</td>\n",
              "      <td>1</td>\n",
              "      <td>0</td>\n",
              "      <td>6</td>\n",
              "      <td>0</td>\n",
              "      <td>1</td>\n",
              "      <td>0.22</td>\n",
              "      <td>0.2727</td>\n",
              "      <td>0.80</td>\n",
              "      <td>0.0</td>\n",
              "      <td>8</td>\n",
              "      <td>32</td>\n",
              "      <td>40</td>\n",
              "    </tr>\n",
              "    <tr>\n",
              "      <th>2</th>\n",
              "      <td>3</td>\n",
              "      <td>2011-01-01</td>\n",
              "      <td>1</td>\n",
              "      <td>0</td>\n",
              "      <td>1</td>\n",
              "      <td>2</td>\n",
              "      <td>0</td>\n",
              "      <td>6</td>\n",
              "      <td>0</td>\n",
              "      <td>1</td>\n",
              "      <td>0.22</td>\n",
              "      <td>0.2727</td>\n",
              "      <td>0.80</td>\n",
              "      <td>0.0</td>\n",
              "      <td>5</td>\n",
              "      <td>27</td>\n",
              "      <td>32</td>\n",
              "    </tr>\n",
              "    <tr>\n",
              "      <th>3</th>\n",
              "      <td>4</td>\n",
              "      <td>2011-01-01</td>\n",
              "      <td>1</td>\n",
              "      <td>0</td>\n",
              "      <td>1</td>\n",
              "      <td>3</td>\n",
              "      <td>0</td>\n",
              "      <td>6</td>\n",
              "      <td>0</td>\n",
              "      <td>1</td>\n",
              "      <td>0.24</td>\n",
              "      <td>0.2879</td>\n",
              "      <td>0.75</td>\n",
              "      <td>0.0</td>\n",
              "      <td>3</td>\n",
              "      <td>10</td>\n",
              "      <td>13</td>\n",
              "    </tr>\n",
              "    <tr>\n",
              "      <th>4</th>\n",
              "      <td>5</td>\n",
              "      <td>2011-01-01</td>\n",
              "      <td>1</td>\n",
              "      <td>0</td>\n",
              "      <td>1</td>\n",
              "      <td>4</td>\n",
              "      <td>0</td>\n",
              "      <td>6</td>\n",
              "      <td>0</td>\n",
              "      <td>1</td>\n",
              "      <td>0.24</td>\n",
              "      <td>0.2879</td>\n",
              "      <td>0.75</td>\n",
              "      <td>0.0</td>\n",
              "      <td>0</td>\n",
              "      <td>1</td>\n",
              "      <td>1</td>\n",
              "    </tr>\n",
              "  </tbody>\n",
              "</table>\n",
              "</div>"
            ],
            "text/plain": [
              "   instant      dteday  season  yr  ...  windspeed  casual  registered  cnt\n",
              "0        1  2011-01-01       1   0  ...        0.0       3          13   16\n",
              "1        2  2011-01-01       1   0  ...        0.0       8          32   40\n",
              "2        3  2011-01-01       1   0  ...        0.0       5          27   32\n",
              "3        4  2011-01-01       1   0  ...        0.0       3          10   13\n",
              "4        5  2011-01-01       1   0  ...        0.0       0           1    1\n",
              "\n",
              "[5 rows x 17 columns]"
            ]
          },
          "metadata": {
            "tags": []
          },
          "execution_count": 31
        }
      ]
    },
    {
      "cell_type": "code",
      "metadata": {
        "colab": {
          "base_uri": "https://localhost:8080/",
          "height": 422
        },
        "id": "9CeIRm447LRs",
        "outputId": "209726fa-1de4-445f-91ad-fac9d1be557e"
      },
      "source": [
        "select = bikes[['instant','dteday','windspeed']]\n",
        "select"
      ],
      "execution_count": 32,
      "outputs": [
        {
          "output_type": "execute_result",
          "data": {
            "text/html": [
              "<div>\n",
              "<style scoped>\n",
              "    .dataframe tbody tr th:only-of-type {\n",
              "        vertical-align: middle;\n",
              "    }\n",
              "\n",
              "    .dataframe tbody tr th {\n",
              "        vertical-align: top;\n",
              "    }\n",
              "\n",
              "    .dataframe thead th {\n",
              "        text-align: right;\n",
              "    }\n",
              "</style>\n",
              "<table border=\"1\" class=\"dataframe\">\n",
              "  <thead>\n",
              "    <tr style=\"text-align: right;\">\n",
              "      <th></th>\n",
              "      <th>instant</th>\n",
              "      <th>dteday</th>\n",
              "      <th>windspeed</th>\n",
              "    </tr>\n",
              "  </thead>\n",
              "  <tbody>\n",
              "    <tr>\n",
              "      <th>0</th>\n",
              "      <td>1</td>\n",
              "      <td>2011-01-01</td>\n",
              "      <td>0.0000</td>\n",
              "    </tr>\n",
              "    <tr>\n",
              "      <th>1</th>\n",
              "      <td>2</td>\n",
              "      <td>2011-01-01</td>\n",
              "      <td>0.0000</td>\n",
              "    </tr>\n",
              "    <tr>\n",
              "      <th>2</th>\n",
              "      <td>3</td>\n",
              "      <td>2011-01-01</td>\n",
              "      <td>0.0000</td>\n",
              "    </tr>\n",
              "    <tr>\n",
              "      <th>3</th>\n",
              "      <td>4</td>\n",
              "      <td>2011-01-01</td>\n",
              "      <td>0.0000</td>\n",
              "    </tr>\n",
              "    <tr>\n",
              "      <th>4</th>\n",
              "      <td>5</td>\n",
              "      <td>2011-01-01</td>\n",
              "      <td>0.0000</td>\n",
              "    </tr>\n",
              "    <tr>\n",
              "      <th>...</th>\n",
              "      <td>...</td>\n",
              "      <td>...</td>\n",
              "      <td>...</td>\n",
              "    </tr>\n",
              "    <tr>\n",
              "      <th>17374</th>\n",
              "      <td>17375</td>\n",
              "      <td>2012-12-31</td>\n",
              "      <td>0.1642</td>\n",
              "    </tr>\n",
              "    <tr>\n",
              "      <th>17375</th>\n",
              "      <td>17376</td>\n",
              "      <td>2012-12-31</td>\n",
              "      <td>0.1642</td>\n",
              "    </tr>\n",
              "    <tr>\n",
              "      <th>17376</th>\n",
              "      <td>17377</td>\n",
              "      <td>2012-12-31</td>\n",
              "      <td>0.1642</td>\n",
              "    </tr>\n",
              "    <tr>\n",
              "      <th>17377</th>\n",
              "      <td>17378</td>\n",
              "      <td>2012-12-31</td>\n",
              "      <td>0.1343</td>\n",
              "    </tr>\n",
              "    <tr>\n",
              "      <th>17378</th>\n",
              "      <td>17379</td>\n",
              "      <td>2012-12-31</td>\n",
              "      <td>0.1343</td>\n",
              "    </tr>\n",
              "  </tbody>\n",
              "</table>\n",
              "<p>17379 rows × 3 columns</p>\n",
              "</div>"
            ],
            "text/plain": [
              "       instant      dteday  windspeed\n",
              "0            1  2011-01-01     0.0000\n",
              "1            2  2011-01-01     0.0000\n",
              "2            3  2011-01-01     0.0000\n",
              "3            4  2011-01-01     0.0000\n",
              "4            5  2011-01-01     0.0000\n",
              "...        ...         ...        ...\n",
              "17374    17375  2012-12-31     0.1642\n",
              "17375    17376  2012-12-31     0.1642\n",
              "17376    17377  2012-12-31     0.1642\n",
              "17377    17378  2012-12-31     0.1343\n",
              "17378    17379  2012-12-31     0.1343\n",
              "\n",
              "[17379 rows x 3 columns]"
            ]
          },
          "metadata": {
            "tags": []
          },
          "execution_count": 32
        }
      ]
    },
    {
      "cell_type": "code",
      "metadata": {
        "colab": {
          "base_uri": "https://localhost:8080/"
        },
        "id": "wh_-MoFpAwQ2",
        "outputId": "c3ec2eb6-b3a1-40ab-9339-b5d27689ff16"
      },
      "source": [
        "bikes.info()"
      ],
      "execution_count": 33,
      "outputs": [
        {
          "output_type": "stream",
          "text": [
            "<class 'pandas.core.frame.DataFrame'>\n",
            "RangeIndex: 17379 entries, 0 to 17378\n",
            "Data columns (total 17 columns):\n",
            " #   Column      Non-Null Count  Dtype  \n",
            "---  ------      --------------  -----  \n",
            " 0   instant     17379 non-null  int64  \n",
            " 1   dteday      17379 non-null  object \n",
            " 2   season      17379 non-null  int64  \n",
            " 3   yr          17379 non-null  int64  \n",
            " 4   mnth        17379 non-null  int64  \n",
            " 5   hr          17379 non-null  int64  \n",
            " 6   holiday     17379 non-null  int64  \n",
            " 7   weekday     17379 non-null  int64  \n",
            " 8   workingday  17379 non-null  int64  \n",
            " 9   weathersit  17379 non-null  int64  \n",
            " 10  temp        17379 non-null  float64\n",
            " 11  atemp       17379 non-null  float64\n",
            " 12  hum         17379 non-null  float64\n",
            " 13  windspeed   17379 non-null  float64\n",
            " 14  casual      17379 non-null  int64  \n",
            " 15  registered  17379 non-null  int64  \n",
            " 16  cnt         17379 non-null  int64  \n",
            "dtypes: float64(4), int64(12), object(1)\n",
            "memory usage: 2.3+ MB\n"
          ],
          "name": "stdout"
        }
      ]
    },
    {
      "cell_type": "markdown",
      "metadata": {
        "id": "I5oDTJHoNQt_"
      },
      "source": [
        "Compute and print the overall minimum and maximum of the numeric data columns:"
      ]
    },
    {
      "cell_type": "code",
      "metadata": {
        "id": "yiIKiPT4NQuA",
        "colab": {
          "base_uri": "https://localhost:8080/"
        },
        "outputId": "024bffc3-45f5-40ea-bcdc-1c413af4c62f"
      },
      "source": [
        "bikes_min, bikes_max = (bikes.min()), (bikes.max())\n",
        "bikes_min, bikes_max"
      ],
      "execution_count": 34,
      "outputs": [
        {
          "output_type": "execute_result",
          "data": {
            "text/plain": [
              "(instant                1\n",
              " dteday        2011-01-01\n",
              " season                 1\n",
              " yr                     0\n",
              " mnth                   1\n",
              " hr                     0\n",
              " holiday                0\n",
              " weekday                0\n",
              " workingday             0\n",
              " weathersit             1\n",
              " temp                0.02\n",
              " atemp                  0\n",
              " hum                    0\n",
              " windspeed              0\n",
              " casual                 0\n",
              " registered             0\n",
              " cnt                    1\n",
              " dtype: object, instant            17379\n",
              " dteday        2012-12-31\n",
              " season                 4\n",
              " yr                     1\n",
              " mnth                  12\n",
              " hr                    23\n",
              " holiday                1\n",
              " weekday                6\n",
              " workingday             1\n",
              " weathersit             4\n",
              " temp                   1\n",
              " atemp                  1\n",
              " hum                    1\n",
              " windspeed         0.8507\n",
              " casual               367\n",
              " registered           886\n",
              " cnt                  977\n",
              " dtype: object)"
            ]
          },
          "metadata": {
            "tags": []
          },
          "execution_count": 34
        }
      ]
    },
    {
      "cell_type": "markdown",
      "metadata": {
        "id": "OyKKjxJoNQuB"
      },
      "source": [
        "### Quantiles"
      ]
    },
    {
      "cell_type": "markdown",
      "metadata": {
        "id": "8hxPA3sXNQuB"
      },
      "source": [
        "Pandas makes computing quantiles easy. This is how to get the median of a Series:"
      ]
    },
    {
      "cell_type": "code",
      "metadata": {
        "id": "n1GLqWOoNQuB",
        "colab": {
          "base_uri": "https://localhost:8080/"
        },
        "outputId": "fca3fa02-d143-4037-bbb4-a4ba2736755a"
      },
      "source": [
        "bikes['atemp'].quantile(0.5)"
      ],
      "execution_count": 35,
      "outputs": [
        {
          "output_type": "execute_result",
          "data": {
            "text/plain": [
              "0.4848"
            ]
          },
          "metadata": {
            "tags": []
          },
          "execution_count": 35
        }
      ]
    },
    {
      "cell_type": "markdown",
      "metadata": {
        "id": "oBWCtrCrNQuD"
      },
      "source": [
        "Of course, the `quantiles` method can take a tuple as its argument. Compute the 10th, 25th, 50th, 75th, and 90th percentiles in one line of code: "
      ]
    },
    {
      "cell_type": "code",
      "metadata": {
        "id": "iu8bzEktNQuD",
        "colab": {
          "base_uri": "https://localhost:8080/"
        },
        "outputId": "415090d4-cb6e-4520-d38f-4974ab3fcbce"
      },
      "source": [
        "bikes['atemp'].quantile([0.1,0.25,0.5,0.75,0.9])"
      ],
      "execution_count": 36,
      "outputs": [
        {
          "output_type": "execute_result",
          "data": {
            "text/plain": [
              "0.10    0.2424\n",
              "0.25    0.3333\n",
              "0.50    0.4848\n",
              "0.75    0.6212\n",
              "0.90    0.6970\n",
              "Name: atemp, dtype: float64"
            ]
          },
          "metadata": {
            "tags": []
          },
          "execution_count": 36
        }
      ]
    },
    {
      "cell_type": "markdown",
      "metadata": {
        "id": "EJnCB_bqNQuF"
      },
      "source": [
        "### Cuts\n",
        "\n",
        "Sometimes we want to split the sample not by the quantiles of the distribution but by the range of the data. Let's take a closer look at `atemp`:"
      ]
    },
    {
      "cell_type": "code",
      "metadata": {
        "id": "vn_cvvY-NQuF",
        "colab": {
          "base_uri": "https://localhost:8080/"
        },
        "outputId": "c8ced99f-e923-4e1d-8bba-80336bb83165"
      },
      "source": [
        "type(bikes['atemp'])"
      ],
      "execution_count": 37,
      "outputs": [
        {
          "output_type": "execute_result",
          "data": {
            "text/plain": [
              "pandas.core.series.Series"
            ]
          },
          "metadata": {
            "tags": []
          },
          "execution_count": 37
        }
      ]
    },
    {
      "cell_type": "code",
      "metadata": {
        "id": "ae7zUQp-NQuH",
        "colab": {
          "base_uri": "https://localhost:8080/",
          "height": 205
        },
        "outputId": "8c37ee20-b66c-4af2-cd41-a51158fa78aa"
      },
      "source": [
        "bikes.sample(5)"
      ],
      "execution_count": 38,
      "outputs": [
        {
          "output_type": "execute_result",
          "data": {
            "text/html": [
              "<div>\n",
              "<style scoped>\n",
              "    .dataframe tbody tr th:only-of-type {\n",
              "        vertical-align: middle;\n",
              "    }\n",
              "\n",
              "    .dataframe tbody tr th {\n",
              "        vertical-align: top;\n",
              "    }\n",
              "\n",
              "    .dataframe thead th {\n",
              "        text-align: right;\n",
              "    }\n",
              "</style>\n",
              "<table border=\"1\" class=\"dataframe\">\n",
              "  <thead>\n",
              "    <tr style=\"text-align: right;\">\n",
              "      <th></th>\n",
              "      <th>instant</th>\n",
              "      <th>dteday</th>\n",
              "      <th>season</th>\n",
              "      <th>yr</th>\n",
              "      <th>mnth</th>\n",
              "      <th>hr</th>\n",
              "      <th>holiday</th>\n",
              "      <th>weekday</th>\n",
              "      <th>workingday</th>\n",
              "      <th>weathersit</th>\n",
              "      <th>temp</th>\n",
              "      <th>atemp</th>\n",
              "      <th>hum</th>\n",
              "      <th>windspeed</th>\n",
              "      <th>casual</th>\n",
              "      <th>registered</th>\n",
              "      <th>cnt</th>\n",
              "    </tr>\n",
              "  </thead>\n",
              "  <tbody>\n",
              "    <tr>\n",
              "      <th>4821</th>\n",
              "      <td>4822</td>\n",
              "      <td>2011-07-24</td>\n",
              "      <td>3</td>\n",
              "      <td>0</td>\n",
              "      <td>7</td>\n",
              "      <td>19</td>\n",
              "      <td>0</td>\n",
              "      <td>0</td>\n",
              "      <td>0</td>\n",
              "      <td>1</td>\n",
              "      <td>0.86</td>\n",
              "      <td>0.8030</td>\n",
              "      <td>0.47</td>\n",
              "      <td>0.1642</td>\n",
              "      <td>70</td>\n",
              "      <td>170</td>\n",
              "      <td>240</td>\n",
              "    </tr>\n",
              "    <tr>\n",
              "      <th>12136</th>\n",
              "      <td>12137</td>\n",
              "      <td>2012-05-25</td>\n",
              "      <td>2</td>\n",
              "      <td>1</td>\n",
              "      <td>5</td>\n",
              "      <td>21</td>\n",
              "      <td>0</td>\n",
              "      <td>5</td>\n",
              "      <td>1</td>\n",
              "      <td>1</td>\n",
              "      <td>0.70</td>\n",
              "      <td>0.6515</td>\n",
              "      <td>0.65</td>\n",
              "      <td>0.1343</td>\n",
              "      <td>62</td>\n",
              "      <td>193</td>\n",
              "      <td>255</td>\n",
              "    </tr>\n",
              "    <tr>\n",
              "      <th>10711</th>\n",
              "      <td>10712</td>\n",
              "      <td>2012-03-27</td>\n",
              "      <td>2</td>\n",
              "      <td>1</td>\n",
              "      <td>3</td>\n",
              "      <td>10</td>\n",
              "      <td>0</td>\n",
              "      <td>2</td>\n",
              "      <td>1</td>\n",
              "      <td>1</td>\n",
              "      <td>0.26</td>\n",
              "      <td>0.2576</td>\n",
              "      <td>0.35</td>\n",
              "      <td>0.2239</td>\n",
              "      <td>20</td>\n",
              "      <td>118</td>\n",
              "      <td>138</td>\n",
              "    </tr>\n",
              "    <tr>\n",
              "      <th>13911</th>\n",
              "      <td>13912</td>\n",
              "      <td>2012-08-07</td>\n",
              "      <td>3</td>\n",
              "      <td>1</td>\n",
              "      <td>8</td>\n",
              "      <td>20</td>\n",
              "      <td>0</td>\n",
              "      <td>2</td>\n",
              "      <td>1</td>\n",
              "      <td>2</td>\n",
              "      <td>0.74</td>\n",
              "      <td>0.6970</td>\n",
              "      <td>0.70</td>\n",
              "      <td>0.1343</td>\n",
              "      <td>74</td>\n",
              "      <td>374</td>\n",
              "      <td>448</td>\n",
              "    </tr>\n",
              "    <tr>\n",
              "      <th>17027</th>\n",
              "      <td>17028</td>\n",
              "      <td>2012-12-17</td>\n",
              "      <td>4</td>\n",
              "      <td>1</td>\n",
              "      <td>12</td>\n",
              "      <td>6</td>\n",
              "      <td>0</td>\n",
              "      <td>1</td>\n",
              "      <td>1</td>\n",
              "      <td>2</td>\n",
              "      <td>0.36</td>\n",
              "      <td>0.3485</td>\n",
              "      <td>0.93</td>\n",
              "      <td>0.1343</td>\n",
              "      <td>1</td>\n",
              "      <td>107</td>\n",
              "      <td>108</td>\n",
              "    </tr>\n",
              "  </tbody>\n",
              "</table>\n",
              "</div>"
            ],
            "text/plain": [
              "       instant      dteday  season  yr  ...  windspeed  casual  registered  cnt\n",
              "4821      4822  2011-07-24       3   0  ...     0.1642      70         170  240\n",
              "12136    12137  2012-05-25       2   1  ...     0.1343      62         193  255\n",
              "10711    10712  2012-03-27       2   1  ...     0.2239      20         118  138\n",
              "13911    13912  2012-08-07       3   1  ...     0.1343      74         374  448\n",
              "17027    17028  2012-12-17       4   1  ...     0.1343       1         107  108\n",
              "\n",
              "[5 rows x 17 columns]"
            ]
          },
          "metadata": {
            "tags": []
          },
          "execution_count": 38
        }
      ]
    },
    {
      "cell_type": "markdown",
      "metadata": {
        "id": "thwFHrthNQuJ"
      },
      "source": [
        "Suppose we decide to sort these values into 4 bins of equal width, but we want to apply the resulting groups to the entire DataFrame. Basically, we need to add a row label that indcates which bin each sample belongs in. Let's call this label \"atemp_level\", and use the `cut` method to populate it:"
      ]
    },
    {
      "cell_type": "code",
      "metadata": {
        "id": "z7mXBeXMNQuJ"
      },
      "source": [
        "atemp_level = pd.cut(bikes['atemp'], bins = 4)         "
      ],
      "execution_count": 39,
      "outputs": []
    },
    {
      "cell_type": "markdown",
      "metadata": {
        "id": "vf3Q5vbQNQuL"
      },
      "source": [
        "What is `atemp_level`?"
      ]
    },
    {
      "cell_type": "code",
      "metadata": {
        "id": "dhlx1W-VNQuL",
        "colab": {
          "base_uri": "https://localhost:8080/"
        },
        "outputId": "62a81ff5-f5ca-434f-aaeb-19c99de6829c"
      },
      "source": [
        "atemp_level\n"
      ],
      "execution_count": 40,
      "outputs": [
        {
          "output_type": "execute_result",
          "data": {
            "text/plain": [
              "0        (0.25, 0.5]\n",
              "1        (0.25, 0.5]\n",
              "2        (0.25, 0.5]\n",
              "3        (0.25, 0.5]\n",
              "4        (0.25, 0.5]\n",
              "            ...     \n",
              "17374    (0.25, 0.5]\n",
              "17375    (0.25, 0.5]\n",
              "17376    (0.25, 0.5]\n",
              "17377    (0.25, 0.5]\n",
              "17378    (0.25, 0.5]\n",
              "Name: atemp, Length: 17379, dtype: category\n",
              "Categories (4, interval[float64]): [(-0.001, 0.25] < (0.25, 0.5] < (0.5, 0.75] < (0.75, 1.0]]"
            ]
          },
          "metadata": {
            "tags": []
          },
          "execution_count": 40
        }
      ]
    },
    {
      "cell_type": "markdown",
      "metadata": {
        "id": "GuDXdgfxNQuN"
      },
      "source": [
        "Here is a random sample of `atemp_level`:"
      ]
    },
    {
      "cell_type": "code",
      "metadata": {
        "id": "4Qure0UbNQuN",
        "colab": {
          "base_uri": "https://localhost:8080/"
        },
        "outputId": "24d9d6a9-d5d4-4a8d-e3c7-4985ba9b86e1"
      },
      "source": [
        "atemp_level.sample(5)          "
      ],
      "execution_count": 41,
      "outputs": [
        {
          "output_type": "execute_result",
          "data": {
            "text/plain": [
              "4024     (0.5, 0.75]\n",
              "11924    (0.5, 0.75]\n",
              "3748     (0.5, 0.75]\n",
              "5735     (0.5, 0.75]\n",
              "5346     (0.5, 0.75]\n",
              "Name: atemp, dtype: category\n",
              "Categories (4, interval[float64]): [(-0.001, 0.25] < (0.25, 0.5] < (0.5, 0.75] < (0.75, 1.0]]"
            ]
          },
          "metadata": {
            "tags": []
          },
          "execution_count": 41
        }
      ]
    },
    {
      "cell_type": "markdown",
      "metadata": {
        "id": "q59qWmqfNQuO"
      },
      "source": [
        "So, by default, `cut` produces labels that indicate the bin boundaries for each element in the series it was applied to. Usually, we will specify labels that are appropriate to the discretisation we are applying:"
      ]
    },
    {
      "cell_type": "code",
      "metadata": {
        "id": "VYsD8ZwDNQuP",
        "colab": {
          "base_uri": "https://localhost:8080/"
        },
        "outputId": "bb11e36f-8621-487d-80e8-8646b55c8e34"
      },
      "source": [
        "atemp_level = pd.cut(bikes['atemp'], bins = 4, labels = [\"cool\", \"mild\", \"warm\", \"hot\"])\n",
        "atemp_level.sample(5)          "
      ],
      "execution_count": 42,
      "outputs": [
        {
          "output_type": "execute_result",
          "data": {
            "text/plain": [
              "9506     cool\n",
              "8341     cool\n",
              "8826     mild\n",
              "11454    mild\n",
              "12783     hot\n",
              "Name: atemp, dtype: category\n",
              "Categories (4, object): ['cool' < 'mild' < 'warm' < 'hot']"
            ]
          },
          "metadata": {
            "tags": []
          },
          "execution_count": 42
        }
      ]
    },
    {
      "cell_type": "markdown",
      "metadata": {
        "id": "WD-3g9qLNQuQ"
      },
      "source": [
        "Incorporate the new `atemp_level` column into the `bikes` DataFrame and use it to count the number of \"mild\" `atemp` entries in `season` 2:"
      ]
    },
    {
      "cell_type": "code",
      "metadata": {
        "id": "O5fRRbXwNQuR"
      },
      "source": [
        "atemp_level\n",
        "bikes['atemp_level'] = atemp_level\n"
      ],
      "execution_count": 99,
      "outputs": []
    },
    {
      "cell_type": "code",
      "metadata": {
        "colab": {
          "base_uri": "https://localhost:8080/",
          "height": 422
        },
        "id": "Gn0eH5vYKlfO",
        "outputId": "28b03ff0-6cc6-4219-e042-e3587add3636"
      },
      "source": [
        "sea2 = bikes.groupby([\"season\"]).get_group(2)\n",
        "sea2"
      ],
      "execution_count": 98,
      "outputs": [
        {
          "output_type": "execute_result",
          "data": {
            "text/html": [
              "<div>\n",
              "<style scoped>\n",
              "    .dataframe tbody tr th:only-of-type {\n",
              "        vertical-align: middle;\n",
              "    }\n",
              "\n",
              "    .dataframe tbody tr th {\n",
              "        vertical-align: top;\n",
              "    }\n",
              "\n",
              "    .dataframe thead th {\n",
              "        text-align: right;\n",
              "    }\n",
              "</style>\n",
              "<table border=\"1\" class=\"dataframe\">\n",
              "  <thead>\n",
              "    <tr style=\"text-align: right;\">\n",
              "      <th></th>\n",
              "      <th>instant</th>\n",
              "      <th>dteday</th>\n",
              "      <th>season</th>\n",
              "      <th>yr</th>\n",
              "      <th>mnth</th>\n",
              "      <th>hr</th>\n",
              "      <th>holiday</th>\n",
              "      <th>weekday</th>\n",
              "      <th>workingday</th>\n",
              "      <th>weathersit</th>\n",
              "      <th>temp</th>\n",
              "      <th>atemp</th>\n",
              "      <th>hum</th>\n",
              "      <th>windspeed</th>\n",
              "      <th>casual</th>\n",
              "      <th>registered</th>\n",
              "      <th>cnt</th>\n",
              "      <th>atemp_level</th>\n",
              "    </tr>\n",
              "  </thead>\n",
              "  <tbody>\n",
              "    <tr>\n",
              "      <th>1807</th>\n",
              "      <td>1808</td>\n",
              "      <td>2011-03-21</td>\n",
              "      <td>2</td>\n",
              "      <td>0</td>\n",
              "      <td>3</td>\n",
              "      <td>0</td>\n",
              "      <td>0</td>\n",
              "      <td>1</td>\n",
              "      <td>1</td>\n",
              "      <td>3</td>\n",
              "      <td>0.34</td>\n",
              "      <td>0.3030</td>\n",
              "      <td>0.66</td>\n",
              "      <td>0.3881</td>\n",
              "      <td>2</td>\n",
              "      <td>11</td>\n",
              "      <td>13</td>\n",
              "      <td>mild</td>\n",
              "    </tr>\n",
              "    <tr>\n",
              "      <th>1808</th>\n",
              "      <td>1809</td>\n",
              "      <td>2011-03-21</td>\n",
              "      <td>2</td>\n",
              "      <td>0</td>\n",
              "      <td>3</td>\n",
              "      <td>1</td>\n",
              "      <td>0</td>\n",
              "      <td>1</td>\n",
              "      <td>1</td>\n",
              "      <td>2</td>\n",
              "      <td>0.34</td>\n",
              "      <td>0.3030</td>\n",
              "      <td>0.71</td>\n",
              "      <td>0.3881</td>\n",
              "      <td>1</td>\n",
              "      <td>6</td>\n",
              "      <td>7</td>\n",
              "      <td>mild</td>\n",
              "    </tr>\n",
              "    <tr>\n",
              "      <th>1809</th>\n",
              "      <td>1810</td>\n",
              "      <td>2011-03-21</td>\n",
              "      <td>2</td>\n",
              "      <td>0</td>\n",
              "      <td>3</td>\n",
              "      <td>2</td>\n",
              "      <td>0</td>\n",
              "      <td>1</td>\n",
              "      <td>1</td>\n",
              "      <td>2</td>\n",
              "      <td>0.34</td>\n",
              "      <td>0.3030</td>\n",
              "      <td>0.71</td>\n",
              "      <td>0.3284</td>\n",
              "      <td>1</td>\n",
              "      <td>5</td>\n",
              "      <td>6</td>\n",
              "      <td>mild</td>\n",
              "    </tr>\n",
              "    <tr>\n",
              "      <th>1810</th>\n",
              "      <td>1811</td>\n",
              "      <td>2011-03-21</td>\n",
              "      <td>2</td>\n",
              "      <td>0</td>\n",
              "      <td>3</td>\n",
              "      <td>3</td>\n",
              "      <td>0</td>\n",
              "      <td>1</td>\n",
              "      <td>1</td>\n",
              "      <td>2</td>\n",
              "      <td>0.34</td>\n",
              "      <td>0.3030</td>\n",
              "      <td>0.71</td>\n",
              "      <td>0.3284</td>\n",
              "      <td>0</td>\n",
              "      <td>1</td>\n",
              "      <td>1</td>\n",
              "      <td>mild</td>\n",
              "    </tr>\n",
              "    <tr>\n",
              "      <th>1811</th>\n",
              "      <td>1812</td>\n",
              "      <td>2011-03-21</td>\n",
              "      <td>2</td>\n",
              "      <td>0</td>\n",
              "      <td>3</td>\n",
              "      <td>5</td>\n",
              "      <td>0</td>\n",
              "      <td>1</td>\n",
              "      <td>1</td>\n",
              "      <td>1</td>\n",
              "      <td>0.32</td>\n",
              "      <td>0.3030</td>\n",
              "      <td>0.81</td>\n",
              "      <td>0.2985</td>\n",
              "      <td>1</td>\n",
              "      <td>1</td>\n",
              "      <td>2</td>\n",
              "      <td>mild</td>\n",
              "    </tr>\n",
              "    <tr>\n",
              "      <th>...</th>\n",
              "      <td>...</td>\n",
              "      <td>...</td>\n",
              "      <td>...</td>\n",
              "      <td>...</td>\n",
              "      <td>...</td>\n",
              "      <td>...</td>\n",
              "      <td>...</td>\n",
              "      <td>...</td>\n",
              "      <td>...</td>\n",
              "      <td>...</td>\n",
              "      <td>...</td>\n",
              "      <td>...</td>\n",
              "      <td>...</td>\n",
              "      <td>...</td>\n",
              "      <td>...</td>\n",
              "      <td>...</td>\n",
              "      <td>...</td>\n",
              "      <td>...</td>\n",
              "    </tr>\n",
              "    <tr>\n",
              "      <th>12758</th>\n",
              "      <td>12759</td>\n",
              "      <td>2012-06-20</td>\n",
              "      <td>2</td>\n",
              "      <td>1</td>\n",
              "      <td>6</td>\n",
              "      <td>19</td>\n",
              "      <td>0</td>\n",
              "      <td>3</td>\n",
              "      <td>1</td>\n",
              "      <td>1</td>\n",
              "      <td>0.88</td>\n",
              "      <td>0.7879</td>\n",
              "      <td>0.37</td>\n",
              "      <td>0.2537</td>\n",
              "      <td>90</td>\n",
              "      <td>449</td>\n",
              "      <td>539</td>\n",
              "      <td>hot</td>\n",
              "    </tr>\n",
              "    <tr>\n",
              "      <th>12759</th>\n",
              "      <td>12760</td>\n",
              "      <td>2012-06-20</td>\n",
              "      <td>2</td>\n",
              "      <td>1</td>\n",
              "      <td>6</td>\n",
              "      <td>20</td>\n",
              "      <td>0</td>\n",
              "      <td>3</td>\n",
              "      <td>1</td>\n",
              "      <td>1</td>\n",
              "      <td>0.86</td>\n",
              "      <td>0.7727</td>\n",
              "      <td>0.39</td>\n",
              "      <td>0.2239</td>\n",
              "      <td>81</td>\n",
              "      <td>326</td>\n",
              "      <td>407</td>\n",
              "      <td>hot</td>\n",
              "    </tr>\n",
              "    <tr>\n",
              "      <th>12760</th>\n",
              "      <td>12761</td>\n",
              "      <td>2012-06-20</td>\n",
              "      <td>2</td>\n",
              "      <td>1</td>\n",
              "      <td>6</td>\n",
              "      <td>21</td>\n",
              "      <td>0</td>\n",
              "      <td>3</td>\n",
              "      <td>1</td>\n",
              "      <td>1</td>\n",
              "      <td>0.84</td>\n",
              "      <td>0.7576</td>\n",
              "      <td>0.44</td>\n",
              "      <td>0.0896</td>\n",
              "      <td>42</td>\n",
              "      <td>302</td>\n",
              "      <td>344</td>\n",
              "      <td>hot</td>\n",
              "    </tr>\n",
              "    <tr>\n",
              "      <th>12761</th>\n",
              "      <td>12762</td>\n",
              "      <td>2012-06-20</td>\n",
              "      <td>2</td>\n",
              "      <td>1</td>\n",
              "      <td>6</td>\n",
              "      <td>22</td>\n",
              "      <td>0</td>\n",
              "      <td>3</td>\n",
              "      <td>1</td>\n",
              "      <td>1</td>\n",
              "      <td>0.82</td>\n",
              "      <td>0.7576</td>\n",
              "      <td>0.46</td>\n",
              "      <td>0.1045</td>\n",
              "      <td>31</td>\n",
              "      <td>226</td>\n",
              "      <td>257</td>\n",
              "      <td>hot</td>\n",
              "    </tr>\n",
              "    <tr>\n",
              "      <th>12762</th>\n",
              "      <td>12763</td>\n",
              "      <td>2012-06-20</td>\n",
              "      <td>2</td>\n",
              "      <td>1</td>\n",
              "      <td>6</td>\n",
              "      <td>23</td>\n",
              "      <td>0</td>\n",
              "      <td>3</td>\n",
              "      <td>1</td>\n",
              "      <td>1</td>\n",
              "      <td>0.78</td>\n",
              "      <td>0.7424</td>\n",
              "      <td>0.59</td>\n",
              "      <td>0.1045</td>\n",
              "      <td>21</td>\n",
              "      <td>102</td>\n",
              "      <td>123</td>\n",
              "      <td>warm</td>\n",
              "    </tr>\n",
              "  </tbody>\n",
              "</table>\n",
              "<p>4409 rows × 18 columns</p>\n",
              "</div>"
            ],
            "text/plain": [
              "       instant      dteday  season  yr  ...  casual  registered  cnt  atemp_level\n",
              "1807      1808  2011-03-21       2   0  ...       2          11   13         mild\n",
              "1808      1809  2011-03-21       2   0  ...       1           6    7         mild\n",
              "1809      1810  2011-03-21       2   0  ...       1           5    6         mild\n",
              "1810      1811  2011-03-21       2   0  ...       0           1    1         mild\n",
              "1811      1812  2011-03-21       2   0  ...       1           1    2         mild\n",
              "...        ...         ...     ...  ..  ...     ...         ...  ...          ...\n",
              "12758    12759  2012-06-20       2   1  ...      90         449  539          hot\n",
              "12759    12760  2012-06-20       2   1  ...      81         326  407          hot\n",
              "12760    12761  2012-06-20       2   1  ...      42         302  344          hot\n",
              "12761    12762  2012-06-20       2   1  ...      31         226  257          hot\n",
              "12762    12763  2012-06-20       2   1  ...      21         102  123         warm\n",
              "\n",
              "[4409 rows x 18 columns]"
            ]
          },
          "metadata": {
            "tags": []
          },
          "execution_count": 98
        }
      ]
    },
    {
      "cell_type": "code",
      "metadata": {
        "colab": {
          "base_uri": "https://localhost:8080/"
        },
        "id": "11CxYJC8L1ek",
        "outputId": "3a7e41e2-f116-40d3-a8cd-f8b4c324e915"
      },
      "source": [
        "sea2.atemp_level.value_counts().mild"
      ],
      "execution_count": 97,
      "outputs": [
        {
          "output_type": "execute_result",
          "data": {
            "text/plain": [
              "1829"
            ]
          },
          "metadata": {
            "tags": []
          },
          "execution_count": 97
        }
      ]
    },
    {
      "cell_type": "markdown",
      "metadata": {
        "id": "9ZN-0yDQNQuR"
      },
      "source": [
        "*Nb. The `atemp_level` variable we created is what the R language calls a \"factor\". Pandas has introduced a new data type called \"category\" that is similar to R's factors.*"
      ]
    },
    {
      "cell_type": "markdown",
      "metadata": {
        "id": "vxMDzgRWNQuS"
      },
      "source": [
        "# Synthetic Data\n",
        "\n",
        "Sometimes we may want to generate test data, or we may need to initalise a series, matrix, or data frame for input to an algorithm. Numpy has several methods we can use for this."
      ]
    },
    {
      "cell_type": "markdown",
      "metadata": {
        "id": "_W10uoBlNQuS"
      },
      "source": [
        "Execute the following, then check the shape and content of each variable:"
      ]
    },
    {
      "cell_type": "code",
      "metadata": {
        "id": "bFR29OriNQuS"
      },
      "source": [
        "# Creating arrays with initial values\n",
        "a = np.zeros((3))\n",
        "b = np.ones((1,3))\n",
        "c = np.random.randint(1,10,(2,3,4))   # randint(low, high, size)\n",
        "d = np.arange(4)\n",
        "e = np.array( [[1,2,3,4], [5,6,7,8]] )"
      ],
      "execution_count": 95,
      "outputs": []
    },
    {
      "cell_type": "code",
      "metadata": {
        "id": "xGrvvNNANQuT",
        "colab": {
          "base_uri": "https://localhost:8080/"
        },
        "outputId": "b232be06-15fa-4e90-b276-894863a976b6"
      },
      "source": [
        "a.shape, b.shape, c.shape, d.shape, e.shape"
      ],
      "execution_count": 96,
      "outputs": [
        {
          "output_type": "execute_result",
          "data": {
            "text/plain": [
              "((3,), (1, 3), (2, 3, 4), (4,), (2, 4))"
            ]
          },
          "metadata": {
            "tags": []
          },
          "execution_count": 96
        }
      ]
    },
    {
      "cell_type": "markdown",
      "metadata": {
        "id": "JykYEjUHVppc"
      },
      "source": [
        "## Load Data\n",
        "\n",
        "Load rock.csv and clean the dataset."
      ]
    },
    {
      "cell_type": "code",
      "metadata": {
        "colab": {
          "base_uri": "https://localhost:8080/",
          "height": 458
        },
        "id": "wllqOPwK7kyh",
        "outputId": "281e2cf7-30df-4c1e-d1e1-c385e96e5ec8"
      },
      "source": [
        "rocks = pd.read_csv('rock.csv')\n",
        "rocks"
      ],
      "execution_count": 17,
      "outputs": [
        {
          "output_type": "stream",
          "text": [
            "/usr/local/lib/python3.7/dist-packages/IPython/core/interactiveshell.py:2718: DtypeWarning: Columns (0,1,3) have mixed types.Specify dtype option on import or set low_memory=False.\n",
            "  interactivity=interactivity, compiler=compiler, result=result)\n"
          ],
          "name": "stderr"
        },
        {
          "output_type": "execute_result",
          "data": {
            "text/html": [
              "<div>\n",
              "<style scoped>\n",
              "    .dataframe tbody tr th:only-of-type {\n",
              "        vertical-align: middle;\n",
              "    }\n",
              "\n",
              "    .dataframe tbody tr th {\n",
              "        vertical-align: top;\n",
              "    }\n",
              "\n",
              "    .dataframe thead th {\n",
              "        text-align: right;\n",
              "    }\n",
              "</style>\n",
              "<table border=\"1\" class=\"dataframe\">\n",
              "  <thead>\n",
              "    <tr style=\"text-align: right;\">\n",
              "      <th></th>\n",
              "      <th>Song Clean</th>\n",
              "      <th>ARTIST CLEAN</th>\n",
              "      <th>Release Year</th>\n",
              "      <th>COMBINED</th>\n",
              "      <th>First?</th>\n",
              "      <th>Year?</th>\n",
              "      <th>PlayCount</th>\n",
              "      <th>F*G</th>\n",
              "    </tr>\n",
              "  </thead>\n",
              "  <tbody>\n",
              "    <tr>\n",
              "      <th>0</th>\n",
              "      <td>Caught Up in You</td>\n",
              "      <td>.38 Special</td>\n",
              "      <td>1982.0</td>\n",
              "      <td>Caught Up in You by .38 Special</td>\n",
              "      <td>1.0</td>\n",
              "      <td>1.0</td>\n",
              "      <td>82.0</td>\n",
              "      <td>82.0</td>\n",
              "    </tr>\n",
              "    <tr>\n",
              "      <th>1</th>\n",
              "      <td>Fantasy Girl</td>\n",
              "      <td>.38 Special</td>\n",
              "      <td>NaN</td>\n",
              "      <td>Fantasy Girl by .38 Special</td>\n",
              "      <td>1.0</td>\n",
              "      <td>0.0</td>\n",
              "      <td>3.0</td>\n",
              "      <td>0.0</td>\n",
              "    </tr>\n",
              "    <tr>\n",
              "      <th>2</th>\n",
              "      <td>Hold On Loosely</td>\n",
              "      <td>.38 Special</td>\n",
              "      <td>1981.0</td>\n",
              "      <td>Hold On Loosely by .38 Special</td>\n",
              "      <td>1.0</td>\n",
              "      <td>1.0</td>\n",
              "      <td>85.0</td>\n",
              "      <td>85.0</td>\n",
              "    </tr>\n",
              "    <tr>\n",
              "      <th>3</th>\n",
              "      <td>Rockin' Into the Night</td>\n",
              "      <td>.38 Special</td>\n",
              "      <td>1980.0</td>\n",
              "      <td>Rockin' Into the Night by .38 Special</td>\n",
              "      <td>1.0</td>\n",
              "      <td>1.0</td>\n",
              "      <td>18.0</td>\n",
              "      <td>18.0</td>\n",
              "    </tr>\n",
              "    <tr>\n",
              "      <th>4</th>\n",
              "      <td>Art For Arts Sake</td>\n",
              "      <td>10cc</td>\n",
              "      <td>1975.0</td>\n",
              "      <td>Art For Arts Sake by 10cc</td>\n",
              "      <td>1.0</td>\n",
              "      <td>1.0</td>\n",
              "      <td>1.0</td>\n",
              "      <td>1.0</td>\n",
              "    </tr>\n",
              "    <tr>\n",
              "      <th>...</th>\n",
              "      <td>...</td>\n",
              "      <td>...</td>\n",
              "      <td>...</td>\n",
              "      <td>...</td>\n",
              "      <td>...</td>\n",
              "      <td>...</td>\n",
              "      <td>...</td>\n",
              "      <td>...</td>\n",
              "    </tr>\n",
              "    <tr>\n",
              "      <th>844710</th>\n",
              "      <td>NaN</td>\n",
              "      <td>NaN</td>\n",
              "      <td>NaN</td>\n",
              "      <td>NaN</td>\n",
              "      <td>NaN</td>\n",
              "      <td>NaN</td>\n",
              "      <td>NaN</td>\n",
              "      <td>NaN</td>\n",
              "    </tr>\n",
              "    <tr>\n",
              "      <th>844711</th>\n",
              "      <td>NaN</td>\n",
              "      <td>NaN</td>\n",
              "      <td>NaN</td>\n",
              "      <td>NaN</td>\n",
              "      <td>NaN</td>\n",
              "      <td>NaN</td>\n",
              "      <td>NaN</td>\n",
              "      <td>NaN</td>\n",
              "    </tr>\n",
              "    <tr>\n",
              "      <th>844712</th>\n",
              "      <td>NaN</td>\n",
              "      <td>NaN</td>\n",
              "      <td>NaN</td>\n",
              "      <td>NaN</td>\n",
              "      <td>NaN</td>\n",
              "      <td>NaN</td>\n",
              "      <td>NaN</td>\n",
              "      <td>NaN</td>\n",
              "    </tr>\n",
              "    <tr>\n",
              "      <th>844713</th>\n",
              "      <td>NaN</td>\n",
              "      <td>NaN</td>\n",
              "      <td>NaN</td>\n",
              "      <td>NaN</td>\n",
              "      <td>NaN</td>\n",
              "      <td>NaN</td>\n",
              "      <td>NaN</td>\n",
              "      <td>NaN</td>\n",
              "    </tr>\n",
              "    <tr>\n",
              "      <th>844714</th>\n",
              "      <td>NaN</td>\n",
              "      <td>NaN</td>\n",
              "      <td>NaN</td>\n",
              "      <td>NaN</td>\n",
              "      <td>NaN</td>\n",
              "      <td>NaN</td>\n",
              "      <td>NaN</td>\n",
              "      <td>NaN</td>\n",
              "    </tr>\n",
              "  </tbody>\n",
              "</table>\n",
              "<p>844715 rows × 8 columns</p>\n",
              "</div>"
            ],
            "text/plain": [
              "                    Song Clean ARTIST CLEAN  ...  PlayCount   F*G\n",
              "0             Caught Up in You  .38 Special  ...       82.0  82.0\n",
              "1                 Fantasy Girl  .38 Special  ...        3.0   0.0\n",
              "2              Hold On Loosely  .38 Special  ...       85.0  85.0\n",
              "3       Rockin' Into the Night  .38 Special  ...       18.0  18.0\n",
              "4            Art For Arts Sake         10cc  ...        1.0   1.0\n",
              "...                        ...          ...  ...        ...   ...\n",
              "844710                     NaN          NaN  ...        NaN   NaN\n",
              "844711                     NaN          NaN  ...        NaN   NaN\n",
              "844712                     NaN          NaN  ...        NaN   NaN\n",
              "844713                     NaN          NaN  ...        NaN   NaN\n",
              "844714                     NaN          NaN  ...        NaN   NaN\n",
              "\n",
              "[844715 rows x 8 columns]"
            ]
          },
          "metadata": {
            "tags": []
          },
          "execution_count": 17
        }
      ]
    },
    {
      "cell_type": "code",
      "metadata": {
        "colab": {
          "base_uri": "https://localhost:8080/",
          "height": 422
        },
        "id": "hOi49-nE-w_e",
        "outputId": "3bc3886f-4297-448b-9455-aa723c923b20"
      },
      "source": [
        "df=rocks.dropna()\n",
        "df\n",
        "\n"
      ],
      "execution_count": 18,
      "outputs": [
        {
          "output_type": "execute_result",
          "data": {
            "text/html": [
              "<div>\n",
              "<style scoped>\n",
              "    .dataframe tbody tr th:only-of-type {\n",
              "        vertical-align: middle;\n",
              "    }\n",
              "\n",
              "    .dataframe tbody tr th {\n",
              "        vertical-align: top;\n",
              "    }\n",
              "\n",
              "    .dataframe thead th {\n",
              "        text-align: right;\n",
              "    }\n",
              "</style>\n",
              "<table border=\"1\" class=\"dataframe\">\n",
              "  <thead>\n",
              "    <tr style=\"text-align: right;\">\n",
              "      <th></th>\n",
              "      <th>Song Clean</th>\n",
              "      <th>ARTIST CLEAN</th>\n",
              "      <th>Release Year</th>\n",
              "      <th>COMBINED</th>\n",
              "      <th>First?</th>\n",
              "      <th>Year?</th>\n",
              "      <th>PlayCount</th>\n",
              "      <th>F*G</th>\n",
              "    </tr>\n",
              "  </thead>\n",
              "  <tbody>\n",
              "    <tr>\n",
              "      <th>0</th>\n",
              "      <td>Caught Up in You</td>\n",
              "      <td>.38 Special</td>\n",
              "      <td>1982.0</td>\n",
              "      <td>Caught Up in You by .38 Special</td>\n",
              "      <td>1.0</td>\n",
              "      <td>1.0</td>\n",
              "      <td>82.0</td>\n",
              "      <td>82.0</td>\n",
              "    </tr>\n",
              "    <tr>\n",
              "      <th>2</th>\n",
              "      <td>Hold On Loosely</td>\n",
              "      <td>.38 Special</td>\n",
              "      <td>1981.0</td>\n",
              "      <td>Hold On Loosely by .38 Special</td>\n",
              "      <td>1.0</td>\n",
              "      <td>1.0</td>\n",
              "      <td>85.0</td>\n",
              "      <td>85.0</td>\n",
              "    </tr>\n",
              "    <tr>\n",
              "      <th>3</th>\n",
              "      <td>Rockin' Into the Night</td>\n",
              "      <td>.38 Special</td>\n",
              "      <td>1980.0</td>\n",
              "      <td>Rockin' Into the Night by .38 Special</td>\n",
              "      <td>1.0</td>\n",
              "      <td>1.0</td>\n",
              "      <td>18.0</td>\n",
              "      <td>18.0</td>\n",
              "    </tr>\n",
              "    <tr>\n",
              "      <th>4</th>\n",
              "      <td>Art For Arts Sake</td>\n",
              "      <td>10cc</td>\n",
              "      <td>1975.0</td>\n",
              "      <td>Art For Arts Sake by 10cc</td>\n",
              "      <td>1.0</td>\n",
              "      <td>1.0</td>\n",
              "      <td>1.0</td>\n",
              "      <td>1.0</td>\n",
              "    </tr>\n",
              "    <tr>\n",
              "      <th>5</th>\n",
              "      <td>Kryptonite</td>\n",
              "      <td>3 Doors Down</td>\n",
              "      <td>2000.0</td>\n",
              "      <td>Kryptonite by 3 Doors Down</td>\n",
              "      <td>1.0</td>\n",
              "      <td>1.0</td>\n",
              "      <td>13.0</td>\n",
              "      <td>13.0</td>\n",
              "    </tr>\n",
              "    <tr>\n",
              "      <th>...</th>\n",
              "      <td>...</td>\n",
              "      <td>...</td>\n",
              "      <td>...</td>\n",
              "      <td>...</td>\n",
              "      <td>...</td>\n",
              "      <td>...</td>\n",
              "      <td>...</td>\n",
              "      <td>...</td>\n",
              "    </tr>\n",
              "    <tr>\n",
              "      <th>2224</th>\n",
              "      <td>Sharp Dressed Man</td>\n",
              "      <td>ZZ Top</td>\n",
              "      <td>1983.0</td>\n",
              "      <td>Sharp Dressed Man by ZZ Top</td>\n",
              "      <td>1.0</td>\n",
              "      <td>1.0</td>\n",
              "      <td>120.0</td>\n",
              "      <td>120.0</td>\n",
              "    </tr>\n",
              "    <tr>\n",
              "      <th>2226</th>\n",
              "      <td>Tube Snake Boogie</td>\n",
              "      <td>ZZ Top</td>\n",
              "      <td>1981.0</td>\n",
              "      <td>Tube Snake Boogie by ZZ Top</td>\n",
              "      <td>1.0</td>\n",
              "      <td>1.0</td>\n",
              "      <td>32.0</td>\n",
              "      <td>32.0</td>\n",
              "    </tr>\n",
              "    <tr>\n",
              "      <th>2227</th>\n",
              "      <td>Tush</td>\n",
              "      <td>ZZ Top</td>\n",
              "      <td>1975.0</td>\n",
              "      <td>Tush by ZZ Top</td>\n",
              "      <td>1.0</td>\n",
              "      <td>1.0</td>\n",
              "      <td>109.0</td>\n",
              "      <td>109.0</td>\n",
              "    </tr>\n",
              "    <tr>\n",
              "      <th>2228</th>\n",
              "      <td>TV Dinners</td>\n",
              "      <td>ZZ Top</td>\n",
              "      <td>1983.0</td>\n",
              "      <td>TV Dinners by ZZ Top</td>\n",
              "      <td>1.0</td>\n",
              "      <td>1.0</td>\n",
              "      <td>1.0</td>\n",
              "      <td>1.0</td>\n",
              "    </tr>\n",
              "    <tr>\n",
              "      <th>2229</th>\n",
              "      <td>WAITIN' FOR THE BUS/JESUS JUST LEFT CHICAGO</td>\n",
              "      <td>ZZ Top</td>\n",
              "      <td>1973.0</td>\n",
              "      <td>WAITIN' FOR THE BUS/JESUS JUST LEFT CHICAGO by...</td>\n",
              "      <td>1.0</td>\n",
              "      <td>1.0</td>\n",
              "      <td>2.0</td>\n",
              "      <td>2.0</td>\n",
              "    </tr>\n",
              "  </tbody>\n",
              "</table>\n",
              "<p>1652 rows × 8 columns</p>\n",
              "</div>"
            ],
            "text/plain": [
              "                                       Song Clean  ...    F*G\n",
              "0                                Caught Up in You  ...   82.0\n",
              "2                                 Hold On Loosely  ...   85.0\n",
              "3                          Rockin' Into the Night  ...   18.0\n",
              "4                               Art For Arts Sake  ...    1.0\n",
              "5                                      Kryptonite  ...   13.0\n",
              "...                                           ...  ...    ...\n",
              "2224                            Sharp Dressed Man  ...  120.0\n",
              "2226                            Tube Snake Boogie  ...   32.0\n",
              "2227                                         Tush  ...  109.0\n",
              "2228                                   TV Dinners  ...    1.0\n",
              "2229  WAITIN' FOR THE BUS/JESUS JUST LEFT CHICAGO  ...    2.0\n",
              "\n",
              "[1652 rows x 8 columns]"
            ]
          },
          "metadata": {
            "tags": []
          },
          "execution_count": 18
        }
      ]
    },
    {
      "cell_type": "markdown",
      "metadata": {
        "id": "NZQ4WoVYVppf"
      },
      "source": [
        "## Check Column Names\n",
        "\n",
        "Check column names and clean."
      ]
    },
    {
      "cell_type": "code",
      "metadata": {
        "colab": {
          "base_uri": "https://localhost:8080/",
          "height": 422
        },
        "id": "F_oQApdfDXp7",
        "outputId": "aad7e17d-6b7f-48cd-ac29-6de94222a7f0"
      },
      "source": [
        "df.dropna(axis=1)"
      ],
      "execution_count": 19,
      "outputs": [
        {
          "output_type": "execute_result",
          "data": {
            "text/html": [
              "<div>\n",
              "<style scoped>\n",
              "    .dataframe tbody tr th:only-of-type {\n",
              "        vertical-align: middle;\n",
              "    }\n",
              "\n",
              "    .dataframe tbody tr th {\n",
              "        vertical-align: top;\n",
              "    }\n",
              "\n",
              "    .dataframe thead th {\n",
              "        text-align: right;\n",
              "    }\n",
              "</style>\n",
              "<table border=\"1\" class=\"dataframe\">\n",
              "  <thead>\n",
              "    <tr style=\"text-align: right;\">\n",
              "      <th></th>\n",
              "      <th>Song Clean</th>\n",
              "      <th>ARTIST CLEAN</th>\n",
              "      <th>Release Year</th>\n",
              "      <th>COMBINED</th>\n",
              "      <th>First?</th>\n",
              "      <th>Year?</th>\n",
              "      <th>PlayCount</th>\n",
              "      <th>F*G</th>\n",
              "    </tr>\n",
              "  </thead>\n",
              "  <tbody>\n",
              "    <tr>\n",
              "      <th>0</th>\n",
              "      <td>Caught Up in You</td>\n",
              "      <td>.38 Special</td>\n",
              "      <td>1982.0</td>\n",
              "      <td>Caught Up in You by .38 Special</td>\n",
              "      <td>1.0</td>\n",
              "      <td>1.0</td>\n",
              "      <td>82.0</td>\n",
              "      <td>82.0</td>\n",
              "    </tr>\n",
              "    <tr>\n",
              "      <th>2</th>\n",
              "      <td>Hold On Loosely</td>\n",
              "      <td>.38 Special</td>\n",
              "      <td>1981.0</td>\n",
              "      <td>Hold On Loosely by .38 Special</td>\n",
              "      <td>1.0</td>\n",
              "      <td>1.0</td>\n",
              "      <td>85.0</td>\n",
              "      <td>85.0</td>\n",
              "    </tr>\n",
              "    <tr>\n",
              "      <th>3</th>\n",
              "      <td>Rockin' Into the Night</td>\n",
              "      <td>.38 Special</td>\n",
              "      <td>1980.0</td>\n",
              "      <td>Rockin' Into the Night by .38 Special</td>\n",
              "      <td>1.0</td>\n",
              "      <td>1.0</td>\n",
              "      <td>18.0</td>\n",
              "      <td>18.0</td>\n",
              "    </tr>\n",
              "    <tr>\n",
              "      <th>4</th>\n",
              "      <td>Art For Arts Sake</td>\n",
              "      <td>10cc</td>\n",
              "      <td>1975.0</td>\n",
              "      <td>Art For Arts Sake by 10cc</td>\n",
              "      <td>1.0</td>\n",
              "      <td>1.0</td>\n",
              "      <td>1.0</td>\n",
              "      <td>1.0</td>\n",
              "    </tr>\n",
              "    <tr>\n",
              "      <th>5</th>\n",
              "      <td>Kryptonite</td>\n",
              "      <td>3 Doors Down</td>\n",
              "      <td>2000.0</td>\n",
              "      <td>Kryptonite by 3 Doors Down</td>\n",
              "      <td>1.0</td>\n",
              "      <td>1.0</td>\n",
              "      <td>13.0</td>\n",
              "      <td>13.0</td>\n",
              "    </tr>\n",
              "    <tr>\n",
              "      <th>...</th>\n",
              "      <td>...</td>\n",
              "      <td>...</td>\n",
              "      <td>...</td>\n",
              "      <td>...</td>\n",
              "      <td>...</td>\n",
              "      <td>...</td>\n",
              "      <td>...</td>\n",
              "      <td>...</td>\n",
              "    </tr>\n",
              "    <tr>\n",
              "      <th>2224</th>\n",
              "      <td>Sharp Dressed Man</td>\n",
              "      <td>ZZ Top</td>\n",
              "      <td>1983.0</td>\n",
              "      <td>Sharp Dressed Man by ZZ Top</td>\n",
              "      <td>1.0</td>\n",
              "      <td>1.0</td>\n",
              "      <td>120.0</td>\n",
              "      <td>120.0</td>\n",
              "    </tr>\n",
              "    <tr>\n",
              "      <th>2226</th>\n",
              "      <td>Tube Snake Boogie</td>\n",
              "      <td>ZZ Top</td>\n",
              "      <td>1981.0</td>\n",
              "      <td>Tube Snake Boogie by ZZ Top</td>\n",
              "      <td>1.0</td>\n",
              "      <td>1.0</td>\n",
              "      <td>32.0</td>\n",
              "      <td>32.0</td>\n",
              "    </tr>\n",
              "    <tr>\n",
              "      <th>2227</th>\n",
              "      <td>Tush</td>\n",
              "      <td>ZZ Top</td>\n",
              "      <td>1975.0</td>\n",
              "      <td>Tush by ZZ Top</td>\n",
              "      <td>1.0</td>\n",
              "      <td>1.0</td>\n",
              "      <td>109.0</td>\n",
              "      <td>109.0</td>\n",
              "    </tr>\n",
              "    <tr>\n",
              "      <th>2228</th>\n",
              "      <td>TV Dinners</td>\n",
              "      <td>ZZ Top</td>\n",
              "      <td>1983.0</td>\n",
              "      <td>TV Dinners by ZZ Top</td>\n",
              "      <td>1.0</td>\n",
              "      <td>1.0</td>\n",
              "      <td>1.0</td>\n",
              "      <td>1.0</td>\n",
              "    </tr>\n",
              "    <tr>\n",
              "      <th>2229</th>\n",
              "      <td>WAITIN' FOR THE BUS/JESUS JUST LEFT CHICAGO</td>\n",
              "      <td>ZZ Top</td>\n",
              "      <td>1973.0</td>\n",
              "      <td>WAITIN' FOR THE BUS/JESUS JUST LEFT CHICAGO by...</td>\n",
              "      <td>1.0</td>\n",
              "      <td>1.0</td>\n",
              "      <td>2.0</td>\n",
              "      <td>2.0</td>\n",
              "    </tr>\n",
              "  </tbody>\n",
              "</table>\n",
              "<p>1652 rows × 8 columns</p>\n",
              "</div>"
            ],
            "text/plain": [
              "                                       Song Clean  ...    F*G\n",
              "0                                Caught Up in You  ...   82.0\n",
              "2                                 Hold On Loosely  ...   85.0\n",
              "3                          Rockin' Into the Night  ...   18.0\n",
              "4                               Art For Arts Sake  ...    1.0\n",
              "5                                      Kryptonite  ...   13.0\n",
              "...                                           ...  ...    ...\n",
              "2224                            Sharp Dressed Man  ...  120.0\n",
              "2226                            Tube Snake Boogie  ...   32.0\n",
              "2227                                         Tush  ...  109.0\n",
              "2228                                   TV Dinners  ...    1.0\n",
              "2229  WAITIN' FOR THE BUS/JESUS JUST LEFT CHICAGO  ...    2.0\n",
              "\n",
              "[1652 rows x 8 columns]"
            ]
          },
          "metadata": {
            "tags": []
          },
          "execution_count": 19
        }
      ]
    },
    {
      "cell_type": "markdown",
      "metadata": {
        "id": "KToV3ub3Vppg"
      },
      "source": [
        "## Replace Null Values With 0\n",
        "\n",
        "Check 'release' column whether this column have any null value or not. Replace null value with 0."
      ]
    },
    {
      "cell_type": "code",
      "metadata": {
        "colab": {
          "base_uri": "https://localhost:8080/",
          "height": 205
        },
        "id": "CNY5a42GDn0e",
        "outputId": "1844f073-c51e-49aa-89ef-4b5b93be0cf2"
      },
      "source": [
        "rocks.head()"
      ],
      "execution_count": 20,
      "outputs": [
        {
          "output_type": "execute_result",
          "data": {
            "text/html": [
              "<div>\n",
              "<style scoped>\n",
              "    .dataframe tbody tr th:only-of-type {\n",
              "        vertical-align: middle;\n",
              "    }\n",
              "\n",
              "    .dataframe tbody tr th {\n",
              "        vertical-align: top;\n",
              "    }\n",
              "\n",
              "    .dataframe thead th {\n",
              "        text-align: right;\n",
              "    }\n",
              "</style>\n",
              "<table border=\"1\" class=\"dataframe\">\n",
              "  <thead>\n",
              "    <tr style=\"text-align: right;\">\n",
              "      <th></th>\n",
              "      <th>Song Clean</th>\n",
              "      <th>ARTIST CLEAN</th>\n",
              "      <th>Release Year</th>\n",
              "      <th>COMBINED</th>\n",
              "      <th>First?</th>\n",
              "      <th>Year?</th>\n",
              "      <th>PlayCount</th>\n",
              "      <th>F*G</th>\n",
              "    </tr>\n",
              "  </thead>\n",
              "  <tbody>\n",
              "    <tr>\n",
              "      <th>0</th>\n",
              "      <td>Caught Up in You</td>\n",
              "      <td>.38 Special</td>\n",
              "      <td>1982.0</td>\n",
              "      <td>Caught Up in You by .38 Special</td>\n",
              "      <td>1.0</td>\n",
              "      <td>1.0</td>\n",
              "      <td>82.0</td>\n",
              "      <td>82.0</td>\n",
              "    </tr>\n",
              "    <tr>\n",
              "      <th>1</th>\n",
              "      <td>Fantasy Girl</td>\n",
              "      <td>.38 Special</td>\n",
              "      <td>NaN</td>\n",
              "      <td>Fantasy Girl by .38 Special</td>\n",
              "      <td>1.0</td>\n",
              "      <td>0.0</td>\n",
              "      <td>3.0</td>\n",
              "      <td>0.0</td>\n",
              "    </tr>\n",
              "    <tr>\n",
              "      <th>2</th>\n",
              "      <td>Hold On Loosely</td>\n",
              "      <td>.38 Special</td>\n",
              "      <td>1981.0</td>\n",
              "      <td>Hold On Loosely by .38 Special</td>\n",
              "      <td>1.0</td>\n",
              "      <td>1.0</td>\n",
              "      <td>85.0</td>\n",
              "      <td>85.0</td>\n",
              "    </tr>\n",
              "    <tr>\n",
              "      <th>3</th>\n",
              "      <td>Rockin' Into the Night</td>\n",
              "      <td>.38 Special</td>\n",
              "      <td>1980.0</td>\n",
              "      <td>Rockin' Into the Night by .38 Special</td>\n",
              "      <td>1.0</td>\n",
              "      <td>1.0</td>\n",
              "      <td>18.0</td>\n",
              "      <td>18.0</td>\n",
              "    </tr>\n",
              "    <tr>\n",
              "      <th>4</th>\n",
              "      <td>Art For Arts Sake</td>\n",
              "      <td>10cc</td>\n",
              "      <td>1975.0</td>\n",
              "      <td>Art For Arts Sake by 10cc</td>\n",
              "      <td>1.0</td>\n",
              "      <td>1.0</td>\n",
              "      <td>1.0</td>\n",
              "      <td>1.0</td>\n",
              "    </tr>\n",
              "  </tbody>\n",
              "</table>\n",
              "</div>"
            ],
            "text/plain": [
              "               Song Clean ARTIST CLEAN  Release Year  ... Year?  PlayCount   F*G\n",
              "0        Caught Up in You  .38 Special        1982.0  ...   1.0       82.0  82.0\n",
              "1            Fantasy Girl  .38 Special           NaN  ...   0.0        3.0   0.0\n",
              "2         Hold On Loosely  .38 Special        1981.0  ...   1.0       85.0  85.0\n",
              "3  Rockin' Into the Night  .38 Special        1980.0  ...   1.0       18.0  18.0\n",
              "4       Art For Arts Sake         10cc        1975.0  ...   1.0        1.0   1.0\n",
              "\n",
              "[5 rows x 8 columns]"
            ]
          },
          "metadata": {
            "tags": []
          },
          "execution_count": 20
        }
      ]
    },
    {
      "cell_type": "code",
      "metadata": {
        "colab": {
          "base_uri": "https://localhost:8080/",
          "height": 422
        },
        "id": "JucHFyDoG0fd",
        "outputId": "f4e04b72-b726-4741-a3d7-480903b3b4e0"
      },
      "source": [
        "rocks[\"Release Year\"].fillna(\"0\", inplace = True)\n",
        "rocks"
      ],
      "execution_count": 21,
      "outputs": [
        {
          "output_type": "execute_result",
          "data": {
            "text/html": [
              "<div>\n",
              "<style scoped>\n",
              "    .dataframe tbody tr th:only-of-type {\n",
              "        vertical-align: middle;\n",
              "    }\n",
              "\n",
              "    .dataframe tbody tr th {\n",
              "        vertical-align: top;\n",
              "    }\n",
              "\n",
              "    .dataframe thead th {\n",
              "        text-align: right;\n",
              "    }\n",
              "</style>\n",
              "<table border=\"1\" class=\"dataframe\">\n",
              "  <thead>\n",
              "    <tr style=\"text-align: right;\">\n",
              "      <th></th>\n",
              "      <th>Song Clean</th>\n",
              "      <th>ARTIST CLEAN</th>\n",
              "      <th>Release Year</th>\n",
              "      <th>COMBINED</th>\n",
              "      <th>First?</th>\n",
              "      <th>Year?</th>\n",
              "      <th>PlayCount</th>\n",
              "      <th>F*G</th>\n",
              "    </tr>\n",
              "  </thead>\n",
              "  <tbody>\n",
              "    <tr>\n",
              "      <th>0</th>\n",
              "      <td>Caught Up in You</td>\n",
              "      <td>.38 Special</td>\n",
              "      <td>1982</td>\n",
              "      <td>Caught Up in You by .38 Special</td>\n",
              "      <td>1.0</td>\n",
              "      <td>1.0</td>\n",
              "      <td>82.0</td>\n",
              "      <td>82.0</td>\n",
              "    </tr>\n",
              "    <tr>\n",
              "      <th>1</th>\n",
              "      <td>Fantasy Girl</td>\n",
              "      <td>.38 Special</td>\n",
              "      <td>0</td>\n",
              "      <td>Fantasy Girl by .38 Special</td>\n",
              "      <td>1.0</td>\n",
              "      <td>0.0</td>\n",
              "      <td>3.0</td>\n",
              "      <td>0.0</td>\n",
              "    </tr>\n",
              "    <tr>\n",
              "      <th>2</th>\n",
              "      <td>Hold On Loosely</td>\n",
              "      <td>.38 Special</td>\n",
              "      <td>1981</td>\n",
              "      <td>Hold On Loosely by .38 Special</td>\n",
              "      <td>1.0</td>\n",
              "      <td>1.0</td>\n",
              "      <td>85.0</td>\n",
              "      <td>85.0</td>\n",
              "    </tr>\n",
              "    <tr>\n",
              "      <th>3</th>\n",
              "      <td>Rockin' Into the Night</td>\n",
              "      <td>.38 Special</td>\n",
              "      <td>1980</td>\n",
              "      <td>Rockin' Into the Night by .38 Special</td>\n",
              "      <td>1.0</td>\n",
              "      <td>1.0</td>\n",
              "      <td>18.0</td>\n",
              "      <td>18.0</td>\n",
              "    </tr>\n",
              "    <tr>\n",
              "      <th>4</th>\n",
              "      <td>Art For Arts Sake</td>\n",
              "      <td>10cc</td>\n",
              "      <td>1975</td>\n",
              "      <td>Art For Arts Sake by 10cc</td>\n",
              "      <td>1.0</td>\n",
              "      <td>1.0</td>\n",
              "      <td>1.0</td>\n",
              "      <td>1.0</td>\n",
              "    </tr>\n",
              "    <tr>\n",
              "      <th>...</th>\n",
              "      <td>...</td>\n",
              "      <td>...</td>\n",
              "      <td>...</td>\n",
              "      <td>...</td>\n",
              "      <td>...</td>\n",
              "      <td>...</td>\n",
              "      <td>...</td>\n",
              "      <td>...</td>\n",
              "    </tr>\n",
              "    <tr>\n",
              "      <th>844710</th>\n",
              "      <td>NaN</td>\n",
              "      <td>NaN</td>\n",
              "      <td>0</td>\n",
              "      <td>NaN</td>\n",
              "      <td>NaN</td>\n",
              "      <td>NaN</td>\n",
              "      <td>NaN</td>\n",
              "      <td>NaN</td>\n",
              "    </tr>\n",
              "    <tr>\n",
              "      <th>844711</th>\n",
              "      <td>NaN</td>\n",
              "      <td>NaN</td>\n",
              "      <td>0</td>\n",
              "      <td>NaN</td>\n",
              "      <td>NaN</td>\n",
              "      <td>NaN</td>\n",
              "      <td>NaN</td>\n",
              "      <td>NaN</td>\n",
              "    </tr>\n",
              "    <tr>\n",
              "      <th>844712</th>\n",
              "      <td>NaN</td>\n",
              "      <td>NaN</td>\n",
              "      <td>0</td>\n",
              "      <td>NaN</td>\n",
              "      <td>NaN</td>\n",
              "      <td>NaN</td>\n",
              "      <td>NaN</td>\n",
              "      <td>NaN</td>\n",
              "    </tr>\n",
              "    <tr>\n",
              "      <th>844713</th>\n",
              "      <td>NaN</td>\n",
              "      <td>NaN</td>\n",
              "      <td>0</td>\n",
              "      <td>NaN</td>\n",
              "      <td>NaN</td>\n",
              "      <td>NaN</td>\n",
              "      <td>NaN</td>\n",
              "      <td>NaN</td>\n",
              "    </tr>\n",
              "    <tr>\n",
              "      <th>844714</th>\n",
              "      <td>NaN</td>\n",
              "      <td>NaN</td>\n",
              "      <td>0</td>\n",
              "      <td>NaN</td>\n",
              "      <td>NaN</td>\n",
              "      <td>NaN</td>\n",
              "      <td>NaN</td>\n",
              "      <td>NaN</td>\n",
              "    </tr>\n",
              "  </tbody>\n",
              "</table>\n",
              "<p>844715 rows × 8 columns</p>\n",
              "</div>"
            ],
            "text/plain": [
              "                    Song Clean ARTIST CLEAN  ... PlayCount   F*G\n",
              "0             Caught Up in You  .38 Special  ...      82.0  82.0\n",
              "1                 Fantasy Girl  .38 Special  ...       3.0   0.0\n",
              "2              Hold On Loosely  .38 Special  ...      85.0  85.0\n",
              "3       Rockin' Into the Night  .38 Special  ...      18.0  18.0\n",
              "4            Art For Arts Sake         10cc  ...       1.0   1.0\n",
              "...                        ...          ...  ...       ...   ...\n",
              "844710                     NaN          NaN  ...       NaN   NaN\n",
              "844711                     NaN          NaN  ...       NaN   NaN\n",
              "844712                     NaN          NaN  ...       NaN   NaN\n",
              "844713                     NaN          NaN  ...       NaN   NaN\n",
              "844714                     NaN          NaN  ...       NaN   NaN\n",
              "\n",
              "[844715 rows x 8 columns]"
            ]
          },
          "metadata": {
            "tags": []
          },
          "execution_count": 21
        }
      ]
    },
    {
      "cell_type": "markdown",
      "metadata": {
        "id": "RQ2GyN7MVpph"
      },
      "source": [
        "## Check Datatypes of Dataset\n",
        "\n",
        "Check datatypes of the dataset. Is there any column which should be int instead of object? Fix the column. "
      ]
    },
    {
      "cell_type": "code",
      "metadata": {
        "colab": {
          "base_uri": "https://localhost:8080/"
        },
        "id": "yL49MdILWOjk",
        "outputId": "b4acbd8b-9e64-4c1a-84a5-60de9f6fc50a"
      },
      "source": [
        "rocks.dtypes"
      ],
      "execution_count": 22,
      "outputs": [
        {
          "output_type": "execute_result",
          "data": {
            "text/plain": [
              "Song Clean       object\n",
              "ARTIST CLEAN     object\n",
              "Release Year     object\n",
              "COMBINED         object\n",
              "First?          float64\n",
              "Year?           float64\n",
              "PlayCount       float64\n",
              "F*G             float64\n",
              "dtype: object"
            ]
          },
          "metadata": {
            "tags": []
          },
          "execution_count": 22
        }
      ]
    },
    {
      "cell_type": "code",
      "metadata": {
        "colab": {
          "base_uri": "https://localhost:8080/",
          "height": 205
        },
        "id": "B6JrZLORv-UT",
        "outputId": "a210611d-cc8b-4e39-de11-2bac382eaa71"
      },
      "source": [
        "rocks.head()"
      ],
      "execution_count": 23,
      "outputs": [
        {
          "output_type": "execute_result",
          "data": {
            "text/html": [
              "<div>\n",
              "<style scoped>\n",
              "    .dataframe tbody tr th:only-of-type {\n",
              "        vertical-align: middle;\n",
              "    }\n",
              "\n",
              "    .dataframe tbody tr th {\n",
              "        vertical-align: top;\n",
              "    }\n",
              "\n",
              "    .dataframe thead th {\n",
              "        text-align: right;\n",
              "    }\n",
              "</style>\n",
              "<table border=\"1\" class=\"dataframe\">\n",
              "  <thead>\n",
              "    <tr style=\"text-align: right;\">\n",
              "      <th></th>\n",
              "      <th>Song Clean</th>\n",
              "      <th>ARTIST CLEAN</th>\n",
              "      <th>Release Year</th>\n",
              "      <th>COMBINED</th>\n",
              "      <th>First?</th>\n",
              "      <th>Year?</th>\n",
              "      <th>PlayCount</th>\n",
              "      <th>F*G</th>\n",
              "    </tr>\n",
              "  </thead>\n",
              "  <tbody>\n",
              "    <tr>\n",
              "      <th>0</th>\n",
              "      <td>Caught Up in You</td>\n",
              "      <td>.38 Special</td>\n",
              "      <td>1982</td>\n",
              "      <td>Caught Up in You by .38 Special</td>\n",
              "      <td>1.0</td>\n",
              "      <td>1.0</td>\n",
              "      <td>82.0</td>\n",
              "      <td>82.0</td>\n",
              "    </tr>\n",
              "    <tr>\n",
              "      <th>1</th>\n",
              "      <td>Fantasy Girl</td>\n",
              "      <td>.38 Special</td>\n",
              "      <td>0</td>\n",
              "      <td>Fantasy Girl by .38 Special</td>\n",
              "      <td>1.0</td>\n",
              "      <td>0.0</td>\n",
              "      <td>3.0</td>\n",
              "      <td>0.0</td>\n",
              "    </tr>\n",
              "    <tr>\n",
              "      <th>2</th>\n",
              "      <td>Hold On Loosely</td>\n",
              "      <td>.38 Special</td>\n",
              "      <td>1981</td>\n",
              "      <td>Hold On Loosely by .38 Special</td>\n",
              "      <td>1.0</td>\n",
              "      <td>1.0</td>\n",
              "      <td>85.0</td>\n",
              "      <td>85.0</td>\n",
              "    </tr>\n",
              "    <tr>\n",
              "      <th>3</th>\n",
              "      <td>Rockin' Into the Night</td>\n",
              "      <td>.38 Special</td>\n",
              "      <td>1980</td>\n",
              "      <td>Rockin' Into the Night by .38 Special</td>\n",
              "      <td>1.0</td>\n",
              "      <td>1.0</td>\n",
              "      <td>18.0</td>\n",
              "      <td>18.0</td>\n",
              "    </tr>\n",
              "    <tr>\n",
              "      <th>4</th>\n",
              "      <td>Art For Arts Sake</td>\n",
              "      <td>10cc</td>\n",
              "      <td>1975</td>\n",
              "      <td>Art For Arts Sake by 10cc</td>\n",
              "      <td>1.0</td>\n",
              "      <td>1.0</td>\n",
              "      <td>1.0</td>\n",
              "      <td>1.0</td>\n",
              "    </tr>\n",
              "  </tbody>\n",
              "</table>\n",
              "</div>"
            ],
            "text/plain": [
              "               Song Clean ARTIST CLEAN Release Year  ... Year?  PlayCount   F*G\n",
              "0        Caught Up in You  .38 Special         1982  ...   1.0       82.0  82.0\n",
              "1            Fantasy Girl  .38 Special            0  ...   0.0        3.0   0.0\n",
              "2         Hold On Loosely  .38 Special         1981  ...   1.0       85.0  85.0\n",
              "3  Rockin' Into the Night  .38 Special         1980  ...   1.0       18.0  18.0\n",
              "4       Art For Arts Sake         10cc         1975  ...   1.0        1.0   1.0\n",
              "\n",
              "[5 rows x 8 columns]"
            ]
          },
          "metadata": {
            "tags": []
          },
          "execution_count": 23
        }
      ]
    },
    {
      "cell_type": "code",
      "metadata": {
        "colab": {
          "base_uri": "https://localhost:8080/"
        },
        "id": "LgKNO-0NWU1q",
        "outputId": "dc71d5a2-aef2-4ca8-9b20-83e1e72eb9ee"
      },
      "source": [
        "rocks['Release Year'] = rocks['Release Year'].astype('float').astype('int')\n",
        "rocks.dtypes"
      ],
      "execution_count": 24,
      "outputs": [
        {
          "output_type": "execute_result",
          "data": {
            "text/plain": [
              "Song Clean       object\n",
              "ARTIST CLEAN     object\n",
              "Release Year      int64\n",
              "COMBINED         object\n",
              "First?          float64\n",
              "Year?           float64\n",
              "PlayCount       float64\n",
              "F*G             float64\n",
              "dtype: object"
            ]
          },
          "metadata": {
            "tags": []
          },
          "execution_count": 24
        }
      ]
    },
    {
      "cell_type": "markdown",
      "metadata": {
        "id": "fCzoReoXVpph"
      },
      "source": [
        "## Check Min, Max of Each Column\n",
        "\n",
        "Is there any illogical value in any column? How can we fix that?"
      ]
    },
    {
      "cell_type": "code",
      "metadata": {
        "colab": {
          "base_uri": "https://localhost:8080/"
        },
        "id": "mOjWDXnbqyqA",
        "outputId": "6698a5f6-acb2-479f-caed-b64eeb331688"
      },
      "source": [
        "rocks[['Release Year', 'First?', 'Year?','PlayCount', 'F*G']].max()"
      ],
      "execution_count": 11,
      "outputs": [
        {
          "output_type": "execute_result",
          "data": {
            "text/plain": [
              "Release Year    2014.0\n",
              "First?             1.0\n",
              "Year?              1.0\n",
              "PlayCount        142.0\n",
              "F*G              142.0\n",
              "dtype: float64"
            ]
          },
          "metadata": {
            "tags": []
          },
          "execution_count": 11
        }
      ]
    },
    {
      "cell_type": "code",
      "metadata": {
        "colab": {
          "base_uri": "https://localhost:8080/"
        },
        "id": "jlZGFS33wj--",
        "outputId": "031131e4-5970-4c65-f42c-78d773a2ede1"
      },
      "source": [
        "rocks[['Release Year', 'First?', 'Year?','PlayCount', 'F*G']].min()"
      ],
      "execution_count": 12,
      "outputs": [
        {
          "output_type": "execute_result",
          "data": {
            "text/plain": [
              "Release Year    0.0\n",
              "First?          1.0\n",
              "Year?           0.0\n",
              "PlayCount       0.0\n",
              "F*G             0.0\n",
              "dtype: float64"
            ]
          },
          "metadata": {
            "tags": []
          },
          "execution_count": 12
        }
      ]
    },
    {
      "cell_type": "markdown",
      "metadata": {
        "id": "NzJieuuyVppi"
      },
      "source": [
        "## Write Some Functions"
      ]
    },
    {
      "cell_type": "markdown",
      "metadata": {
        "id": "2jYAjnOVVppi"
      },
      "source": [
        "## Write a function that will take a row of a DataFrame and print out the song, artist, and whether or not the release date is < 1970"
      ]
    },
    {
      "cell_type": "code",
      "metadata": {
        "colab": {
          "base_uri": "https://localhost:8080/",
          "height": 205
        },
        "id": "hvkX2Jk73V14",
        "outputId": "9ad752af-abae-4cda-8cfe-3b98fbec0974"
      },
      "source": [
        "rocks.index = np.arange(1,len(rocks)+1)\n",
        "rocks.head()"
      ],
      "execution_count": 13,
      "outputs": [
        {
          "output_type": "execute_result",
          "data": {
            "text/html": [
              "<div>\n",
              "<style scoped>\n",
              "    .dataframe tbody tr th:only-of-type {\n",
              "        vertical-align: middle;\n",
              "    }\n",
              "\n",
              "    .dataframe tbody tr th {\n",
              "        vertical-align: top;\n",
              "    }\n",
              "\n",
              "    .dataframe thead th {\n",
              "        text-align: right;\n",
              "    }\n",
              "</style>\n",
              "<table border=\"1\" class=\"dataframe\">\n",
              "  <thead>\n",
              "    <tr style=\"text-align: right;\">\n",
              "      <th></th>\n",
              "      <th>Song Clean</th>\n",
              "      <th>ARTIST CLEAN</th>\n",
              "      <th>Release Year</th>\n",
              "      <th>COMBINED</th>\n",
              "      <th>First?</th>\n",
              "      <th>Year?</th>\n",
              "      <th>PlayCount</th>\n",
              "      <th>F*G</th>\n",
              "    </tr>\n",
              "  </thead>\n",
              "  <tbody>\n",
              "    <tr>\n",
              "      <th>1</th>\n",
              "      <td>Caught Up in You</td>\n",
              "      <td>.38 Special</td>\n",
              "      <td>1982</td>\n",
              "      <td>Caught Up in You by .38 Special</td>\n",
              "      <td>1.0</td>\n",
              "      <td>1.0</td>\n",
              "      <td>82.0</td>\n",
              "      <td>82.0</td>\n",
              "    </tr>\n",
              "    <tr>\n",
              "      <th>2</th>\n",
              "      <td>Fantasy Girl</td>\n",
              "      <td>.38 Special</td>\n",
              "      <td>0</td>\n",
              "      <td>Fantasy Girl by .38 Special</td>\n",
              "      <td>1.0</td>\n",
              "      <td>0.0</td>\n",
              "      <td>3.0</td>\n",
              "      <td>0.0</td>\n",
              "    </tr>\n",
              "    <tr>\n",
              "      <th>3</th>\n",
              "      <td>Hold On Loosely</td>\n",
              "      <td>.38 Special</td>\n",
              "      <td>1981</td>\n",
              "      <td>Hold On Loosely by .38 Special</td>\n",
              "      <td>1.0</td>\n",
              "      <td>1.0</td>\n",
              "      <td>85.0</td>\n",
              "      <td>85.0</td>\n",
              "    </tr>\n",
              "    <tr>\n",
              "      <th>4</th>\n",
              "      <td>Rockin' Into the Night</td>\n",
              "      <td>.38 Special</td>\n",
              "      <td>1980</td>\n",
              "      <td>Rockin' Into the Night by .38 Special</td>\n",
              "      <td>1.0</td>\n",
              "      <td>1.0</td>\n",
              "      <td>18.0</td>\n",
              "      <td>18.0</td>\n",
              "    </tr>\n",
              "    <tr>\n",
              "      <th>5</th>\n",
              "      <td>Art For Arts Sake</td>\n",
              "      <td>10cc</td>\n",
              "      <td>1975</td>\n",
              "      <td>Art For Arts Sake by 10cc</td>\n",
              "      <td>1.0</td>\n",
              "      <td>1.0</td>\n",
              "      <td>1.0</td>\n",
              "      <td>1.0</td>\n",
              "    </tr>\n",
              "  </tbody>\n",
              "</table>\n",
              "</div>"
            ],
            "text/plain": [
              "               Song Clean ARTIST CLEAN  Release Year  ... Year?  PlayCount   F*G\n",
              "1        Caught Up in You  .38 Special          1982  ...   1.0       82.0  82.0\n",
              "2            Fantasy Girl  .38 Special             0  ...   0.0        3.0   0.0\n",
              "3         Hold On Loosely  .38 Special          1981  ...   1.0       85.0  85.0\n",
              "4  Rockin' Into the Night  .38 Special          1980  ...   1.0       18.0  18.0\n",
              "5       Art For Arts Sake         10cc          1975  ...   1.0        1.0   1.0\n",
              "\n",
              "[5 rows x 8 columns]"
            ]
          },
          "metadata": {
            "tags": []
          },
          "execution_count": 13
        }
      ]
    },
    {
      "cell_type": "code",
      "metadata": {
        "colab": {
          "base_uri": "https://localhost:8080/"
        },
        "id": "eP3HpkOYFBS8",
        "outputId": "4f71f42b-7aa4-4589-9e61-4976628bdf6b"
      },
      "source": [
        "def song_details(row_num):\n",
        "   song = rocks.loc[row_num, 'Song Clean']\n",
        "   artist = rocks.loc[row_num, 'ARTIST CLEAN']\n",
        "   year = rocks.loc[row_num, 'Release Year']\n",
        "   if(year >= 1970):\n",
        "    return song, artist, year\n",
        "   else:\n",
        "     return 'The year is less then 1970'\n",
        " \n",
        "song_details(3)"
      ],
      "execution_count": 14,
      "outputs": [
        {
          "output_type": "execute_result",
          "data": {
            "text/plain": [
              "('Hold On Loosely', '.38 Special', 1981)"
            ]
          },
          "metadata": {
            "tags": []
          },
          "execution_count": 14
        }
      ]
    },
    {
      "cell_type": "markdown",
      "metadata": {
        "id": "tk1XfgtkVppj"
      },
      "source": [
        "## Write a function that converts cells in a DataFrame to float and otherwise replaces them with np.nan"
      ]
    },
    {
      "cell_type": "code",
      "metadata": {
        "colab": {
          "base_uri": "https://localhost:8080/"
        },
        "id": "v8Wjzf8AVbDC",
        "outputId": "c220e691-959c-4aa9-e747-b381db79bbc3"
      },
      "source": [
        "rocks.dtypes"
      ],
      "execution_count": 16,
      "outputs": [
        {
          "output_type": "execute_result",
          "data": {
            "text/plain": [
              "Song Clean       object\n",
              "ARTIST CLEAN     object\n",
              "Release Year      int64\n",
              "COMBINED         object\n",
              "First?          float64\n",
              "Year?           float64\n",
              "PlayCount       float64\n",
              "F*G             float64\n",
              "dtype: object"
            ]
          },
          "metadata": {
            "tags": []
          },
          "execution_count": 16
        }
      ]
    },
    {
      "cell_type": "code",
      "metadata": {
        "colab": {
          "base_uri": "https://localhost:8080/",
          "height": 205
        },
        "id": "x8hsMZnjBgsL",
        "outputId": "6a9c08d4-2787-47b9-c435-0f76d2d2800d"
      },
      "source": [
        "rocks.head()"
      ],
      "execution_count": 15,
      "outputs": [
        {
          "output_type": "execute_result",
          "data": {
            "text/html": [
              "<div>\n",
              "<style scoped>\n",
              "    .dataframe tbody tr th:only-of-type {\n",
              "        vertical-align: middle;\n",
              "    }\n",
              "\n",
              "    .dataframe tbody tr th {\n",
              "        vertical-align: top;\n",
              "    }\n",
              "\n",
              "    .dataframe thead th {\n",
              "        text-align: right;\n",
              "    }\n",
              "</style>\n",
              "<table border=\"1\" class=\"dataframe\">\n",
              "  <thead>\n",
              "    <tr style=\"text-align: right;\">\n",
              "      <th></th>\n",
              "      <th>Song Clean</th>\n",
              "      <th>ARTIST CLEAN</th>\n",
              "      <th>Release Year</th>\n",
              "      <th>COMBINED</th>\n",
              "      <th>First?</th>\n",
              "      <th>Year?</th>\n",
              "      <th>PlayCount</th>\n",
              "      <th>F*G</th>\n",
              "    </tr>\n",
              "  </thead>\n",
              "  <tbody>\n",
              "    <tr>\n",
              "      <th>1</th>\n",
              "      <td>Caught Up in You</td>\n",
              "      <td>.38 Special</td>\n",
              "      <td>1982</td>\n",
              "      <td>Caught Up in You by .38 Special</td>\n",
              "      <td>1.0</td>\n",
              "      <td>1.0</td>\n",
              "      <td>82.0</td>\n",
              "      <td>82.0</td>\n",
              "    </tr>\n",
              "    <tr>\n",
              "      <th>2</th>\n",
              "      <td>Fantasy Girl</td>\n",
              "      <td>.38 Special</td>\n",
              "      <td>0</td>\n",
              "      <td>Fantasy Girl by .38 Special</td>\n",
              "      <td>1.0</td>\n",
              "      <td>0.0</td>\n",
              "      <td>3.0</td>\n",
              "      <td>0.0</td>\n",
              "    </tr>\n",
              "    <tr>\n",
              "      <th>3</th>\n",
              "      <td>Hold On Loosely</td>\n",
              "      <td>.38 Special</td>\n",
              "      <td>1981</td>\n",
              "      <td>Hold On Loosely by .38 Special</td>\n",
              "      <td>1.0</td>\n",
              "      <td>1.0</td>\n",
              "      <td>85.0</td>\n",
              "      <td>85.0</td>\n",
              "    </tr>\n",
              "    <tr>\n",
              "      <th>4</th>\n",
              "      <td>Rockin' Into the Night</td>\n",
              "      <td>.38 Special</td>\n",
              "      <td>1980</td>\n",
              "      <td>Rockin' Into the Night by .38 Special</td>\n",
              "      <td>1.0</td>\n",
              "      <td>1.0</td>\n",
              "      <td>18.0</td>\n",
              "      <td>18.0</td>\n",
              "    </tr>\n",
              "    <tr>\n",
              "      <th>5</th>\n",
              "      <td>Art For Arts Sake</td>\n",
              "      <td>10cc</td>\n",
              "      <td>1975</td>\n",
              "      <td>Art For Arts Sake by 10cc</td>\n",
              "      <td>1.0</td>\n",
              "      <td>1.0</td>\n",
              "      <td>1.0</td>\n",
              "      <td>1.0</td>\n",
              "    </tr>\n",
              "  </tbody>\n",
              "</table>\n",
              "</div>"
            ],
            "text/plain": [
              "               Song Clean ARTIST CLEAN  Release Year  ... Year?  PlayCount   F*G\n",
              "1        Caught Up in You  .38 Special          1982  ...   1.0       82.0  82.0\n",
              "2            Fantasy Girl  .38 Special             0  ...   0.0        3.0   0.0\n",
              "3         Hold On Loosely  .38 Special          1981  ...   1.0       85.0  85.0\n",
              "4  Rockin' Into the Night  .38 Special          1980  ...   1.0       18.0  18.0\n",
              "5       Art For Arts Sake         10cc          1975  ...   1.0        1.0   1.0\n",
              "\n",
              "[5 rows x 8 columns]"
            ]
          },
          "metadata": {
            "tags": []
          },
          "execution_count": 15
        }
      ]
    },
    {
      "cell_type": "code",
      "metadata": {
        "colab": {
          "base_uri": "https://localhost:8080/",
          "height": 371
        },
        "id": "ANsHv8NbCY4c",
        "outputId": "f59595c1-5ffd-4e57-a760-c11e8fa5d569"
      },
      "source": [
        "def df(convert):\n",
        "  first_col = rocks.loc[convert, 'First?']\n",
        "  year_col = rocks.loc[convert, 'Year?']\n",
        "  play_col = rocks.loc[convert, 'PlayCount']\n",
        "  f_col = rocks.loc[convert, 'F*G']\n",
        "  for first in first_col.select_dtypes(['object']):\n",
        "    first = pd.to_numeric(first_col, errors='coerce')\n",
        "    return first\n",
        "\n",
        "df(5)\n",
        "\n"
      ],
      "execution_count": 31,
      "outputs": [
        {
          "output_type": "error",
          "ename": "AttributeError",
          "evalue": "ignored",
          "traceback": [
            "\u001b[0;31m---------------------------------------------------------------------------\u001b[0m",
            "\u001b[0;31mAttributeError\u001b[0m                            Traceback (most recent call last)",
            "\u001b[0;32m<ipython-input-31-aa4b5bef2f63>\u001b[0m in \u001b[0;36m<module>\u001b[0;34m()\u001b[0m\n\u001b[1;32m     11\u001b[0m \u001b[0;31m#    return 'This is a test'\u001b[0m\u001b[0;34m\u001b[0m\u001b[0;34m\u001b[0m\u001b[0;34m\u001b[0m\u001b[0m\n\u001b[1;32m     12\u001b[0m \u001b[0;34m\u001b[0m\u001b[0m\n\u001b[0;32m---> 13\u001b[0;31m \u001b[0mdf\u001b[0m\u001b[0;34m(\u001b[0m\u001b[0;36m5\u001b[0m\u001b[0;34m)\u001b[0m\u001b[0;34m\u001b[0m\u001b[0;34m\u001b[0m\u001b[0m\n\u001b[0m\u001b[1;32m     14\u001b[0m \u001b[0;34m\u001b[0m\u001b[0m\n\u001b[1;32m     15\u001b[0m  \u001b[0;31m# df['Price'] = df['Price'].astype(float)\u001b[0m\u001b[0;34m\u001b[0m\u001b[0;34m\u001b[0m\u001b[0;34m\u001b[0m\u001b[0m\n",
            "\u001b[0;32m<ipython-input-31-aa4b5bef2f63>\u001b[0m in \u001b[0;36mdf\u001b[0;34m(convert)\u001b[0m\n\u001b[1;32m      5\u001b[0m   \u001b[0mf_col\u001b[0m \u001b[0;34m=\u001b[0m \u001b[0mrocks\u001b[0m\u001b[0;34m.\u001b[0m\u001b[0mloc\u001b[0m\u001b[0;34m[\u001b[0m\u001b[0mconvert\u001b[0m\u001b[0;34m,\u001b[0m \u001b[0;34m'F*G'\u001b[0m\u001b[0;34m]\u001b[0m\u001b[0;34m\u001b[0m\u001b[0;34m\u001b[0m\u001b[0m\n\u001b[1;32m      6\u001b[0m \u001b[0;31m#  if:\u001b[0m\u001b[0;34m\u001b[0m\u001b[0;34m\u001b[0m\u001b[0;34m\u001b[0m\u001b[0m\n\u001b[0;32m----> 7\u001b[0;31m   \u001b[0;32mfor\u001b[0m \u001b[0mfirst\u001b[0m \u001b[0;32min\u001b[0m \u001b[0mfirst_col\u001b[0m\u001b[0;34m.\u001b[0m\u001b[0mselect_dtypes\u001b[0m\u001b[0;34m(\u001b[0m\u001b[0;34m[\u001b[0m\u001b[0;34m'object'\u001b[0m\u001b[0;34m]\u001b[0m\u001b[0;34m)\u001b[0m\u001b[0;34m:\u001b[0m\u001b[0;34m\u001b[0m\u001b[0;34m\u001b[0m\u001b[0m\n\u001b[0m\u001b[1;32m      8\u001b[0m     \u001b[0mfirst\u001b[0m \u001b[0;34m=\u001b[0m \u001b[0mpd\u001b[0m\u001b[0;34m.\u001b[0m\u001b[0mto_numeric\u001b[0m\u001b[0;34m(\u001b[0m\u001b[0mfirst_col\u001b[0m\u001b[0;34m,\u001b[0m \u001b[0merrors\u001b[0m\u001b[0;34m=\u001b[0m\u001b[0;34m'coerce'\u001b[0m\u001b[0;34m)\u001b[0m\u001b[0;34m\u001b[0m\u001b[0;34m\u001b[0m\u001b[0m\n\u001b[1;32m      9\u001b[0m     \u001b[0;32mreturn\u001b[0m \u001b[0mfirst\u001b[0m\u001b[0;34m\u001b[0m\u001b[0;34m\u001b[0m\u001b[0m\n",
            "\u001b[0;31mAttributeError\u001b[0m: 'numpy.float64' object has no attribute 'select_dtypes'"
          ]
        }
      ]
    },
    {
      "cell_type": "markdown",
      "metadata": {
        "id": "EEIsPER2Vppj"
      },
      "source": [
        "## Apply these functions to your dataset"
      ]
    },
    {
      "cell_type": "markdown",
      "metadata": {
        "id": "Jz86dxCFVppk"
      },
      "source": [
        "## Describe the new float-only DataFrame."
      ]
    },
    {
      "cell_type": "code",
      "metadata": {
        "colab": {
          "base_uri": "https://localhost:8080/"
        },
        "id": "sZnqlf6Y2-j_",
        "outputId": "80315d12-23e9-4755-bd25-f2b62fc61f84"
      },
      "source": [
        "rocks.describe"
      ],
      "execution_count": 32,
      "outputs": [
        {
          "output_type": "execute_result",
          "data": {
            "text/plain": [
              "<bound method NDFrame.describe of                     Song Clean ARTIST CLEAN  ...  PlayCount   F*G\n",
              "0             Caught Up in You  .38 Special  ...       82.0  82.0\n",
              "1                 Fantasy Girl  .38 Special  ...        3.0   0.0\n",
              "2              Hold On Loosely  .38 Special  ...       85.0  85.0\n",
              "3       Rockin' Into the Night  .38 Special  ...       18.0  18.0\n",
              "4            Art For Arts Sake         10cc  ...        1.0   1.0\n",
              "...                        ...          ...  ...        ...   ...\n",
              "844710                     NaN          NaN  ...        NaN   NaN\n",
              "844711                     NaN          NaN  ...        NaN   NaN\n",
              "844712                     NaN          NaN  ...        NaN   NaN\n",
              "844713                     NaN          NaN  ...        NaN   NaN\n",
              "844714                     NaN          NaN  ...        NaN   NaN\n",
              "\n",
              "[844715 rows x 8 columns]>"
            ]
          },
          "metadata": {
            "tags": []
          },
          "execution_count": 32
        }
      ]
    },
    {
      "cell_type": "markdown",
      "metadata": {
        "id": "w2asO3_lDFm8"
      },
      "source": [
        ">\n"
      ]
    },
    {
      "cell_type": "markdown",
      "metadata": {
        "id": "MlasiTKgDGdA"
      },
      "source": [
        "\n",
        "\n",
        "---\n",
        "\n",
        "\n",
        "\n",
        "---\n",
        "\n",
        "\n",
        "\n",
        "> > > > > > > > > © 2021 Institute of Data\n",
        "\n",
        "\n",
        "---\n",
        "\n",
        "\n",
        "\n",
        "---\n",
        "\n",
        "\n",
        "\n"
      ]
    }
  ]
}