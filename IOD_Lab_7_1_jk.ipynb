{
  "nbformat": 4,
  "nbformat_minor": 0,
  "metadata": {
    "colab": {
      "name": "IOD_Lab-7_1-jk.ipynb",
      "provenance": [],
      "collapsed_sections": []
    },
    "kernelspec": {
      "display_name": "Python 3",
      "language": "python",
      "name": "python3"
    },
    "language_info": {
      "codemirror_mode": {
        "name": "ipython",
        "version": 3
      },
      "file_extension": ".py",
      "mimetype": "text/x-python",
      "name": "python",
      "nbconvert_exporter": "python",
      "pygments_lexer": "ipython3",
      "version": "3.7.7"
    }
  },
  "cells": [
    {
      "cell_type": "markdown",
      "metadata": {
        "id": "6glBmK_4f5pA"
      },
      "source": [
        "<div>\n",
        "<img src=https://www.institutedata.com/wp-content/uploads/2019/10/iod_h_tp_primary_c.svg width=\"300\">\n",
        "</div>"
      ]
    },
    {
      "cell_type": "markdown",
      "metadata": {
        "id": "TGXEv1Gnf5pC"
      },
      "source": [
        "# Lab 7.1: Decision Trees\n",
        "\n",
        "INSTRUCTIONS:\n",
        "\n",
        "- Read the guides and hints then create the necessary analysis and code to find and answer and conclusion for the scenario below.\n",
        "- The baseline results (minimum) are:\n",
        "    - **Accuracy** = 0.6895\n",
        "    - **ROC AUC**  = 0.5690\n",
        "- Try to achieve better results!"
      ]
    },
    {
      "cell_type": "markdown",
      "metadata": {
        "id": "ZKdH4vaYf5pF"
      },
      "source": [
        "# Foreword\n",
        "It is common that companies and professionals start with the data immediately available. Although this approach works, ideally the first step is to idenfy the problem or question and only then identify and obtain the set of data that can help to solve or answer the problem.\n",
        "\n",
        "Also, given the current abundance of data, processing power and some particular machine learning methods, there could be a temptation to use ALL the data available. **Quality** is _**better**_ then **Quantity**!\n",
        "\n",
        "Part of calling this discipline **Data Science** is that it is supposed to follow a process and not reach conclusions without support from evidence.\n",
        "\n",
        "Moreover, it is a creative, exploratory, labour and iteractive processes. It is part of the process to repeat, review and change when finding a dead-end."
      ]
    },
    {
      "cell_type": "markdown",
      "metadata": {
        "id": "Qgo2pD4Qf5pI"
      },
      "source": [
        "# Step 1: Define the problem or question\n",
        "Identify the subject matter and the given or obvious questions that would be relevant in the field.\n",
        "\n",
        "## Potential Questions\n",
        "List the given or obvious questions.\n",
        "\n",
        "## Actual Question\n",
        "Choose the **one** question that should be answered."
      ]
    },
    {
      "cell_type": "markdown",
      "metadata": {
        "id": "XcywG7Fpf5pK"
      },
      "source": [
        "# Step 2: Find the Data\n",
        "### Blood Transfusion Service Center DataSet\n",
        "- **Abstract**: Data taken from the **Blood Transfusion Service Center** in Hsin-Chu City in Taiwan.\n",
        "- Date Donated: 2008-10-03\n",
        "- Source:\n",
        "        Original Owner and Donor: Prof. I-Cheng Yeh \n",
        "        Department of Information Management \n",
        "        Chung-Hua University, \n",
        "        Hsin Chu, Taiwan 30067, R.O.C. \n",
        "\n",
        "- Citation Request:\n",
        "    **NOTE**: Reuse of this database is unlimited with retention of copyright notice for Prof. I-Cheng Yeh and the following published paper: \n",
        "\n",
        "        Yeh, I-Cheng, Yang, King-Jang, and Ting, Tao-Ming, \"Knowledge discovery on RFM model using Bernoulli sequence, \"Expert Systems with Applications, 2008\n",
        "        \n",
        "### UCI - Machine Learning Repository\n",
        "- Center for Machine Learning and Intelligent Systems\n",
        "\n",
        "The [**UCI Machine Learning Repository**](http://archive.ics.uci.edu/ml/about.html) is a collection of databases, domain theories, and data generators that are used by the machine learning community for the empirical analysis of machine learning algorithms."
      ]
    },
    {
      "cell_type": "markdown",
      "metadata": {
        "id": "IwGlVhahf5pL"
      },
      "source": [
        "# Step 3: Read the Data\n",
        "- Read the data\n",
        "- Perform some basic structural cleaning to facilitate the work"
      ]
    },
    {
      "cell_type": "code",
      "metadata": {
        "id": "jzKonptROfZk"
      },
      "source": [
        "import pandas as pd\n",
        "import numpy as np\n",
        "import matplotlib.pyplot as plt\n",
        "import seaborn as sns\n",
        "from scipy import stats\n",
        "import numpy as np\n",
        "from sklearn import metrics\n",
        "from sklearn.linear_model import LogisticRegression\n",
        "\n",
        "from sklearn.metrics import classification_report\n",
        "from sklearn.svm import SVC\n",
        "from sklearn.naive_bayes import GaussianNB\n",
        "from sklearn.model_selection import train_test_split, cross_val_score\n",
        "from sklearn.neighbors import KNeighborsClassifier\n",
        "from sklearn.preprocessing import StandardScaler"
      ],
      "execution_count": 1,
      "outputs": []
    },
    {
      "cell_type": "code",
      "metadata": {
        "id": "HdMDy5tbOF_l"
      },
      "source": [
        "df = pd.read_csv('transfusion_data.csv')"
      ],
      "execution_count": 2,
      "outputs": []
    },
    {
      "cell_type": "code",
      "metadata": {
        "colab": {
          "base_uri": "https://localhost:8080/"
        },
        "id": "aqAHN9BpOynf",
        "outputId": "c073180a-9744-46bc-ed99-97c7966ff8a4"
      },
      "source": [
        "df.shape"
      ],
      "execution_count": 3,
      "outputs": [
        {
          "output_type": "execute_result",
          "data": {
            "text/plain": [
              "(748, 5)"
            ]
          },
          "metadata": {},
          "execution_count": 3
        }
      ]
    },
    {
      "cell_type": "code",
      "metadata": {
        "colab": {
          "base_uri": "https://localhost:8080/",
          "height": 202
        },
        "id": "HEKdvjYsO1_b",
        "outputId": "33aca52d-e8ba-42c6-80d1-2d8fe6ca1333"
      },
      "source": [
        "df.describe().T"
      ],
      "execution_count": 4,
      "outputs": [
        {
          "output_type": "execute_result",
          "data": {
            "text/html": [
              "<div>\n",
              "<style scoped>\n",
              "    .dataframe tbody tr th:only-of-type {\n",
              "        vertical-align: middle;\n",
              "    }\n",
              "\n",
              "    .dataframe tbody tr th {\n",
              "        vertical-align: top;\n",
              "    }\n",
              "\n",
              "    .dataframe thead th {\n",
              "        text-align: right;\n",
              "    }\n",
              "</style>\n",
              "<table border=\"1\" class=\"dataframe\">\n",
              "  <thead>\n",
              "    <tr style=\"text-align: right;\">\n",
              "      <th></th>\n",
              "      <th>count</th>\n",
              "      <th>mean</th>\n",
              "      <th>std</th>\n",
              "      <th>min</th>\n",
              "      <th>25%</th>\n",
              "      <th>50%</th>\n",
              "      <th>75%</th>\n",
              "      <th>max</th>\n",
              "    </tr>\n",
              "  </thead>\n",
              "  <tbody>\n",
              "    <tr>\n",
              "      <th>recency_months</th>\n",
              "      <td>748.0</td>\n",
              "      <td>9.506684</td>\n",
              "      <td>8.095396</td>\n",
              "      <td>0.0</td>\n",
              "      <td>2.75</td>\n",
              "      <td>7.0</td>\n",
              "      <td>14.0</td>\n",
              "      <td>74.0</td>\n",
              "    </tr>\n",
              "    <tr>\n",
              "      <th>frequency_times</th>\n",
              "      <td>748.0</td>\n",
              "      <td>5.514706</td>\n",
              "      <td>5.839307</td>\n",
              "      <td>1.0</td>\n",
              "      <td>2.00</td>\n",
              "      <td>4.0</td>\n",
              "      <td>7.0</td>\n",
              "      <td>50.0</td>\n",
              "    </tr>\n",
              "    <tr>\n",
              "      <th>monetary_cc_blood</th>\n",
              "      <td>748.0</td>\n",
              "      <td>1378.676471</td>\n",
              "      <td>1459.826781</td>\n",
              "      <td>250.0</td>\n",
              "      <td>500.00</td>\n",
              "      <td>1000.0</td>\n",
              "      <td>1750.0</td>\n",
              "      <td>12500.0</td>\n",
              "    </tr>\n",
              "    <tr>\n",
              "      <th>time_months</th>\n",
              "      <td>748.0</td>\n",
              "      <td>34.282086</td>\n",
              "      <td>24.376714</td>\n",
              "      <td>2.0</td>\n",
              "      <td>16.00</td>\n",
              "      <td>28.0</td>\n",
              "      <td>50.0</td>\n",
              "      <td>98.0</td>\n",
              "    </tr>\n",
              "    <tr>\n",
              "      <th>whether_he_or_she_donated_blood_in_March_2007</th>\n",
              "      <td>748.0</td>\n",
              "      <td>0.237968</td>\n",
              "      <td>0.426124</td>\n",
              "      <td>0.0</td>\n",
              "      <td>0.00</td>\n",
              "      <td>0.0</td>\n",
              "      <td>0.0</td>\n",
              "      <td>1.0</td>\n",
              "    </tr>\n",
              "  </tbody>\n",
              "</table>\n",
              "</div>"
            ],
            "text/plain": [
              "                                               count  ...      max\n",
              "recency_months                                 748.0  ...     74.0\n",
              "frequency_times                                748.0  ...     50.0\n",
              "monetary_cc_blood                              748.0  ...  12500.0\n",
              "time_months                                    748.0  ...     98.0\n",
              "whether_he_or_she_donated_blood_in_March_2007  748.0  ...      1.0\n",
              "\n",
              "[5 rows x 8 columns]"
            ]
          },
          "metadata": {},
          "execution_count": 4
        }
      ]
    },
    {
      "cell_type": "code",
      "metadata": {
        "colab": {
          "base_uri": "https://localhost:8080/"
        },
        "id": "vRnYdIKsO4zl",
        "outputId": "d4c95287-828d-44c3-9214-257b29e3e856"
      },
      "source": [
        "df.info()"
      ],
      "execution_count": 5,
      "outputs": [
        {
          "output_type": "stream",
          "name": "stdout",
          "text": [
            "<class 'pandas.core.frame.DataFrame'>\n",
            "RangeIndex: 748 entries, 0 to 747\n",
            "Data columns (total 5 columns):\n",
            " #   Column                                         Non-Null Count  Dtype\n",
            "---  ------                                         --------------  -----\n",
            " 0   recency_months                                 748 non-null    int64\n",
            " 1   frequency_times                                748 non-null    int64\n",
            " 2   monetary_cc_blood                              748 non-null    int64\n",
            " 3   time_months                                    748 non-null    int64\n",
            " 4   whether_he_or_she_donated_blood_in_March_2007  748 non-null    int64\n",
            "dtypes: int64(5)\n",
            "memory usage: 29.3 KB\n"
          ]
        }
      ]
    },
    {
      "cell_type": "markdown",
      "metadata": {
        "id": "_IwMz47Vf5pN"
      },
      "source": [
        "# Step 4: Explore and Clean the Data\n",
        "- Perform some initial simple **EDA** (Exploratory Data Analysis)\n",
        "- Check for\n",
        "    - **Number of features**\n",
        "    - **Data types**\n",
        "    - **Domains, Intervals**\n",
        "    - **Outliers** (are they valid or expurious data [read or measure errors])\n",
        "    - **Null** (values not present or coded [as zero of empty strings])\n",
        "    - **Missing Values** (coded [as zero of empty strings] or values not present)\n",
        "    - **Coded content** (classes identified by numbers or codes to represent absence of data)"
      ]
    },
    {
      "cell_type": "code",
      "metadata": {
        "colab": {
          "base_uri": "https://localhost:8080/",
          "height": 202
        },
        "id": "91vJlVAmR2Ng",
        "outputId": "29b116a5-79f7-4d47-d4bc-6c0d297b910b"
      },
      "source": [
        "df.head()"
      ],
      "execution_count": 6,
      "outputs": [
        {
          "output_type": "execute_result",
          "data": {
            "text/html": [
              "<div>\n",
              "<style scoped>\n",
              "    .dataframe tbody tr th:only-of-type {\n",
              "        vertical-align: middle;\n",
              "    }\n",
              "\n",
              "    .dataframe tbody tr th {\n",
              "        vertical-align: top;\n",
              "    }\n",
              "\n",
              "    .dataframe thead th {\n",
              "        text-align: right;\n",
              "    }\n",
              "</style>\n",
              "<table border=\"1\" class=\"dataframe\">\n",
              "  <thead>\n",
              "    <tr style=\"text-align: right;\">\n",
              "      <th></th>\n",
              "      <th>recency_months</th>\n",
              "      <th>frequency_times</th>\n",
              "      <th>monetary_cc_blood</th>\n",
              "      <th>time_months</th>\n",
              "      <th>whether_he_or_she_donated_blood_in_March_2007</th>\n",
              "    </tr>\n",
              "  </thead>\n",
              "  <tbody>\n",
              "    <tr>\n",
              "      <th>0</th>\n",
              "      <td>2</td>\n",
              "      <td>50</td>\n",
              "      <td>12500</td>\n",
              "      <td>98</td>\n",
              "      <td>1</td>\n",
              "    </tr>\n",
              "    <tr>\n",
              "      <th>1</th>\n",
              "      <td>0</td>\n",
              "      <td>13</td>\n",
              "      <td>3250</td>\n",
              "      <td>28</td>\n",
              "      <td>1</td>\n",
              "    </tr>\n",
              "    <tr>\n",
              "      <th>2</th>\n",
              "      <td>1</td>\n",
              "      <td>16</td>\n",
              "      <td>4000</td>\n",
              "      <td>35</td>\n",
              "      <td>1</td>\n",
              "    </tr>\n",
              "    <tr>\n",
              "      <th>3</th>\n",
              "      <td>2</td>\n",
              "      <td>20</td>\n",
              "      <td>5000</td>\n",
              "      <td>45</td>\n",
              "      <td>1</td>\n",
              "    </tr>\n",
              "    <tr>\n",
              "      <th>4</th>\n",
              "      <td>1</td>\n",
              "      <td>24</td>\n",
              "      <td>6000</td>\n",
              "      <td>77</td>\n",
              "      <td>0</td>\n",
              "    </tr>\n",
              "  </tbody>\n",
              "</table>\n",
              "</div>"
            ],
            "text/plain": [
              "   recency_months  ...  whether_he_or_she_donated_blood_in_March_2007\n",
              "0               2  ...                                              1\n",
              "1               0  ...                                              1\n",
              "2               1  ...                                              1\n",
              "3               2  ...                                              1\n",
              "4               1  ...                                              0\n",
              "\n",
              "[5 rows x 5 columns]"
            ]
          },
          "metadata": {},
          "execution_count": 6
        }
      ]
    },
    {
      "cell_type": "code",
      "metadata": {
        "colab": {
          "base_uri": "https://localhost:8080/"
        },
        "id": "pgBcf281Pj0i",
        "outputId": "ee375c48-8c3b-467d-c204-11e22770ec0b"
      },
      "source": [
        "df.isnull().sum()"
      ],
      "execution_count": 7,
      "outputs": [
        {
          "output_type": "execute_result",
          "data": {
            "text/plain": [
              "recency_months                                   0\n",
              "frequency_times                                  0\n",
              "monetary_cc_blood                                0\n",
              "time_months                                      0\n",
              "whether_he_or_she_donated_blood_in_March_2007    0\n",
              "dtype: int64"
            ]
          },
          "metadata": {},
          "execution_count": 7
        }
      ]
    },
    {
      "cell_type": "code",
      "metadata": {
        "colab": {
          "base_uri": "https://localhost:8080/"
        },
        "id": "hiQB8RxjP4FS",
        "outputId": "1aeb688b-0f29-4244-f246-afeb691ac253"
      },
      "source": [
        "df.columns"
      ],
      "execution_count": 8,
      "outputs": [
        {
          "output_type": "execute_result",
          "data": {
            "text/plain": [
              "Index(['recency_months', 'frequency_times', 'monetary_cc_blood', 'time_months',\n",
              "       'whether_he_or_she_donated_blood_in_March_2007'],\n",
              "      dtype='object')"
            ]
          },
          "metadata": {},
          "execution_count": 8
        }
      ]
    },
    {
      "cell_type": "code",
      "metadata": {
        "colab": {
          "base_uri": "https://localhost:8080/",
          "height": 496
        },
        "id": "PUB83VYzUlp4",
        "outputId": "3d556d00-ed71-4435-a5d9-8543997e8f89"
      },
      "source": [
        "fig, ax = plt.subplots(figsize=(16,8))\n",
        "ax.scatter(df['frequency_times'], df['monetary_cc_blood'])\n",
        "ax.set_xlabel('Frequency Times')\n",
        "ax.set_ylabel('Monetary cc Blood')\n",
        "plt.show()"
      ],
      "execution_count": 9,
      "outputs": [
        {
          "output_type": "display_data",
          "data": {
            "image/png": "[encoded data removed]",
            "text/plain": [
              "<Figure size 1152x576 with 1 Axes>"
            ]
          },
          "metadata": {
            "needs_background": "light"
          }
        }
      ]
    },
    {
      "cell_type": "code",
      "metadata": {
        "colab": {
          "base_uri": "https://localhost:8080/"
        },
        "id": "h9l_0bdaVPs4",
        "outputId": "b6ea8239-0a93-44e8-a0af-11211a2c1a45"
      },
      "source": [
        "#Detecting outlier\n",
        "z = np.abs(stats.zscore(df))\n",
        "print(z)"
      ],
      "execution_count": 10,
      "outputs": [
        {
          "output_type": "stream",
          "name": "stdout",
          "text": [
            "[[0.92789873 7.62334626 7.62334626 2.61563344 1.78948238]\n",
            " [1.17511806 1.28273826 1.28273826 0.2578809  1.78948238]\n",
            " [1.0515084  1.79684161 1.79684161 0.02947053 1.78948238]\n",
            " ...\n",
            " [1.66790417 0.43093957 0.43093957 1.13782607 0.55882081]\n",
            " [3.64565877 0.77367514 0.77367514 0.19367135 0.55882081]\n",
            " [7.72477762 0.77367514 0.77367514 1.54832812 0.55882081]]\n"
          ]
        }
      ]
    },
    {
      "cell_type": "code",
      "metadata": {
        "colab": {
          "base_uri": "https://localhost:8080/"
        },
        "id": "vPwTw2BUV5qn",
        "outputId": "f023c5d1-ea10-4d6d-92a7-a0b5a9795eaf"
      },
      "source": [
        "threshold = 3\n",
        "print(np.where(z > 3))"
      ],
      "execution_count": 11,
      "outputs": [
        {
          "output_type": "stream",
          "name": "stdout",
          "text": [
            "(array([  0,   0,   4,   4,   9,   9, 115, 115, 341, 341, 495, 496, 497,\n",
            "       498, 499, 500, 500, 502, 502, 503, 503, 504, 504, 505, 505, 517,\n",
            "       517, 528, 528, 746, 747]), array([1, 2, 1, 2, 1, 2, 1, 2, 1, 2, 0, 0, 0, 0, 0, 1, 2, 1, 2, 1, 2, 1,\n",
            "       2, 1, 2, 1, 2, 1, 2, 0, 0]))\n"
          ]
        }
      ]
    },
    {
      "cell_type": "code",
      "metadata": {
        "colab": {
          "base_uri": "https://localhost:8080/"
        },
        "id": "wUZVyTZbWyYp",
        "outputId": "e34386ad-c748-4af3-c2ef-dc688a78640a"
      },
      "source": [
        "print(z[0][1])"
      ],
      "execution_count": 12,
      "outputs": [
        {
          "output_type": "stream",
          "name": "stdout",
          "text": [
            "7.62334626135984\n"
          ]
        }
      ]
    },
    {
      "cell_type": "code",
      "metadata": {
        "colab": {
          "base_uri": "https://localhost:8080/"
        },
        "id": "ZGp-MLHNYCet",
        "outputId": "41414fa6-5ea2-4648-d1b0-98f1ada621bf"
      },
      "source": [
        "# Using IQR to detect outlier\n",
        "Q1 = df.quantile(0.25)\n",
        "Q3 = df.quantile(0.75)\n",
        "IQR = Q3 - Q1\n",
        "print(IQR)"
      ],
      "execution_count": 13,
      "outputs": [
        {
          "output_type": "stream",
          "name": "stdout",
          "text": [
            "recency_months                                     11.25\n",
            "frequency_times                                     5.00\n",
            "monetary_cc_blood                                1250.00\n",
            "time_months                                        34.00\n",
            "whether_he_or_she_donated_blood_in_March_2007       0.00\n",
            "dtype: float64\n"
          ]
        }
      ]
    },
    {
      "cell_type": "code",
      "metadata": {
        "colab": {
          "base_uri": "https://localhost:8080/"
        },
        "id": "artTE9NSYrP1",
        "outputId": "d65c72d6-5f5a-4e2c-ee96-40e423a6241d"
      },
      "source": [
        "print(df < (Q1 - 1.5 * IQR)),(df > (Q3 + 1.5 * IQR))"
      ],
      "execution_count": 14,
      "outputs": [
        {
          "output_type": "stream",
          "name": "stdout",
          "text": [
            "     recency_months  ...  whether_he_or_she_donated_blood_in_March_2007\n",
            "0             False  ...                                          False\n",
            "1             False  ...                                          False\n",
            "2             False  ...                                          False\n",
            "3             False  ...                                          False\n",
            "4             False  ...                                          False\n",
            "..              ...  ...                                            ...\n",
            "743           False  ...                                          False\n",
            "744           False  ...                                          False\n",
            "745           False  ...                                          False\n",
            "746           False  ...                                          False\n",
            "747           False  ...                                          False\n",
            "\n",
            "[748 rows x 5 columns]\n"
          ]
        },
        {
          "output_type": "execute_result",
          "data": {
            "text/plain": [
              "(None,      recency_months  ...  whether_he_or_she_donated_blood_in_March_2007\n",
              " 0             False  ...                                           True\n",
              " 1             False  ...                                           True\n",
              " 2             False  ...                                           True\n",
              " 3             False  ...                                           True\n",
              " 4             False  ...                                          False\n",
              " ..              ...  ...                                            ...\n",
              " 743           False  ...                                          False\n",
              " 744           False  ...                                          False\n",
              " 745           False  ...                                          False\n",
              " 746            True  ...                                          False\n",
              " 747            True  ...                                          False\n",
              " \n",
              " [748 rows x 5 columns])"
            ]
          },
          "metadata": {},
          "execution_count": 14
        }
      ]
    },
    {
      "cell_type": "markdown",
      "metadata": {
        "id": "kTRdzVqdf5pO"
      },
      "source": [
        "# Step 5: Prepare the Data\n",
        "- Deal with the data as required by the modelling technique\n",
        "    - **Outliers** (remove or adjust if possible or necessary)\n",
        "    - **Null** (remove or interpolate if possible or necessary)\n",
        "    - **Missing Values** (remove or interpolate if possible or necessary)\n",
        "    - **Coded content** (transform if possible or necessary [str to number or vice-versa])\n",
        "    - **Normalisation** (if possible or necessary)\n",
        "    - **Feature Engeneer** (if useful or necessary)"
      ]
    },
    {
      "cell_type": "code",
      "metadata": {
        "colab": {
          "base_uri": "https://localhost:8080/"
        },
        "id": "lFOOjFy-aX5b",
        "outputId": "eb4be7dc-e6c6-4857-bb6f-997ecdfd4ec3"
      },
      "source": [
        "df_o = df[(z < 3).all(axis=1)]\n",
        "df_o.shape"
      ],
      "execution_count": 15,
      "outputs": [
        {
          "output_type": "execute_result",
          "data": {
            "text/plain": [
              "(729, 5)"
            ]
          },
          "metadata": {},
          "execution_count": 15
        }
      ]
    },
    {
      "cell_type": "code",
      "metadata": {
        "colab": {
          "base_uri": "https://localhost:8080/",
          "height": 202
        },
        "id": "nDGgdTSRlYO4",
        "outputId": "3bd937db-ae6a-48de-d5f1-244c17c11309"
      },
      "source": [
        "df_o.head()"
      ],
      "execution_count": 16,
      "outputs": [
        {
          "output_type": "execute_result",
          "data": {
            "text/html": [
              "<div>\n",
              "<style scoped>\n",
              "    .dataframe tbody tr th:only-of-type {\n",
              "        vertical-align: middle;\n",
              "    }\n",
              "\n",
              "    .dataframe tbody tr th {\n",
              "        vertical-align: top;\n",
              "    }\n",
              "\n",
              "    .dataframe thead th {\n",
              "        text-align: right;\n",
              "    }\n",
              "</style>\n",
              "<table border=\"1\" class=\"dataframe\">\n",
              "  <thead>\n",
              "    <tr style=\"text-align: right;\">\n",
              "      <th></th>\n",
              "      <th>recency_months</th>\n",
              "      <th>frequency_times</th>\n",
              "      <th>monetary_cc_blood</th>\n",
              "      <th>time_months</th>\n",
              "      <th>whether_he_or_she_donated_blood_in_March_2007</th>\n",
              "    </tr>\n",
              "  </thead>\n",
              "  <tbody>\n",
              "    <tr>\n",
              "      <th>1</th>\n",
              "      <td>0</td>\n",
              "      <td>13</td>\n",
              "      <td>3250</td>\n",
              "      <td>28</td>\n",
              "      <td>1</td>\n",
              "    </tr>\n",
              "    <tr>\n",
              "      <th>2</th>\n",
              "      <td>1</td>\n",
              "      <td>16</td>\n",
              "      <td>4000</td>\n",
              "      <td>35</td>\n",
              "      <td>1</td>\n",
              "    </tr>\n",
              "    <tr>\n",
              "      <th>3</th>\n",
              "      <td>2</td>\n",
              "      <td>20</td>\n",
              "      <td>5000</td>\n",
              "      <td>45</td>\n",
              "      <td>1</td>\n",
              "    </tr>\n",
              "    <tr>\n",
              "      <th>5</th>\n",
              "      <td>4</td>\n",
              "      <td>4</td>\n",
              "      <td>1000</td>\n",
              "      <td>4</td>\n",
              "      <td>0</td>\n",
              "    </tr>\n",
              "    <tr>\n",
              "      <th>6</th>\n",
              "      <td>2</td>\n",
              "      <td>7</td>\n",
              "      <td>1750</td>\n",
              "      <td>14</td>\n",
              "      <td>1</td>\n",
              "    </tr>\n",
              "  </tbody>\n",
              "</table>\n",
              "</div>"
            ],
            "text/plain": [
              "   recency_months  ...  whether_he_or_she_donated_blood_in_March_2007\n",
              "1               0  ...                                              1\n",
              "2               1  ...                                              1\n",
              "3               2  ...                                              1\n",
              "5               4  ...                                              0\n",
              "6               2  ...                                              1\n",
              "\n",
              "[5 rows x 5 columns]"
            ]
          },
          "metadata": {},
          "execution_count": 16
        }
      ]
    },
    {
      "cell_type": "code",
      "metadata": {
        "colab": {
          "base_uri": "https://localhost:8080/"
        },
        "id": "7nLjlzF_lJZb",
        "outputId": "3516d9d7-3cb6-40b3-ff71-8828048ac048"
      },
      "source": [
        "from sklearn.preprocessing import normalize\n",
        "X = df_o.drop(['whether_he_or_she_donated_blood_in_March_2007'],axis=1)\n",
        "print(X)\n",
        "X_prep = normalize(X)"
      ],
      "execution_count": 17,
      "outputs": [
        {
          "output_type": "stream",
          "name": "stdout",
          "text": [
            "     recency_months  frequency_times  monetary_cc_blood  time_months\n",
            "1                 0               13               3250           28\n",
            "2                 1               16               4000           35\n",
            "3                 2               20               5000           45\n",
            "5                 4                4               1000            4\n",
            "6                 2                7               1750           14\n",
            "..              ...              ...                ...          ...\n",
            "741              23                7               1750           88\n",
            "742              16                3                750           86\n",
            "743              23                2                500           38\n",
            "744              21                2                500           52\n",
            "745              23                3                750           62\n",
            "\n",
            "[729 rows x 4 columns]\n"
          ]
        }
      ]
    },
    {
      "cell_type": "code",
      "metadata": {
        "colab": {
          "base_uri": "https://localhost:8080/"
        },
        "id": "RGjzqMzkmF9u",
        "outputId": "f2c064fd-02ee-4e1d-db67-a070912bf747"
      },
      "source": [
        "print(X_prep)"
      ],
      "execution_count": 18,
      "outputs": [
        {
          "output_type": "stream",
          "name": "stdout",
          "text": [
            "[[0.00000000e+00 3.99981956e-03 9.99954891e-01 8.61499598e-03]\n",
            " [2.49988423e-04 3.99981476e-03 9.99953691e-01 8.74959479e-03]\n",
            " [3.99980569e-04 3.99980569e-03 9.99951424e-01 8.99956281e-03]\n",
            " ...\n",
            " [4.58191877e-02 3.98427719e-03 9.96069298e-01 7.57012666e-02]\n",
            " [4.17379569e-02 3.97504352e-03 9.93760879e-01 1.03351131e-01]\n",
            " [3.05479100e-02 3.98451000e-03 9.96127500e-01 8.23465400e-02]]\n"
          ]
        }
      ]
    },
    {
      "cell_type": "markdown",
      "metadata": {
        "id": "CLb2lL-4f5pQ"
      },
      "source": [
        "# Step 6: Modelling\n",
        "Refer to the Problem and Main Question.\n",
        "- What are the input variables (features)?\n",
        "- Is there an output variable (label)?\n",
        "- If there is an output variable:\n",
        "    - What is it?\n",
        "    - What is its type?\n",
        "- What type of Modelling is it?\n",
        "    - [ ] Supervised\n",
        "    - [ ] Unsupervised \n",
        "- What type of Modelling is it?\n",
        "    - [ ] Regression\n",
        "    - [ ] Classification (binary) \n",
        "    - [ ] Classification (multi-class)\n",
        "    - [ ] Clustering"
      ]
    },
    {
      "cell_type": "code",
      "metadata": {
        "colab": {
          "base_uri": "https://localhost:8080/"
        },
        "id": "_1nvZuV8s62N",
        "outputId": "22e7d8ac-3509-4e59-9ad6-7e53d4460efc"
      },
      "source": [
        "df.info()"
      ],
      "execution_count": 19,
      "outputs": [
        {
          "output_type": "stream",
          "name": "stdout",
          "text": [
            "<class 'pandas.core.frame.DataFrame'>\n",
            "RangeIndex: 748 entries, 0 to 747\n",
            "Data columns (total 5 columns):\n",
            " #   Column                                         Non-Null Count  Dtype\n",
            "---  ------                                         --------------  -----\n",
            " 0   recency_months                                 748 non-null    int64\n",
            " 1   frequency_times                                748 non-null    int64\n",
            " 2   monetary_cc_blood                              748 non-null    int64\n",
            " 3   time_months                                    748 non-null    int64\n",
            " 4   whether_he_or_she_donated_blood_in_March_2007  748 non-null    int64\n",
            "dtypes: int64(5)\n",
            "memory usage: 29.3 KB\n"
          ]
        }
      ]
    },
    {
      "cell_type": "code",
      "metadata": {
        "id": "OTkCDShz6y2a"
      },
      "source": [
        "X= df.drop('whether_he_or_she_donated_blood_in_March_2007', axis=1)\n",
        "y = df['whether_he_or_she_donated_blood_in_March_2007']"
      ],
      "execution_count": 20,
      "outputs": []
    },
    {
      "cell_type": "code",
      "metadata": {
        "colab": {
          "base_uri": "https://localhost:8080/",
          "height": 414
        },
        "id": "TSjMeTBZ-o2I",
        "outputId": "45a6873d-d3b9-440c-ac8b-74b9508eb514"
      },
      "source": [
        "X"
      ],
      "execution_count": 21,
      "outputs": [
        {
          "output_type": "execute_result",
          "data": {
            "text/html": [
              "<div>\n",
              "<style scoped>\n",
              "    .dataframe tbody tr th:only-of-type {\n",
              "        vertical-align: middle;\n",
              "    }\n",
              "\n",
              "    .dataframe tbody tr th {\n",
              "        vertical-align: top;\n",
              "    }\n",
              "\n",
              "    .dataframe thead th {\n",
              "        text-align: right;\n",
              "    }\n",
              "</style>\n",
              "<table border=\"1\" class=\"dataframe\">\n",
              "  <thead>\n",
              "    <tr style=\"text-align: right;\">\n",
              "      <th></th>\n",
              "      <th>recency_months</th>\n",
              "      <th>frequency_times</th>\n",
              "      <th>monetary_cc_blood</th>\n",
              "      <th>time_months</th>\n",
              "    </tr>\n",
              "  </thead>\n",
              "  <tbody>\n",
              "    <tr>\n",
              "      <th>0</th>\n",
              "      <td>2</td>\n",
              "      <td>50</td>\n",
              "      <td>12500</td>\n",
              "      <td>98</td>\n",
              "    </tr>\n",
              "    <tr>\n",
              "      <th>1</th>\n",
              "      <td>0</td>\n",
              "      <td>13</td>\n",
              "      <td>3250</td>\n",
              "      <td>28</td>\n",
              "    </tr>\n",
              "    <tr>\n",
              "      <th>2</th>\n",
              "      <td>1</td>\n",
              "      <td>16</td>\n",
              "      <td>4000</td>\n",
              "      <td>35</td>\n",
              "    </tr>\n",
              "    <tr>\n",
              "      <th>3</th>\n",
              "      <td>2</td>\n",
              "      <td>20</td>\n",
              "      <td>5000</td>\n",
              "      <td>45</td>\n",
              "    </tr>\n",
              "    <tr>\n",
              "      <th>4</th>\n",
              "      <td>1</td>\n",
              "      <td>24</td>\n",
              "      <td>6000</td>\n",
              "      <td>77</td>\n",
              "    </tr>\n",
              "    <tr>\n",
              "      <th>...</th>\n",
              "      <td>...</td>\n",
              "      <td>...</td>\n",
              "      <td>...</td>\n",
              "      <td>...</td>\n",
              "    </tr>\n",
              "    <tr>\n",
              "      <th>743</th>\n",
              "      <td>23</td>\n",
              "      <td>2</td>\n",
              "      <td>500</td>\n",
              "      <td>38</td>\n",
              "    </tr>\n",
              "    <tr>\n",
              "      <th>744</th>\n",
              "      <td>21</td>\n",
              "      <td>2</td>\n",
              "      <td>500</td>\n",
              "      <td>52</td>\n",
              "    </tr>\n",
              "    <tr>\n",
              "      <th>745</th>\n",
              "      <td>23</td>\n",
              "      <td>3</td>\n",
              "      <td>750</td>\n",
              "      <td>62</td>\n",
              "    </tr>\n",
              "    <tr>\n",
              "      <th>746</th>\n",
              "      <td>39</td>\n",
              "      <td>1</td>\n",
              "      <td>250</td>\n",
              "      <td>39</td>\n",
              "    </tr>\n",
              "    <tr>\n",
              "      <th>747</th>\n",
              "      <td>72</td>\n",
              "      <td>1</td>\n",
              "      <td>250</td>\n",
              "      <td>72</td>\n",
              "    </tr>\n",
              "  </tbody>\n",
              "</table>\n",
              "<p>748 rows × 4 columns</p>\n",
              "</div>"
            ],
            "text/plain": [
              "     recency_months  frequency_times  monetary_cc_blood  time_months\n",
              "0                 2               50              12500           98\n",
              "1                 0               13               3250           28\n",
              "2                 1               16               4000           35\n",
              "3                 2               20               5000           45\n",
              "4                 1               24               6000           77\n",
              "..              ...              ...                ...          ...\n",
              "743              23                2                500           38\n",
              "744              21                2                500           52\n",
              "745              23                3                750           62\n",
              "746              39                1                250           39\n",
              "747              72                1                250           72\n",
              "\n",
              "[748 rows x 4 columns]"
            ]
          },
          "metadata": {},
          "execution_count": 21
        }
      ]
    },
    {
      "cell_type": "code",
      "metadata": {
        "colab": {
          "base_uri": "https://localhost:8080/"
        },
        "id": "t_UQVTeX-r1p",
        "outputId": "df3b8c0d-546b-4f75-bf96-c8854b520427"
      },
      "source": [
        "y"
      ],
      "execution_count": 22,
      "outputs": [
        {
          "output_type": "execute_result",
          "data": {
            "text/plain": [
              "0      1\n",
              "1      1\n",
              "2      1\n",
              "3      1\n",
              "4      0\n",
              "      ..\n",
              "743    0\n",
              "744    0\n",
              "745    0\n",
              "746    0\n",
              "747    0\n",
              "Name: whether_he_or_she_donated_blood_in_March_2007, Length: 748, dtype: int64"
            ]
          },
          "metadata": {},
          "execution_count": 22
        }
      ]
    },
    {
      "cell_type": "markdown",
      "metadata": {
        "id": "Ds7KV52Lf5pR"
      },
      "source": [
        "# Step 7: Split the Data\n",
        "\n",
        "Need to check for **Supervised** modelling:\n",
        "- Number of known cases or observations\n",
        "- Define the split in Training/Test or Training/Validation/Test and their proportions\n",
        "- Check for unbalanced classes and how to keep or avoid it when spliting"
      ]
    },
    {
      "cell_type": "code",
      "metadata": {
        "id": "MycHllGuK8m8"
      },
      "source": [
        "from sklearn.model_selection import train_test_split\n",
        "X_train, X_test, y_train, y_test = train_test_split(X, y, test_size = 0.2, random_state = 42)"
      ],
      "execution_count": 23,
      "outputs": []
    },
    {
      "cell_type": "code",
      "metadata": {
        "colab": {
          "base_uri": "https://localhost:8080/"
        },
        "id": "p2igPVzELAcR",
        "outputId": "a800bcfb-d4c8-4bed-d931-465e71283d75"
      },
      "source": [
        "X_train.shape, y_train"
      ],
      "execution_count": 24,
      "outputs": [
        {
          "output_type": "execute_result",
          "data": {
            "text/plain": [
              "((598, 4), 593    1\n",
              " 131    0\n",
              " 44     1\n",
              " 70     0\n",
              " 670    0\n",
              "       ..\n",
              " 71     0\n",
              " 106    0\n",
              " 270    0\n",
              " 435    0\n",
              " 102    0\n",
              " Name: whether_he_or_she_donated_blood_in_March_2007, Length: 598, dtype: int64)"
            ]
          },
          "metadata": {},
          "execution_count": 24
        }
      ]
    },
    {
      "cell_type": "markdown",
      "metadata": {
        "id": "aQxzsLj1f5pS"
      },
      "source": [
        "# Step 8: Define a Model\n",
        "\n",
        "Define the model and its hyper-parameters.\n",
        "\n",
        "Consider the parameters and hyper-parameters of each model at each (re)run and after checking the efficiency of a model against the training and test datasets."
      ]
    },
    {
      "cell_type": "code",
      "metadata": {
        "colab": {
          "base_uri": "https://localhost:8080/"
        },
        "id": "sz6mxj0GLKpD",
        "outputId": "c49fef15-94fb-4019-e089-63a59e4aff7b"
      },
      "source": [
        "from sklearn.tree import DecisionTreeRegressor\n",
        "dt = DecisionTreeRegressor()\n",
        "dt.fit(X_train, y_train)"
      ],
      "execution_count": 25,
      "outputs": [
        {
          "output_type": "execute_result",
          "data": {
            "text/plain": [
              "DecisionTreeRegressor(ccp_alpha=0.0, criterion='mse', max_depth=None,\n",
              "                      max_features=None, max_leaf_nodes=None,\n",
              "                      min_impurity_decrease=0.0, min_impurity_split=None,\n",
              "                      min_samples_leaf=1, min_samples_split=2,\n",
              "                      min_weight_fraction_leaf=0.0, presort='deprecated',\n",
              "                      random_state=None, splitter='best')"
            ]
          },
          "metadata": {},
          "execution_count": 25
        }
      ]
    },
    {
      "cell_type": "markdown",
      "metadata": {
        "id": "8IfjVd4uf5pT"
      },
      "source": [
        "# Step 9: Fit the Model"
      ]
    },
    {
      "cell_type": "code",
      "metadata": {
        "colab": {
          "base_uri": "https://localhost:8080/"
        },
        "id": "0yLoI5S5LTNA",
        "outputId": "f90cf0bb-aba7-41f7-8fbc-99e03067e5d8"
      },
      "source": [
        "dt.fit(X_train, y_train)"
      ],
      "execution_count": 26,
      "outputs": [
        {
          "output_type": "execute_result",
          "data": {
            "text/plain": [
              "DecisionTreeRegressor(ccp_alpha=0.0, criterion='mse', max_depth=None,\n",
              "                      max_features=None, max_leaf_nodes=None,\n",
              "                      min_impurity_decrease=0.0, min_impurity_split=None,\n",
              "                      min_samples_leaf=1, min_samples_split=2,\n",
              "                      min_weight_fraction_leaf=0.0, presort='deprecated',\n",
              "                      random_state=None, splitter='best')"
            ]
          },
          "metadata": {},
          "execution_count": 26
        }
      ]
    },
    {
      "cell_type": "markdown",
      "metadata": {
        "id": "trc47eNDf5pV"
      },
      "source": [
        "# Step 10: Verify and Evaluate the Training Model\n",
        "- Use the **training** data to make predictions\n",
        "- Check for overfitting\n",
        "- What metrics are appropriate for the modelling approach used\n",
        "- For **Supervised** models:\n",
        "    - Check the **Training Results** with the **Training Predictions** during development\n",
        "- Analyse, modify the parameters and hyper-parameters and repeat (within reason) until the model does not improve"
      ]
    },
    {
      "cell_type": "markdown",
      "metadata": {
        "id": "TpVdZQdkf5pW"
      },
      "source": [
        "# Step 11: Make Predictions and Evaluate the Test Model\n",
        "**NOTE**: **Do this only after not making any more improvements in the model**.\n",
        "\n",
        "- Use the **test** data to make predictions\n",
        "- For **Supervised** models:\n",
        "    - Check the **Test Results** with the **Test Predictions**"
      ]
    },
    {
      "cell_type": "code",
      "metadata": {
        "colab": {
          "base_uri": "https://localhost:8080/"
        },
        "id": "Z0hlEtbFLRg6",
        "outputId": "d792cc9f-c86e-4a31-893d-1c4e68af69cb"
      },
      "source": [
        "test_model = dt.predict(X_test)\n",
        "#predictions = predictions.reshape(-1,1)\n",
        "test_model"
      ],
      "execution_count": 27,
      "outputs": [
        {
          "output_type": "execute_result",
          "data": {
            "text/plain": [
              "array([0.11538462, 0.5       , 0.        , 0.        , 0.        ,\n",
              "       1.        , 0.        , 0.11538462, 0.        , 0.08333333,\n",
              "       0.        , 0.        , 0.        , 0.        , 0.29166667,\n",
              "       0.        , 0.        , 0.        , 0.        , 0.        ,\n",
              "       0.07142857, 0.        , 0.        , 1.        , 0.5       ,\n",
              "       0.        , 0.        , 0.        , 0.29166667, 0.29166667,\n",
              "       0.        , 0.        , 0.        , 0.        , 0.        ,\n",
              "       0.75      , 0.29166667, 1.        , 0.        , 0.        ,\n",
              "       0.75      , 0.08333333, 0.5       , 0.        , 0.        ,\n",
              "       0.        , 0.        , 0.        , 0.        , 0.        ,\n",
              "       1.        , 0.        , 0.        , 0.5       , 0.08333333,\n",
              "       0.        , 1.        , 0.        , 1.        , 0.        ,\n",
              "       0.        , 0.        , 0.        , 0.        , 0.        ,\n",
              "       1.        , 0.        , 1.        , 0.        , 0.        ,\n",
              "       0.        , 1.        , 0.        , 0.        , 0.        ,\n",
              "       0.        , 1.        , 1.        , 0.29166667, 0.        ,\n",
              "       0.        , 1.        , 0.        , 1.        , 0.        ,\n",
              "       0.08333333, 0.        , 0.        , 0.15384615, 0.        ,\n",
              "       1.        , 1.        , 0.29166667, 0.        , 0.        ,\n",
              "       0.        , 0.        , 1.        , 1.        , 0.11538462,\n",
              "       0.28571429, 0.        , 1.        , 0.11538462, 0.11538462,\n",
              "       1.        , 0.        , 0.        , 0.        , 0.11538462,\n",
              "       0.        , 0.        , 1.        , 0.29166667, 0.        ,\n",
              "       0.        , 0.        , 0.        , 0.        , 0.5       ,\n",
              "       0.29166667, 0.75      , 0.29166667, 0.        , 0.        ,\n",
              "       0.        , 1.        , 1.        , 0.        , 0.        ,\n",
              "       0.        , 1.        , 0.29166667, 0.        , 1.        ,\n",
              "       0.        , 0.29166667, 0.5       , 1.        , 0.07142857,\n",
              "       0.        , 0.11538462, 0.        , 1.        , 0.33333333,\n",
              "       0.        , 0.28571429, 1.        , 1.        , 1.        ])"
            ]
          },
          "metadata": {},
          "execution_count": 27
        }
      ]
    },
    {
      "cell_type": "markdown",
      "metadata": {
        "id": "SJ5WfSLuf5pY"
      },
      "source": [
        "# Step 12: Solve the Problem or Answer the Question\n",
        "The results of an analysis or modelling can be used:\n",
        "- As part of a product or process, so the model can make predictions when new input data is available\n",
        "- As part of a report including text and charts to help understand the problem\n",
        "- As input for further questions"
      ]
    },
    {
      "cell_type": "code",
      "metadata": {
        "id": "E1rd-jYcpTzi"
      },
      "source": [
        ""
      ],
      "execution_count": 27,
      "outputs": []
    },
    {
      "cell_type": "markdown",
      "metadata": {
        "id": "RERADKgNFq9T"
      },
      "source": [
        "\n",
        "\n",
        "---\n",
        "\n",
        "\n",
        "\n",
        "---\n",
        "\n",
        "\n",
        "\n",
        "> > > > > > > > > © 2021 Institute of Data\n",
        "\n",
        "\n",
        "---\n",
        "\n",
        "\n",
        "\n",
        "---\n",
        "\n",
        "\n",
        "\n"
      ]
    }
  ]
}