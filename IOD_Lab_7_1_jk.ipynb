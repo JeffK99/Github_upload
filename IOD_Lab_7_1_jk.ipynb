{
  "nbformat": 4,
  "nbformat_minor": 0,
  "metadata": {
    "colab": {
      "name": "IOD_Lab-7_1-jk.ipynb",
      "provenance": [],
      "collapsed_sections": []
    },
    "kernelspec": {
      "display_name": "Python 3",
      "language": "python",
      "name": "python3"
    },
    "language_info": {
      "codemirror_mode": {
        "name": "ipython",
        "version": 3
      },
      "file_extension": ".py",
      "mimetype": "text/x-python",
      "name": "python",
      "nbconvert_exporter": "python",
      "pygments_lexer": "ipython3",
      "version": "3.7.7"
    }
  },
  "cells": [
    {
      "cell_type": "markdown",
      "metadata": {
        "id": "6glBmK_4f5pA"
      },
      "source": [
        "<div>\n",
        "<img src=https://www.institutedata.com/wp-content/uploads/2019/10/iod_h_tp_primary_c.svg width=\"300\">\n",
        "</div>"
      ]
    },
    {
      "cell_type": "markdown",
      "metadata": {
        "id": "TGXEv1Gnf5pC"
      },
      "source": [
        "# Lab 7.1: Decision Trees\n",
        "\n",
        "INSTRUCTIONS:\n",
        "\n",
        "- Read the guides and hints then create the necessary analysis and code to find and answer and conclusion for the scenario below.\n",
        "- The baseline results (minimum) are:\n",
        "    - **Accuracy** = 0.6895\n",
        "    - **ROC AUC**  = 0.5690\n",
        "- Try to achieve better results!"
      ]
    },
    {
      "cell_type": "markdown",
      "metadata": {
        "id": "ZKdH4vaYf5pF"
      },
      "source": [
        "# Foreword\n",
        "It is common that companies and professionals start with the data immediately available. Although this approach works, ideally the first step is to idenfy the problem or question and only then identify and obtain the set of data that can help to solve or answer the problem.\n",
        "\n",
        "Also, given the current abundance of data, processing power and some particular machine learning methods, there could be a temptation to use ALL the data available. **Quality** is _**better**_ then **Quantity**!\n",
        "\n",
        "Part of calling this discipline **Data Science** is that it is supposed to follow a process and not reach conclusions without support from evidence.\n",
        "\n",
        "Moreover, it is a creative, exploratory, labour and iteractive processes. It is part of the process to repeat, review and change when finding a dead-end."
      ]
    },
    {
      "cell_type": "markdown",
      "metadata": {
        "id": "Qgo2pD4Qf5pI"
      },
      "source": [
        "# Step 1: Define the problem or question\n",
        "Identify the subject matter and the given or obvious questions that would be relevant in the field.\n",
        "\n",
        "## Potential Questions\n",
        "List the given or obvious questions.\n",
        "\n",
        "## Actual Question\n",
        "Choose the **one** question that should be answered."
      ]
    },
    {
      "cell_type": "markdown",
      "metadata": {
        "id": "XcywG7Fpf5pK"
      },
      "source": [
        "# Step 2: Find the Data\n",
        "### Blood Transfusion Service Center DataSet\n",
        "- **Abstract**: Data taken from the **Blood Transfusion Service Center** in Hsin-Chu City in Taiwan.\n",
        "- Date Donated: 2008-10-03\n",
        "- Source:\n",
        "        Original Owner and Donor: Prof. I-Cheng Yeh \n",
        "        Department of Information Management \n",
        "        Chung-Hua University, \n",
        "        Hsin Chu, Taiwan 30067, R.O.C. \n",
        "\n",
        "- Citation Request:\n",
        "    **NOTE**: Reuse of this database is unlimited with retention of copyright notice for Prof. I-Cheng Yeh and the following published paper: \n",
        "\n",
        "        Yeh, I-Cheng, Yang, King-Jang, and Ting, Tao-Ming, \"Knowledge discovery on RFM model using Bernoulli sequence, \"Expert Systems with Applications, 2008\n",
        "        \n",
        "### UCI - Machine Learning Repository\n",
        "- Center for Machine Learning and Intelligent Systems\n",
        "\n",
        "The [**UCI Machine Learning Repository**](http://archive.ics.uci.edu/ml/about.html) is a collection of databases, domain theories, and data generators that are used by the machine learning community for the empirical analysis of machine learning algorithms."
      ]
    },
    {
      "cell_type": "markdown",
      "metadata": {
        "id": "IwGlVhahf5pL"
      },
      "source": [
        "# Step 3: Read the Data\n",
        "- Read the data\n",
        "- Perform some basic structural cleaning to facilitate the work"
      ]
    },
    {
      "cell_type": "code",
      "metadata": {
        "id": "jzKonptROfZk"
      },
      "source": [
        "import pandas as pd\n",
        "import numpy as np\n",
        "import matplotlib.pyplot as plt\n",
        "import seaborn as sns\n",
        "from scipy import stats\n",
        "import numpy as np\n",
        "from sklearn import metrics\n",
        "from sklearn.linear_model import LogisticRegression\n",
        "from sklearn.model_selection import train_test_split, cross_val_score\n",
        "from sklearn.preprocessing import StandardScaler"
      ],
      "execution_count": 29,
      "outputs": []
    },
    {
      "cell_type": "code",
      "metadata": {
        "id": "HdMDy5tbOF_l"
      },
      "source": [
        "df = pd.read_csv('transfusion_data.csv')"
      ],
      "execution_count": 30,
      "outputs": []
    },
    {
      "cell_type": "code",
      "metadata": {
        "colab": {
          "base_uri": "https://localhost:8080/"
        },
        "id": "aqAHN9BpOynf",
        "outputId": "8e99ad75-e810-4297-b5f5-b11eb04f631a"
      },
      "source": [
        "df.shape"
      ],
      "execution_count": 31,
      "outputs": [
        {
          "output_type": "execute_result",
          "data": {
            "text/plain": [
              "(748, 5)"
            ]
          },
          "metadata": {},
          "execution_count": 31
        }
      ]
    },
    {
      "cell_type": "code",
      "metadata": {
        "colab": {
          "base_uri": "https://localhost:8080/",
          "height": 202
        },
        "id": "HEKdvjYsO1_b",
        "outputId": "141b1816-691a-4bb7-a504-0d27b446d03a"
      },
      "source": [
        "df.describe().T"
      ],
      "execution_count": 32,
      "outputs": [
        {
          "output_type": "execute_result",
          "data": {
            "text/html": [
              "<div>\n",
              "<style scoped>\n",
              "    .dataframe tbody tr th:only-of-type {\n",
              "        vertical-align: middle;\n",
              "    }\n",
              "\n",
              "    .dataframe tbody tr th {\n",
              "        vertical-align: top;\n",
              "    }\n",
              "\n",
              "    .dataframe thead th {\n",
              "        text-align: right;\n",
              "    }\n",
              "</style>\n",
              "<table border=\"1\" class=\"dataframe\">\n",
              "  <thead>\n",
              "    <tr style=\"text-align: right;\">\n",
              "      <th></th>\n",
              "      <th>count</th>\n",
              "      <th>mean</th>\n",
              "      <th>std</th>\n",
              "      <th>min</th>\n",
              "      <th>25%</th>\n",
              "      <th>50%</th>\n",
              "      <th>75%</th>\n",
              "      <th>max</th>\n",
              "    </tr>\n",
              "  </thead>\n",
              "  <tbody>\n",
              "    <tr>\n",
              "      <th>recency_months</th>\n",
              "      <td>748.0</td>\n",
              "      <td>9.506684</td>\n",
              "      <td>8.095396</td>\n",
              "      <td>0.0</td>\n",
              "      <td>2.75</td>\n",
              "      <td>7.0</td>\n",
              "      <td>14.0</td>\n",
              "      <td>74.0</td>\n",
              "    </tr>\n",
              "    <tr>\n",
              "      <th>frequency_times</th>\n",
              "      <td>748.0</td>\n",
              "      <td>5.514706</td>\n",
              "      <td>5.839307</td>\n",
              "      <td>1.0</td>\n",
              "      <td>2.00</td>\n",
              "      <td>4.0</td>\n",
              "      <td>7.0</td>\n",
              "      <td>50.0</td>\n",
              "    </tr>\n",
              "    <tr>\n",
              "      <th>monetary_cc_blood</th>\n",
              "      <td>748.0</td>\n",
              "      <td>1378.676471</td>\n",
              "      <td>1459.826781</td>\n",
              "      <td>250.0</td>\n",
              "      <td>500.00</td>\n",
              "      <td>1000.0</td>\n",
              "      <td>1750.0</td>\n",
              "      <td>12500.0</td>\n",
              "    </tr>\n",
              "    <tr>\n",
              "      <th>time_months</th>\n",
              "      <td>748.0</td>\n",
              "      <td>34.282086</td>\n",
              "      <td>24.376714</td>\n",
              "      <td>2.0</td>\n",
              "      <td>16.00</td>\n",
              "      <td>28.0</td>\n",
              "      <td>50.0</td>\n",
              "      <td>98.0</td>\n",
              "    </tr>\n",
              "    <tr>\n",
              "      <th>whether_he_or_she_donated_blood_in_March_2007</th>\n",
              "      <td>748.0</td>\n",
              "      <td>0.237968</td>\n",
              "      <td>0.426124</td>\n",
              "      <td>0.0</td>\n",
              "      <td>0.00</td>\n",
              "      <td>0.0</td>\n",
              "      <td>0.0</td>\n",
              "      <td>1.0</td>\n",
              "    </tr>\n",
              "  </tbody>\n",
              "</table>\n",
              "</div>"
            ],
            "text/plain": [
              "                                               count  ...      max\n",
              "recency_months                                 748.0  ...     74.0\n",
              "frequency_times                                748.0  ...     50.0\n",
              "monetary_cc_blood                              748.0  ...  12500.0\n",
              "time_months                                    748.0  ...     98.0\n",
              "whether_he_or_she_donated_blood_in_March_2007  748.0  ...      1.0\n",
              "\n",
              "[5 rows x 8 columns]"
            ]
          },
          "metadata": {},
          "execution_count": 32
        }
      ]
    },
    {
      "cell_type": "code",
      "metadata": {
        "colab": {
          "base_uri": "https://localhost:8080/"
        },
        "id": "vRnYdIKsO4zl",
        "outputId": "3283d579-171c-47cd-d986-8ccc5c91019b"
      },
      "source": [
        "df.info()"
      ],
      "execution_count": 33,
      "outputs": [
        {
          "output_type": "stream",
          "name": "stdout",
          "text": [
            "<class 'pandas.core.frame.DataFrame'>\n",
            "RangeIndex: 748 entries, 0 to 747\n",
            "Data columns (total 5 columns):\n",
            " #   Column                                         Non-Null Count  Dtype\n",
            "---  ------                                         --------------  -----\n",
            " 0   recency_months                                 748 non-null    int64\n",
            " 1   frequency_times                                748 non-null    int64\n",
            " 2   monetary_cc_blood                              748 non-null    int64\n",
            " 3   time_months                                    748 non-null    int64\n",
            " 4   whether_he_or_she_donated_blood_in_March_2007  748 non-null    int64\n",
            "dtypes: int64(5)\n",
            "memory usage: 29.3 KB\n"
          ]
        }
      ]
    },
    {
      "cell_type": "markdown",
      "metadata": {
        "id": "_IwMz47Vf5pN"
      },
      "source": [
        "# Step 4: Explore and Clean the Data\n",
        "- Perform some initial simple **EDA** (Exploratory Data Analysis)\n",
        "- Check for\n",
        "    - **Number of features**\n",
        "    - **Data types**\n",
        "    - **Domains, Intervals**\n",
        "    - **Outliers** (are they valid or expurious data [read or measure errors])\n",
        "    - **Null** (values not present or coded [as zero of empty strings])\n",
        "    - **Missing Values** (coded [as zero of empty strings] or values not present)\n",
        "    - **Coded content** (classes identified by numbers or codes to represent absence of data)"
      ]
    },
    {
      "cell_type": "code",
      "metadata": {
        "colab": {
          "base_uri": "https://localhost:8080/",
          "height": 202
        },
        "id": "91vJlVAmR2Ng",
        "outputId": "5231fa1f-6f77-4107-bb40-29eb89bd0f66"
      },
      "source": [
        "df.head()"
      ],
      "execution_count": 34,
      "outputs": [
        {
          "output_type": "execute_result",
          "data": {
            "text/html": [
              "<div>\n",
              "<style scoped>\n",
              "    .dataframe tbody tr th:only-of-type {\n",
              "        vertical-align: middle;\n",
              "    }\n",
              "\n",
              "    .dataframe tbody tr th {\n",
              "        vertical-align: top;\n",
              "    }\n",
              "\n",
              "    .dataframe thead th {\n",
              "        text-align: right;\n",
              "    }\n",
              "</style>\n",
              "<table border=\"1\" class=\"dataframe\">\n",
              "  <thead>\n",
              "    <tr style=\"text-align: right;\">\n",
              "      <th></th>\n",
              "      <th>recency_months</th>\n",
              "      <th>frequency_times</th>\n",
              "      <th>monetary_cc_blood</th>\n",
              "      <th>time_months</th>\n",
              "      <th>whether_he_or_she_donated_blood_in_March_2007</th>\n",
              "    </tr>\n",
              "  </thead>\n",
              "  <tbody>\n",
              "    <tr>\n",
              "      <th>0</th>\n",
              "      <td>2</td>\n",
              "      <td>50</td>\n",
              "      <td>12500</td>\n",
              "      <td>98</td>\n",
              "      <td>1</td>\n",
              "    </tr>\n",
              "    <tr>\n",
              "      <th>1</th>\n",
              "      <td>0</td>\n",
              "      <td>13</td>\n",
              "      <td>3250</td>\n",
              "      <td>28</td>\n",
              "      <td>1</td>\n",
              "    </tr>\n",
              "    <tr>\n",
              "      <th>2</th>\n",
              "      <td>1</td>\n",
              "      <td>16</td>\n",
              "      <td>4000</td>\n",
              "      <td>35</td>\n",
              "      <td>1</td>\n",
              "    </tr>\n",
              "    <tr>\n",
              "      <th>3</th>\n",
              "      <td>2</td>\n",
              "      <td>20</td>\n",
              "      <td>5000</td>\n",
              "      <td>45</td>\n",
              "      <td>1</td>\n",
              "    </tr>\n",
              "    <tr>\n",
              "      <th>4</th>\n",
              "      <td>1</td>\n",
              "      <td>24</td>\n",
              "      <td>6000</td>\n",
              "      <td>77</td>\n",
              "      <td>0</td>\n",
              "    </tr>\n",
              "  </tbody>\n",
              "</table>\n",
              "</div>"
            ],
            "text/plain": [
              "   recency_months  ...  whether_he_or_she_donated_blood_in_March_2007\n",
              "0               2  ...                                              1\n",
              "1               0  ...                                              1\n",
              "2               1  ...                                              1\n",
              "3               2  ...                                              1\n",
              "4               1  ...                                              0\n",
              "\n",
              "[5 rows x 5 columns]"
            ]
          },
          "metadata": {},
          "execution_count": 34
        }
      ]
    },
    {
      "cell_type": "code",
      "metadata": {
        "colab": {
          "base_uri": "https://localhost:8080/"
        },
        "id": "pgBcf281Pj0i",
        "outputId": "98d646d8-231d-43cf-c939-488a12d7ee5e"
      },
      "source": [
        "df.isnull().sum()"
      ],
      "execution_count": 35,
      "outputs": [
        {
          "output_type": "execute_result",
          "data": {
            "text/plain": [
              "recency_months                                   0\n",
              "frequency_times                                  0\n",
              "monetary_cc_blood                                0\n",
              "time_months                                      0\n",
              "whether_he_or_she_donated_blood_in_March_2007    0\n",
              "dtype: int64"
            ]
          },
          "metadata": {},
          "execution_count": 35
        }
      ]
    },
    {
      "cell_type": "code",
      "metadata": {
        "colab": {
          "base_uri": "https://localhost:8080/"
        },
        "id": "hiQB8RxjP4FS",
        "outputId": "ebe71a2c-10ca-43d1-f65e-0f07f4afecf0"
      },
      "source": [
        "df.columns"
      ],
      "execution_count": 36,
      "outputs": [
        {
          "output_type": "execute_result",
          "data": {
            "text/plain": [
              "Index(['recency_months', 'frequency_times', 'monetary_cc_blood', 'time_months',\n",
              "       'whether_he_or_she_donated_blood_in_March_2007'],\n",
              "      dtype='object')"
            ]
          },
          "metadata": {},
          "execution_count": 36
        }
      ]
    },
    {
      "cell_type": "code",
      "metadata": {
        "colab": {
          "base_uri": "https://localhost:8080/",
          "height": 496
        },
        "id": "PUB83VYzUlp4",
        "outputId": "aee1eaff-f530-4025-f253-08ae71d9d244"
      },
      "source": [
        "fig, ax = plt.subplots(figsize=(16,8))\n",
        "ax.scatter(df['frequency_times'], df['monetary_cc_blood'])\n",
        "ax.set_xlabel('Frequency Times')\n",
        "ax.set_ylabel('Monetary cc Blood')\n",
        "plt.show()"
      ],
      "execution_count": 37,
      "outputs": [
        {
          "output_type": "display_data",
          "data": {
            "image/png": "[encoded data removed]",
            "text/plain": [
              "<Figure size 1152x576 with 1 Axes>"
            ]
          },
          "metadata": {
            "needs_background": "light"
          }
        }
      ]
    },
    {
      "cell_type": "code",
      "metadata": {
        "colab": {
          "base_uri": "https://localhost:8080/"
        },
        "id": "h9l_0bdaVPs4",
        "outputId": "f859487f-7dea-43fc-908e-4b7f5b996d34"
      },
      "source": [
        "#Detecting outlier\n",
        "z = np.abs(stats.zscore(df))\n",
        "print(z)"
      ],
      "execution_count": 38,
      "outputs": [
        {
          "output_type": "stream",
          "name": "stdout",
          "text": [
            "[[0.92789873 7.62334626 7.62334626 2.61563344 1.78948238]\n",
            " [1.17511806 1.28273826 1.28273826 0.2578809  1.78948238]\n",
            " [1.0515084  1.79684161 1.79684161 0.02947053 1.78948238]\n",
            " ...\n",
            " [1.66790417 0.43093957 0.43093957 1.13782607 0.55882081]\n",
            " [3.64565877 0.77367514 0.77367514 0.19367135 0.55882081]\n",
            " [7.72477762 0.77367514 0.77367514 1.54832812 0.55882081]]\n"
          ]
        }
      ]
    },
    {
      "cell_type": "code",
      "metadata": {
        "colab": {
          "base_uri": "https://localhost:8080/"
        },
        "id": "vPwTw2BUV5qn",
        "outputId": "ff4275a6-0132-47ab-ef40-eab1705c06cb"
      },
      "source": [
        "threshold = 3\n",
        "print(np.where(z > 3))"
      ],
      "execution_count": 39,
      "outputs": [
        {
          "output_type": "stream",
          "name": "stdout",
          "text": [
            "(array([  0,   0,   4,   4,   9,   9, 115, 115, 341, 341, 495, 496, 497,\n",
            "       498, 499, 500, 500, 502, 502, 503, 503, 504, 504, 505, 505, 517,\n",
            "       517, 528, 528, 746, 747]), array([1, 2, 1, 2, 1, 2, 1, 2, 1, 2, 0, 0, 0, 0, 0, 1, 2, 1, 2, 1, 2, 1,\n",
            "       2, 1, 2, 1, 2, 1, 2, 0, 0]))\n"
          ]
        }
      ]
    },
    {
      "cell_type": "code",
      "metadata": {
        "colab": {
          "base_uri": "https://localhost:8080/"
        },
        "id": "wUZVyTZbWyYp",
        "outputId": "8d911d6d-421d-4804-ca8e-bf77bdf6c7f7"
      },
      "source": [
        "print(z[0][1])"
      ],
      "execution_count": 40,
      "outputs": [
        {
          "output_type": "stream",
          "name": "stdout",
          "text": [
            "7.62334626135984\n"
          ]
        }
      ]
    },
    {
      "cell_type": "code",
      "metadata": {
        "colab": {
          "base_uri": "https://localhost:8080/"
        },
        "id": "ZGp-MLHNYCet",
        "outputId": "a4baa4a4-754a-4382-d2b7-c35b74feb2a0"
      },
      "source": [
        "# Using IQR to detect outlier\n",
        "Q1 = df.quantile(0.25)\n",
        "Q3 = df.quantile(0.75)\n",
        "IQR = Q3 - Q1\n",
        "print(IQR)"
      ],
      "execution_count": 41,
      "outputs": [
        {
          "output_type": "stream",
          "name": "stdout",
          "text": [
            "recency_months                                     11.25\n",
            "frequency_times                                     5.00\n",
            "monetary_cc_blood                                1250.00\n",
            "time_months                                        34.00\n",
            "whether_he_or_she_donated_blood_in_March_2007       0.00\n",
            "dtype: float64\n"
          ]
        }
      ]
    },
    {
      "cell_type": "code",
      "metadata": {
        "colab": {
          "base_uri": "https://localhost:8080/"
        },
        "id": "artTE9NSYrP1",
        "outputId": "768d1883-2e18-41ad-afec-cfa9115d2064"
      },
      "source": [
        "print(df < (Q1 - 1.5 * IQR)),(df > (Q3 + 1.5 * IQR))"
      ],
      "execution_count": 42,
      "outputs": [
        {
          "output_type": "stream",
          "name": "stdout",
          "text": [
            "     recency_months  ...  whether_he_or_she_donated_blood_in_March_2007\n",
            "0             False  ...                                          False\n",
            "1             False  ...                                          False\n",
            "2             False  ...                                          False\n",
            "3             False  ...                                          False\n",
            "4             False  ...                                          False\n",
            "..              ...  ...                                            ...\n",
            "743           False  ...                                          False\n",
            "744           False  ...                                          False\n",
            "745           False  ...                                          False\n",
            "746           False  ...                                          False\n",
            "747           False  ...                                          False\n",
            "\n",
            "[748 rows x 5 columns]\n"
          ]
        },
        {
          "output_type": "execute_result",
          "data": {
            "text/plain": [
              "(None,      recency_months  ...  whether_he_or_she_donated_blood_in_March_2007\n",
              " 0             False  ...                                           True\n",
              " 1             False  ...                                           True\n",
              " 2             False  ...                                           True\n",
              " 3             False  ...                                           True\n",
              " 4             False  ...                                          False\n",
              " ..              ...  ...                                            ...\n",
              " 743           False  ...                                          False\n",
              " 744           False  ...                                          False\n",
              " 745           False  ...                                          False\n",
              " 746            True  ...                                          False\n",
              " 747            True  ...                                          False\n",
              " \n",
              " [748 rows x 5 columns])"
            ]
          },
          "metadata": {},
          "execution_count": 42
        }
      ]
    },
    {
      "cell_type": "markdown",
      "metadata": {
        "id": "kTRdzVqdf5pO"
      },
      "source": [
        "# Step 5: Prepare the Data\n",
        "- Deal with the data as required by the modelling technique\n",
        "    - **Outliers** (remove or adjust if possible or necessary)\n",
        "    - **Null** (remove or interpolate if possible or necessary)\n",
        "    - **Missing Values** (remove or interpolate if possible or necessary)\n",
        "    - **Coded content** (transform if possible or necessary [str to number or vice-versa])\n",
        "    - **Normalisation** (if possible or necessary)\n",
        "    - **Feature Engeneer** (if useful or necessary)"
      ]
    },
    {
      "cell_type": "code",
      "metadata": {
        "colab": {
          "base_uri": "https://localhost:8080/"
        },
        "id": "lFOOjFy-aX5b",
        "outputId": "6855a9b8-5d76-4dca-cff8-d83bace2f5c4"
      },
      "source": [
        "df_o = df[(z < 3).all(axis=1)]\n",
        "df_o.shape"
      ],
      "execution_count": 43,
      "outputs": [
        {
          "output_type": "execute_result",
          "data": {
            "text/plain": [
              "(729, 5)"
            ]
          },
          "metadata": {},
          "execution_count": 43
        }
      ]
    },
    {
      "cell_type": "code",
      "metadata": {
        "colab": {
          "base_uri": "https://localhost:8080/",
          "height": 202
        },
        "id": "nDGgdTSRlYO4",
        "outputId": "42f0e904-77a9-4e47-f293-3a6e889588cd"
      },
      "source": [
        "df_o.head()"
      ],
      "execution_count": 44,
      "outputs": [
        {
          "output_type": "execute_result",
          "data": {
            "text/html": [
              "<div>\n",
              "<style scoped>\n",
              "    .dataframe tbody tr th:only-of-type {\n",
              "        vertical-align: middle;\n",
              "    }\n",
              "\n",
              "    .dataframe tbody tr th {\n",
              "        vertical-align: top;\n",
              "    }\n",
              "\n",
              "    .dataframe thead th {\n",
              "        text-align: right;\n",
              "    }\n",
              "</style>\n",
              "<table border=\"1\" class=\"dataframe\">\n",
              "  <thead>\n",
              "    <tr style=\"text-align: right;\">\n",
              "      <th></th>\n",
              "      <th>recency_months</th>\n",
              "      <th>frequency_times</th>\n",
              "      <th>monetary_cc_blood</th>\n",
              "      <th>time_months</th>\n",
              "      <th>whether_he_or_she_donated_blood_in_March_2007</th>\n",
              "    </tr>\n",
              "  </thead>\n",
              "  <tbody>\n",
              "    <tr>\n",
              "      <th>1</th>\n",
              "      <td>0</td>\n",
              "      <td>13</td>\n",
              "      <td>3250</td>\n",
              "      <td>28</td>\n",
              "      <td>1</td>\n",
              "    </tr>\n",
              "    <tr>\n",
              "      <th>2</th>\n",
              "      <td>1</td>\n",
              "      <td>16</td>\n",
              "      <td>4000</td>\n",
              "      <td>35</td>\n",
              "      <td>1</td>\n",
              "    </tr>\n",
              "    <tr>\n",
              "      <th>3</th>\n",
              "      <td>2</td>\n",
              "      <td>20</td>\n",
              "      <td>5000</td>\n",
              "      <td>45</td>\n",
              "      <td>1</td>\n",
              "    </tr>\n",
              "    <tr>\n",
              "      <th>5</th>\n",
              "      <td>4</td>\n",
              "      <td>4</td>\n",
              "      <td>1000</td>\n",
              "      <td>4</td>\n",
              "      <td>0</td>\n",
              "    </tr>\n",
              "    <tr>\n",
              "      <th>6</th>\n",
              "      <td>2</td>\n",
              "      <td>7</td>\n",
              "      <td>1750</td>\n",
              "      <td>14</td>\n",
              "      <td>1</td>\n",
              "    </tr>\n",
              "  </tbody>\n",
              "</table>\n",
              "</div>"
            ],
            "text/plain": [
              "   recency_months  ...  whether_he_or_she_donated_blood_in_March_2007\n",
              "1               0  ...                                              1\n",
              "2               1  ...                                              1\n",
              "3               2  ...                                              1\n",
              "5               4  ...                                              0\n",
              "6               2  ...                                              1\n",
              "\n",
              "[5 rows x 5 columns]"
            ]
          },
          "metadata": {},
          "execution_count": 44
        }
      ]
    },
    {
      "cell_type": "code",
      "metadata": {
        "colab": {
          "base_uri": "https://localhost:8080/"
        },
        "id": "7nLjlzF_lJZb",
        "outputId": "b3d2d28d-0bd8-47bd-bce2-f8589a5e1bca"
      },
      "source": [
        "from sklearn.preprocessing import normalize\n",
        "X = df_o.drop(['whether_he_or_she_donated_blood_in_March_2007'],axis=1)\n",
        "print(X)\n",
        "X_prep = normalize(X)"
      ],
      "execution_count": 45,
      "outputs": [
        {
          "output_type": "stream",
          "name": "stdout",
          "text": [
            "     recency_months  frequency_times  monetary_cc_blood  time_months\n",
            "1                 0               13               3250           28\n",
            "2                 1               16               4000           35\n",
            "3                 2               20               5000           45\n",
            "5                 4                4               1000            4\n",
            "6                 2                7               1750           14\n",
            "..              ...              ...                ...          ...\n",
            "741              23                7               1750           88\n",
            "742              16                3                750           86\n",
            "743              23                2                500           38\n",
            "744              21                2                500           52\n",
            "745              23                3                750           62\n",
            "\n",
            "[729 rows x 4 columns]\n"
          ]
        }
      ]
    },
    {
      "cell_type": "code",
      "metadata": {
        "colab": {
          "base_uri": "https://localhost:8080/"
        },
        "id": "RGjzqMzkmF9u",
        "outputId": "8ffe3d06-a37b-438b-d030-6af9daf6785c"
      },
      "source": [
        "print(X_prep)"
      ],
      "execution_count": 46,
      "outputs": [
        {
          "output_type": "stream",
          "name": "stdout",
          "text": [
            "[[0.00000000e+00 3.99981956e-03 9.99954891e-01 8.61499598e-03]\n",
            " [2.49988423e-04 3.99981476e-03 9.99953691e-01 8.74959479e-03]\n",
            " [3.99980569e-04 3.99980569e-03 9.99951424e-01 8.99956281e-03]\n",
            " ...\n",
            " [4.58191877e-02 3.98427719e-03 9.96069298e-01 7.57012666e-02]\n",
            " [4.17379569e-02 3.97504352e-03 9.93760879e-01 1.03351131e-01]\n",
            " [3.05479100e-02 3.98451000e-03 9.96127500e-01 8.23465400e-02]]\n"
          ]
        }
      ]
    },
    {
      "cell_type": "markdown",
      "metadata": {
        "id": "CLb2lL-4f5pQ"
      },
      "source": [
        "# Step 6: Modelling\n",
        "Refer to the Problem and Main Question.\n",
        "- What are the input variables (features)?\n",
        "- Is there an output variable (label)?\n",
        "- If there is an output variable:\n",
        "    - What is it?\n",
        "    - What is its type?\n",
        "- What type of Modelling is it?\n",
        "    - [ ] Supervised\n",
        "    - [ ] Unsupervised \n",
        "- What type of Modelling is it?\n",
        "    - [ ] Regression\n",
        "    - [ ] Classification (binary) \n",
        "    - [ ] Classification (multi-class)\n",
        "    - [ ] Clustering"
      ]
    },
    {
      "cell_type": "code",
      "metadata": {
        "colab": {
          "base_uri": "https://localhost:8080/"
        },
        "id": "_1nvZuV8s62N",
        "outputId": "aa2d8213-f469-4f12-eec8-77b21f3bc8e5"
      },
      "source": [
        "df.info()"
      ],
      "execution_count": 47,
      "outputs": [
        {
          "output_type": "stream",
          "name": "stdout",
          "text": [
            "<class 'pandas.core.frame.DataFrame'>\n",
            "RangeIndex: 748 entries, 0 to 747\n",
            "Data columns (total 5 columns):\n",
            " #   Column                                         Non-Null Count  Dtype\n",
            "---  ------                                         --------------  -----\n",
            " 0   recency_months                                 748 non-null    int64\n",
            " 1   frequency_times                                748 non-null    int64\n",
            " 2   monetary_cc_blood                              748 non-null    int64\n",
            " 3   time_months                                    748 non-null    int64\n",
            " 4   whether_he_or_she_donated_blood_in_March_2007  748 non-null    int64\n",
            "dtypes: int64(5)\n",
            "memory usage: 29.3 KB\n"
          ]
        }
      ]
    },
    {
      "cell_type": "code",
      "metadata": {
        "id": "OTkCDShz6y2a"
      },
      "source": [
        "X= df.drop('whether_he_or_she_donated_blood_in_March_2007', axis=1)\n",
        "y = df['whether_he_or_she_donated_blood_in_March_2007']"
      ],
      "execution_count": 48,
      "outputs": []
    },
    {
      "cell_type": "code",
      "metadata": {
        "colab": {
          "base_uri": "https://localhost:8080/",
          "height": 414
        },
        "id": "TSjMeTBZ-o2I",
        "outputId": "e37fac55-6c3a-4d22-9245-e4237ceade88"
      },
      "source": [
        "X"
      ],
      "execution_count": 49,
      "outputs": [
        {
          "output_type": "execute_result",
          "data": {
            "text/html": [
              "<div>\n",
              "<style scoped>\n",
              "    .dataframe tbody tr th:only-of-type {\n",
              "        vertical-align: middle;\n",
              "    }\n",
              "\n",
              "    .dataframe tbody tr th {\n",
              "        vertical-align: top;\n",
              "    }\n",
              "\n",
              "    .dataframe thead th {\n",
              "        text-align: right;\n",
              "    }\n",
              "</style>\n",
              "<table border=\"1\" class=\"dataframe\">\n",
              "  <thead>\n",
              "    <tr style=\"text-align: right;\">\n",
              "      <th></th>\n",
              "      <th>recency_months</th>\n",
              "      <th>frequency_times</th>\n",
              "      <th>monetary_cc_blood</th>\n",
              "      <th>time_months</th>\n",
              "    </tr>\n",
              "  </thead>\n",
              "  <tbody>\n",
              "    <tr>\n",
              "      <th>0</th>\n",
              "      <td>2</td>\n",
              "      <td>50</td>\n",
              "      <td>12500</td>\n",
              "      <td>98</td>\n",
              "    </tr>\n",
              "    <tr>\n",
              "      <th>1</th>\n",
              "      <td>0</td>\n",
              "      <td>13</td>\n",
              "      <td>3250</td>\n",
              "      <td>28</td>\n",
              "    </tr>\n",
              "    <tr>\n",
              "      <th>2</th>\n",
              "      <td>1</td>\n",
              "      <td>16</td>\n",
              "      <td>4000</td>\n",
              "      <td>35</td>\n",
              "    </tr>\n",
              "    <tr>\n",
              "      <th>3</th>\n",
              "      <td>2</td>\n",
              "      <td>20</td>\n",
              "      <td>5000</td>\n",
              "      <td>45</td>\n",
              "    </tr>\n",
              "    <tr>\n",
              "      <th>4</th>\n",
              "      <td>1</td>\n",
              "      <td>24</td>\n",
              "      <td>6000</td>\n",
              "      <td>77</td>\n",
              "    </tr>\n",
              "    <tr>\n",
              "      <th>...</th>\n",
              "      <td>...</td>\n",
              "      <td>...</td>\n",
              "      <td>...</td>\n",
              "      <td>...</td>\n",
              "    </tr>\n",
              "    <tr>\n",
              "      <th>743</th>\n",
              "      <td>23</td>\n",
              "      <td>2</td>\n",
              "      <td>500</td>\n",
              "      <td>38</td>\n",
              "    </tr>\n",
              "    <tr>\n",
              "      <th>744</th>\n",
              "      <td>21</td>\n",
              "      <td>2</td>\n",
              "      <td>500</td>\n",
              "      <td>52</td>\n",
              "    </tr>\n",
              "    <tr>\n",
              "      <th>745</th>\n",
              "      <td>23</td>\n",
              "      <td>3</td>\n",
              "      <td>750</td>\n",
              "      <td>62</td>\n",
              "    </tr>\n",
              "    <tr>\n",
              "      <th>746</th>\n",
              "      <td>39</td>\n",
              "      <td>1</td>\n",
              "      <td>250</td>\n",
              "      <td>39</td>\n",
              "    </tr>\n",
              "    <tr>\n",
              "      <th>747</th>\n",
              "      <td>72</td>\n",
              "      <td>1</td>\n",
              "      <td>250</td>\n",
              "      <td>72</td>\n",
              "    </tr>\n",
              "  </tbody>\n",
              "</table>\n",
              "<p>748 rows × 4 columns</p>\n",
              "</div>"
            ],
            "text/plain": [
              "     recency_months  frequency_times  monetary_cc_blood  time_months\n",
              "0                 2               50              12500           98\n",
              "1                 0               13               3250           28\n",
              "2                 1               16               4000           35\n",
              "3                 2               20               5000           45\n",
              "4                 1               24               6000           77\n",
              "..              ...              ...                ...          ...\n",
              "743              23                2                500           38\n",
              "744              21                2                500           52\n",
              "745              23                3                750           62\n",
              "746              39                1                250           39\n",
              "747              72                1                250           72\n",
              "\n",
              "[748 rows x 4 columns]"
            ]
          },
          "metadata": {},
          "execution_count": 49
        }
      ]
    },
    {
      "cell_type": "code",
      "metadata": {
        "colab": {
          "base_uri": "https://localhost:8080/"
        },
        "id": "t_UQVTeX-r1p",
        "outputId": "2f92035c-b1d0-48a1-c238-72e34e38c27e"
      },
      "source": [
        "y"
      ],
      "execution_count": 50,
      "outputs": [
        {
          "output_type": "execute_result",
          "data": {
            "text/plain": [
              "0      1\n",
              "1      1\n",
              "2      1\n",
              "3      1\n",
              "4      0\n",
              "      ..\n",
              "743    0\n",
              "744    0\n",
              "745    0\n",
              "746    0\n",
              "747    0\n",
              "Name: whether_he_or_she_donated_blood_in_March_2007, Length: 748, dtype: int64"
            ]
          },
          "metadata": {},
          "execution_count": 50
        }
      ]
    },
    {
      "cell_type": "markdown",
      "metadata": {
        "id": "Ds7KV52Lf5pR"
      },
      "source": [
        "# Step 7: Split the Data\n",
        "\n",
        "Need to check for **Supervised** modelling:\n",
        "- Number of known cases or observations\n",
        "- Define the split in Training/Test or Training/Validation/Test and their proportions\n",
        "- Check for unbalanced classes and how to keep or avoid it when spliting"
      ]
    },
    {
      "cell_type": "code",
      "metadata": {
        "id": "MycHllGuK8m8"
      },
      "source": [
        "from sklearn.model_selection import train_test_split\n",
        "X_train, X_test, y_train, y_test = train_test_split(X, y, test_size = 0.2, random_state = 42)"
      ],
      "execution_count": 51,
      "outputs": []
    },
    {
      "cell_type": "code",
      "metadata": {
        "colab": {
          "base_uri": "https://localhost:8080/"
        },
        "id": "p2igPVzELAcR",
        "outputId": "e22a0c0c-f189-4177-96c4-7cabb31f7647"
      },
      "source": [
        "X_train.shape, y_train"
      ],
      "execution_count": 52,
      "outputs": [
        {
          "output_type": "execute_result",
          "data": {
            "text/plain": [
              "((598, 4), 593    1\n",
              " 131    0\n",
              " 44     1\n",
              " 70     0\n",
              " 670    0\n",
              "       ..\n",
              " 71     0\n",
              " 106    0\n",
              " 270    0\n",
              " 435    0\n",
              " 102    0\n",
              " Name: whether_he_or_she_donated_blood_in_March_2007, Length: 598, dtype: int64)"
            ]
          },
          "metadata": {},
          "execution_count": 52
        }
      ]
    },
    {
      "cell_type": "markdown",
      "metadata": {
        "id": "aQxzsLj1f5pS"
      },
      "source": [
        "# Step 8: Define a Model\n",
        "\n",
        "Define the model and its hyper-parameters.\n",
        "\n",
        "Consider the parameters and hyper-parameters of each model at each (re)run and after checking the efficiency of a model against the training and test datasets."
      ]
    },
    {
      "cell_type": "code",
      "metadata": {
        "colab": {
          "base_uri": "https://localhost:8080/"
        },
        "id": "sz6mxj0GLKpD",
        "outputId": "3776092d-b0d4-4892-b88c-0861c93c13b7"
      },
      "source": [
        "from sklearn.tree import tree\n",
        "from sklearn.tree import DecisionTreeClassifier\n",
        "dt = DecisionTreeClassifier()\n",
        "dt.fit(X_train, y_train)"
      ],
      "execution_count": 62,
      "outputs": [
        {
          "output_type": "execute_result",
          "data": {
            "text/plain": [
              "DecisionTreeClassifier(ccp_alpha=0.0, class_weight=None, criterion='gini',\n",
              "                       max_depth=None, max_features=None, max_leaf_nodes=None,\n",
              "                       min_impurity_decrease=0.0, min_impurity_split=None,\n",
              "                       min_samples_leaf=1, min_samples_split=2,\n",
              "                       min_weight_fraction_leaf=0.0, presort='deprecated',\n",
              "                       random_state=None, splitter='best')"
            ]
          },
          "metadata": {},
          "execution_count": 62
        }
      ]
    },
    {
      "cell_type": "markdown",
      "metadata": {
        "id": "8IfjVd4uf5pT"
      },
      "source": [
        "# Step 9: Fit the Model"
      ]
    },
    {
      "cell_type": "code",
      "metadata": {
        "colab": {
          "base_uri": "https://localhost:8080/"
        },
        "id": "0yLoI5S5LTNA",
        "outputId": "1fac902e-4c8b-46af-d5f1-339c19955fc7"
      },
      "source": [
        "dt.fit(X_train, y_train)"
      ],
      "execution_count": 63,
      "outputs": [
        {
          "output_type": "execute_result",
          "data": {
            "text/plain": [
              "DecisionTreeClassifier(ccp_alpha=0.0, class_weight=None, criterion='gini',\n",
              "                       max_depth=None, max_features=None, max_leaf_nodes=None,\n",
              "                       min_impurity_decrease=0.0, min_impurity_split=None,\n",
              "                       min_samples_leaf=1, min_samples_split=2,\n",
              "                       min_weight_fraction_leaf=0.0, presort='deprecated',\n",
              "                       random_state=None, splitter='best')"
            ]
          },
          "metadata": {},
          "execution_count": 63
        }
      ]
    },
    {
      "cell_type": "markdown",
      "metadata": {
        "id": "trc47eNDf5pV"
      },
      "source": [
        "# Step 10: Verify and Evaluate the Training Model\n",
        "- Use the **training** data to make predictions\n",
        "- Check for overfitting\n",
        "- What metrics are appropriate for the modelling approach used\n",
        "- For **Supervised** models:\n",
        "    - Check the **Training Results** with the **Training Predictions** during development\n",
        "- Analyse, modify the parameters and hyper-parameters and repeat (within reason) until the model does not improve"
      ]
    },
    {
      "cell_type": "markdown",
      "metadata": {
        "id": "TpVdZQdkf5pW"
      },
      "source": [
        "# Step 11: Make Predictions and Evaluate the Test Model\n",
        "**NOTE**: **Do this only after not making any more improvements in the model**.\n",
        "\n",
        "- Use the **test** data to make predictions\n",
        "- For **Supervised** models:\n",
        "    - Check the **Test Results** with the **Test Predictions**"
      ]
    },
    {
      "cell_type": "code",
      "metadata": {
        "colab": {
          "base_uri": "https://localhost:8080/"
        },
        "id": "Z0hlEtbFLRg6",
        "outputId": "16b166bf-d83e-480d-b91c-83bd624d8afc"
      },
      "source": [
        "test_model = dt.predict(X_test)\n",
        "test_model"
      ],
      "execution_count": 64,
      "outputs": [
        {
          "output_type": "execute_result",
          "data": {
            "text/plain": [
              "array([0, 0, 0, 0, 0, 1, 0, 0, 0, 0, 0, 0, 0, 0, 0, 0, 0, 0, 0, 0, 0, 0,\n",
              "       0, 1, 0, 0, 0, 0, 0, 0, 0, 0, 0, 0, 0, 1, 0, 1, 0, 0, 1, 0, 0, 0,\n",
              "       0, 0, 0, 0, 0, 0, 0, 0, 0, 0, 0, 0, 1, 0, 1, 0, 0, 0, 0, 0, 0, 1,\n",
              "       0, 0, 0, 0, 0, 1, 0, 0, 0, 0, 1, 1, 0, 0, 0, 1, 0, 1, 0, 0, 0, 0,\n",
              "       0, 1, 1, 1, 0, 0, 0, 0, 0, 1, 1, 0, 0, 0, 1, 0, 0, 1, 0, 0, 0, 0,\n",
              "       0, 0, 0, 0, 0, 0, 0, 0, 0, 0, 0, 1, 0, 0, 0, 0, 1, 1, 0, 0, 0, 1,\n",
              "       0, 0, 1, 0, 0, 0, 1, 0, 0, 0, 0, 1, 0, 0, 0, 1, 1, 1])"
            ]
          },
          "metadata": {},
          "execution_count": 64
        }
      ]
    },
    {
      "cell_type": "markdown",
      "metadata": {
        "id": "SJ5WfSLuf5pY"
      },
      "source": [
        "# Step 12: Solve the Problem or Answer the Question\n",
        "The results of an analysis or modelling can be used:\n",
        "- As part of a product or process, so the model can make predictions when new input data is available\n",
        "- As part of a report including text and charts to help understand the problem\n",
        "- As input for further questions"
      ]
    },
    {
      "cell_type": "code",
      "metadata": {
        "colab": {
          "base_uri": "https://localhost:8080/"
        },
        "id": "kR3g4TV1QcIi",
        "outputId": "adcd6d75-6a05-431a-acf1-a7215fc32935"
      },
      "source": [
        "from sklearn.metrics import accuracy_score\n",
        "#score = accuracy_score(y_test, test_model)\n",
        "score = dt.score(X_test, test_model)\n",
        "score"
      ],
      "execution_count": 67,
      "outputs": [
        {
          "output_type": "execute_result",
          "data": {
            "text/plain": [
              "1.0"
            ]
          },
          "metadata": {},
          "execution_count": 67
        }
      ]
    },
    {
      "cell_type": "code",
      "metadata": {
        "colab": {
          "base_uri": "https://localhost:8080/",
          "height": 1000
        },
        "id": "hPWIpxj1UPsl",
        "outputId": "daae4f79-38a5-492b-c21a-59e2b3c0be33"
      },
      "source": [
        "#from sklearn import tree\n",
        "#plt.figure(figsize=(30,10))\n",
        "#tree.plot_tree(dt, feature_names = X.columns, filled=True)"
      ],
      "execution_count": 69,
      "outputs": [
        {
          "output_type": "execute_result",
          "data": {
            "text/plain": [
              "[Text(927.1939655172414, 527.6117647058824, 'recency_months <= 6.5\\ngini = 0.36\\nsamples = 598\\nvalue = [457, 141]'),\n",
              " Text(443.03275862068966, 495.63529411764705, 'frequency_times <= 4.5\\ngini = 0.466\\nsamples = 297\\nvalue = [187, 110]'),\n",
              " Text(118.33448275862068, 463.6588235294118, 'time_months <= 2.5\\ngini = 0.368\\nsamples = 140\\nvalue = [106, 34]'),\n",
              " Text(51.95172413793103, 431.6823529411765, 'frequency_times <= 1.5\\ngini = 0.191\\nsamples = 28\\nvalue = [25, 3]'),\n",
              " Text(40.40689655172414, 399.7058823529412, 'gini = 0.204\\nsamples = 26\\nvalue = [23, 3]'),\n",
              " Text(63.49655172413793, 399.7058823529412, 'gini = 0.0\\nsamples = 2\\nvalue = [2, 0]'),\n",
              " Text(184.71724137931034, 431.6823529411765, 'time_months <= 12.0\\ngini = 0.4\\nsamples = 112\\nvalue = [81, 31]'),\n",
              " Text(86.58620689655172, 399.7058823529412, 'time_months <= 3.5\\ngini = 0.477\\nsamples = 56\\nvalue = [34, 22]'),\n",
              " Text(75.04137931034482, 367.7294117647059, 'gini = 0.0\\nsamples = 1\\nvalue = [0, 1]'),\n",
              " Text(98.13103448275862, 367.7294117647059, 'recency_months <= 5.0\\ngini = 0.472\\nsamples = 55\\nvalue = [34, 21]'),\n",
              " Text(86.58620689655172, 335.7529411764706, 'recency_months <= 3.0\\ngini = 0.466\\nsamples = 54\\nvalue = [34, 20]'),\n",
              " Text(46.179310344827584, 303.7764705882353, 'time_months <= 10.5\\ngini = 0.499\\nsamples = 19\\nvalue = [10, 9]'),\n",
              " Text(23.089655172413792, 271.8, 'recency_months <= 1.0\\ngini = 0.463\\nsamples = 11\\nvalue = [4, 7]'),\n",
              " Text(11.544827586206896, 239.82352941176475, 'gini = 0.0\\nsamples = 2\\nvalue = [2, 0]'),\n",
              " Text(34.63448275862069, 239.82352941176475, 'frequency_times <= 2.5\\ngini = 0.346\\nsamples = 9\\nvalue = [2, 7]'),\n",
              " Text(23.089655172413792, 207.84705882352944, 'time_months <= 7.0\\ngini = 0.444\\nsamples = 6\\nvalue = [2, 4]'),\n",
              " Text(11.544827586206896, 175.87058823529412, 'gini = 0.375\\nsamples = 4\\nvalue = [1, 3]'),\n",
              " Text(34.63448275862069, 175.87058823529412, 'gini = 0.5\\nsamples = 2\\nvalue = [1, 1]'),\n",
              " Text(46.179310344827584, 207.84705882352944, 'gini = 0.0\\nsamples = 3\\nvalue = [0, 3]'),\n",
              " Text(69.26896551724138, 271.8, 'monetary_cc_blood <= 625.0\\ngini = 0.375\\nsamples = 8\\nvalue = [6, 2]'),\n",
              " Text(57.72413793103448, 239.82352941176475, 'gini = 0.444\\nsamples = 6\\nvalue = [4, 2]'),\n",
              " Text(80.81379310344828, 239.82352941176475, 'gini = 0.0\\nsamples = 2\\nvalue = [2, 0]'),\n",
              " Text(126.99310344827586, 303.7764705882353, 'time_months <= 6.5\\ngini = 0.431\\nsamples = 35\\nvalue = [24, 11]'),\n",
              " Text(115.44827586206895, 271.8, 'frequency_times <= 3.0\\ngini = 0.422\\nsamples = 33\\nvalue = [23, 10]'),\n",
              " Text(103.90344827586206, 239.82352941176475, 'frequency_times <= 1.5\\ngini = 0.412\\nsamples = 31\\nvalue = [22, 9]'),\n",
              " Text(92.35862068965517, 207.84705882352944, 'gini = 0.413\\nsamples = 24\\nvalue = [17, 7]'),\n",
              " Text(115.44827586206895, 207.84705882352944, 'gini = 0.408\\nsamples = 7\\nvalue = [5, 2]'),\n",
              " Text(126.99310344827586, 239.82352941176475, 'gini = 0.5\\nsamples = 2\\nvalue = [1, 1]'),\n",
              " Text(138.53793103448277, 271.8, 'gini = 0.5\\nsamples = 2\\nvalue = [1, 1]'),\n",
              " Text(109.67586206896551, 335.7529411764706, 'gini = 0.0\\nsamples = 1\\nvalue = [0, 1]'),\n",
              " Text(282.84827586206893, 399.7058823529412, 'recency_months <= 3.0\\ngini = 0.27\\nsamples = 56\\nvalue = [47, 9]'),\n",
              " Text(225.12413793103448, 367.7294117647059, 'time_months <= 72.5\\ngini = 0.17\\nsamples = 32\\nvalue = [29, 3]'),\n",
              " Text(196.26206896551724, 335.7529411764706, 'time_months <= 36.5\\ngini = 0.124\\nsamples = 30\\nvalue = [28, 2]'),\n",
              " Text(173.17241379310343, 303.7764705882353, 'time_months <= 15.0\\ngini = 0.077\\nsamples = 25\\nvalue = [24, 1]'),\n",
              " Text(161.62758620689655, 271.8, 'monetary_cc_blood <= 875.0\\ngini = 0.278\\nsamples = 6\\nvalue = [5, 1]'),\n",
              " Text(150.08275862068965, 239.82352941176475, 'gini = 0.0\\nsamples = 4\\nvalue = [4, 0]'),\n",
              " Text(173.17241379310343, 239.82352941176475, 'gini = 0.5\\nsamples = 2\\nvalue = [1, 1]'),\n",
              " Text(184.71724137931034, 271.8, 'gini = 0.0\\nsamples = 19\\nvalue = [19, 0]'),\n",
              " Text(219.35172413793103, 303.7764705882353, 'time_months <= 39.5\\ngini = 0.32\\nsamples = 5\\nvalue = [4, 1]'),\n",
              " Text(207.80689655172412, 271.8, 'gini = 0.0\\nsamples = 1\\nvalue = [0, 1]'),\n",
              " Text(230.8965517241379, 271.8, 'gini = 0.0\\nsamples = 4\\nvalue = [4, 0]'),\n",
              " Text(253.98620689655172, 335.7529411764706, 'time_months <= 76.0\\ngini = 0.5\\nsamples = 2\\nvalue = [1, 1]'),\n",
              " Text(242.44137931034481, 303.7764705882353, 'gini = 0.0\\nsamples = 1\\nvalue = [0, 1]'),\n",
              " Text(265.5310344827586, 303.7764705882353, 'gini = 0.0\\nsamples = 1\\nvalue = [1, 0]'),\n",
              " Text(340.5724137931034, 367.7294117647059, 'monetary_cc_blood <= 875.0\\ngini = 0.375\\nsamples = 24\\nvalue = [18, 6]'),\n",
              " Text(311.7103448275862, 335.7529411764706, 'time_months <= 25.5\\ngini = 0.278\\nsamples = 18\\nvalue = [15, 3]'),\n",
              " Text(288.6206896551724, 303.7764705882353, 'time_months <= 20.5\\ngini = 0.408\\nsamples = 7\\nvalue = [5, 2]'),\n",
              " Text(277.07586206896553, 271.8, 'time_months <= 15.0\\ngini = 0.278\\nsamples = 6\\nvalue = [5, 1]'),\n",
              " Text(265.5310344827586, 239.82352941176475, 'gini = 0.0\\nsamples = 3\\nvalue = [3, 0]'),\n",
              " Text(288.6206896551724, 239.82352941176475, 'gini = 0.444\\nsamples = 3\\nvalue = [2, 1]'),\n",
              " Text(300.1655172413793, 271.8, 'gini = 0.0\\nsamples = 1\\nvalue = [0, 1]'),\n",
              " Text(334.8, 303.7764705882353, 'time_months <= 48.5\\ngini = 0.165\\nsamples = 11\\nvalue = [10, 1]'),\n",
              " Text(323.2551724137931, 271.8, 'gini = 0.0\\nsamples = 7\\nvalue = [7, 0]'),\n",
              " Text(346.34482758620686, 271.8, 'time_months <= 51.5\\ngini = 0.375\\nsamples = 4\\nvalue = [3, 1]'),\n",
              " Text(334.8, 239.82352941176475, 'gini = 0.0\\nsamples = 1\\nvalue = [0, 1]'),\n",
              " Text(357.88965517241377, 239.82352941176475, 'gini = 0.0\\nsamples = 3\\nvalue = [3, 0]'),\n",
              " Text(369.4344827586207, 335.7529411764706, 'time_months <= 16.0\\ngini = 0.5\\nsamples = 6\\nvalue = [3, 3]'),\n",
              " Text(357.88965517241377, 303.7764705882353, 'gini = 0.0\\nsamples = 1\\nvalue = [0, 1]'),\n",
              " Text(380.9793103448276, 303.7764705882353, 'time_months <= 22.0\\ngini = 0.48\\nsamples = 5\\nvalue = [3, 2]'),\n",
              " Text(369.4344827586207, 271.8, 'gini = 0.0\\nsamples = 1\\nvalue = [1, 0]'),\n",
              " Text(392.5241379310345, 271.8, 'time_months <= 40.0\\ngini = 0.5\\nsamples = 4\\nvalue = [2, 2]'),\n",
              " Text(380.9793103448276, 239.82352941176475, 'time_months <= 30.0\\ngini = 0.444\\nsamples = 3\\nvalue = [1, 2]'),\n",
              " Text(369.4344827586207, 207.84705882352944, 'gini = 0.5\\nsamples = 2\\nvalue = [1, 1]'),\n",
              " Text(392.5241379310345, 207.84705882352944, 'gini = 0.0\\nsamples = 1\\nvalue = [0, 1]'),\n",
              " Text(404.06896551724134, 239.82352941176475, 'gini = 0.0\\nsamples = 1\\nvalue = [1, 0]'),\n",
              " Text(767.7310344827586, 463.6588235294118, 'time_months <= 49.5\\ngini = 0.499\\nsamples = 157\\nvalue = [81, 76]'),\n",
              " Text(608.9896551724138, 431.6823529411765, 'monetary_cc_blood <= 1625.0\\ngini = 0.48\\nsamples = 100\\nvalue = [40, 60]'),\n",
              " Text(505.0862068965517, 399.7058823529412, 'time_months <= 18.5\\ngini = 0.5\\nsamples = 49\\nvalue = [24, 25]'),\n",
              " Text(427.15862068965515, 367.7294117647059, 'time_months <= 13.0\\ngini = 0.391\\nsamples = 15\\nvalue = [4, 11]'),\n",
              " Text(415.61379310344824, 335.7529411764706, 'gini = 0.0\\nsamples = 3\\nvalue = [0, 3]'),\n",
              " Text(438.70344827586206, 335.7529411764706, 'time_months <= 14.5\\ngini = 0.444\\nsamples = 12\\nvalue = [4, 8]'),\n",
              " Text(427.15862068965515, 303.7764705882353, 'gini = 0.0\\nsamples = 2\\nvalue = [2, 0]'),\n",
              " Text(450.24827586206897, 303.7764705882353, 'monetary_cc_blood <= 1375.0\\ngini = 0.32\\nsamples = 10\\nvalue = [2, 8]'),\n",
              " Text(438.70344827586206, 271.8, 'recency_months <= 3.0\\ngini = 0.444\\nsamples = 6\\nvalue = [2, 4]'),\n",
              " Text(427.15862068965515, 239.82352941176475, 'gini = 0.5\\nsamples = 4\\nvalue = [2, 2]'),\n",
              " Text(450.24827586206897, 239.82352941176475, 'gini = 0.0\\nsamples = 2\\nvalue = [0, 2]'),\n",
              " Text(461.7931034482758, 271.8, 'gini = 0.0\\nsamples = 4\\nvalue = [0, 4]'),\n",
              " Text(583.0137931034483, 367.7294117647059, 'time_months <= 43.0\\ngini = 0.484\\nsamples = 34\\nvalue = [20, 14]'),\n",
              " Text(542.6068965517242, 335.7529411764706, 'time_months <= 40.0\\ngini = 0.495\\nsamples = 29\\nvalue = [16, 13]'),\n",
              " Text(531.0620689655173, 303.7764705882353, 'recency_months <= 3.5\\ngini = 0.483\\nsamples = 27\\nvalue = [16, 11]'),\n",
              " Text(484.88275862068963, 271.8, 'recency_months <= 2.5\\ngini = 0.408\\nsamples = 14\\nvalue = [10, 4]'),\n",
              " Text(473.3379310344827, 239.82352941176475, 'time_months <= 27.0\\ngini = 0.463\\nsamples = 11\\nvalue = [7, 4]'),\n",
              " Text(450.24827586206897, 207.84705882352944, 'time_months <= 24.0\\ngini = 0.32\\nsamples = 5\\nvalue = [4, 1]'),\n",
              " Text(438.70344827586206, 175.87058823529412, 'gini = 0.5\\nsamples = 2\\nvalue = [1, 1]'),\n",
              " Text(461.7931034482758, 175.87058823529412, 'gini = 0.0\\nsamples = 3\\nvalue = [3, 0]'),\n",
              " Text(496.42758620689654, 207.84705882352944, 'time_months <= 36.0\\ngini = 0.5\\nsamples = 6\\nvalue = [3, 3]'),\n",
              " Text(484.88275862068963, 175.87058823529412, 'time_months <= 34.5\\ngini = 0.48\\nsamples = 5\\nvalue = [2, 3]'),\n",
              " Text(473.3379310344827, 143.89411764705886, 'time_months <= 33.5\\ngini = 0.5\\nsamples = 4\\nvalue = [2, 2]'),\n",
              " Text(461.7931034482758, 111.91764705882355, 'monetary_cc_blood <= 1375.0\\ngini = 0.444\\nsamples = 3\\nvalue = [1, 2]'),\n",
              " Text(450.24827586206897, 79.94117647058823, 'gini = 0.0\\nsamples = 1\\nvalue = [0, 1]'),\n",
              " Text(473.3379310344827, 79.94117647058823, 'gini = 0.5\\nsamples = 2\\nvalue = [1, 1]'),\n",
              " Text(484.88275862068963, 111.91764705882355, 'gini = 0.0\\nsamples = 1\\nvalue = [1, 0]'),\n",
              " Text(496.42758620689654, 143.89411764705886, 'gini = 0.0\\nsamples = 1\\nvalue = [0, 1]'),\n",
              " Text(507.97241379310344, 175.87058823529412, 'gini = 0.0\\nsamples = 1\\nvalue = [1, 0]'),\n",
              " Text(496.42758620689654, 239.82352941176475, 'gini = 0.0\\nsamples = 3\\nvalue = [3, 0]'),\n",
              " Text(577.2413793103448, 271.8, 'time_months <= 38.5\\ngini = 0.497\\nsamples = 13\\nvalue = [6, 7]'),\n",
              " Text(565.6965517241379, 239.82352941176475, 'recency_months <= 4.5\\ngini = 0.486\\nsamples = 12\\nvalue = [5, 7]'),\n",
              " Text(554.1517241379311, 207.84705882352944, 'time_months <= 36.5\\ngini = 0.463\\nsamples = 11\\nvalue = [4, 7]'),\n",
              " Text(542.6068965517242, 175.87058823529412, 'time_months <= 33.5\\ngini = 0.48\\nsamples = 10\\nvalue = [4, 6]'),\n",
              " Text(519.5172413793103, 143.89411764705886, 'frequency_times <= 5.5\\ngini = 0.408\\nsamples = 7\\nvalue = [2, 5]'),\n",
              " Text(507.97241379310344, 111.91764705882355, 'time_months <= 30.5\\ngini = 0.48\\nsamples = 5\\nvalue = [2, 3]'),\n",
              " Text(496.42758620689654, 79.94117647058823, 'time_months <= 27.0\\ngini = 0.5\\nsamples = 4\\nvalue = [2, 2]'),\n",
              " Text(484.88275862068963, 47.96470588235297, 'time_months <= 24.5\\ngini = 0.444\\nsamples = 3\\nvalue = [1, 2]'),\n",
              " Text(473.3379310344827, 15.988235294117658, 'gini = 0.5\\nsamples = 2\\nvalue = [1, 1]'),\n",
              " Text(496.42758620689654, 15.988235294117658, 'gini = 0.0\\nsamples = 1\\nvalue = [0, 1]'),\n",
              " Text(507.97241379310344, 47.96470588235297, 'gini = 0.0\\nsamples = 1\\nvalue = [1, 0]'),\n",
              " Text(519.5172413793103, 79.94117647058823, 'gini = 0.0\\nsamples = 1\\nvalue = [0, 1]'),\n",
              " Text(531.0620689655173, 111.91764705882355, 'gini = 0.0\\nsamples = 2\\nvalue = [0, 2]'),\n",
              " Text(565.6965517241379, 143.89411764705886, 'monetary_cc_blood <= 1375.0\\ngini = 0.444\\nsamples = 3\\nvalue = [2, 1]'),\n",
              " Text(554.1517241379311, 111.91764705882355, 'time_months <= 34.5\\ngini = 0.5\\nsamples = 2\\nvalue = [1, 1]'),\n",
              " Text(542.6068965517242, 79.94117647058823, 'gini = 0.0\\nsamples = 1\\nvalue = [1, 0]'),\n",
              " Text(565.6965517241379, 79.94117647058823, 'gini = 0.0\\nsamples = 1\\nvalue = [0, 1]'),\n",
              " Text(577.2413793103448, 111.91764705882355, 'gini = 0.0\\nsamples = 1\\nvalue = [1, 0]'),\n",
              " Text(565.6965517241379, 175.87058823529412, 'gini = 0.0\\nsamples = 1\\nvalue = [0, 1]'),\n",
              " Text(577.2413793103448, 207.84705882352944, 'gini = 0.0\\nsamples = 1\\nvalue = [1, 0]'),\n",
              " Text(588.7862068965517, 239.82352941176475, 'gini = 0.0\\nsamples = 1\\nvalue = [1, 0]'),\n",
              " Text(554.1517241379311, 303.7764705882353, 'gini = 0.0\\nsamples = 2\\nvalue = [0, 2]'),\n",
              " Text(623.4206896551724, 335.7529411764706, 'frequency_times <= 5.5\\ngini = 0.32\\nsamples = 5\\nvalue = [4, 1]'),\n",
              " Text(611.8758620689655, 303.7764705882353, 'time_months <= 46.5\\ngini = 0.5\\nsamples = 2\\nvalue = [1, 1]'),\n",
              " Text(600.3310344827586, 271.8, 'gini = 0.0\\nsamples = 1\\nvalue = [1, 0]'),\n",
              " Text(623.4206896551724, 271.8, 'gini = 0.0\\nsamples = 1\\nvalue = [0, 1]'),\n",
              " Text(634.9655172413793, 303.7764705882353, 'gini = 0.0\\nsamples = 3\\nvalue = [3, 0]'),\n",
              " Text(712.8931034482758, 399.7058823529412, 'time_months <= 25.5\\ngini = 0.431\\nsamples = 51\\nvalue = [16, 35]'),\n",
              " Text(681.1448275862068, 367.7294117647059, 'recency_months <= 3.0\\ngini = 0.48\\nsamples = 5\\nvalue = [3, 2]'),\n",
              " Text(669.6, 335.7529411764706, 'time_months <= 22.5\\ngini = 0.444\\nsamples = 3\\nvalue = [1, 2]'),\n",
              " Text(658.0551724137931, 303.7764705882353, 'gini = 0.0\\nsamples = 2\\nvalue = [0, 2]'),\n",
              " Text(681.1448275862068, 303.7764705882353, 'gini = 0.0\\nsamples = 1\\nvalue = [1, 0]'),\n",
              " Text(692.6896551724137, 335.7529411764706, 'gini = 0.0\\nsamples = 2\\nvalue = [2, 0]'),\n",
              " Text(744.6413793103447, 367.7294117647059, 'monetary_cc_blood <= 2125.0\\ngini = 0.405\\nsamples = 46\\nvalue = [13, 33]'),\n",
              " Text(715.7793103448275, 335.7529411764706, 'time_months <= 30.0\\ngini = 0.219\\nsamples = 16\\nvalue = [2, 14]'),\n",
              " Text(704.2344827586206, 303.7764705882353, 'time_months <= 27.0\\ngini = 0.444\\nsamples = 6\\nvalue = [2, 4]'),\n",
              " Text(692.6896551724137, 271.8, 'gini = 0.0\\nsamples = 2\\nvalue = [0, 2]'),\n",
              " Text(715.7793103448275, 271.8, 'recency_months <= 3.0\\ngini = 0.5\\nsamples = 4\\nvalue = [2, 2]'),\n",
              " Text(704.2344827586206, 239.82352941176475, 'gini = 0.0\\nsamples = 2\\nvalue = [0, 2]'),\n",
              " Text(727.3241379310344, 239.82352941176475, 'gini = 0.0\\nsamples = 2\\nvalue = [2, 0]'),\n",
              " Text(727.3241379310344, 303.7764705882353, 'gini = 0.0\\nsamples = 10\\nvalue = [0, 10]'),\n",
              " Text(773.5034482758621, 335.7529411764706, 'frequency_times <= 9.5\\ngini = 0.464\\nsamples = 30\\nvalue = [11, 19]'),\n",
              " Text(750.4137931034483, 303.7764705882353, 'time_months <= 32.0\\ngini = 0.32\\nsamples = 5\\nvalue = [4, 1]'),\n",
              " Text(738.8689655172413, 271.8, 'gini = 0.5\\nsamples = 2\\nvalue = [1, 1]'),\n",
              " Text(761.9586206896552, 271.8, 'gini = 0.0\\nsamples = 3\\nvalue = [3, 0]'),\n",
              " Text(796.5931034482759, 303.7764705882353, 'monetary_cc_blood <= 3625.0\\ngini = 0.403\\nsamples = 25\\nvalue = [7, 18]'),\n",
              " Text(785.048275862069, 271.8, 'time_months <= 48.5\\ngini = 0.444\\nsamples = 21\\nvalue = [7, 14]'),\n",
              " Text(773.5034482758621, 239.82352941176475, 'frequency_times <= 10.5\\ngini = 0.42\\nsamples = 20\\nvalue = [6, 14]'),\n",
              " Text(761.9586206896552, 207.84705882352944, 'gini = 0.0\\nsamples = 5\\nvalue = [0, 5]'),\n",
              " Text(785.048275862069, 207.84705882352944, 'recency_months <= 2.5\\ngini = 0.48\\nsamples = 15\\nvalue = [6, 9]'),\n",
              " Text(738.8689655172413, 175.87058823529412, 'monetary_cc_blood <= 2875.0\\ngini = 0.42\\nsamples = 10\\nvalue = [3, 7]'),\n",
              " Text(704.2344827586206, 143.89411764705886, 'time_months <= 34.0\\ngini = 0.48\\nsamples = 5\\nvalue = [2, 3]'),\n",
              " Text(692.6896551724137, 111.91764705882355, 'gini = 0.0\\nsamples = 1\\nvalue = [1, 0]'),\n",
              " Text(715.7793103448275, 111.91764705882355, 'time_months <= 43.5\\ngini = 0.375\\nsamples = 4\\nvalue = [1, 3]'),\n",
              " Text(704.2344827586206, 79.94117647058823, 'gini = 0.0\\nsamples = 2\\nvalue = [0, 2]'),\n",
              " Text(727.3241379310344, 79.94117647058823, 'gini = 0.5\\nsamples = 2\\nvalue = [1, 1]'),\n",
              " Text(773.5034482758621, 143.89411764705886, 'recency_months <= 1.5\\ngini = 0.32\\nsamples = 5\\nvalue = [1, 4]'),\n",
              " Text(761.9586206896552, 111.91764705882355, 'time_months <= 37.5\\ngini = 0.5\\nsamples = 2\\nvalue = [1, 1]'),\n",
              " Text(750.4137931034483, 79.94117647058823, 'gini = 0.0\\nsamples = 1\\nvalue = [0, 1]'),\n",
              " Text(773.5034482758621, 79.94117647058823, 'gini = 0.0\\nsamples = 1\\nvalue = [1, 0]'),\n",
              " Text(785.048275862069, 111.91764705882355, 'gini = 0.0\\nsamples = 3\\nvalue = [0, 3]'),\n",
              " Text(831.2275862068965, 175.87058823529412, 'monetary_cc_blood <= 3375.0\\ngini = 0.48\\nsamples = 5\\nvalue = [3, 2]'),\n",
              " Text(819.6827586206896, 143.89411764705886, 'frequency_times <= 11.5\\ngini = 0.444\\nsamples = 3\\nvalue = [1, 2]'),\n",
              " Text(808.1379310344827, 111.91764705882355, 'gini = 0.0\\nsamples = 1\\nvalue = [1, 0]'),\n",
              " Text(831.2275862068965, 111.91764705882355, 'gini = 0.0\\nsamples = 2\\nvalue = [0, 2]'),\n",
              " Text(842.7724137931034, 143.89411764705886, 'gini = 0.0\\nsamples = 2\\nvalue = [2, 0]'),\n",
              " Text(796.5931034482759, 239.82352941176475, 'gini = 0.0\\nsamples = 1\\nvalue = [1, 0]'),\n",
              " Text(808.1379310344827, 271.8, 'gini = 0.0\\nsamples = 4\\nvalue = [0, 4]'),\n",
              " Text(926.4724137931034, 431.6823529411765, 'monetary_cc_blood <= 4625.0\\ngini = 0.404\\nsamples = 57\\nvalue = [41, 16]'),\n",
              " Text(871.6344827586206, 399.7058823529412, 'monetary_cc_blood <= 2500.0\\ngini = 0.287\\nsamples = 46\\nvalue = [38, 8]'),\n",
              " Text(842.7724137931034, 367.7294117647059, 'recency_months <= 2.5\\ngini = 0.087\\nsamples = 22\\nvalue = [21, 1]'),\n",
              " Text(831.2275862068965, 335.7529411764706, 'time_months <= 58.5\\ngini = 0.198\\nsamples = 9\\nvalue = [8, 1]'),\n",
              " Text(819.6827586206896, 303.7764705882353, 'gini = 0.0\\nsamples = 1\\nvalue = [0, 1]'),\n",
              " Text(842.7724137931034, 303.7764705882353, 'gini = 0.0\\nsamples = 8\\nvalue = [8, 0]'),\n",
              " Text(854.3172413793103, 335.7529411764706, 'gini = 0.0\\nsamples = 13\\nvalue = [13, 0]'),\n",
              " Text(900.4965517241379, 367.7294117647059, 'time_months <= 80.0\\ngini = 0.413\\nsamples = 24\\nvalue = [17, 7]'),\n",
              " Text(877.4068965517241, 335.7529411764706, 'recency_months <= 4.5\\ngini = 0.5\\nsamples = 12\\nvalue = [6, 6]'),\n",
              " Text(865.8620689655172, 303.7764705882353, 'time_months <= 52.5\\ngini = 0.48\\nsamples = 10\\nvalue = [4, 6]'),\n",
              " Text(854.3172413793103, 271.8, 'gini = 0.0\\nsamples = 1\\nvalue = [1, 0]'),\n",
              " Text(877.4068965517241, 271.8, 'time_months <= 59.0\\ngini = 0.444\\nsamples = 9\\nvalue = [3, 6]'),\n",
              " Text(865.8620689655172, 239.82352941176475, 'gini = 0.0\\nsamples = 2\\nvalue = [0, 2]'),\n",
              " Text(888.951724137931, 239.82352941176475, 'time_months <= 62.5\\ngini = 0.49\\nsamples = 7\\nvalue = [3, 4]'),\n",
              " Text(877.4068965517241, 207.84705882352944, 'gini = 0.0\\nsamples = 1\\nvalue = [1, 0]'),\n",
              " Text(900.4965517241379, 207.84705882352944, 'time_months <= 78.5\\ngini = 0.444\\nsamples = 6\\nvalue = [2, 4]'),\n",
              " Text(888.951724137931, 175.87058823529412, 'time_months <= 74.0\\ngini = 0.48\\nsamples = 5\\nvalue = [2, 3]'),\n",
              " Text(877.4068965517241, 143.89411764705886, 'monetary_cc_blood <= 3500.0\\ngini = 0.375\\nsamples = 4\\nvalue = [1, 3]'),\n",
              " Text(865.8620689655172, 111.91764705882355, 'gini = 0.0\\nsamples = 2\\nvalue = [0, 2]'),\n",
              " Text(888.951724137931, 111.91764705882355, 'recency_months <= 3.0\\ngini = 0.5\\nsamples = 2\\nvalue = [1, 1]'),\n",
              " Text(877.4068965517241, 79.94117647058823, 'gini = 0.0\\nsamples = 1\\nvalue = [1, 0]'),\n",
              " Text(900.4965517241379, 79.94117647058823, 'gini = 0.0\\nsamples = 1\\nvalue = [0, 1]'),\n",
              " Text(900.4965517241379, 143.89411764705886, 'gini = 0.0\\nsamples = 1\\nvalue = [1, 0]'),\n",
              " Text(912.0413793103448, 175.87058823529412, 'gini = 0.0\\nsamples = 1\\nvalue = [0, 1]'),\n",
              " Text(888.951724137931, 303.7764705882353, 'gini = 0.0\\nsamples = 2\\nvalue = [2, 0]'),\n",
              " Text(923.5862068965516, 335.7529411764706, 'time_months <= 96.5\\ngini = 0.153\\nsamples = 12\\nvalue = [11, 1]'),\n",
              " Text(912.0413793103448, 303.7764705882353, 'gini = 0.0\\nsamples = 10\\nvalue = [10, 0]'),\n",
              " Text(935.1310344827585, 303.7764705882353, 'frequency_times <= 14.0\\ngini = 0.5\\nsamples = 2\\nvalue = [1, 1]'),\n",
              " Text(923.5862068965516, 271.8, 'gini = 0.0\\nsamples = 1\\nvalue = [1, 0]'),\n",
              " Text(946.6758620689654, 271.8, 'gini = 0.0\\nsamples = 1\\nvalue = [0, 1]'),\n",
              " Text(981.3103448275862, 399.7058823529412, 'frequency_times <= 25.0\\ngini = 0.397\\nsamples = 11\\nvalue = [3, 8]'),\n",
              " Text(958.2206896551724, 367.7294117647059, 'monetary_cc_blood <= 5625.0\\ngini = 0.5\\nsamples = 4\\nvalue = [2, 2]'),\n",
              " Text(946.6758620689654, 335.7529411764706, 'gini = 0.0\\nsamples = 2\\nvalue = [0, 2]'),\n",
              " Text(969.7655172413793, 335.7529411764706, 'gini = 0.0\\nsamples = 2\\nvalue = [2, 0]'),\n",
              " Text(1004.4, 367.7294117647059, 'monetary_cc_blood <= 10875.0\\ngini = 0.245\\nsamples = 7\\nvalue = [1, 6]'),\n",
              " Text(992.8551724137931, 335.7529411764706, 'gini = 0.0\\nsamples = 4\\nvalue = [0, 4]'),\n",
              " Text(1015.9448275862069, 335.7529411764706, 'monetary_cc_blood <= 11250.0\\ngini = 0.444\\nsamples = 3\\nvalue = [1, 2]'),\n",
              " Text(1004.4, 303.7764705882353, 'gini = 0.0\\nsamples = 1\\nvalue = [1, 0]'),\n",
              " Text(1027.4896551724137, 303.7764705882353, 'gini = 0.0\\nsamples = 2\\nvalue = [0, 2]'),\n",
              " Text(1411.355172413793, 495.63529411764705, 'recency_months <= 13.5\\ngini = 0.185\\nsamples = 301\\nvalue = [270, 31]'),\n",
              " Text(1246.8413793103448, 463.6588235294118, 'time_months <= 39.5\\ngini = 0.265\\nsamples = 102\\nvalue = [86, 16]'),\n",
              " Text(1183.3448275862067, 431.6823529411765, 'time_months <= 16.5\\ngini = 0.198\\nsamples = 63\\nvalue = [56, 7]'),\n",
              " Text(1131.3931034482757, 399.7058823529412, 'frequency_times <= 2.5\\ngini = 0.312\\nsamples = 31\\nvalue = [25, 6]'),\n",
              " Text(1085.2137931034483, 367.7294117647059, 'time_months <= 15.0\\ngini = 0.227\\nsamples = 23\\nvalue = [20, 3]'),\n",
              " Text(1062.1241379310345, 335.7529411764706, 'recency_months <= 10.0\\ngini = 0.188\\nsamples = 19\\nvalue = [17, 2]'),\n",
              " Text(1050.5793103448275, 303.7764705882353, 'gini = 0.0\\nsamples = 4\\nvalue = [4, 0]'),\n",
              " Text(1073.6689655172413, 303.7764705882353, 'frequency_times <= 1.5\\ngini = 0.231\\nsamples = 15\\nvalue = [13, 2]'),\n",
              " Text(1062.1241379310345, 271.8, 'gini = 0.26\\nsamples = 13\\nvalue = [11, 2]'),\n",
              " Text(1085.2137931034483, 271.8, 'gini = 0.0\\nsamples = 2\\nvalue = [2, 0]'),\n",
              " Text(1108.3034482758621, 335.7529411764706, 'recency_months <= 8.5\\ngini = 0.375\\nsamples = 4\\nvalue = [3, 1]'),\n",
              " Text(1096.7586206896551, 303.7764705882353, 'gini = 0.0\\nsamples = 2\\nvalue = [2, 0]'),\n",
              " Text(1119.848275862069, 303.7764705882353, 'recency_months <= 10.0\\ngini = 0.5\\nsamples = 2\\nvalue = [1, 1]'),\n",
              " Text(1108.3034482758621, 271.8, 'gini = 0.0\\nsamples = 1\\nvalue = [0, 1]'),\n",
              " Text(1131.3931034482757, 271.8, 'gini = 0.0\\nsamples = 1\\nvalue = [1, 0]'),\n",
              " Text(1177.5724137931034, 367.7294117647059, 'recency_months <= 10.0\\ngini = 0.469\\nsamples = 8\\nvalue = [5, 3]'),\n",
              " Text(1166.0275862068966, 335.7529411764706, 'gini = 0.0\\nsamples = 2\\nvalue = [2, 0]'),\n",
              " Text(1189.1172413793104, 335.7529411764706, 'frequency_times <= 3.5\\ngini = 0.5\\nsamples = 6\\nvalue = [3, 3]'),\n",
              " Text(1177.5724137931034, 303.7764705882353, 'time_months <= 14.5\\ngini = 0.48\\nsamples = 5\\nvalue = [3, 2]'),\n",
              " Text(1154.4827586206895, 271.8, 'recency_months <= 12.0\\ngini = 0.5\\nsamples = 2\\nvalue = [1, 1]'),\n",
              " Text(1142.9379310344827, 239.82352941176475, 'gini = 0.0\\nsamples = 1\\nvalue = [1, 0]'),\n",
              " Text(1166.0275862068966, 239.82352941176475, 'gini = 0.0\\nsamples = 1\\nvalue = [0, 1]'),\n",
              " Text(1200.6620689655172, 271.8, 'time_months <= 15.5\\ngini = 0.444\\nsamples = 3\\nvalue = [2, 1]'),\n",
              " Text(1189.1172413793104, 239.82352941176475, 'gini = 0.0\\nsamples = 1\\nvalue = [1, 0]'),\n",
              " Text(1212.2068965517242, 239.82352941176475, 'recency_months <= 12.0\\ngini = 0.5\\nsamples = 2\\nvalue = [1, 1]'),\n",
              " Text(1200.6620689655172, 207.84705882352944, 'gini = 0.0\\nsamples = 1\\nvalue = [0, 1]'),\n",
              " Text(1223.751724137931, 207.84705882352944, 'gini = 0.0\\nsamples = 1\\nvalue = [1, 0]'),\n",
              " Text(1200.6620689655172, 303.7764705882353, 'gini = 0.0\\nsamples = 1\\nvalue = [0, 1]'),\n",
              " Text(1235.2965517241378, 399.7058823529412, 'time_months <= 36.0\\ngini = 0.061\\nsamples = 32\\nvalue = [31, 1]'),\n",
              " Text(1223.751724137931, 367.7294117647059, 'gini = 0.0\\nsamples = 25\\nvalue = [25, 0]'),\n",
              " Text(1246.8413793103448, 367.7294117647059, 'time_months <= 37.5\\ngini = 0.245\\nsamples = 7\\nvalue = [6, 1]'),\n",
              " Text(1235.2965517241378, 335.7529411764706, 'frequency_times <= 6.0\\ngini = 0.5\\nsamples = 2\\nvalue = [1, 1]'),\n",
              " Text(1223.751724137931, 303.7764705882353, 'gini = 0.0\\nsamples = 1\\nvalue = [0, 1]'),\n",
              " Text(1246.8413793103448, 303.7764705882353, 'gini = 0.0\\nsamples = 1\\nvalue = [1, 0]'),\n",
              " Text(1258.3862068965516, 335.7529411764706, 'gini = 0.0\\nsamples = 5\\nvalue = [5, 0]'),\n",
              " Text(1310.3379310344826, 431.6823529411765, 'time_months <= 41.5\\ngini = 0.355\\nsamples = 39\\nvalue = [30, 9]'),\n",
              " Text(1298.7931034482758, 399.7058823529412, 'gini = 0.0\\nsamples = 2\\nvalue = [0, 2]'),\n",
              " Text(1321.8827586206896, 399.7058823529412, 'time_months <= 53.0\\ngini = 0.307\\nsamples = 37\\nvalue = [30, 7]'),\n",
              " Text(1293.0206896551724, 367.7294117647059, 'time_months <= 48.5\\ngini = 0.444\\nsamples = 12\\nvalue = [8, 4]'),\n",
              " Text(1281.4758620689654, 335.7529411764706, 'gini = 0.0\\nsamples = 6\\nvalue = [6, 0]'),\n",
              " Text(1304.5655172413792, 335.7529411764706, 'frequency_times <= 6.5\\ngini = 0.444\\nsamples = 6\\nvalue = [2, 4]'),\n",
              " Text(1293.0206896551724, 303.7764705882353, 'recency_months <= 10.0\\ngini = 0.444\\nsamples = 3\\nvalue = [2, 1]'),\n",
              " Text(1281.4758620689654, 271.8, 'gini = 0.0\\nsamples = 1\\nvalue = [0, 1]'),\n",
              " Text(1304.5655172413792, 271.8, 'gini = 0.0\\nsamples = 2\\nvalue = [2, 0]'),\n",
              " Text(1316.1103448275862, 303.7764705882353, 'gini = 0.0\\nsamples = 3\\nvalue = [0, 3]'),\n",
              " Text(1350.7448275862068, 367.7294117647059, 'time_months <= 71.5\\ngini = 0.211\\nsamples = 25\\nvalue = [22, 3]'),\n",
              " Text(1339.2, 335.7529411764706, 'gini = 0.0\\nsamples = 13\\nvalue = [13, 0]'),\n",
              " Text(1362.2896551724136, 335.7529411764706, 'time_months <= 73.5\\ngini = 0.375\\nsamples = 12\\nvalue = [9, 3]'),\n",
              " Text(1339.2, 303.7764705882353, 'frequency_times <= 8.5\\ngini = 0.444\\nsamples = 3\\nvalue = [1, 2]'),\n",
              " Text(1327.655172413793, 271.8, 'gini = 0.0\\nsamples = 1\\nvalue = [1, 0]'),\n",
              " Text(1350.7448275862068, 271.8, 'gini = 0.0\\nsamples = 2\\nvalue = [0, 2]'),\n",
              " Text(1385.3793103448274, 303.7764705882353, 'frequency_times <= 16.5\\ngini = 0.198\\nsamples = 9\\nvalue = [8, 1]'),\n",
              " Text(1373.8344827586207, 271.8, 'gini = 0.0\\nsamples = 7\\nvalue = [7, 0]'),\n",
              " Text(1396.9241379310345, 271.8, 'monetary_cc_blood <= 4875.0\\ngini = 0.5\\nsamples = 2\\nvalue = [1, 1]'),\n",
              " Text(1385.3793103448274, 239.82352941176475, 'gini = 0.0\\nsamples = 1\\nvalue = [0, 1]'),\n",
              " Text(1408.4689655172413, 239.82352941176475, 'gini = 0.0\\nsamples = 1\\nvalue = [1, 0]'),\n",
              " Text(1575.8689655172413, 463.6588235294118, 'frequency_times <= 4.5\\ngini = 0.139\\nsamples = 199\\nvalue = [184, 15]'),\n",
              " Text(1500.8275862068965, 431.6823529411765, 'time_months <= 26.5\\ngini = 0.095\\nsamples = 140\\nvalue = [133, 7]'),\n",
              " Text(1489.2827586206895, 399.7058823529412, 'time_months <= 17.5\\ngini = 0.153\\nsamples = 84\\nvalue = [77, 7]'),\n",
              " Text(1477.7379310344827, 367.7294117647059, 'gini = 0.0\\nsamples = 33\\nvalue = [33, 0]'),\n",
              " Text(1500.8275862068965, 367.7294117647059, 'time_months <= 22.5\\ngini = 0.237\\nsamples = 51\\nvalue = [44, 7]'),\n",
              " Text(1466.193103448276, 335.7529411764706, 'recency_months <= 15.0\\ngini = 0.351\\nsamples = 22\\nvalue = [17, 5]'),\n",
              " Text(1431.558620689655, 303.7764705882353, 'time_months <= 20.0\\ngini = 0.444\\nsamples = 3\\nvalue = [1, 2]'),\n",
              " Text(1420.0137931034483, 271.8, 'gini = 0.0\\nsamples = 1\\nvalue = [0, 1]'),\n",
              " Text(1443.103448275862, 271.8, 'monetary_cc_blood <= 625.0\\ngini = 0.5\\nsamples = 2\\nvalue = [1, 1]'),\n",
              " Text(1431.558620689655, 239.82352941176475, 'gini = 0.0\\nsamples = 1\\nvalue = [0, 1]'),\n",
              " Text(1454.6482758620689, 239.82352941176475, 'gini = 0.0\\nsamples = 1\\nvalue = [1, 0]'),\n",
              " Text(1500.8275862068965, 303.7764705882353, 'time_months <= 21.5\\ngini = 0.266\\nsamples = 19\\nvalue = [16, 3]'),\n",
              " Text(1489.2827586206895, 271.8, 'frequency_times <= 1.5\\ngini = 0.198\\nsamples = 18\\nvalue = [16, 2]'),\n",
              " Text(1477.7379310344827, 239.82352941176475, 'gini = 0.133\\nsamples = 14\\nvalue = [13, 1]'),\n",
              " Text(1500.8275862068965, 239.82352941176475, 'recency_months <= 18.5\\ngini = 0.375\\nsamples = 4\\nvalue = [3, 1]'),\n",
              " Text(1489.2827586206895, 207.84705882352944, 'gini = 0.0\\nsamples = 2\\nvalue = [2, 0]'),\n",
              " Text(1512.3724137931033, 207.84705882352944, 'gini = 0.5\\nsamples = 2\\nvalue = [1, 1]'),\n",
              " Text(1512.3724137931033, 271.8, 'gini = 0.0\\nsamples = 1\\nvalue = [0, 1]'),\n",
              " Text(1535.4620689655171, 335.7529411764706, 'recency_months <= 19.5\\ngini = 0.128\\nsamples = 29\\nvalue = [27, 2]'),\n",
              " Text(1523.9172413793103, 303.7764705882353, 'gini = 0.0\\nsamples = 8\\nvalue = [8, 0]'),\n",
              " Text(1547.0068965517241, 303.7764705882353, 'monetary_cc_blood <= 625.0\\ngini = 0.172\\nsamples = 21\\nvalue = [19, 2]'),\n",
              " Text(1535.4620689655171, 271.8, 'monetary_cc_blood <= 375.0\\ngini = 0.1\\nsamples = 19\\nvalue = [18, 1]'),\n",
              " Text(1523.9172413793103, 239.82352941176475, 'gini = 0.153\\nsamples = 12\\nvalue = [11, 1]'),\n",
              " Text(1547.0068965517241, 239.82352941176475, 'gini = 0.0\\nsamples = 7\\nvalue = [7, 0]'),\n",
              " Text(1558.551724137931, 271.8, 'gini = 0.5\\nsamples = 2\\nvalue = [1, 1]'),\n",
              " Text(1512.3724137931033, 399.7058823529412, 'gini = 0.0\\nsamples = 56\\nvalue = [56, 0]'),\n",
              " Text(1650.9103448275862, 431.6823529411765, 'recency_months <= 25.5\\ngini = 0.234\\nsamples = 59\\nvalue = [51, 8]'),\n",
              " Text(1639.3655172413792, 399.7058823529412, 'recency_months <= 20.5\\ngini = 0.212\\nsamples = 58\\nvalue = [51, 7]'),\n",
              " Text(1627.8206896551724, 367.7294117647059, 'recency_months <= 16.5\\ngini = 0.278\\nsamples = 42\\nvalue = [35, 7]'),\n",
              " Text(1616.2758620689654, 335.7529411764706, 'monetary_cc_blood <= 2250.0\\ngini = 0.219\\nsamples = 40\\nvalue = [35, 5]'),\n",
              " Text(1604.7310344827586, 303.7764705882353, 'time_months <= 84.0\\ngini = 0.293\\nsamples = 28\\nvalue = [23, 5]'),\n",
              " Text(1581.6413793103447, 271.8, 'time_months <= 57.0\\ngini = 0.26\\nsamples = 26\\nvalue = [22, 4]'),\n",
              " Text(1570.096551724138, 239.82352941176475, 'time_months <= 34.5\\ngini = 0.332\\nsamples = 19\\nvalue = [15, 4]'),\n",
              " Text(1541.2344827586205, 207.84705882352944, 'frequency_times <= 5.5\\ngini = 0.198\\nsamples = 9\\nvalue = [8, 1]'),\n",
              " Text(1529.6896551724137, 175.87058823529412, 'time_months <= 27.0\\ngini = 0.32\\nsamples = 5\\nvalue = [4, 1]'),\n",
              " Text(1518.144827586207, 143.89411764705886, 'gini = 0.0\\nsamples = 2\\nvalue = [2, 0]'),\n",
              " Text(1541.2344827586205, 143.89411764705886, 'time_months <= 30.5\\ngini = 0.444\\nsamples = 3\\nvalue = [2, 1]'),\n",
              " Text(1529.6896551724137, 111.91764705882355, 'gini = 0.5\\nsamples = 2\\nvalue = [1, 1]'),\n",
              " Text(1552.7793103448275, 111.91764705882355, 'gini = 0.0\\nsamples = 1\\nvalue = [1, 0]'),\n",
              " Text(1552.7793103448275, 175.87058823529412, 'gini = 0.0\\nsamples = 4\\nvalue = [4, 0]'),\n",
              " Text(1598.9586206896552, 207.84705882352944, 'recency_months <= 15.0\\ngini = 0.42\\nsamples = 10\\nvalue = [7, 3]'),\n",
              " Text(1575.8689655172413, 175.87058823529412, 'frequency_times <= 7.5\\ngini = 0.278\\nsamples = 6\\nvalue = [5, 1]'),\n",
              " Text(1564.3241379310343, 143.89411764705886, 'gini = 0.0\\nsamples = 3\\nvalue = [3, 0]'),\n",
              " Text(1587.4137931034481, 143.89411764705886, 'time_months <= 48.0\\ngini = 0.444\\nsamples = 3\\nvalue = [2, 1]'),\n",
              " Text(1575.8689655172413, 111.91764705882355, 'gini = 0.0\\nsamples = 1\\nvalue = [1, 0]'),\n",
              " Text(1598.9586206896552, 111.91764705882355, 'gini = 0.5\\nsamples = 2\\nvalue = [1, 1]'),\n",
              " Text(1622.048275862069, 175.87058823529412, 'monetary_cc_blood <= 1375.0\\ngini = 0.5\\nsamples = 4\\nvalue = [2, 2]'),\n",
              " Text(1610.503448275862, 143.89411764705886, 'gini = 0.0\\nsamples = 1\\nvalue = [0, 1]'),\n",
              " Text(1633.5931034482758, 143.89411764705886, 'time_months <= 42.5\\ngini = 0.444\\nsamples = 3\\nvalue = [2, 1]'),\n",
              " Text(1622.048275862069, 111.91764705882355, 'gini = 0.5\\nsamples = 2\\nvalue = [1, 1]'),\n",
              " Text(1645.1379310344828, 111.91764705882355, 'gini = 0.0\\nsamples = 1\\nvalue = [1, 0]'),\n",
              " Text(1593.1862068965518, 239.82352941176475, 'gini = 0.0\\nsamples = 7\\nvalue = [7, 0]'),\n",
              " Text(1627.8206896551724, 271.8, 'time_months <= 90.0\\ngini = 0.5\\nsamples = 2\\nvalue = [1, 1]'),\n",
              " Text(1616.2758620689654, 239.82352941176475, 'gini = 0.0\\nsamples = 1\\nvalue = [0, 1]'),\n",
              " Text(1639.3655172413792, 239.82352941176475, 'gini = 0.0\\nsamples = 1\\nvalue = [1, 0]'),\n",
              " Text(1627.8206896551724, 303.7764705882353, 'gini = 0.0\\nsamples = 12\\nvalue = [12, 0]'),\n",
              " Text(1639.3655172413792, 335.7529411764706, 'gini = 0.0\\nsamples = 2\\nvalue = [0, 2]'),\n",
              " Text(1650.9103448275862, 367.7294117647059, 'gini = 0.0\\nsamples = 16\\nvalue = [16, 0]'),\n",
              " Text(1662.455172413793, 399.7058823529412, 'gini = 0.0\\nsamples = 1\\nvalue = [0, 1]')]"
            ]
          },
          "metadata": {},
          "execution_count": 69
        },
        {
          "output_type": "display_data",
          "data": {
            "image/png": "[encoded data removed]",
            "text/plain": [
              "<Figure size 2160x720 with 1 Axes>"
            ]
          },
          "metadata": {
            "needs_background": "light"
          }
        }
      ]
    },
    {
      "cell_type": "code",
      "metadata": {
        "id": "E1rd-jYcpTzi"
      },
      "source": [
        ""
      ],
      "execution_count": 55,
      "outputs": []
    },
    {
      "cell_type": "markdown",
      "metadata": {
        "id": "RERADKgNFq9T"
      },
      "source": [
        "\n",
        "\n",
        "---\n",
        "\n",
        "\n",
        "\n",
        "---\n",
        "\n",
        "\n",
        "\n",
        "> > > > > > > > > © 2021 Institute of Data\n",
        "\n",
        "\n",
        "---\n",
        "\n",
        "\n",
        "\n",
        "---\n",
        "\n",
        "\n",
        "\n"
      ]
    }
  ]
}