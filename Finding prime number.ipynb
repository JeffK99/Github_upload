{
 "cells": [
  {
   "cell_type": "code",
   "execution_count": 25,
   "metadata": {},
   "outputs": [
    {
     "name": "stdout",
     "output_type": "stream",
     "text": [
      "Enter a number: 4\n",
      "4 is not a prime number\n"
     ]
    }
   ],
   "source": [
    "#Prime number = a number that is divisible only by itself and 1 (e.g. 2, 3, 5, 7, 11).\n",
    "\n",
    "random_num = int(input(\"Enter a number: \"))           # user enter a number\n",
    "  \n",
    "if random_num > 1:                                    # if number is greater then 1\n",
    "   for i in range(2,random_num):                      # min_value = 2, max_value = THE number entered\n",
    "       if (random_num % i) == 0:                      # the number entered divided by i(which is the min_value 2) = 0 then go print\n",
    "           print(random_num,\"is not a prime number\")  # print this is not a prime number\n",
    "           break  \n",
    "   else:  \n",
    "     print(random_num,\"is a prime number\")  \n",
    "         \n",
    "else:  \n",
    " print(random_num,\"is not a prime number\")  "
   ]
  },
  {
   "cell_type": "code",
   "execution_count": null,
   "metadata": {},
   "outputs": [],
   "source": []
  }
 ],
 "metadata": {
  "kernelspec": {
   "display_name": "Python 3",
   "language": "python",
   "name": "python3"
  },
  "language_info": {
   "codemirror_mode": {
    "name": "ipython",
    "version": 3
   },
   "file_extension": ".py",
   "mimetype": "text/x-python",
   "name": "python",
   "nbconvert_exporter": "python",
   "pygments_lexer": "ipython3",
   "version": "3.8.5"
  }
 },
 "nbformat": 4,
 "nbformat_minor": 4
}
