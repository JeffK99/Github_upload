{
  "nbformat": 4,
  "nbformat_minor": 0,
  "metadata": {
    "colab": {
      "name": "IOD_Lab-8_1-jk.ipynb",
      "provenance": [],
      "collapsed_sections": []
    },
    "kernelspec": {
      "display_name": "Python 3",
      "language": "python",
      "name": "python3"
    },
    "language_info": {
      "codemirror_mode": {
        "name": "ipython",
        "version": 3
      },
      "file_extension": ".py",
      "mimetype": "text/x-python",
      "name": "python",
      "nbconvert_exporter": "python",
      "pygments_lexer": "ipython3",
      "version": "3.8.5"
    }
  },
  "cells": [
    {
      "cell_type": "markdown",
      "metadata": {
        "id": "s9X2kU2drQgj"
      },
      "source": [
        "<div>\n",
        "<img src=https://www.institutedata.com/wp-content/uploads/2019/10/iod_h_tp_primary_c.svg width=\"300\">\n",
        "</div>"
      ]
    },
    {
      "cell_type": "markdown",
      "metadata": {
        "id": "aCm3ZQXVrQgm"
      },
      "source": [
        "# Lab 8.1: Bagging\n",
        "\n",
        "INSTRUCTIONS:\n",
        "\n",
        "- Read the guides and hints then create the necessary analysis and code to find an answer and conclusion for the scenario below.\n",
        "- The baseline results (minimum) are:\n",
        "    - **Accuracy** = 0.9667\n",
        "    - **ROC AUC**  = 0.9614\n",
        "- Try to achieve better results!"
      ]
    },
    {
      "cell_type": "markdown",
      "metadata": {
        "id": "92pwAXoxrQgo"
      },
      "source": [
        "# Foreword\n",
        "It is common that companies and professionals start with the data immediately available. Although this approach works, ideally the first step is to identify the problem or question and only then identify and obtain the set of data that can help to solve or answer the problem.\n",
        "\n",
        "Also, given the current abundance of data, processing power and some particular machine learning methods, there could be a temptation to use ALL the data available. **Quality** is _**better**_ than **Quantity**!\n",
        "\n",
        "Part of calling this discipline **Data Science** is that it is supposed to follow a process and not reach conclusions without support from evidence.\n",
        "\n",
        "Moreover, it is a creative, exploratory, laborious, iterative and interactive process. It is part of the process to repeat, review and change when finding a dead-end."
      ]
    },
    {
      "cell_type": "markdown",
      "metadata": {
        "id": "RSD00QfUrQgq"
      },
      "source": [
        "## Scenario: Predicting Breast Cancer\n",
        "The dataset you are going to be using for this laboratory is popularly known as the **Wisconsin Breast Cancer** dataset. The task related to it is Classification.\n",
        "\n",
        "The dataset contains a total number of _10_ features labelled in either **benign** or **malignant** classes. The features have _699_ instances out of which _16_ feature values are missing. The dataset only contains numeric values."
      ]
    },
    {
      "cell_type": "markdown",
      "metadata": {
        "id": "yQBpCdC7rQgr"
      },
      "source": [
        "# Step 1: Define the problem or question\n",
        "Identify the subject matter and the given or obvious questions that would be relevant in the field.\n",
        "\n",
        "## Potential Questions\n",
        "List the given or obvious questions.\n",
        "\n",
        "## Actual Question\n",
        "Choose the **one** question that should be answered."
      ]
    },
    {
      "cell_type": "markdown",
      "metadata": {
        "id": "a5EL9yvkrQgt"
      },
      "source": [
        "# Step 2: Find the Data\n",
        "### Wisconsin Breast Cancer DataSet\n",
        "- **Citation Request**\n",
        "\n",
        "    This breast cancer databases was obtained from the **University of Wisconsin Hospitals**, **Madison** from **Dr. William H. Wolberg**. If you publish results when using this database, then please include this information in your acknowledgements.\n",
        "\n",
        "- **Title**\n",
        "\n",
        "    Wisconsin Breast Cancer Database (January 8, 1991)\n",
        "\n",
        "- **Sources**\n",
        "    - **Creator**\n",
        "            Dr. William H. Wolberg (physician)\n",
        "            University of Wisconsin Hospitals\n",
        "            Madison, Wisconsin\n",
        "            USA\n",
        "    - **Donor**\n",
        "            Olvi Mangasarian (mangasarian@cs.wisc.edu)\n",
        "            Received by David W. Aha (aha@cs.jhu.edu)\n",
        "    - **Date**\n",
        "            15 July 1992\n",
        "        \n",
        "### UCI - Machine Learning Repository\n",
        "- Center for Machine Learning and Intelligent Systems\n",
        "\n",
        "The [**UCI Machine Learning Repository**](http://archive.ics.uci.edu/ml/about.html) is a collection of databases, domain theories, and data generators that are used by the machine learning community for the empirical analysis of machine learning algorithms."
      ]
    },
    {
      "cell_type": "code",
      "metadata": {
        "id": "NfSiDReDkW7F"
      },
      "source": [
        "import itertools\n",
        "\n",
        "import numpy as np\n",
        "import pandas as pd\n",
        "\n",
        "%matplotlib inline\n",
        "import matplotlib.pyplot as plt\n",
        "import matplotlib.gridspec as gridspec\n",
        "import seaborn as sns\n",
        "\n",
        "from sklearn.impute import SimpleImputer\n",
        "from sklearn.preprocessing import MinMaxScaler\n",
        "\n",
        "from sklearn import model_selection\n",
        "from sklearn.ensemble import BaggingClassifier\n",
        "from sklearn.model_selection import cross_val_score\n",
        "from sklearn.model_selection import KFold\n",
        "from sklearn.model_selection import train_test_split\n",
        "from sklearn.svm import SVC\n",
        "from sklearn.tree import DecisionTreeClassifier\n",
        "from sklearn.pipeline import Pipeline\n",
        "\n",
        "from sklearn.metrics import confusion_matrix\n",
        "from sklearn.metrics import accuracy_score\n",
        "from sklearn.metrics import precision_score\n",
        "from sklearn.metrics import recall_score\n",
        "from sklearn.metrics import average_precision_score\n",
        "from sklearn.metrics import roc_auc_score\n",
        "from sklearn.metrics import precision_recall_curve\n",
        "from sklearn.metrics import roc_curve\n",
        "from sklearn.metrics import auc\n",
        "\n",
        "import warnings\n",
        "warnings.filterwarnings('ignore')"
      ],
      "execution_count": 18,
      "outputs": []
    },
    {
      "cell_type": "markdown",
      "metadata": {
        "id": "29Y8teMmrQgu"
      },
      "source": [
        "# Step 3: Read the Data\n",
        "- Read the data\n",
        "- Perform some basic structural cleaning to facilitate the work"
      ]
    },
    {
      "cell_type": "code",
      "metadata": {
        "colab": {
          "base_uri": "https://localhost:8080/"
        },
        "id": "le3eCE5N1iZC",
        "outputId": "9ceb18e5-6aa6-473c-d61f-d0aea1653ddb"
      },
      "source": [
        "columns = [\n",
        "    'Sample_Number',\n",
        "    'Clump_Thickness',\n",
        "    'Uniformity_of_Cell_Size',\n",
        "    'Uniformity_of_Cell_Shape',\n",
        "    'Marginal_Adhesion',\n",
        "    'Single_Epithelial_Cell_Size',\n",
        "    'Bare_Nuclei',\n",
        "    'Bland_Chromatin',\n",
        "    'Normal_Nucleoli',\n",
        "    'Mitoses',\n",
        "    'Class'\n",
        "]\n",
        "\n",
        "df = pd.read_csv(\n",
        "    filepath_or_buffer = 'breast-cancer-wisconsin-data-old.csv',\n",
        "    header = None,\n",
        "    names = columns,\n",
        "    usecols = columns[1:], # do not use the first column\n",
        "    na_values = '?' # convert the '?' to NA\n",
        ")\n",
        "\n",
        "df.shape"
      ],
      "execution_count": 19,
      "outputs": [
        {
          "output_type": "execute_result",
          "data": {
            "text/plain": [
              "(699, 10)"
            ]
          },
          "metadata": {},
          "execution_count": 19
        }
      ]
    },
    {
      "cell_type": "code",
      "metadata": {
        "colab": {
          "base_uri": "https://localhost:8080/"
        },
        "id": "M0_6gLWKqsIx",
        "outputId": "b0bb191b-dfdf-4848-e517-d8081401e759"
      },
      "source": [
        "df.info()"
      ],
      "execution_count": 20,
      "outputs": [
        {
          "output_type": "stream",
          "name": "stdout",
          "text": [
            "<class 'pandas.core.frame.DataFrame'>\n",
            "RangeIndex: 699 entries, 0 to 698\n",
            "Data columns (total 10 columns):\n",
            " #   Column                       Non-Null Count  Dtype  \n",
            "---  ------                       --------------  -----  \n",
            " 0   Clump_Thickness              699 non-null    int64  \n",
            " 1   Uniformity_of_Cell_Size      699 non-null    int64  \n",
            " 2   Uniformity_of_Cell_Shape     699 non-null    int64  \n",
            " 3   Marginal_Adhesion            699 non-null    int64  \n",
            " 4   Single_Epithelial_Cell_Size  699 non-null    int64  \n",
            " 5   Bare_Nuclei                  683 non-null    float64\n",
            " 6   Bland_Chromatin              699 non-null    int64  \n",
            " 7   Normal_Nucleoli              699 non-null    int64  \n",
            " 8   Mitoses                      699 non-null    int64  \n",
            " 9   Class                        699 non-null    int64  \n",
            "dtypes: float64(1), int64(9)\n",
            "memory usage: 54.7 KB\n"
          ]
        }
      ]
    },
    {
      "cell_type": "code",
      "metadata": {
        "colab": {
          "base_uri": "https://localhost:8080/"
        },
        "id": "XR6fggDCkxfQ",
        "outputId": "fc0ee87d-a238-42de-85fe-608c205dd201"
      },
      "source": [
        "df.isnull().sum()"
      ],
      "execution_count": 21,
      "outputs": [
        {
          "output_type": "execute_result",
          "data": {
            "text/plain": [
              "Clump_Thickness                 0\n",
              "Uniformity_of_Cell_Size         0\n",
              "Uniformity_of_Cell_Shape        0\n",
              "Marginal_Adhesion               0\n",
              "Single_Epithelial_Cell_Size     0\n",
              "Bare_Nuclei                    16\n",
              "Bland_Chromatin                 0\n",
              "Normal_Nucleoli                 0\n",
              "Mitoses                         0\n",
              "Class                           0\n",
              "dtype: int64"
            ]
          },
          "metadata": {},
          "execution_count": 21
        }
      ]
    },
    {
      "cell_type": "code",
      "metadata": {
        "colab": {
          "base_uri": "https://localhost:8080/",
          "height": 362
        },
        "id": "4XuXfnotk4SF",
        "outputId": "e7d0100d-78dd-4952-fd3e-1e459a8ea851"
      },
      "source": [
        "df.describe().T"
      ],
      "execution_count": 22,
      "outputs": [
        {
          "output_type": "execute_result",
          "data": {
            "text/html": [
              "<div>\n",
              "<style scoped>\n",
              "    .dataframe tbody tr th:only-of-type {\n",
              "        vertical-align: middle;\n",
              "    }\n",
              "\n",
              "    .dataframe tbody tr th {\n",
              "        vertical-align: top;\n",
              "    }\n",
              "\n",
              "    .dataframe thead th {\n",
              "        text-align: right;\n",
              "    }\n",
              "</style>\n",
              "<table border=\"1\" class=\"dataframe\">\n",
              "  <thead>\n",
              "    <tr style=\"text-align: right;\">\n",
              "      <th></th>\n",
              "      <th>count</th>\n",
              "      <th>mean</th>\n",
              "      <th>std</th>\n",
              "      <th>min</th>\n",
              "      <th>25%</th>\n",
              "      <th>50%</th>\n",
              "      <th>75%</th>\n",
              "      <th>max</th>\n",
              "    </tr>\n",
              "  </thead>\n",
              "  <tbody>\n",
              "    <tr>\n",
              "      <th>Clump_Thickness</th>\n",
              "      <td>699.0</td>\n",
              "      <td>4.417740</td>\n",
              "      <td>2.815741</td>\n",
              "      <td>1.0</td>\n",
              "      <td>2.0</td>\n",
              "      <td>4.0</td>\n",
              "      <td>6.0</td>\n",
              "      <td>10.0</td>\n",
              "    </tr>\n",
              "    <tr>\n",
              "      <th>Uniformity_of_Cell_Size</th>\n",
              "      <td>699.0</td>\n",
              "      <td>3.134478</td>\n",
              "      <td>3.051459</td>\n",
              "      <td>1.0</td>\n",
              "      <td>1.0</td>\n",
              "      <td>1.0</td>\n",
              "      <td>5.0</td>\n",
              "      <td>10.0</td>\n",
              "    </tr>\n",
              "    <tr>\n",
              "      <th>Uniformity_of_Cell_Shape</th>\n",
              "      <td>699.0</td>\n",
              "      <td>3.207439</td>\n",
              "      <td>2.971913</td>\n",
              "      <td>1.0</td>\n",
              "      <td>1.0</td>\n",
              "      <td>1.0</td>\n",
              "      <td>5.0</td>\n",
              "      <td>10.0</td>\n",
              "    </tr>\n",
              "    <tr>\n",
              "      <th>Marginal_Adhesion</th>\n",
              "      <td>699.0</td>\n",
              "      <td>2.806867</td>\n",
              "      <td>2.855379</td>\n",
              "      <td>1.0</td>\n",
              "      <td>1.0</td>\n",
              "      <td>1.0</td>\n",
              "      <td>4.0</td>\n",
              "      <td>10.0</td>\n",
              "    </tr>\n",
              "    <tr>\n",
              "      <th>Single_Epithelial_Cell_Size</th>\n",
              "      <td>699.0</td>\n",
              "      <td>3.216023</td>\n",
              "      <td>2.214300</td>\n",
              "      <td>1.0</td>\n",
              "      <td>2.0</td>\n",
              "      <td>2.0</td>\n",
              "      <td>4.0</td>\n",
              "      <td>10.0</td>\n",
              "    </tr>\n",
              "    <tr>\n",
              "      <th>Bare_Nuclei</th>\n",
              "      <td>683.0</td>\n",
              "      <td>3.544656</td>\n",
              "      <td>3.643857</td>\n",
              "      <td>1.0</td>\n",
              "      <td>1.0</td>\n",
              "      <td>1.0</td>\n",
              "      <td>6.0</td>\n",
              "      <td>10.0</td>\n",
              "    </tr>\n",
              "    <tr>\n",
              "      <th>Bland_Chromatin</th>\n",
              "      <td>699.0</td>\n",
              "      <td>3.437768</td>\n",
              "      <td>2.438364</td>\n",
              "      <td>1.0</td>\n",
              "      <td>2.0</td>\n",
              "      <td>3.0</td>\n",
              "      <td>5.0</td>\n",
              "      <td>10.0</td>\n",
              "    </tr>\n",
              "    <tr>\n",
              "      <th>Normal_Nucleoli</th>\n",
              "      <td>699.0</td>\n",
              "      <td>2.866953</td>\n",
              "      <td>3.053634</td>\n",
              "      <td>1.0</td>\n",
              "      <td>1.0</td>\n",
              "      <td>1.0</td>\n",
              "      <td>4.0</td>\n",
              "      <td>10.0</td>\n",
              "    </tr>\n",
              "    <tr>\n",
              "      <th>Mitoses</th>\n",
              "      <td>699.0</td>\n",
              "      <td>1.589413</td>\n",
              "      <td>1.715078</td>\n",
              "      <td>1.0</td>\n",
              "      <td>1.0</td>\n",
              "      <td>1.0</td>\n",
              "      <td>1.0</td>\n",
              "      <td>10.0</td>\n",
              "    </tr>\n",
              "    <tr>\n",
              "      <th>Class</th>\n",
              "      <td>699.0</td>\n",
              "      <td>2.689557</td>\n",
              "      <td>0.951273</td>\n",
              "      <td>2.0</td>\n",
              "      <td>2.0</td>\n",
              "      <td>2.0</td>\n",
              "      <td>4.0</td>\n",
              "      <td>4.0</td>\n",
              "    </tr>\n",
              "  </tbody>\n",
              "</table>\n",
              "</div>"
            ],
            "text/plain": [
              "                             count      mean       std  ...  50%  75%   max\n",
              "Clump_Thickness              699.0  4.417740  2.815741  ...  4.0  6.0  10.0\n",
              "Uniformity_of_Cell_Size      699.0  3.134478  3.051459  ...  1.0  5.0  10.0\n",
              "Uniformity_of_Cell_Shape     699.0  3.207439  2.971913  ...  1.0  5.0  10.0\n",
              "Marginal_Adhesion            699.0  2.806867  2.855379  ...  1.0  4.0  10.0\n",
              "Single_Epithelial_Cell_Size  699.0  3.216023  2.214300  ...  2.0  4.0  10.0\n",
              "Bare_Nuclei                  683.0  3.544656  3.643857  ...  1.0  6.0  10.0\n",
              "Bland_Chromatin              699.0  3.437768  2.438364  ...  3.0  5.0  10.0\n",
              "Normal_Nucleoli              699.0  2.866953  3.053634  ...  1.0  4.0  10.0\n",
              "Mitoses                      699.0  1.589413  1.715078  ...  1.0  1.0  10.0\n",
              "Class                        699.0  2.689557  0.951273  ...  2.0  4.0   4.0\n",
              "\n",
              "[10 rows x 8 columns]"
            ]
          },
          "metadata": {},
          "execution_count": 22
        }
      ]
    },
    {
      "cell_type": "code",
      "metadata": {
        "colab": {
          "base_uri": "https://localhost:8080/",
          "height": 225
        },
        "id": "Tz2o6txcp60W",
        "outputId": "c18b2117-c7eb-4e93-e9f0-fd43377b0aff"
      },
      "source": [
        "df.head()"
      ],
      "execution_count": 23,
      "outputs": [
        {
          "output_type": "execute_result",
          "data": {
            "text/html": [
              "<div>\n",
              "<style scoped>\n",
              "    .dataframe tbody tr th:only-of-type {\n",
              "        vertical-align: middle;\n",
              "    }\n",
              "\n",
              "    .dataframe tbody tr th {\n",
              "        vertical-align: top;\n",
              "    }\n",
              "\n",
              "    .dataframe thead th {\n",
              "        text-align: right;\n",
              "    }\n",
              "</style>\n",
              "<table border=\"1\" class=\"dataframe\">\n",
              "  <thead>\n",
              "    <tr style=\"text-align: right;\">\n",
              "      <th></th>\n",
              "      <th>Clump_Thickness</th>\n",
              "      <th>Uniformity_of_Cell_Size</th>\n",
              "      <th>Uniformity_of_Cell_Shape</th>\n",
              "      <th>Marginal_Adhesion</th>\n",
              "      <th>Single_Epithelial_Cell_Size</th>\n",
              "      <th>Bare_Nuclei</th>\n",
              "      <th>Bland_Chromatin</th>\n",
              "      <th>Normal_Nucleoli</th>\n",
              "      <th>Mitoses</th>\n",
              "      <th>Class</th>\n",
              "    </tr>\n",
              "  </thead>\n",
              "  <tbody>\n",
              "    <tr>\n",
              "      <th>0</th>\n",
              "      <td>5</td>\n",
              "      <td>1</td>\n",
              "      <td>1</td>\n",
              "      <td>1</td>\n",
              "      <td>2</td>\n",
              "      <td>1.0</td>\n",
              "      <td>3</td>\n",
              "      <td>1</td>\n",
              "      <td>1</td>\n",
              "      <td>2</td>\n",
              "    </tr>\n",
              "    <tr>\n",
              "      <th>1</th>\n",
              "      <td>5</td>\n",
              "      <td>4</td>\n",
              "      <td>4</td>\n",
              "      <td>5</td>\n",
              "      <td>7</td>\n",
              "      <td>10.0</td>\n",
              "      <td>3</td>\n",
              "      <td>2</td>\n",
              "      <td>1</td>\n",
              "      <td>2</td>\n",
              "    </tr>\n",
              "    <tr>\n",
              "      <th>2</th>\n",
              "      <td>3</td>\n",
              "      <td>1</td>\n",
              "      <td>1</td>\n",
              "      <td>1</td>\n",
              "      <td>2</td>\n",
              "      <td>2.0</td>\n",
              "      <td>3</td>\n",
              "      <td>1</td>\n",
              "      <td>1</td>\n",
              "      <td>2</td>\n",
              "    </tr>\n",
              "    <tr>\n",
              "      <th>3</th>\n",
              "      <td>6</td>\n",
              "      <td>8</td>\n",
              "      <td>8</td>\n",
              "      <td>1</td>\n",
              "      <td>3</td>\n",
              "      <td>4.0</td>\n",
              "      <td>3</td>\n",
              "      <td>7</td>\n",
              "      <td>1</td>\n",
              "      <td>2</td>\n",
              "    </tr>\n",
              "    <tr>\n",
              "      <th>4</th>\n",
              "      <td>4</td>\n",
              "      <td>1</td>\n",
              "      <td>1</td>\n",
              "      <td>3</td>\n",
              "      <td>2</td>\n",
              "      <td>1.0</td>\n",
              "      <td>3</td>\n",
              "      <td>1</td>\n",
              "      <td>1</td>\n",
              "      <td>2</td>\n",
              "    </tr>\n",
              "  </tbody>\n",
              "</table>\n",
              "</div>"
            ],
            "text/plain": [
              "   Clump_Thickness  Uniformity_of_Cell_Size  ...  Mitoses  Class\n",
              "0                5                        1  ...        1      2\n",
              "1                5                        4  ...        1      2\n",
              "2                3                        1  ...        1      2\n",
              "3                6                        8  ...        1      2\n",
              "4                4                        1  ...        1      2\n",
              "\n",
              "[5 rows x 10 columns]"
            ]
          },
          "metadata": {},
          "execution_count": 23
        }
      ]
    },
    {
      "cell_type": "markdown",
      "metadata": {
        "id": "d-weYwx7rQgw"
      },
      "source": [
        "# Step 4: Explore and Clean the Data\n",
        "- Perform some initial simple **EDA** (Exploratory Data Analysis)\n",
        "- Check for\n",
        "    - **Number of features**\n",
        "    - **Data types**\n",
        "    - **Domains, Intervals**\n",
        "    - **Outliers** (are they valid or expurious data [read or measure errors])\n",
        "    - **Null** (values not present or coded [as zero of empty strings])\n",
        "    - **Missing Values** (coded [as zero of empty strings] or values not present)\n",
        "    - **Coded content** (classes identified by numbers or codes to represent absence of data)"
      ]
    },
    {
      "cell_type": "code",
      "metadata": {
        "colab": {
          "base_uri": "https://localhost:8080/"
        },
        "id": "2dlQ3PeMrnQE",
        "outputId": "d7533e33-73e2-4fcf-d996-6be7e9da3a8f"
      },
      "source": [
        "print('- Domains, Intervals')\n",
        "for c in df.columns:\n",
        "    x = df[c].unique()\n",
        "    x.sort()\n",
        "    print('+ %-27s: (%-s)' % (c, df[c].dtypes.name))\n",
        "\n",
        "    if df[c].dtypes.name != 'object':\n",
        "        print('  min: %d, max: %d' % (df[c].min(), df[c].max()))\n",
        "    print('  values: %s' % x)"
      ],
      "execution_count": 24,
      "outputs": [
        {
          "output_type": "stream",
          "name": "stdout",
          "text": [
            "- Domains, Intervals\n",
            "+ Clump_Thickness            : (int64)\n",
            "  min: 1, max: 10\n",
            "  values: [ 1  2  3  4  5  6  7  8  9 10]\n",
            "+ Uniformity_of_Cell_Size    : (int64)\n",
            "  min: 1, max: 10\n",
            "  values: [ 1  2  3  4  5  6  7  8  9 10]\n",
            "+ Uniformity_of_Cell_Shape   : (int64)\n",
            "  min: 1, max: 10\n",
            "  values: [ 1  2  3  4  5  6  7  8  9 10]\n",
            "+ Marginal_Adhesion          : (int64)\n",
            "  min: 1, max: 10\n",
            "  values: [ 1  2  3  4  5  6  7  8  9 10]\n",
            "+ Single_Epithelial_Cell_Size: (int64)\n",
            "  min: 1, max: 10\n",
            "  values: [ 1  2  3  4  5  6  7  8  9 10]\n",
            "+ Bare_Nuclei                : (float64)\n",
            "  min: 1, max: 10\n",
            "  values: [ 1.  2.  3.  4.  5.  6.  7.  8.  9. 10. nan]\n",
            "+ Bland_Chromatin            : (int64)\n",
            "  min: 1, max: 10\n",
            "  values: [ 1  2  3  4  5  6  7  8  9 10]\n",
            "+ Normal_Nucleoli            : (int64)\n",
            "  min: 1, max: 10\n",
            "  values: [ 1  2  3  4  5  6  7  8  9 10]\n",
            "+ Mitoses                    : (int64)\n",
            "  min: 1, max: 10\n",
            "  values: [ 1  2  3  4  5  6  7  8 10]\n",
            "+ Class                      : (int64)\n",
            "  min: 2, max: 4\n",
            "  values: [2 4]\n"
          ]
        }
      ]
    },
    {
      "cell_type": "code",
      "metadata": {
        "colab": {
          "base_uri": "https://localhost:8080/"
        },
        "id": "W4ZXPxhIr3Qx",
        "outputId": "94961a9a-18eb-40ac-f0bb-b5a5fbeb8e46"
      },
      "source": [
        "print(df['Bare_Nuclei'].value_counts(dropna = False))"
      ],
      "execution_count": 25,
      "outputs": [
        {
          "output_type": "stream",
          "name": "stdout",
          "text": [
            "1.0     402\n",
            "10.0    132\n",
            "5.0      30\n",
            "2.0      30\n",
            "3.0      28\n",
            "8.0      21\n",
            "4.0      19\n",
            "NaN      16\n",
            "9.0       9\n",
            "7.0       8\n",
            "6.0       4\n",
            "Name: Bare_Nuclei, dtype: int64\n"
          ]
        }
      ]
    },
    {
      "cell_type": "code",
      "metadata": {
        "colab": {
          "base_uri": "https://localhost:8080/"
        },
        "id": "OZIaoPfCr62M",
        "outputId": "d473a5ea-b0f3-4ac4-d20b-7660df0a3d28"
      },
      "source": [
        "df.info()"
      ],
      "execution_count": 26,
      "outputs": [
        {
          "output_type": "stream",
          "name": "stdout",
          "text": [
            "<class 'pandas.core.frame.DataFrame'>\n",
            "RangeIndex: 699 entries, 0 to 698\n",
            "Data columns (total 10 columns):\n",
            " #   Column                       Non-Null Count  Dtype  \n",
            "---  ------                       --------------  -----  \n",
            " 0   Clump_Thickness              699 non-null    int64  \n",
            " 1   Uniformity_of_Cell_Size      699 non-null    int64  \n",
            " 2   Uniformity_of_Cell_Shape     699 non-null    int64  \n",
            " 3   Marginal_Adhesion            699 non-null    int64  \n",
            " 4   Single_Epithelial_Cell_Size  699 non-null    int64  \n",
            " 5   Bare_Nuclei                  683 non-null    float64\n",
            " 6   Bland_Chromatin              699 non-null    int64  \n",
            " 7   Normal_Nucleoli              699 non-null    int64  \n",
            " 8   Mitoses                      699 non-null    int64  \n",
            " 9   Class                        699 non-null    int64  \n",
            "dtypes: float64(1), int64(9)\n",
            "memory usage: 54.7 KB\n"
          ]
        }
      ]
    },
    {
      "cell_type": "code",
      "metadata": {
        "colab": {
          "base_uri": "https://localhost:8080/"
        },
        "id": "TRW5CBqXsJdi",
        "outputId": "26a6bf92-a011-409d-ab91-1e82eb3ac1ba"
      },
      "source": [
        "print(df)\n",
        "values = df.values\n",
        "print(values)\n",
        "\n",
        "imputer = SimpleImputer(\n",
        "    missing_values = np.nan,\n",
        "    strategy = 'median')\n",
        "imputedData = imputer.fit_transform(values)"
      ],
      "execution_count": 29,
      "outputs": [
        {
          "output_type": "stream",
          "name": "stdout",
          "text": [
            "     Clump_Thickness  Uniformity_of_Cell_Size  ...  Mitoses  Class\n",
            "0                  5                        1  ...        1      2\n",
            "1                  5                        4  ...        1      2\n",
            "2                  3                        1  ...        1      2\n",
            "3                  6                        8  ...        1      2\n",
            "4                  4                        1  ...        1      2\n",
            "..               ...                      ...  ...      ...    ...\n",
            "694                3                        1  ...        1      2\n",
            "695                2                        1  ...        1      2\n",
            "696                5                       10  ...        2      4\n",
            "697                4                        8  ...        1      4\n",
            "698                4                        8  ...        1      4\n",
            "\n",
            "[699 rows x 10 columns]\n",
            "[[ 5.  1.  1. ...  1.  1.  2.]\n",
            " [ 5.  4.  4. ...  2.  1.  2.]\n",
            " [ 3.  1.  1. ...  1.  1.  2.]\n",
            " ...\n",
            " [ 5. 10. 10. ... 10.  2.  4.]\n",
            " [ 4.  8.  6. ...  6.  1.  4.]\n",
            " [ 4.  8.  8. ...  4.  1.  4.]]\n"
          ]
        }
      ]
    },
    {
      "cell_type": "code",
      "metadata": {
        "id": "4JYMgI_OtCdO"
      },
      "source": [
        "scaler = MinMaxScaler(feature_range = (0, 1))\n",
        "normalizedData = scaler.fit_transform(imputedData)"
      ],
      "execution_count": 30,
      "outputs": []
    },
    {
      "cell_type": "code",
      "metadata": {
        "colab": {
          "base_uri": "https://localhost:8080/",
          "height": 225
        },
        "id": "aNWP4WRdtDgA",
        "outputId": "414edf71-7928-46bb-ecf0-534cf57a523b"
      },
      "source": [
        "df_n = pd.DataFrame.from_records(normalizedData, columns = columns[1:])\n",
        "df_n['Class'] = df_n['Class'].astype(np.int8)\n",
        "df_n.sample(5)"
      ],
      "execution_count": 31,
      "outputs": [
        {
          "output_type": "execute_result",
          "data": {
            "text/html": [
              "<div>\n",
              "<style scoped>\n",
              "    .dataframe tbody tr th:only-of-type {\n",
              "        vertical-align: middle;\n",
              "    }\n",
              "\n",
              "    .dataframe tbody tr th {\n",
              "        vertical-align: top;\n",
              "    }\n",
              "\n",
              "    .dataframe thead th {\n",
              "        text-align: right;\n",
              "    }\n",
              "</style>\n",
              "<table border=\"1\" class=\"dataframe\">\n",
              "  <thead>\n",
              "    <tr style=\"text-align: right;\">\n",
              "      <th></th>\n",
              "      <th>Clump_Thickness</th>\n",
              "      <th>Uniformity_of_Cell_Size</th>\n",
              "      <th>Uniformity_of_Cell_Shape</th>\n",
              "      <th>Marginal_Adhesion</th>\n",
              "      <th>Single_Epithelial_Cell_Size</th>\n",
              "      <th>Bare_Nuclei</th>\n",
              "      <th>Bland_Chromatin</th>\n",
              "      <th>Normal_Nucleoli</th>\n",
              "      <th>Mitoses</th>\n",
              "      <th>Class</th>\n",
              "    </tr>\n",
              "  </thead>\n",
              "  <tbody>\n",
              "    <tr>\n",
              "      <th>104</th>\n",
              "      <td>1.000000</td>\n",
              "      <td>1.000000</td>\n",
              "      <td>1.000000</td>\n",
              "      <td>1.000000</td>\n",
              "      <td>1.000000</td>\n",
              "      <td>0.000000</td>\n",
              "      <td>0.777778</td>\n",
              "      <td>0.777778</td>\n",
              "      <td>0.777778</td>\n",
              "      <td>1</td>\n",
              "    </tr>\n",
              "    <tr>\n",
              "      <th>151</th>\n",
              "      <td>0.666667</td>\n",
              "      <td>0.111111</td>\n",
              "      <td>0.333333</td>\n",
              "      <td>0.000000</td>\n",
              "      <td>0.555556</td>\n",
              "      <td>1.000000</td>\n",
              "      <td>0.444444</td>\n",
              "      <td>0.333333</td>\n",
              "      <td>0.222222</td>\n",
              "      <td>1</td>\n",
              "    </tr>\n",
              "    <tr>\n",
              "      <th>460</th>\n",
              "      <td>0.444444</td>\n",
              "      <td>0.000000</td>\n",
              "      <td>0.000000</td>\n",
              "      <td>0.222222</td>\n",
              "      <td>0.111111</td>\n",
              "      <td>0.000000</td>\n",
              "      <td>0.000000</td>\n",
              "      <td>0.000000</td>\n",
              "      <td>0.000000</td>\n",
              "      <td>0</td>\n",
              "    </tr>\n",
              "    <tr>\n",
              "      <th>186</th>\n",
              "      <td>0.000000</td>\n",
              "      <td>0.444444</td>\n",
              "      <td>0.777778</td>\n",
              "      <td>0.555556</td>\n",
              "      <td>0.444444</td>\n",
              "      <td>0.777778</td>\n",
              "      <td>0.666667</td>\n",
              "      <td>1.000000</td>\n",
              "      <td>0.000000</td>\n",
              "      <td>1</td>\n",
              "    </tr>\n",
              "    <tr>\n",
              "      <th>193</th>\n",
              "      <td>0.000000</td>\n",
              "      <td>0.000000</td>\n",
              "      <td>0.000000</td>\n",
              "      <td>0.000000</td>\n",
              "      <td>0.111111</td>\n",
              "      <td>0.000000</td>\n",
              "      <td>0.222222</td>\n",
              "      <td>0.000000</td>\n",
              "      <td>0.000000</td>\n",
              "      <td>0</td>\n",
              "    </tr>\n",
              "  </tbody>\n",
              "</table>\n",
              "</div>"
            ],
            "text/plain": [
              "     Clump_Thickness  Uniformity_of_Cell_Size  ...   Mitoses  Class\n",
              "104         1.000000                 1.000000  ...  0.777778      1\n",
              "151         0.666667                 0.111111  ...  0.222222      1\n",
              "460         0.444444                 0.000000  ...  0.000000      0\n",
              "186         0.000000                 0.444444  ...  0.000000      1\n",
              "193         0.000000                 0.000000  ...  0.000000      0\n",
              "\n",
              "[5 rows x 10 columns]"
            ]
          },
          "metadata": {},
          "execution_count": 31
        }
      ]
    },
    {
      "cell_type": "code",
      "metadata": {
        "colab": {
          "base_uri": "https://localhost:8080/",
          "height": 1000
        },
        "id": "Cb_a8Vq9tK_8",
        "outputId": "25fbc690-8a0b-4a65-8b48-f46fcbd33c6b"
      },
      "source": [
        "for c in df_n.columns:\n",
        "    fig, ax = plt.subplots(2, \n",
        "                           figsize = (10, 5),\n",
        "                           sharex = True, \n",
        "                           gridspec_kw = {'height_ratios': (0.15, 0.85)})\n",
        "\n",
        "    ax_box = ax[0]\n",
        "    ax_box = sns.boxplot(df_n[c], ax = ax_box)\n",
        "    ax_box.set(title = c, yticks = [], xlabel = '')\n",
        "    sns.despine(ax = ax_box, left = True)\n",
        "    \n",
        "\n",
        "    ax_hist = ax[1]\n",
        "    if c not in ['Mitoses', 'Class']:\n",
        "        ax_hist = sns.distplot(df_n[c], ax = ax_hist)\n",
        "    else:\n",
        "        ax_hist = sns.distplot(df_n[c], ax = ax_hist, kde=False)\n",
        "    \n",
        "    ax_hist.set(xlabel = '')\n",
        "    sns.despine(ax = ax_hist)\n",
        "\n",
        "plt.show()"
      ],
      "execution_count": 32,
      "outputs": [
        {
          "output_type": "display_data",
          "data": {
            "image/png": "[encoded data removed]",
            "text/plain": [
              "<Figure size 720x360 with 2 Axes>"
            ]
          },
          "metadata": {
            "needs_background": "light"
          }
        },
        {
          "output_type": "display_data",
          "data": {
            "image/png": "[encoded data removed]",
            "text/plain": [
              "<Figure size 720x360 with 2 Axes>"
            ]
          },
          "metadata": {
            "needs_background": "light"
          }
        },
        {
          "output_type": "display_data",
          "data": {
            "image/png": "[encoded data removed]",
            "text/plain": [
              "<Figure size 720x360 with 2 Axes>"
            ]
          },
          "metadata": {
            "needs_background": "light"
          }
        },
        {
          "output_type": "display_data",
          "data": {
            "image/png": "[encoded data removed]",
            "text/plain": [
              "<Figure size 720x360 with 2 Axes>"
            ]
          },
          "metadata": {
            "needs_background": "light"
          }
        },
        {
          "output_type": "display_data",
          "data": {
            "image/png": "[encoded data removed]",
            "text/plain": [
              "<Figure size 720x360 with 2 Axes>"
            ]
          },
          "metadata": {
            "needs_background": "light"
          }
        },
        {
          "output_type": "display_data",
          "data": {
            "image/png": "[encoded data removed]",
            "text/plain": [
              "<Figure size 720x360 with 2 Axes>"
            ]
          },
          "metadata": {
            "needs_background": "light"
          }
        },
        {
          "output_type": "display_data",
          "data": {
            "image/png": "[encoded data removed]",
            "text/plain": [
              "<Figure size 720x360 with 2 Axes>"
            ]
          },
          "metadata": {
            "needs_background": "light"
          }
        },
        {
          "output_type": "display_data",
          "data": {
            "image/png": "[encoded data removed]",
            "text/plain": [
              "<Figure size 720x360 with 2 Axes>"
            ]
          },
          "metadata": {
            "needs_background": "light"
          }
        },
        {
          "output_type": "display_data",
          "data": {
            "image/png": "[encoded data removed]",
            "text/plain": [
              "<Figure size 720x360 with 2 Axes>"
            ]
          },
          "metadata": {
            "needs_background": "light"
          }
        },
        {
          "output_type": "display_data",
          "data": {
            "image/png": "[encoded data removed]",
            "text/plain": [
              "<Figure size 720x360 with 2 Axes>"
            ]
          },
          "metadata": {
            "needs_background": "light"
          }
        }
      ]
    },
    {
      "cell_type": "code",
      "metadata": {
        "id": "IjcHKSa3tc30"
      },
      "source": [
        "features = columns[1:-1]\n",
        "outcome = 'Class'\n",
        "\n",
        "X = df_n[features].copy()\n",
        "y = df_n[outcome].copy()"
      ],
      "execution_count": 33,
      "outputs": []
    },
    {
      "cell_type": "code",
      "metadata": {
        "colab": {
          "base_uri": "https://localhost:8080/"
        },
        "id": "A_mw2fECtqk0",
        "outputId": "22b7a4e8-add2-483d-e149-ec3d17de65c5"
      },
      "source": [
        "y.value_counts()"
      ],
      "execution_count": 34,
      "outputs": [
        {
          "output_type": "execute_result",
          "data": {
            "text/plain": [
              "0    458\n",
              "1    241\n",
              "Name: Class, dtype: int64"
            ]
          },
          "metadata": {},
          "execution_count": 34
        }
      ]
    },
    {
      "cell_type": "code",
      "metadata": {
        "colab": {
          "base_uri": "https://localhost:8080/"
        },
        "id": "9bLzWmqotxqP",
        "outputId": "e758a136-52cb-4e31-9419-72c39da96b12"
      },
      "source": [
        "X.value_counts()"
      ],
      "execution_count": 35,
      "outputs": [
        {
          "output_type": "execute_result",
          "data": {
            "text/plain": [
              "Clump_Thickness  Uniformity_of_Cell_Size  Uniformity_of_Cell_Shape  Marginal_Adhesion  Single_Epithelial_Cell_Size  Bare_Nuclei  Bland_Chromatin  Normal_Nucleoli  Mitoses \n",
              "0.000000         0.000000                 0.000000                  0.000000           0.111111                     0.000000     0.000000         0.000000         0.000000    27\n",
              "                                                                                                                                 0.222222         0.000000         0.000000    23\n",
              "                                                                                                                                 0.111111         0.000000         0.000000    22\n",
              "0.222222         0.000000                 0.000000                  0.000000           0.111111                     0.000000     0.111111         0.000000         0.000000    20\n",
              "                                                                                                                                 0.222222         0.000000         0.000000    12\n",
              "                                                                                                                                                                               ..\n",
              "0.666667         0.111111                 0.333333                  0.000000           0.555556                     1.000000     0.444444         0.333333         0.222222     1\n",
              "                 0.222222                 0.111111                  1.000000           0.444444                     1.000000     0.444444         0.333333         0.333333     1\n",
              "                                          0.333333                  0.333333           0.222222                     0.222222     0.222222         0.111111         0.666667     1\n",
              "                 0.333333                 0.333333                  0.222222           0.333333                     1.000000     0.555556         0.888889         0.000000     1\n",
              "0.444444         0.222222                 0.222222                  0.222222           0.111111                     0.222222     0.333333         0.333333         0.000000     1\n",
              "Length: 457, dtype: int64"
            ]
          },
          "metadata": {},
          "execution_count": 35
        }
      ]
    },
    {
      "cell_type": "markdown",
      "metadata": {
        "id": "6gt8rX8RrQgy"
      },
      "source": [
        "# Step 5: Prepare the Data\n",
        "- Deal with the data as required by the modelling technique\n",
        "    - **Outliers** (remove or adjust if possible or necessary)\n",
        "    - **Null** (remove or interpolate if possible or necessary)\n",
        "    - **Missing Values** (remove or interpolate if possible or necessary)\n",
        "    - **Coded content** (transform if possible or necessary [str to number or vice-versa])\n",
        "    - **Normalisation** (if possible or necessary)\n",
        "    - **Feature Engeneer** (if useful or necessary)"
      ]
    },
    {
      "cell_type": "markdown",
      "metadata": {
        "id": "Z97YHdNerQgz"
      },
      "source": [
        "# Step 6: Modelling\n",
        "Refer to the Problem and Main Question.\n",
        "- What are the input variables (features)?\n",
        "- Is there an output variable (label)?\n",
        "- If there is an output variable:\n",
        "    - What is it?\n",
        "    - What is its type?\n",
        "- What type of Modelling is it?\n",
        "    - [ ] Supervised\n",
        "    - [ ] Unsupervised \n",
        "- What type of Modelling is it?\n",
        "    - [ ] Regression\n",
        "    - [ ] Classification (binary) \n",
        "    - [ ] Classification (multi-class)\n",
        "    - [ ] Clustering"
      ]
    },
    {
      "cell_type": "markdown",
      "metadata": {
        "id": "_61ti1HFrQg1"
      },
      "source": [
        "# Step 7: Split the Data\n",
        "\n",
        "Need to check for **Supervised** modelling:\n",
        "- Number of known cases or observations\n",
        "- Define the split in Training/Test or Training/Validation/Test and their proportions\n",
        "- Check for unbalanced classes and how to keep or avoid it when spliting"
      ]
    },
    {
      "cell_type": "code",
      "metadata": {
        "id": "A452yRieuc0s"
      },
      "source": [
        "X = df.iloc[:,:-1] #omit the last column\n",
        "X_train, X_test, y_train, y_test = train_test_split(X, y, \n",
        "                                                    test_size = 0.3,\n",
        "                                                    random_state = 100666001,\n",
        "                                                    stratify = y)\n",
        "\n",
        "# Apply imputer and scalar pipeline to each of X_train and X_test separately\n",
        "pipeline = Pipeline([('imputer', imputer), ('scaler', MinMaxScaler())])\n",
        "\n",
        "# Pipeline is fit to X_train, then applied to both X_train and X_test\n",
        "X_train = pipeline.fit_transform(X_train)\n",
        "X_test = pipeline.transform(X_test) "
      ],
      "execution_count": 36,
      "outputs": []
    },
    {
      "cell_type": "markdown",
      "metadata": {
        "id": "dsVE4u7GrQg3"
      },
      "source": [
        "# Step 8: Define and Fit Models\n",
        "\n",
        "Define the model and its hyper-parameters.\n",
        "\n",
        "Consider the parameters and hyper-parameters of each model at each (re)run and after checking the efficiency of a model against the training and test datasets."
      ]
    },
    {
      "cell_type": "code",
      "metadata": {
        "colab": {
          "base_uri": "https://localhost:8080/"
        },
        "id": "1xPGq6gWunuU",
        "outputId": "6420ffb8-1809-4d43-a45e-cf1264c6999b"
      },
      "source": [
        "kfold = KFold(n_splits = 10, random_state = 7)\n",
        "cart = DecisionTreeClassifier()\n",
        "cart.fit(X_train, y_train)\n",
        "results = cross_val_score(cart, X_train, y_train, cv = kfold)\n",
        "print('Decision Tree, Cross-Validation mean: %.4f' % results.mean())"
      ],
      "execution_count": 37,
      "outputs": [
        {
          "output_type": "stream",
          "name": "stdout",
          "text": [
            "Decision Tree, Cross-Validation mean: 0.9346\n"
          ]
        }
      ]
    },
    {
      "cell_type": "code",
      "metadata": {
        "colab": {
          "base_uri": "https://localhost:8080/"
        },
        "id": "ZlafrLxAuuZj",
        "outputId": "23fc04bf-8f5d-4976-9308-b0c6b750026b"
      },
      "source": [
        "num_trees = 100\n",
        "model1 = BaggingClassifier(base_estimator = cart, n_estimators = num_trees, random_state = 7)\n",
        "model1.fit(X_train, y_train)\n",
        "results = cross_val_score(model1, X_train, y_train, cv = kfold)\n",
        "results.mean()"
      ],
      "execution_count": 39,
      "outputs": [
        {
          "output_type": "execute_result",
          "data": {
            "text/plain": [
              "0.9510204081632653"
            ]
          },
          "metadata": {},
          "execution_count": 39
        }
      ]
    },
    {
      "cell_type": "markdown",
      "metadata": {
        "id": "48tgELX9rQg4"
      },
      "source": [
        "# Step 9: Verify and Evaluate the Training Model\n",
        "- Use the **training** data to make predictions\n",
        "- Check for overfitting\n",
        "- What metrics are appropriate for the modelling approach used\n",
        "- For **Supervised** models:\n",
        "    - Check the **Training Results** with the **Training Predictions** during development\n",
        "- Analyse, modify the parameters and hyper-parameters and repeat (within reason) until the model does not improve"
      ]
    },
    {
      "cell_type": "code",
      "metadata": {
        "id": "hkYBIUsZuq4k"
      },
      "source": [
        "def show_summary_report(actual, prediction, probabilities):\n",
        "\n",
        "    if isinstance(actual, pd.Series):\n",
        "        actual = actual.values\n",
        "    if actual.dtype.name == 'object':\n",
        "        actual = actual.astype(int)\n",
        "    if prediction.dtype.name == 'object':\n",
        "        prediction = prediction.astype(int)\n",
        "\n",
        "    accuracy_ = accuracy_score(actual, prediction)\n",
        "    precision_ = precision_score(actual, prediction)\n",
        "    recall_ = recall_score(actual, prediction)\n",
        "    roc_auc_ = roc_auc_score(actual, probabilities[:, 1])\n",
        "\n",
        "    print('Accuracy : %.4f [TP / N] Proportion of predicted labels that match the true labels. Best: 1, Worst: 0' % accuracy_)\n",
        "    print('Precision: %.4f [TP / (TP + FP)] Not to label a negative sample as positive.        Best: 1, Worst: 0' % precision_)\n",
        "    print('Recall   : %.4f [TP / (TP + FN)] Find all the positive samples.                     Best: 1, Worst: 0' % recall_)\n",
        "    print('ROC AUC  : %.4f                                                                     Best: 1, Worst: < 0.5' % roc_auc_)\n",
        "    print('-' * 107)\n",
        "    print('TP: True Positives, FP: False Positives, TN: True Negatives, FN: False Negatives, N: Number of samples')\n",
        "\n",
        "    # Confusion Matrix\n",
        "    mat = confusion_matrix(actual, prediction)\n",
        "\n",
        "    # Precision/Recall\n",
        "    precision, recall, _ = precision_recall_curve(actual, prediction)\n",
        "    average_precision = average_precision_score(actual, prediction)\n",
        "    \n",
        "    # Compute ROC curve and ROC area\n",
        "    fpr, tpr, _ = roc_curve(actual, probabilities[:, 1])\n",
        "    roc_auc = auc(fpr, tpr)\n",
        "\n",
        "    # plot\n",
        "    fig, ax = plt.subplots(1, 3, figsize = (18, 6))\n",
        "    fig.subplots_adjust(left = 0.02, right = 0.98, wspace = 0.2)\n",
        "\n",
        "    # Confusion Matrix\n",
        "    sns.heatmap(mat.T, square = True, annot = True, fmt = 'd', cbar = False, cmap = 'Blues', ax = ax[0])\n",
        "\n",
        "    ax[0].set_title('Confusion Matrix')\n",
        "    ax[0].set_xlabel('True label')\n",
        "    ax[0].set_ylabel('Predicted label')\n",
        "    \n",
        "    # Precision/Recall\n",
        "    step_kwargs = {'step': 'post'}\n",
        "    ax[1].step(recall, precision, color = 'b', alpha = 0.2, where = 'post')\n",
        "    ax[1].fill_between(recall, precision, alpha = 0.2, color = 'b', **step_kwargs)\n",
        "    ax[1].set_ylim([0.0, 1.0])\n",
        "    ax[1].set_xlim([0.0, 1.0])\n",
        "    ax[1].set_xlabel('Recall')\n",
        "    ax[1].set_ylabel('Precision')\n",
        "    ax[1].set_title('2-class Precision-Recall curve')\n",
        "\n",
        "    # ROC\n",
        "    ax[2].plot(fpr, tpr, color = 'darkorange', lw = 2, label = 'ROC curve (AUC = %0.2f)' % roc_auc)\n",
        "    ax[2].plot([0, 1], [0, 1], color = 'navy', lw = 2, linestyle = '--')\n",
        "    ax[2].set_xlim([0.0, 1.0])\n",
        "    ax[2].set_ylim([0.0, 1.0])\n",
        "    ax[2].set_xlabel('False Positive Rate')\n",
        "    ax[2].set_ylabel('True Positive Rate')\n",
        "    ax[2].set_title('Receiver Operating Characteristic')\n",
        "    ax[2].legend(loc = 'lower right')\n",
        "\n",
        "    plt.show()\n",
        "    \n",
        "    return (accuracy_, precision_, recall_, roc_auc_)"
      ],
      "execution_count": 40,
      "outputs": []
    },
    {
      "cell_type": "code",
      "metadata": {
        "colab": {
          "base_uri": "https://localhost:8080/",
          "height": 1000
        },
        "id": "Ju7L150A1bkN",
        "outputId": "0b92e1c5-d830-4358-926f-0b6590572edd"
      },
      "source": [
        "results = pd.DataFrame(columns = ['Model', 'Accuracy', 'Precision', 'Recall', 'ROC_AUC'])\n",
        "\n",
        "models = ['Decision Tree', 'Bagging (DT)']\n",
        "for i, m in enumerate([cart, model1]):\n",
        "    print('*' * (len(models[i]) + 4))\n",
        "    print('* %s *' % models[i])\n",
        "    print('*' * (len(models[i]) + 4))\n",
        "    predictions = m.predict(X_train)\n",
        "    probabilities = m.predict_proba(X_train)\n",
        "    # show the report\n",
        "    accuracy_, precision_, recall_, roc_auc_ = show_summary_report(y_train, predictions, probabilities)\n",
        "    # keep the results\n",
        "    results.loc[i] = {'Model': models[i], \n",
        "                      'Accuracy': accuracy_, \n",
        "                      'Precision': precision_,\n",
        "                      'Recall': recall_,\n",
        "                      'ROC_AUC': roc_auc_}\n",
        "    print()"
      ],
      "execution_count": 41,
      "outputs": [
        {
          "output_type": "stream",
          "name": "stdout",
          "text": [
            "*****************\n",
            "* Decision Tree *\n",
            "*****************\n",
            "Accuracy : 1.0000 [TP / N] Proportion of predicted labels that match the true labels. Best: 1, Worst: 0\n",
            "Precision: 1.0000 [TP / (TP + FP)] Not to label a negative sample as positive.        Best: 1, Worst: 0\n",
            "Recall   : 1.0000 [TP / (TP + FN)] Find all the positive samples.                     Best: 1, Worst: 0\n",
            "ROC AUC  : 1.0000                                                                     Best: 1, Worst: < 0.5\n",
            "-----------------------------------------------------------------------------------------------------------\n",
            "TP: True Positives, FP: False Positives, TN: True Negatives, FN: False Negatives, N: Number of samples\n"
          ]
        },
        {
          "output_type": "display_data",
          "data": {
            "image/png": "[encoded data removed]",
            "text/plain": [
              "<Figure size 1296x432 with 3 Axes>"
            ]
          },
          "metadata": {
            "needs_background": "light"
          }
        },
        {
          "output_type": "stream",
          "name": "stdout",
          "text": [
            "\n",
            "****************\n",
            "* Bagging (DT) *\n",
            "****************\n",
            "Accuracy : 1.0000 [TP / N] Proportion of predicted labels that match the true labels. Best: 1, Worst: 0\n",
            "Precision: 1.0000 [TP / (TP + FP)] Not to label a negative sample as positive.        Best: 1, Worst: 0\n",
            "Recall   : 1.0000 [TP / (TP + FN)] Find all the positive samples.                     Best: 1, Worst: 0\n",
            "ROC AUC  : 1.0000                                                                     Best: 1, Worst: < 0.5\n",
            "-----------------------------------------------------------------------------------------------------------\n",
            "TP: True Positives, FP: False Positives, TN: True Negatives, FN: False Negatives, N: Number of samples\n"
          ]
        },
        {
          "output_type": "display_data",
          "data": {
            "image/png": "[encoded data removed]",
            "text/plain": [
              "<Figure size 1296x432 with 3 Axes>"
            ]
          },
          "metadata": {
            "needs_background": "light"
          }
        },
        {
          "output_type": "stream",
          "name": "stdout",
          "text": [
            "\n"
          ]
        }
      ]
    },
    {
      "cell_type": "code",
      "metadata": {
        "colab": {
          "base_uri": "https://localhost:8080/",
          "height": 112
        },
        "id": "ANeA8eRF1nd4",
        "outputId": "0ab9742e-a25c-4e0c-8076-60bc53841a27"
      },
      "source": [
        "results"
      ],
      "execution_count": 42,
      "outputs": [
        {
          "output_type": "execute_result",
          "data": {
            "text/html": [
              "<div>\n",
              "<style scoped>\n",
              "    .dataframe tbody tr th:only-of-type {\n",
              "        vertical-align: middle;\n",
              "    }\n",
              "\n",
              "    .dataframe tbody tr th {\n",
              "        vertical-align: top;\n",
              "    }\n",
              "\n",
              "    .dataframe thead th {\n",
              "        text-align: right;\n",
              "    }\n",
              "</style>\n",
              "<table border=\"1\" class=\"dataframe\">\n",
              "  <thead>\n",
              "    <tr style=\"text-align: right;\">\n",
              "      <th></th>\n",
              "      <th>Model</th>\n",
              "      <th>Accuracy</th>\n",
              "      <th>Precision</th>\n",
              "      <th>Recall</th>\n",
              "      <th>ROC_AUC</th>\n",
              "    </tr>\n",
              "  </thead>\n",
              "  <tbody>\n",
              "    <tr>\n",
              "      <th>0</th>\n",
              "      <td>Decision Tree</td>\n",
              "      <td>1.0</td>\n",
              "      <td>1.0</td>\n",
              "      <td>1.0</td>\n",
              "      <td>1.0</td>\n",
              "    </tr>\n",
              "    <tr>\n",
              "      <th>1</th>\n",
              "      <td>Bagging (DT)</td>\n",
              "      <td>1.0</td>\n",
              "      <td>1.0</td>\n",
              "      <td>1.0</td>\n",
              "      <td>1.0</td>\n",
              "    </tr>\n",
              "  </tbody>\n",
              "</table>\n",
              "</div>"
            ],
            "text/plain": [
              "           Model  Accuracy  Precision  Recall  ROC_AUC\n",
              "0  Decision Tree       1.0        1.0     1.0      1.0\n",
              "1   Bagging (DT)       1.0        1.0     1.0      1.0"
            ]
          },
          "metadata": {},
          "execution_count": 42
        }
      ]
    },
    {
      "cell_type": "markdown",
      "metadata": {
        "id": "WGKHPx9srQg6"
      },
      "source": [
        "# Step 10: Make Predictions and Evaluate the Test Model\n",
        "**NOTE**: **Do this only after not making any more improvements in the model**.\n",
        "\n",
        "- Use the **test** data to make predictions\n",
        "- For **Supervised** models:\n",
        "    - Check the **Test Results** with the **Test Predictions**"
      ]
    },
    {
      "cell_type": "code",
      "metadata": {
        "id": "2IaIE6aE1sJi"
      },
      "source": [
        "predictions = model1.predict(X_test)\n",
        "probabilities = model1.predict_proba(X_test)"
      ],
      "execution_count": 43,
      "outputs": []
    },
    {
      "cell_type": "code",
      "metadata": {
        "colab": {
          "base_uri": "https://localhost:8080/",
          "height": 531
        },
        "id": "Ollcyk7D1ujz",
        "outputId": "c1575de5-41ed-4993-b311-9bcb59190f98"
      },
      "source": [
        "accuracy_, precision_, recall_, roc_auc_ = show_summary_report(y_test, predictions, probabilities)\n",
        "# keep the results\n",
        "results.loc[len(results)] = {\n",
        "    'Model': 'Bagging (with test)', \n",
        "    'Accuracy': accuracy_, \n",
        "    'Precision': precision_,\n",
        "    'Recall': recall_,\n",
        "    'ROC_AUC': roc_auc_}\n",
        "print()"
      ],
      "execution_count": 44,
      "outputs": [
        {
          "output_type": "stream",
          "name": "stdout",
          "text": [
            "Accuracy : 0.9667 [TP / N] Proportion of predicted labels that match the true labels. Best: 1, Worst: 0\n",
            "Precision: 0.9577 [TP / (TP + FP)] Not to label a negative sample as positive.        Best: 1, Worst: 0\n",
            "Recall   : 0.9444 [TP / (TP + FN)] Find all the positive samples.                     Best: 1, Worst: 0\n",
            "ROC AUC  : 0.9913                                                                     Best: 1, Worst: < 0.5\n",
            "-----------------------------------------------------------------------------------------------------------\n",
            "TP: True Positives, FP: False Positives, TN: True Negatives, FN: False Negatives, N: Number of samples\n"
          ]
        },
        {
          "output_type": "display_data",
          "data": {
            "image/png": "[encoded data removed]",
            "text/plain": [
              "<Figure size 1296x432 with 3 Axes>"
            ]
          },
          "metadata": {
            "needs_background": "light"
          }
        },
        {
          "output_type": "stream",
          "name": "stdout",
          "text": [
            "\n"
          ]
        }
      ]
    },
    {
      "cell_type": "markdown",
      "metadata": {
        "id": "iAz6pXN3rQg7"
      },
      "source": [
        "# Step 11: Solve the Problem or Answer the Question\n",
        "The results of an analysis or modelling can be used:\n",
        "- As part of a product or process, so the model can make predictions when new input data is available\n",
        "- As part of a report including text and charts to help understand the problem\n",
        "- As input for further questions"
      ]
    },
    {
      "cell_type": "code",
      "metadata": {
        "colab": {
          "base_uri": "https://localhost:8080/"
        },
        "id": "py-oTKc210aj",
        "outputId": "8540d1d8-5bb5-4269-e69e-2588d1c1a143"
      },
      "source": [
        "r = df.iloc[pd.DataFrame(X_test).index[0]]\n",
        "for i, c in enumerate(df.columns[:-1]):\n",
        "    print('%-27s: %d' % (c, int(r[i])))\n",
        "print('%-27s: %s' % (df.columns[-1], 'Benign' if r[-1] == 2 else 'Malignant'))\n",
        "print('%-27s: %s' % ('Prediction', 'Benign' if predictions[0] == 0 else 'Malignant'))"
      ],
      "execution_count": 45,
      "outputs": [
        {
          "output_type": "stream",
          "name": "stdout",
          "text": [
            "Clump_Thickness            : 5\n",
            "Uniformity_of_Cell_Size    : 1\n",
            "Uniformity_of_Cell_Shape   : 1\n",
            "Marginal_Adhesion          : 1\n",
            "Single_Epithelial_Cell_Size: 2\n",
            "Bare_Nuclei                : 1\n",
            "Bland_Chromatin            : 3\n",
            "Normal_Nucleoli            : 1\n",
            "Mitoses                    : 1\n",
            "Class                      : Benign\n",
            "Prediction                 : Benign\n"
          ]
        }
      ]
    },
    {
      "cell_type": "markdown",
      "metadata": {
        "id": "RERADKgNFq9T"
      },
      "source": [
        "\n",
        "\n",
        "---\n",
        "\n",
        "\n",
        "\n",
        "---\n",
        "\n",
        "\n",
        "\n",
        "> > > > > > > > > © 2021 Institute of Data\n",
        "\n",
        "\n",
        "---\n",
        "\n",
        "\n",
        "\n",
        "---\n",
        "\n",
        "\n",
        "\n"
      ]
    }
  ]
}